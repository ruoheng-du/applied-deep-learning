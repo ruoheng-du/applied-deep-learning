{
  "cells": [
    {
      "cell_type": "code",
      "execution_count": 1,
      "id": "1c21bfda",
      "metadata": {
        "id": "1c21bfda",
        "colab": {
          "base_uri": "https://localhost:8080/"
        },
        "outputId": "adbb5492-05f8-45b3-9312-b6aa8550e451"
      },
      "outputs": [
        {
          "output_type": "stream",
          "name": "stdout",
          "text": [
            "Looking in indexes: https://download.pytorch.org/whl/cu121\n",
            "Collecting torch==2.2.0\n",
            "  Downloading https://download.pytorch.org/whl/cu121/torch-2.2.0%2Bcu121-cp310-cp310-linux_x86_64.whl (757.3 MB)\n",
            "\u001b[2K     \u001b[90m━━━━━━━━━━━━━━━━━━━━━━━━━━━━━━━━━━━━━━━━\u001b[0m \u001b[32m757.3/757.3 MB\u001b[0m \u001b[31m1.0 MB/s\u001b[0m eta \u001b[36m0:00:00\u001b[0m\n",
            "\u001b[?25hCollecting torchvision==0.17.0\n",
            "  Downloading https://download.pytorch.org/whl/cu121/torchvision-0.17.0%2Bcu121-cp310-cp310-linux_x86_64.whl (7.0 MB)\n",
            "\u001b[2K     \u001b[90m━━━━━━━━━━━━━━━━━━━━━━━━━━━━━━━━━━━━━━━━\u001b[0m \u001b[32m7.0/7.0 MB\u001b[0m \u001b[31m823.0 kB/s\u001b[0m eta \u001b[36m0:00:00\u001b[0m\n",
            "\u001b[?25hCollecting torchaudio==2.2.0\n",
            "  Downloading https://download.pytorch.org/whl/cu121/torchaudio-2.2.0%2Bcu121-cp310-cp310-linux_x86_64.whl (3.4 MB)\n",
            "\u001b[2K     \u001b[90m━━━━━━━━━━━━━━━━━━━━━━━━━━━━━━━━━━━━━━━━\u001b[0m \u001b[32m3.4/3.4 MB\u001b[0m \u001b[31m64.9 MB/s\u001b[0m eta \u001b[36m0:00:00\u001b[0m\n",
            "\u001b[?25hCollecting torchtext==0.17.0\n",
            "  Downloading https://download.pytorch.org/whl/torchtext-0.17.0%2Bcpu-cp310-cp310-linux_x86_64.whl (2.0 MB)\n",
            "\u001b[2K     \u001b[90m━━━━━━━━━━━━━━━━━━━━━━━━━━━━━━━━━━━━━━━━\u001b[0m \u001b[32m2.0/2.0 MB\u001b[0m \u001b[31m43.8 MB/s\u001b[0m eta \u001b[36m0:00:00\u001b[0m\n",
            "\u001b[?25hRequirement already satisfied: filelock in /usr/local/lib/python3.10/dist-packages (from torch==2.2.0) (3.16.1)\n",
            "Requirement already satisfied: typing-extensions>=4.8.0 in /usr/local/lib/python3.10/dist-packages (from torch==2.2.0) (4.12.2)\n",
            "Requirement already satisfied: sympy in /usr/local/lib/python3.10/dist-packages (from torch==2.2.0) (1.13.3)\n",
            "Requirement already satisfied: networkx in /usr/local/lib/python3.10/dist-packages (from torch==2.2.0) (3.3)\n",
            "Requirement already satisfied: jinja2 in /usr/local/lib/python3.10/dist-packages (from torch==2.2.0) (3.1.4)\n",
            "Requirement already satisfied: fsspec in /usr/local/lib/python3.10/dist-packages (from torch==2.2.0) (2024.9.0)\n",
            "Collecting nvidia-cuda-nvrtc-cu12==12.1.105 (from torch==2.2.0)\n",
            "  Downloading https://download.pytorch.org/whl/cu121/nvidia_cuda_nvrtc_cu12-12.1.105-py3-none-manylinux1_x86_64.whl (23.7 MB)\n",
            "\u001b[2K     \u001b[90m━━━━━━━━━━━━━━━━━━━━━━━━━━━━━━━━━━━━━━━━\u001b[0m \u001b[32m23.7/23.7 MB\u001b[0m \u001b[31m70.2 MB/s\u001b[0m eta \u001b[36m0:00:00\u001b[0m\n",
            "\u001b[?25hCollecting nvidia-cuda-runtime-cu12==12.1.105 (from torch==2.2.0)\n",
            "  Downloading https://download.pytorch.org/whl/cu121/nvidia_cuda_runtime_cu12-12.1.105-py3-none-manylinux1_x86_64.whl (823 kB)\n",
            "\u001b[2K     \u001b[90m━━━━━━━━━━━━━━━━━━━━━━━━━━━━━━━━━━━━━━━━\u001b[0m \u001b[32m823.6/823.6 kB\u001b[0m \u001b[31m30.0 MB/s\u001b[0m eta \u001b[36m0:00:00\u001b[0m\n",
            "\u001b[?25hCollecting nvidia-cuda-cupti-cu12==12.1.105 (from torch==2.2.0)\n",
            "  Downloading https://download.pytorch.org/whl/cu121/nvidia_cuda_cupti_cu12-12.1.105-py3-none-manylinux1_x86_64.whl (14.1 MB)\n",
            "\u001b[2K     \u001b[90m━━━━━━━━━━━━━━━━━━━━━━━━━━━━━━━━━━━━━━━━\u001b[0m \u001b[32m14.1/14.1 MB\u001b[0m \u001b[31m94.9 MB/s\u001b[0m eta \u001b[36m0:00:00\u001b[0m\n",
            "\u001b[?25hCollecting nvidia-cudnn-cu12==8.9.2.26 (from torch==2.2.0)\n",
            "  Downloading https://download.pytorch.org/whl/cu121/nvidia_cudnn_cu12-8.9.2.26-py3-none-manylinux1_x86_64.whl (731.7 MB)\n",
            "\u001b[2K     \u001b[90m━━━━━━━━━━━━━━━━━━━━━━━━━━━━━━━━━━━━━━━━\u001b[0m \u001b[32m731.7/731.7 MB\u001b[0m \u001b[31m1.3 MB/s\u001b[0m eta \u001b[36m0:00:00\u001b[0m\n",
            "\u001b[?25hCollecting nvidia-cublas-cu12==12.1.3.1 (from torch==2.2.0)\n",
            "  Downloading https://download.pytorch.org/whl/cu121/nvidia_cublas_cu12-12.1.3.1-py3-none-manylinux1_x86_64.whl (410.6 MB)\n",
            "\u001b[2K     \u001b[90m━━━━━━━━━━━━━━━━━━━━━━━━━━━━━━━━━━━━━━━━\u001b[0m \u001b[32m410.6/410.6 MB\u001b[0m \u001b[31m2.4 MB/s\u001b[0m eta \u001b[36m0:00:00\u001b[0m\n",
            "\u001b[?25hCollecting nvidia-cufft-cu12==11.0.2.54 (from torch==2.2.0)\n",
            "  Downloading https://download.pytorch.org/whl/cu121/nvidia_cufft_cu12-11.0.2.54-py3-none-manylinux1_x86_64.whl (121.6 MB)\n",
            "\u001b[2K     \u001b[90m━━━━━━━━━━━━━━━━━━━━━━━━━━━━━━━━━━━━━━━━\u001b[0m \u001b[32m121.6/121.6 MB\u001b[0m \u001b[31m8.2 MB/s\u001b[0m eta \u001b[36m0:00:00\u001b[0m\n",
            "\u001b[?25hCollecting nvidia-curand-cu12==10.3.2.106 (from torch==2.2.0)\n",
            "  Downloading https://download.pytorch.org/whl/cu121/nvidia_curand_cu12-10.3.2.106-py3-none-manylinux1_x86_64.whl (56.5 MB)\n",
            "\u001b[2K     \u001b[90m━━━━━━━━━━━━━━━━━━━━━━━━━━━━━━━━━━━━━━━━\u001b[0m \u001b[32m56.5/56.5 MB\u001b[0m \u001b[31m19.4 MB/s\u001b[0m eta \u001b[36m0:00:00\u001b[0m\n",
            "\u001b[?25hCollecting nvidia-cusolver-cu12==11.4.5.107 (from torch==2.2.0)\n",
            "  Downloading https://download.pytorch.org/whl/cu121/nvidia_cusolver_cu12-11.4.5.107-py3-none-manylinux1_x86_64.whl (124.2 MB)\n",
            "\u001b[2K     \u001b[90m━━━━━━━━━━━━━━━━━━━━━━━━━━━━━━━━━━━━━━━━\u001b[0m \u001b[32m124.2/124.2 MB\u001b[0m \u001b[31m8.6 MB/s\u001b[0m eta \u001b[36m0:00:00\u001b[0m\n",
            "\u001b[?25hCollecting nvidia-cusparse-cu12==12.1.0.106 (from torch==2.2.0)\n",
            "  Downloading https://download.pytorch.org/whl/cu121/nvidia_cusparse_cu12-12.1.0.106-py3-none-manylinux1_x86_64.whl (196.0 MB)\n",
            "\u001b[2K     \u001b[90m━━━━━━━━━━━━━━━━━━━━━━━━━━━━━━━━━━━━━━━━\u001b[0m \u001b[32m196.0/196.0 MB\u001b[0m \u001b[31m3.2 MB/s\u001b[0m eta \u001b[36m0:00:00\u001b[0m\n",
            "\u001b[?25hCollecting nvidia-nccl-cu12==2.19.3 (from torch==2.2.0)\n",
            "  Downloading https://download.pytorch.org/whl/cu121/nvidia_nccl_cu12-2.19.3-py3-none-manylinux1_x86_64.whl (166.0 MB)\n",
            "\u001b[2K     \u001b[90m━━━━━━━━━━━━━━━━━━━━━━━━━━━━━━━━━━━━━━━━\u001b[0m \u001b[32m166.0/166.0 MB\u001b[0m \u001b[31m761.5 kB/s\u001b[0m eta \u001b[36m0:00:00\u001b[0m\n",
            "\u001b[?25hCollecting nvidia-nvtx-cu12==12.1.105 (from torch==2.2.0)\n",
            "  Downloading https://download.pytorch.org/whl/cu121/nvidia_nvtx_cu12-12.1.105-py3-none-manylinux1_x86_64.whl (99 kB)\n",
            "\u001b[2K     \u001b[90m━━━━━━━━━━━━━━━━━━━━━━━━━━━━━━━━━━━━━━━━\u001b[0m \u001b[32m99.1/99.1 kB\u001b[0m \u001b[31m86.1 kB/s\u001b[0m eta \u001b[36m0:00:00\u001b[0m\n",
            "\u001b[?25hCollecting triton==2.2.0 (from torch==2.2.0)\n",
            "  Downloading https://download.pytorch.org/whl/triton-2.2.0-cp310-cp310-manylinux_2_17_x86_64.manylinux2014_x86_64.whl (167.9 MB)\n",
            "\u001b[2K     \u001b[90m━━━━━━━━━━━━━━━━━━━━━━━━━━━━━━━━━━━━━━━━\u001b[0m \u001b[32m167.9/167.9 MB\u001b[0m \u001b[31m6.2 MB/s\u001b[0m eta \u001b[36m0:00:00\u001b[0m\n",
            "\u001b[?25hRequirement already satisfied: numpy in /usr/local/lib/python3.10/dist-packages (from torchvision==0.17.0) (1.26.4)\n",
            "Requirement already satisfied: requests in /usr/local/lib/python3.10/dist-packages (from torchvision==0.17.0) (2.32.3)\n",
            "Requirement already satisfied: pillow!=8.3.*,>=5.3.0 in /usr/local/lib/python3.10/dist-packages (from torchvision==0.17.0) (10.4.0)\n",
            "Requirement already satisfied: tqdm in /usr/local/lib/python3.10/dist-packages (from torchtext==0.17.0) (4.66.5)\n",
            "Collecting torchdata==0.7.1 (from torchtext==0.17.0)\n",
            "  Downloading https://download.pytorch.org/whl/torchdata-0.7.1-cp310-cp310-manylinux_2_17_x86_64.manylinux2014_x86_64.whl (4.7 MB)\n",
            "\u001b[2K     \u001b[90m━━━━━━━━━━━━━━━━━━━━━━━━━━━━━━━━━━━━━━━━\u001b[0m \u001b[32m4.7/4.7 MB\u001b[0m \u001b[31m43.1 MB/s\u001b[0m eta \u001b[36m0:00:00\u001b[0m\n",
            "\u001b[?25hCollecting nvidia-nvjitlink-cu12 (from nvidia-cusolver-cu12==11.4.5.107->torch==2.2.0)\n",
            "  Downloading https://download.pytorch.org/whl/cu121/nvidia_nvjitlink_cu12-12.1.105-py3-none-manylinux1_x86_64.whl (19.8 MB)\n",
            "\u001b[2K     \u001b[90m━━━━━━━━━━━━━━━━━━━━━━━━━━━━━━━━━━━━━━━━\u001b[0m \u001b[32m19.8/19.8 MB\u001b[0m \u001b[31m84.4 MB/s\u001b[0m eta \u001b[36m0:00:00\u001b[0m\n",
            "\u001b[?25hRequirement already satisfied: urllib3>=1.25 in /usr/local/lib/python3.10/dist-packages (from torchdata==0.7.1->torchtext==0.17.0) (2.2.3)\n",
            "Requirement already satisfied: MarkupSafe>=2.0 in /usr/local/lib/python3.10/dist-packages (from jinja2->torch==2.2.0) (2.1.5)\n",
            "Requirement already satisfied: charset-normalizer<4,>=2 in /usr/local/lib/python3.10/dist-packages (from requests->torchvision==0.17.0) (3.3.2)\n",
            "Requirement already satisfied: idna<4,>=2.5 in /usr/local/lib/python3.10/dist-packages (from requests->torchvision==0.17.0) (3.10)\n",
            "Requirement already satisfied: certifi>=2017.4.17 in /usr/local/lib/python3.10/dist-packages (from requests->torchvision==0.17.0) (2024.8.30)\n",
            "Requirement already satisfied: mpmath<1.4,>=1.1.0 in /usr/local/lib/python3.10/dist-packages (from sympy->torch==2.2.0) (1.3.0)\n",
            "Installing collected packages: triton, nvidia-nvtx-cu12, nvidia-nvjitlink-cu12, nvidia-nccl-cu12, nvidia-curand-cu12, nvidia-cufft-cu12, nvidia-cuda-runtime-cu12, nvidia-cuda-nvrtc-cu12, nvidia-cuda-cupti-cu12, nvidia-cublas-cu12, nvidia-cusparse-cu12, nvidia-cudnn-cu12, nvidia-cusolver-cu12, torch, torchvision, torchdata, torchaudio, torchtext\n",
            "  Attempting uninstall: torch\n",
            "    Found existing installation: torch 2.4.0+cpu\n",
            "    Uninstalling torch-2.4.0+cpu:\n",
            "      Successfully uninstalled torch-2.4.0+cpu\n",
            "  Attempting uninstall: torchvision\n",
            "    Found existing installation: torchvision 0.19.0+cpu\n",
            "    Uninstalling torchvision-0.19.0+cpu:\n",
            "      Successfully uninstalled torchvision-0.19.0+cpu\n",
            "  Attempting uninstall: torchaudio\n",
            "    Found existing installation: torchaudio 2.4.0+cpu\n",
            "    Uninstalling torchaudio-2.4.0+cpu:\n",
            "      Successfully uninstalled torchaudio-2.4.0+cpu\n",
            "Successfully installed nvidia-cublas-cu12-12.1.3.1 nvidia-cuda-cupti-cu12-12.1.105 nvidia-cuda-nvrtc-cu12-12.1.105 nvidia-cuda-runtime-cu12-12.1.105 nvidia-cudnn-cu12-8.9.2.26 nvidia-cufft-cu12-11.0.2.54 nvidia-curand-cu12-10.3.2.106 nvidia-cusolver-cu12-11.4.5.107 nvidia-cusparse-cu12-12.1.0.106 nvidia-nccl-cu12-2.19.3 nvidia-nvjitlink-cu12-12.1.105 nvidia-nvtx-cu12-12.1.105 torch-2.2.0+cu121 torchaudio-2.2.0+cu121 torchdata-0.7.1 torchtext-0.17.0+cpu torchvision-0.17.0+cu121 triton-2.2.0\n",
            "Requirement already satisfied: torchdata in /usr/local/lib/python3.10/dist-packages (0.7.1)\n",
            "Requirement already satisfied: urllib3>=1.25 in /usr/local/lib/python3.10/dist-packages (from torchdata) (2.2.3)\n",
            "Requirement already satisfied: requests in /usr/local/lib/python3.10/dist-packages (from torchdata) (2.32.3)\n",
            "Requirement already satisfied: torch>=2 in /usr/local/lib/python3.10/dist-packages (from torchdata) (2.2.0+cu121)\n",
            "Requirement already satisfied: filelock in /usr/local/lib/python3.10/dist-packages (from torch>=2->torchdata) (3.16.1)\n",
            "Requirement already satisfied: typing-extensions>=4.8.0 in /usr/local/lib/python3.10/dist-packages (from torch>=2->torchdata) (4.12.2)\n",
            "Requirement already satisfied: sympy in /usr/local/lib/python3.10/dist-packages (from torch>=2->torchdata) (1.13.3)\n",
            "Requirement already satisfied: networkx in /usr/local/lib/python3.10/dist-packages (from torch>=2->torchdata) (3.3)\n",
            "Requirement already satisfied: jinja2 in /usr/local/lib/python3.10/dist-packages (from torch>=2->torchdata) (3.1.4)\n",
            "Requirement already satisfied: fsspec in /usr/local/lib/python3.10/dist-packages (from torch>=2->torchdata) (2024.9.0)\n",
            "Requirement already satisfied: nvidia-cuda-nvrtc-cu12==12.1.105 in /usr/local/lib/python3.10/dist-packages (from torch>=2->torchdata) (12.1.105)\n",
            "Requirement already satisfied: nvidia-cuda-runtime-cu12==12.1.105 in /usr/local/lib/python3.10/dist-packages (from torch>=2->torchdata) (12.1.105)\n",
            "Requirement already satisfied: nvidia-cuda-cupti-cu12==12.1.105 in /usr/local/lib/python3.10/dist-packages (from torch>=2->torchdata) (12.1.105)\n",
            "Requirement already satisfied: nvidia-cudnn-cu12==8.9.2.26 in /usr/local/lib/python3.10/dist-packages (from torch>=2->torchdata) (8.9.2.26)\n",
            "Requirement already satisfied: nvidia-cublas-cu12==12.1.3.1 in /usr/local/lib/python3.10/dist-packages (from torch>=2->torchdata) (12.1.3.1)\n",
            "Requirement already satisfied: nvidia-cufft-cu12==11.0.2.54 in /usr/local/lib/python3.10/dist-packages (from torch>=2->torchdata) (11.0.2.54)\n",
            "Requirement already satisfied: nvidia-curand-cu12==10.3.2.106 in /usr/local/lib/python3.10/dist-packages (from torch>=2->torchdata) (10.3.2.106)\n",
            "Requirement already satisfied: nvidia-cusolver-cu12==11.4.5.107 in /usr/local/lib/python3.10/dist-packages (from torch>=2->torchdata) (11.4.5.107)\n",
            "Requirement already satisfied: nvidia-cusparse-cu12==12.1.0.106 in /usr/local/lib/python3.10/dist-packages (from torch>=2->torchdata) (12.1.0.106)\n",
            "Requirement already satisfied: nvidia-nccl-cu12==2.19.3 in /usr/local/lib/python3.10/dist-packages (from torch>=2->torchdata) (2.19.3)\n",
            "Requirement already satisfied: nvidia-nvtx-cu12==12.1.105 in /usr/local/lib/python3.10/dist-packages (from torch>=2->torchdata) (12.1.105)\n",
            "Requirement already satisfied: triton==2.2.0 in /usr/local/lib/python3.10/dist-packages (from torch>=2->torchdata) (2.2.0)\n",
            "Requirement already satisfied: nvidia-nvjitlink-cu12 in /usr/local/lib/python3.10/dist-packages (from nvidia-cusolver-cu12==11.4.5.107->torch>=2->torchdata) (12.1.105)\n",
            "Requirement already satisfied: charset-normalizer<4,>=2 in /usr/local/lib/python3.10/dist-packages (from requests->torchdata) (3.3.2)\n",
            "Requirement already satisfied: idna<4,>=2.5 in /usr/local/lib/python3.10/dist-packages (from requests->torchdata) (3.10)\n",
            "Requirement already satisfied: certifi>=2017.4.17 in /usr/local/lib/python3.10/dist-packages (from requests->torchdata) (2024.8.30)\n",
            "Requirement already satisfied: MarkupSafe>=2.0 in /usr/local/lib/python3.10/dist-packages (from jinja2->torch>=2->torchdata) (2.1.5)\n",
            "Requirement already satisfied: mpmath<1.4,>=1.1.0 in /usr/local/lib/python3.10/dist-packages (from sympy->torch>=2->torchdata) (1.3.0)\n"
          ]
        }
      ],
      "source": [
        "# You need to downgrade the colab torch version to make this work\n",
        "!pip install torch==2.2.0 torchvision==0.17.0 torchaudio==2.2.0 torchtext==0.17.0 --index-url https://download.pytorch.org/whl/cu121\n",
        "!pip install torchdata"
      ]
    },
    {
      "cell_type": "code",
      "execution_count": 2,
      "id": "080d50fc",
      "metadata": {
        "id": "080d50fc"
      },
      "outputs": [],
      "source": [
        "import time\n",
        "import torch\n",
        "from torch.utils.data import DataLoader, TensorDataset\n",
        "from torchtext.data.utils import get_tokenizer\n",
        "from torchtext.datasets import DATASETS\n",
        "from torchtext.vocab import build_vocab_from_iterator\n",
        "import torch.nn as nn\n",
        "from tqdm import tqdm\n",
        "import pickle\n",
        "import random\n",
        "import numpy as np\n",
        "from collections import Counter, defaultdict\n",
        "import numpy as np\n",
        "import matplotlib.pyplot as plt\n",
        "from sklearn.decomposition import PCA\n",
        "from gensim.test.utils import datapath, get_tmpfile\n",
        "from gensim.models import KeyedVectors\n",
        "import gensim.downloader\n",
        "from torch import FloatTensor as FT\n",
        "\n",
        "# Get the interactive Tools for Matplotlib\n",
        "%matplotlib notebook\n",
        "%matplotlib inline\n",
        "\n",
        "plt.style.use('ggplot')"
      ]
    },
    {
      "cell_type": "markdown",
      "id": "66eb271d",
      "metadata": {
        "id": "66eb271d"
      },
      "source": [
        "### Instructions\n",
        "For this part, fill in the required code and make the notebook work. This wll be very similar to the Skip-Gram model, but a little more difficult. Look for the \"\"\" FILL IN \"\"\" string to guide you."
      ]
    },
    {
      "cell_type": "code",
      "execution_count": 3,
      "id": "31b412ca",
      "metadata": {
        "id": "31b412ca"
      },
      "outputs": [],
      "source": [
        "# Where do I want to run my job. You can do \"cuda\" on linux machines\n",
        "# DEVICE = \"mps\" if torch.backends.mps.is_available() else  \"cpu\"\n",
        "DEVICE = \"cuda\" if torch.cuda.is_available() else  \"cpu\"\n",
        "\n",
        "# The batch size in Adam or SGD\n",
        "BATCH_SIZE = 512\n",
        "\n",
        "# Number of epochs\n",
        "NUM_EPOCHS = 10\n",
        "\n",
        "# Predict from 2 words the inner word for CBOW\n",
        "# I.e. I'll have a window like [\"a\", \"b\", \"c\"] of continuous text (each is a word)\n",
        "# We'll predict each of wc = [\"a\", \"c\"] from \"b\" = wc for Skip-Gram\n",
        "# For CBOW, we'll use [\"a\", \"c\"] to predict \"b\" = wo\n",
        "WINDOW = 1\n",
        "\n",
        "# Negative samples.\n",
        "K = 4"
      ]
    },
    {
      "cell_type": "markdown",
      "id": "3ec9f90a",
      "metadata": {
        "id": "3ec9f90a"
      },
      "source": [
        "The text8 Wikipedia corpus. 100M characters."
      ]
    },
    {
      "cell_type": "code",
      "execution_count": 4,
      "id": "3217b67b",
      "metadata": {
        "id": "3217b67b",
        "outputId": "529431de-2d7a-4f1f-ec01-75df474e20fa",
        "colab": {
          "base_uri": "https://localhost:8080/"
        }
      },
      "outputs": [
        {
          "output_type": "stream",
          "name": "stdout",
          "text": [
            "Mounted at /content/drive\n",
            "du: cannot access 'text8': No such file or directory\n",
            "100000000\n"
          ]
        }
      ],
      "source": [
        "from google.colab import drive\n",
        "drive.mount('/content/drive')\n",
        "\n",
        "!du -h text8\n",
        "\n",
        "f = open('/content/drive/MyDrive/ADL/HW2/text8', 'r')\n",
        "text = f.read()\n",
        "# One big string of size 100M\n",
        "print(len(text))"
      ]
    },
    {
      "cell_type": "code",
      "execution_count": 5,
      "id": "6c1bf892",
      "metadata": {
        "id": "6c1bf892"
      },
      "outputs": [],
      "source": [
        "punc = '!\"#$%&()*+,-./:;<=>?@[\\\\]^_\\'{|}~\\t\\n'\n",
        "\n",
        "# Can do regular expressions here too\n",
        "for c in punc:\n",
        "    if c in text:\n",
        "        text.replace(c, ' ')"
      ]
    },
    {
      "cell_type": "code",
      "execution_count": 6,
      "id": "0bc19b0c",
      "metadata": {
        "id": "0bc19b0c"
      },
      "outputs": [],
      "source": [
        "# A very crude tokenizer you get for free: lower case and also split on spaces\n",
        "TOKENIZER = get_tokenizer(\"basic_english\")"
      ]
    },
    {
      "cell_type": "code",
      "execution_count": 7,
      "id": "ff8fd598",
      "metadata": {
        "id": "ff8fd598"
      },
      "outputs": [],
      "source": [
        "words = TOKENIZER(text)\n",
        "f = Counter(words)"
      ]
    },
    {
      "cell_type": "code",
      "execution_count": 8,
      "id": "ba7f72f8",
      "metadata": {
        "id": "ba7f72f8",
        "outputId": "0e006774-31ef-40fc-b75d-dad11cd08c8c",
        "colab": {
          "base_uri": "https://localhost:8080/"
        }
      },
      "outputs": [
        {
          "output_type": "execute_result",
          "data": {
            "text/plain": [
              "17005207"
            ]
          },
          "metadata": {},
          "execution_count": 8
        }
      ],
      "source": [
        "len(words)"
      ]
    },
    {
      "cell_type": "code",
      "execution_count": 9,
      "id": "16b736a4",
      "metadata": {
        "id": "16b736a4"
      },
      "outputs": [],
      "source": [
        "# Do a very crude filter on the text which removes all very popular words\n",
        "text = [word for word in words if f[word] > 5]"
      ]
    },
    {
      "cell_type": "code",
      "execution_count": 10,
      "id": "6916a763",
      "metadata": {
        "id": "6916a763",
        "outputId": "0e15fad5-3a02-4f1a-9e4f-6e9ffa564841",
        "colab": {
          "base_uri": "https://localhost:8080/"
        }
      },
      "outputs": [
        {
          "output_type": "execute_result",
          "data": {
            "text/plain": [
              "['anarchism', 'originated', 'as', 'a', 'term']"
            ]
          },
          "metadata": {},
          "execution_count": 10
        }
      ],
      "source": [
        "text[0:5]"
      ]
    },
    {
      "cell_type": "code",
      "execution_count": 11,
      "id": "10ad817a",
      "metadata": {
        "id": "10ad817a"
      },
      "outputs": [],
      "source": [
        "VOCAB = build_vocab_from_iterator([text])"
      ]
    },
    {
      "cell_type": "code",
      "execution_count": 12,
      "id": "a7f69fc9",
      "metadata": {
        "id": "a7f69fc9"
      },
      "outputs": [],
      "source": [
        "# word -> int hash map\n",
        "stoi = VOCAB.get_stoi()\n",
        "# int -> word hash map\n",
        "itos = VOCAB.get_itos()"
      ]
    },
    {
      "cell_type": "code",
      "execution_count": 13,
      "id": "9991f9ab",
      "metadata": {
        "id": "9991f9ab",
        "outputId": "bb52baf7-0197-468c-83e5-50d5312020f8",
        "colab": {
          "base_uri": "https://localhost:8080/"
        }
      },
      "outputs": [
        {
          "output_type": "execute_result",
          "data": {
            "text/plain": [
              "11"
            ]
          },
          "metadata": {},
          "execution_count": 13
        }
      ],
      "source": [
        "stoi['as']"
      ]
    },
    {
      "cell_type": "code",
      "execution_count": 14,
      "id": "0f49f5fa",
      "metadata": {
        "id": "0f49f5fa",
        "outputId": "1122aa15-de68-4918-b765-600760963d89",
        "colab": {
          "base_uri": "https://localhost:8080/"
        }
      },
      "outputs": [
        {
          "output_type": "execute_result",
          "data": {
            "text/plain": [
              "63641"
            ]
          },
          "metadata": {},
          "execution_count": 14
        }
      ],
      "source": [
        "# Total number of words\n",
        "len(stoi)"
      ]
    },
    {
      "cell_type": "code",
      "execution_count": 15,
      "id": "6c5c415a",
      "metadata": {
        "id": "6c5c415a"
      },
      "outputs": [],
      "source": [
        "f = Counter(text)\n",
        "# This is the probability that we pick a word in the corpus\n",
        "z = {word: f[word] / len(text) for word in f}"
      ]
    },
    {
      "cell_type": "code",
      "execution_count": 16,
      "id": "1e543e1e",
      "metadata": {
        "id": "1e543e1e"
      },
      "outputs": [],
      "source": [
        "threshold = 1e-5\n",
        "# Probability that word is kept while subsampling\n",
        "# This is explained here and sightly differet from the paper: http://mccormickml.com/2017/01/11/word2vec-tutorial-part-2-negative-sampling/\n",
        "p_keep = {word: (np.sqrt(z[word] / 0.001) + 1)*(0.0001 / z[word]) for word in f}"
      ]
    },
    {
      "cell_type": "code",
      "execution_count": 17,
      "id": "dd22119d",
      "metadata": {
        "id": "dd22119d"
      },
      "outputs": [],
      "source": [
        "# This is in the integer space\n",
        "train_dataset = [word for word in text if random.random() < p_keep[word]]\n",
        "\n",
        "# Rebuild the vocabulary\n",
        "VOCAB = build_vocab_from_iterator([train_dataset])"
      ]
    },
    {
      "cell_type": "code",
      "execution_count": 18,
      "id": "a2d695da",
      "metadata": {
        "id": "a2d695da",
        "outputId": "dba73e00-4547-4e6f-95f6-0d72aec46db6",
        "colab": {
          "base_uri": "https://localhost:8080/"
        }
      },
      "outputs": [
        {
          "output_type": "execute_result",
          "data": {
            "text/plain": [
              "7845982"
            ]
          },
          "metadata": {},
          "execution_count": 18
        }
      ],
      "source": [
        "len(train_dataset)"
      ]
    },
    {
      "cell_type": "code",
      "execution_count": 19,
      "id": "30d67549",
      "metadata": {
        "id": "30d67549"
      },
      "outputs": [],
      "source": [
        "# word -> int mapping\n",
        "stoi = VOCAB.get_stoi()\n",
        "# int -> word mapping\n",
        "itos = VOCAB.get_itos()"
      ]
    },
    {
      "cell_type": "code",
      "execution_count": 20,
      "id": "b46337b8",
      "metadata": {
        "id": "b46337b8",
        "outputId": "99b67cf1-f919-4bac-f4dd-195f8fc4c947",
        "colab": {
          "base_uri": "https://localhost:8080/"
        }
      },
      "outputs": [
        {
          "output_type": "execute_result",
          "data": {
            "text/plain": [
              "63641"
            ]
          },
          "metadata": {},
          "execution_count": 20
        }
      ],
      "source": [
        "# The vocabulary size after we do all the filters\n",
        "len(VOCAB)"
      ]
    },
    {
      "cell_type": "code",
      "execution_count": 21,
      "id": "c9346f36",
      "metadata": {
        "id": "c9346f36"
      },
      "outputs": [],
      "source": [
        "# The probability we draw something for negative sampling\n",
        "f = Counter(train_dataset)\n",
        "p = torch.zeros(len(VOCAB))\n",
        "\n",
        "# Downsample frequent words and upsample less frequent\n",
        "s = sum([np.power(freq, 0.75) for word, freq in f.items()])\n",
        "\n",
        "for word in f:\n",
        "    p[stoi[word]] = np.power(f[word], 0.75) / s"
      ]
    },
    {
      "cell_type": "code",
      "execution_count": 22,
      "id": "dd713c15",
      "metadata": {
        "id": "dd713c15"
      },
      "outputs": [],
      "source": [
        "# Map everything to integers\n",
        "train_dataset = [stoi[word] for word in text]"
      ]
    },
    {
      "cell_type": "code",
      "execution_count": 24,
      "id": "8e96c0c4",
      "metadata": {
        "id": "8e96c0c4"
      },
      "outputs": [],
      "source": [
        "# This just gets the (wc, wo) pairs that are positive - they are seen together!\n",
        "def get_tokenized_dataset(dataset, verbose=False):\n",
        "    x_list = []\n",
        "\n",
        "    for i, token in enumerate(dataset):\n",
        "        m = 1\n",
        "\n",
        "        # Get the left and right tokens\n",
        "        start = max(0, i - m)\n",
        "        left_tokens = dataset[start:i]\n",
        "\n",
        "        end = min(i + m, len(dataset) - 1)\n",
        "        right_tokens = dataset[i+1:end+1]\n",
        "\n",
        "        # Check these are the same length, and if so use them to add a row of data. This should be a list like\n",
        "        # [a, c, b] where b is the center word\n",
        "        if len(left_tokens) == len(right_tokens):\n",
        "            w_context = left_tokens + right_tokens\n",
        "\n",
        "            wc = token\n",
        "\n",
        "            x_list.extend(\n",
        "                [w_context + [wc]]\n",
        "            )\n",
        "\n",
        "    return x_list"
      ]
    },
    {
      "cell_type": "code",
      "execution_count": 25,
      "id": "3eb82aad",
      "metadata": {
        "id": "3eb82aad"
      },
      "outputs": [],
      "source": [
        "train_x_list = get_tokenized_dataset(train_dataset, verbose=False)"
      ]
    },
    {
      "cell_type": "code",
      "execution_count": 26,
      "id": "8412ee4d",
      "metadata": {
        "id": "8412ee4d"
      },
      "outputs": [],
      "source": [
        "pickle.dump(train_x_list, open('train_x_list.pkl', 'wb'))"
      ]
    },
    {
      "cell_type": "code",
      "execution_count": 27,
      "id": "3fd54caf",
      "metadata": {
        "id": "3fd54caf"
      },
      "outputs": [],
      "source": [
        "train_x_list = pickle.load(open('train_x_list.pkl', 'rb'))"
      ]
    },
    {
      "cell_type": "code",
      "execution_count": 28,
      "id": "576765f3",
      "metadata": {
        "id": "576765f3",
        "outputId": "bf2369f8-0383-4ba4-8773-f6f65c68aeaf",
        "colab": {
          "base_uri": "https://localhost:8080/"
        }
      },
      "outputs": [
        {
          "output_type": "execute_result",
          "data": {
            "text/plain": [
              "[[5233, 11, 3083],\n",
              " [3083, 5, 11],\n",
              " [11, 171, 5],\n",
              " [5, 1, 171],\n",
              " [171, 3133, 1],\n",
              " [1, 47, 3133],\n",
              " [3133, 59, 47],\n",
              " [47, 181, 59],\n",
              " [59, 149, 181],\n",
              " [181, 741, 149]]"
            ]
          },
          "metadata": {},
          "execution_count": 28
        }
      ],
      "source": [
        "# These are (wc, wo) pairs. All are y = +1 by design\n",
        "train_x_list[:10]"
      ]
    },
    {
      "cell_type": "code",
      "execution_count": 29,
      "id": "316df1dc",
      "metadata": {
        "id": "316df1dc"
      },
      "outputs": [],
      "source": [
        "# The number of things of BATCH_SIZE = 512\n",
        "assert(len(train_x_list) // BATCH_SIZE == 32579)"
      ]
    },
    {
      "cell_type": "markdown",
      "id": "488c3519",
      "metadata": {
        "id": "488c3519"
      },
      "source": [
        "### Set up the dataloader."
      ]
    },
    {
      "cell_type": "code",
      "execution_count": 30,
      "id": "2e31ae4b",
      "metadata": {
        "id": "2e31ae4b"
      },
      "outputs": [],
      "source": [
        "train_dl = DataLoader(\n",
        "    TensorDataset(\n",
        "        torch.tensor(train_x_list).to(DEVICE),\n",
        "    ),\n",
        "    batch_size=BATCH_SIZE,\n",
        "    shuffle=True\n",
        ")"
      ]
    },
    {
      "cell_type": "code",
      "execution_count": 31,
      "id": "e9c42f50",
      "metadata": {
        "id": "e9c42f50"
      },
      "outputs": [],
      "source": [
        "for xb in train_dl:\n",
        "    assert(xb[0].shape == (BATCH_SIZE, 3))\n",
        "    break"
      ]
    },
    {
      "cell_type": "markdown",
      "id": "12d93d22",
      "metadata": {
        "id": "12d93d22"
      },
      "source": [
        "### Words we'll use to asses the quality of the model ..."
      ]
    },
    {
      "cell_type": "code",
      "execution_count": 32,
      "id": "ffada8d0",
      "metadata": {
        "id": "ffada8d0"
      },
      "outputs": [],
      "source": [
        "valid_ids = torch.tensor([\n",
        "    stoi['money'],\n",
        "    stoi['lion'],\n",
        "    stoi['africa'],\n",
        "    stoi['musician'],\n",
        "    stoi['dance'],\n",
        "])"
      ]
    },
    {
      "cell_type": "markdown",
      "id": "64096cd8",
      "metadata": {
        "id": "64096cd8"
      },
      "source": [
        "### Get the model."
      ]
    },
    {
      "cell_type": "code",
      "execution_count": 33,
      "id": "dc51c359",
      "metadata": {
        "id": "dc51c359"
      },
      "outputs": [],
      "source": [
        "class CBOWNegativeSampling(nn.Module):\n",
        "    def __init__(self, vocab_size, embed_dim):\n",
        "        super(CBOWNegativeSampling, self).__init__()\n",
        "        self.A = nn.Embedding(vocab_size, embed_dim) # Context vectors - center word\n",
        "        self.B = nn.Embedding(vocab_size, embed_dim) # Output vectors - words around the center word\n",
        "        self.init_weights()\n",
        "\n",
        "    def init_weights(self):\n",
        "        # Is this the best way? Not sure\n",
        "        initrange = 0.5\n",
        "        self.A.weight.data.uniform_(-initrange, initrange)\n",
        "        self.B.weight.data.uniform_(-initrange, initrange)\n",
        "\n",
        "    def forward(self, x):\n",
        "        # N is the batch size\n",
        "        # x is (N, 3)\n",
        "\n",
        "        # Context words are 2m things, m = 1 so w_context is (N, 2) while wc is (N, 1)\n",
        "        w_context, wc = x[:, :-1], x[:, -1]\n",
        "\n",
        "        # Each of these is (N, 2, D) since each context has 2 word\n",
        "        # We want this to be (N, D) and this is what we get\n",
        "\n",
        "        # (N, 2, D)\n",
        "        a = self.A(w_context)\n",
        "\n",
        "        # (N, D)\n",
        "        a_avg = a.mean(axis = 1)\n",
        "\n",
        "        # Each of these is (N, D) since each target has 1 word\n",
        "        b = self.B(wc)\n",
        "\n",
        "        # The product between each context and target vector. Look at the Skip-Gram code.\n",
        "        # The logits is now (N, 1) since we sum across the final dimension.\n",
        "        logits = (a_avg * b).sum(axis = -1)\n",
        "\n",
        "        return logits"
      ]
    },
    {
      "cell_type": "code",
      "execution_count": 34,
      "id": "ed9c509d",
      "metadata": {
        "id": "ed9c509d"
      },
      "outputs": [],
      "source": [
        "@torch.no_grad()\n",
        "def validate_embeddings(\n",
        "    model,\n",
        "    valid_ids,\n",
        "    itos\n",
        "):\n",
        "    \"\"\" Validation logic \"\"\"\n",
        "\n",
        "    # We will use context embeddings to get the most similar words\n",
        "    # Other strategies include: using target embeddings, mean embeddings after avaraging context/target\n",
        "    embedding_weights = model.A.weight\n",
        "\n",
        "    normalized_embeddings = embedding_weights.cpu() / np.sqrt(\n",
        "        np.sum(embedding_weights.cpu().numpy()**2, axis=1, keepdims=True)\n",
        "    )\n",
        "\n",
        "    # Get the embeddings corresponding to valid_term_ids\n",
        "    valid_embeddings = normalized_embeddings[valid_ids, :]\n",
        "\n",
        "    # Compute the similarity between valid_term_ids (S) and all the embeddings (V)\n",
        "    # We do S x d (d x V) => S x D and sort by negative similarity\n",
        "    top_k = 10 # Top k items will be displayed\n",
        "    similarity = np.dot(valid_embeddings.cpu().numpy(), normalized_embeddings.cpu().numpy().T)\n",
        "\n",
        "    # Invert similarity matrix to negative\n",
        "    # Ignore the first one because that would be the same word as the probe word\n",
        "    similarity_top_k = np.argsort(-similarity, axis=1)[:, 1: top_k+1]\n",
        "\n",
        "    # Print the output.\n",
        "    for i, word_id in enumerate(valid_ids):\n",
        "        # j >= 1 here since we don't want to include the word itself.\n",
        "        similar_word_str = ', '.join([itos[j] for j in similarity_top_k[i, :] if j >= 1])\n",
        "        print(f\"{itos[word_id]}: {similar_word_str}\")\n",
        "\n",
        "    print('\\n')"
      ]
    },
    {
      "cell_type": "markdown",
      "id": "3b3c6ed5",
      "metadata": {
        "id": "3b3c6ed5"
      },
      "source": [
        "### Set up the model"
      ]
    },
    {
      "cell_type": "code",
      "execution_count": 35,
      "id": "16da95d1",
      "metadata": {
        "id": "16da95d1"
      },
      "outputs": [],
      "source": [
        "LR = 10.0\n",
        "NUM_EPOCHS = 10\n",
        "EMBED_DIM = 300"
      ]
    },
    {
      "cell_type": "code",
      "execution_count": 36,
      "id": "cef585f4",
      "metadata": {
        "id": "cef585f4"
      },
      "outputs": [],
      "source": [
        "model = CBOWNegativeSampling(len(VOCAB), EMBED_DIM).to(DEVICE)\n",
        "optimizer = torch.optim.SGD(model.parameters(), lr=LR)\n",
        "\n",
        "# The learning rate is lowered every epoch by 1/10\n",
        "# Is this a good idea?\n",
        "scheduler = torch.optim.lr_scheduler.StepLR(optimizer, 1, gamma=0.1)"
      ]
    },
    {
      "cell_type": "code",
      "execution_count": 37,
      "id": "f8a642bf",
      "metadata": {
        "id": "f8a642bf",
        "colab": {
          "base_uri": "https://localhost:8080/"
        },
        "outputId": "f9bf9e57-b707-4343-c02e-5d2b7af35c61"
      },
      "outputs": [
        {
          "output_type": "execute_result",
          "data": {
            "text/plain": [
              "CBOWNegativeSampling(\n",
              "  (A): Embedding(63641, 300)\n",
              "  (B): Embedding(63641, 300)\n",
              ")"
            ]
          },
          "metadata": {},
          "execution_count": 37
        }
      ],
      "source": [
        "model"
      ]
    },
    {
      "cell_type": "code",
      "execution_count": 38,
      "id": "85773616",
      "metadata": {
        "id": "85773616",
        "colab": {
          "base_uri": "https://localhost:8080/"
        },
        "outputId": "181eefae-0ea2-4e9c-f462-806dd9f6a0ad"
      },
      "outputs": [
        {
          "output_type": "stream",
          "name": "stdout",
          "text": [
            "money: newman, deportation, dartmoor, rerio, gurevich, skybox, goings, penguins, bai, romany\n",
            "lion: unrounded, attachment, mundus, fallible, ischemic, condense, schlegel, firsts, airliner, asg\n",
            "africa: postprandial, kilby, benthic, fats, vers, west, afghanistan, vandalism, aykroyd, irascible\n",
            "musician: cancellous, dent, reelection, rah, harakat, seq, drang, lefkow, snap, einstein\n",
            "dance: vampire, repository, philosophicus, interrogating, acerbic, dalits, malcolm, palestrina, unused, uruguay\n",
            "\n",
            "\n"
          ]
        }
      ],
      "source": [
        "validate_embeddings(model, valid_ids, itos)"
      ]
    },
    {
      "cell_type": "markdown",
      "id": "86476e2a",
      "metadata": {
        "id": "86476e2a"
      },
      "source": [
        "### Train the model"
      ]
    },
    {
      "cell_type": "code",
      "execution_count": 39,
      "id": "24950481",
      "metadata": {
        "id": "24950481"
      },
      "outputs": [],
      "source": [
        "ratios = []\n",
        "\n",
        "def train(dataloader, model, optimizer, epoch):\n",
        "    model.train()\n",
        "    total_acc, total_count, total_loss, total_batches = 0, 0, 0.0, 0.0\n",
        "    log_interval = 500\n",
        "\n",
        "    for idx, x_batch in tqdm(enumerate(dataloader)):\n",
        "\n",
        "        x_batch = x_batch[0]\n",
        "\n",
        "        batch_size = x_batch.shape[0]\n",
        "\n",
        "        # Zero the gradient so they don't accumulate\n",
        "        optimizer.zero_grad()\n",
        "\n",
        "        logits = model(x_batch)\n",
        "\n",
        "        # Get the positive samples loss. Notice we use weights here\n",
        "        positive_loss = torch.nn.BCEWithLogitsLoss()(input=logits, target=torch.ones(batch_size).to(DEVICE).float())\n",
        "\n",
        "        # For each batch, get some negative samples\n",
        "        # We need a total of len(y_batch) * K samples across a batch\n",
        "        # We then reshape this batch\n",
        "        # These are effectively the output words\n",
        "        negative_samples = torch.multinomial(p, batch_size * K, replacement=True)\n",
        "\n",
        "        # Context words are 2m things, m = 1 so w_context is (N, 2) while wc is (N, 1)\n",
        "        w_context, wc = x_batch[:, :-1], x_batch[:, -1]\n",
        "\n",
        "        \"\"\"\n",
        "        if w_context looks like below (batch_size = 3)\n",
        "        [\n",
        "        (a, b),\n",
        "        (c, d),\n",
        "        (e, f)\n",
        "        ] and K = 2 we'd like to get:\n",
        "\n",
        "        [\n",
        "        (a, b),\n",
        "        (a, b),\n",
        "        (c, d),\n",
        "        (c, d),\n",
        "        (e, f),\n",
        "        (e, f)\n",
        "        ]\n",
        "\n",
        "        This will be batch_size * K rows.\n",
        "        \"\"\"\n",
        "\n",
        "        # This should be (N * K, 2)\n",
        "        w_context = torch.concat([\n",
        "            w.repeat(K, 1) for w in torch.tensor(w_context).split(1)\n",
        "        ])\n",
        "\n",
        "        # Remove the last dimension 1\n",
        "        wc = negative_samples.unsqueeze(-1)\n",
        "\n",
        "        # Get the negative samples. This should be (N * K, 3)\n",
        "        # Concatenate the w_context and wc along the column. Make sure everything is on CUDA / MPS or CPU\n",
        "        x_batch_negative = torch.concat([w_context, wc.to(DEVICE)], axis=1)\n",
        "\n",
        "        \"\"\"\n",
        "        Note the way we formulated the targets: they are all 0 since these are negative samples.\n",
        "        We do the BCEWithLogitsLoss by hand basically here.\n",
        "        Notice we sum across the negative samples, per positive word.\n",
        "\n",
        "        This is literally the equation in the lecture notes.\n",
        "        \"\"\"\n",
        "\n",
        "        # (N, K, D) -> (N, D) -> (N)\n",
        "        # Look at the Skip-Gram notebook\n",
        "        negative_loss = model(x_batch_negative).neg().sigmoid().log().reshape(batch_size, K).sum(1).mean().neg().to(DEVICE)\n",
        "\n",
        "        loss = (positive_loss + negative_loss).mean()\n",
        "\n",
        "        # Get the gradients via back propagation\n",
        "        loss.backward()\n",
        "\n",
        "        # Clip the gradients? Generally a good idea\n",
        "        torch.nn.utils.clip_grad_norm_(model.parameters(), 0.1)\n",
        "\n",
        "        # Do an optimization step. Update the parameters A and B\n",
        "        with torch.no_grad():\n",
        "            r = [(LR * p.grad.std() / p.data.std()).log10().item() for _, p in model.named_parameters()]\n",
        "            ratios.append(r)\n",
        "\n",
        "        optimizer.step()\n",
        "\n",
        "        # Get the new loss\n",
        "        total_loss += loss.item()\n",
        "\n",
        "        # Update the batch count\n",
        "        total_batches += 1\n",
        "\n",
        "        if idx % log_interval == 0:\n",
        "            print(\n",
        "                \"| epoch {:3d} | {:5d}/{:5d} batches \"\n",
        "                \"| loss {:8.3f} \".format(\n",
        "                    epoch,\n",
        "                    idx,\n",
        "                    len(dataloader),\n",
        "                    total_loss / total_batches\n",
        "                )\n",
        "            )\n",
        "            validate_embeddings(model, valid_ids, itos)\n",
        "            total_loss, total_batches = 0.0, 0.0"
      ]
    },
    {
      "cell_type": "markdown",
      "id": "0764d675",
      "metadata": {
        "id": "0764d675"
      },
      "source": [
        "### Some results from the run look like below:\n",
        "\n",
        "Somewhere inside of 2 iterations you should get sensible associattions.\n",
        "Paste here a screenshot of the closest vectors."
      ]
    },
    {
      "cell_type": "code",
      "execution_count": 40,
      "id": "a9e02c09",
      "metadata": {
        "id": "a9e02c09",
        "outputId": "29011bfa-f351-40d4-c503-fffb719f9b8d",
        "colab": {
          "base_uri": "https://localhost:8080/"
        }
      },
      "outputs": [
        {
          "metadata": {
            "tags": null
          },
          "name": "stderr",
          "output_type": "stream",
          "text": [
            "0it [00:00, ?it/s]<ipython-input-39-8d29ee309aa6>:53: UserWarning: To copy construct from a tensor, it is recommended to use sourceTensor.clone().detach() or sourceTensor.clone().detach().requires_grad_(True), rather than torch.tensor(sourceTensor).\n",
            "  w.repeat(K, 1) for w in torch.tensor(w_context).split(1)\n",
            "1it [00:02,  2.13s/it]"
          ]
        },
        {
          "metadata": {
            "tags": null
          },
          "name": "stdout",
          "output_type": "stream",
          "text": [
            "| epoch   1 |     0/32580 batches | loss    4.064 \n",
            "money: newman, deportation, dartmoor, rerio, gurevich, skybox, goings, penguins, bai, romany\n",
            "lion: unrounded, attachment, mundus, fallible, ischemic, schlegel, condense, firsts, airliner, asg\n",
            "africa: postprandial, kilby, benthic, fats, vers, west, afghanistan, vandalism, aykroyd, irascible\n",
            "musician: cancellous, dent, reelection, rah, harakat, seq, drang, lefkow, snap, einstein\n",
            "dance: vampire, repository, philosophicus, interrogating, acerbic, dalits, malcolm, palestrina, unused, uruguay\n",
            "\n",
            "\n"
          ]
        },
        {
          "metadata": {
            "tags": null
          },
          "name": "stderr",
          "output_type": "stream",
          "text": [
            "500it [00:51, 10.19it/s]"
          ]
        },
        {
          "metadata": {
            "tags": null
          },
          "name": "stdout",
          "output_type": "stream",
          "text": [
            "| epoch   1 |   500/32580 batches | loss    3.715 \n",
            "money: newman, deportation, dartmoor, skybox, gurevich, rerio, caudal, secondo, penguins, bai\n",
            "lion: unrounded, attachment, mundus, fallible, ischemic, schlegel, condense, firsts, airliner, fulk\n",
            "africa: postprandial, kilby, benthic, fats, west, afghanistan, vandalism, vers, aykroyd, irascible\n",
            "musician: cancellous, dent, reelection, rah, harakat, seq, lefkow, drang, snap, esset\n",
            "dance: vampire, repository, philosophicus, acerbic, interrogating, malcolm, dalits, unused, palestrina, uruguay\n",
            "\n",
            "\n"
          ]
        },
        {
          "metadata": {
            "tags": null
          },
          "name": "stderr",
          "output_type": "stream",
          "text": [
            "1001it [01:42,  7.47it/s]"
          ]
        },
        {
          "metadata": {
            "tags": null
          },
          "name": "stdout",
          "output_type": "stream",
          "text": [
            "| epoch   1 |  1000/32580 batches | loss    3.355 \n",
            "money: newman, deportation, skybox, dartmoor, penguins, rerio, caudal, secondo, gurevich, romany\n",
            "lion: unrounded, attachment, mundus, ischemic, fallible, schlegel, firsts, condense, airliner, myst\n",
            "africa: postprandial, kilby, benthic, west, fats, afghanistan, aromas, aykroyd, vandalism, irascible\n",
            "musician: cancellous, dent, reelection, rah, harakat, seq, drang, lefkow, einstein, esset\n",
            "dance: vampire, repository, philosophicus, malcolm, acerbic, interrogating, unused, dalits, palestrina, uruguay\n",
            "\n",
            "\n"
          ]
        },
        {
          "metadata": {
            "tags": null
          },
          "name": "stderr",
          "output_type": "stream",
          "text": [
            "1501it [02:34,  8.01it/s]"
          ]
        },
        {
          "metadata": {
            "tags": null
          },
          "name": "stdout",
          "output_type": "stream",
          "text": [
            "| epoch   1 |  1500/32580 batches | loss    3.024 \n",
            "money: newman, deportation, skybox, penguins, dartmoor, rerio, makeover, caudal, repudiate, bai\n",
            "lion: unrounded, attachment, mundus, ischemic, firsts, schlegel, fallible, condense, airliner, fulk\n",
            "africa: postprandial, kilby, west, benthic, afghanistan, aromas, fats, irascible, aykroyd, ru\n",
            "musician: dent, reelection, cancellous, rah, harakat, seq, drang, lefkow, einstein, esset\n",
            "dance: vampire, repository, philosophicus, acerbic, malcolm, interrogating, unused, dalits, palestrina, uruguay\n",
            "\n",
            "\n"
          ]
        },
        {
          "metadata": {
            "tags": null
          },
          "name": "stderr",
          "output_type": "stream",
          "text": [
            "2001it [03:24,  8.87it/s]"
          ]
        },
        {
          "metadata": {
            "tags": null
          },
          "name": "stdout",
          "output_type": "stream",
          "text": [
            "| epoch   1 |  2000/32580 batches | loss    2.784 \n",
            "money: newman, deportation, penguins, skybox, dartmoor, caudal, bai, rerio, plurality, repudiate\n",
            "lion: unrounded, attachment, mundus, ischemic, schlegel, firsts, fallible, condense, airliner, myst\n",
            "africa: postprandial, west, kilby, afghanistan, benthic, irascible, aromas, aykroyd, ru, fats\n",
            "musician: dent, reelection, cancellous, rah, harakat, drang, seq, lefkow, esset, snap\n",
            "dance: vampire, repository, philosophicus, malcolm, interrogating, acerbic, unused, dalits, palestrina, uruguay\n",
            "\n",
            "\n"
          ]
        },
        {
          "metadata": {
            "tags": null
          },
          "name": "stderr",
          "output_type": "stream",
          "text": [
            "2501it [04:16,  8.96it/s]"
          ]
        },
        {
          "metadata": {
            "tags": null
          },
          "name": "stdout",
          "output_type": "stream",
          "text": [
            "| epoch   1 |  2500/32580 batches | loss    2.615 \n",
            "money: newman, penguins, bai, deportation, dartmoor, skybox, caudal, plurality, repudiate, accompanied\n",
            "lion: unrounded, attachment, ischemic, mundus, schlegel, firsts, condense, fallible, airliner, myst\n",
            "africa: west, afghanistan, postprandial, kilby, three, irascible, or, ru, x, aromas\n",
            "musician: dent, reelection, cancellous, harakat, rah, drang, esset, seq, lefkow, snap\n",
            "dance: vampire, repository, philosophicus, malcolm, acerbic, unused, interrogating, dalits, palestrina, uruguay\n",
            "\n",
            "\n"
          ]
        },
        {
          "metadata": {
            "tags": null
          },
          "name": "stderr",
          "output_type": "stream",
          "text": [
            "3001it [05:08,  8.24it/s]"
          ]
        },
        {
          "metadata": {
            "tags": null
          },
          "name": "stdout",
          "output_type": "stream",
          "text": [
            "| epoch   1 |  3000/32580 batches | loss    2.478 \n",
            "money: newman, penguins, bai, plurality, caudal, deportation, dartmoor, skybox, accompanied, repudiate\n",
            "lion: unrounded, attachment, ischemic, mundus, schlegel, firsts, condense, fallible, fulk, airliner\n",
            "africa: west, or, afghanistan, three, and, zero, x, over, four, her\n",
            "musician: dent, reelection, rah, harakat, cancellous, drang, lefkow, koo, seq, esset\n",
            "dance: vampire, repository, philosophicus, malcolm, unused, acerbic, interrogating, own, palestrina, dalits\n",
            "\n",
            "\n"
          ]
        },
        {
          "metadata": {
            "tags": null
          },
          "name": "stderr",
          "output_type": "stream",
          "text": [
            "3500it [05:58, 10.14it/s]"
          ]
        },
        {
          "metadata": {
            "tags": null
          },
          "name": "stdout",
          "output_type": "stream",
          "text": [
            "| epoch   1 |  3500/32580 batches | loss    2.377 \n",
            "money: newman, than, form, penguins, bai, accompanied, caudal, plurality, dartmoor, its\n",
            "lion: unrounded, attachment, ischemic, mundus, schlegel, firsts, condense, fallible, fulk, possesses\n",
            "africa: west, three, over, zero, one, x, or, four, two, her\n",
            "musician: dent, reelection, harakat, rah, cancellous, drang, koo, snap, seq, lefkow\n",
            "dance: vampire, repository, philosophicus, malcolm, own, unused, acerbic, interrogating, term, city\n",
            "\n",
            "\n"
          ]
        },
        {
          "metadata": {
            "tags": null
          },
          "name": "stderr",
          "output_type": "stream",
          "text": [
            "4001it [06:50,  7.50it/s]"
          ]
        },
        {
          "metadata": {
            "tags": null
          },
          "name": "stdout",
          "output_type": "stream",
          "text": [
            "| epoch   1 |  4000/32580 batches | loss    2.289 \n",
            "money: than, form, its, newman, about, penguins, during, them, many, general\n",
            "lion: unrounded, attachment, ischemic, mundus, schlegel, condense, firsts, fallible, fulk, possesses\n",
            "africa: west, over, three, four, and, zero, one, her, eight, two\n",
            "musician: dent, reelection, rah, harakat, drang, cancellous, koo, lefkow, snap, seq\n",
            "dance: vampire, repository, philosophicus, own, malcolm, unused, acerbic, interrogating, term, city\n",
            "\n",
            "\n"
          ]
        },
        {
          "metadata": {
            "tags": null
          },
          "name": "stderr",
          "output_type": "stream",
          "text": [
            "4500it [07:41, 10.06it/s]"
          ]
        },
        {
          "metadata": {
            "tags": null
          },
          "name": "stdout",
          "output_type": "stream",
          "text": [
            "| epoch   1 |  4500/32580 batches | loss    2.220 \n",
            "money: form, than, and, general, about, her, them, its, during, such\n",
            "lion: unrounded, attachment, ischemic, mundus, firsts, schlegel, condense, fallible, possesses, fulk\n",
            "africa: west, over, one, zero, four, her, or, three, two, eight\n",
            "musician: dent, reelection, rah, harakat, drang, koo, snap, esset, lefkow, cancellous\n",
            "dance: vampire, repository, philosophicus, own, malcolm, term, unused, article, city, reincarnations\n",
            "\n",
            "\n"
          ]
        },
        {
          "metadata": {
            "tags": null
          },
          "name": "stderr",
          "output_type": "stream",
          "text": [
            "5000it [08:33, 10.17it/s]"
          ]
        },
        {
          "metadata": {
            "tags": null
          },
          "name": "stdout",
          "output_type": "stream",
          "text": [
            "| epoch   1 |  5000/32580 batches | loss    2.153 \n",
            "money: form, and, than, about, them, during, only, general, her, god\n",
            "lion: unrounded, attachment, ischemic, mundus, schlegel, firsts, fallible, condense, possesses, fulk\n",
            "africa: west, over, one, her, zero, two, four, three, under, eight\n",
            "musician: dent, reelection, rah, harakat, drang, koo, esset, einstein, snap, rome\n",
            "dance: vampire, own, city, philosophicus, repository, time, malcolm, term, world, article\n",
            "\n",
            "\n"
          ]
        },
        {
          "metadata": {
            "tags": null
          },
          "name": "stderr",
          "output_type": "stream",
          "text": [
            "5501it [09:24,  8.76it/s]"
          ]
        },
        {
          "metadata": {
            "tags": null
          },
          "name": "stdout",
          "output_type": "stream",
          "text": [
            "| epoch   1 |  5500/32580 batches | loss    2.104 \n",
            "money: form, than, them, about, and, most, god, only, during, first\n",
            "lion: unrounded, attachment, ischemic, mundus, schlegel, firsts, possesses, fallible, condense, fulk\n",
            "africa: west, over, one, her, zero, three, nine, five, four, eight\n",
            "musician: dent, reelection, rah, harakat, drang, rome, einstein, esset, snap, koo\n",
            "dance: vampire, own, city, world, time, article, term, philosophicus, english, repository\n",
            "\n",
            "\n"
          ]
        },
        {
          "metadata": {
            "tags": null
          },
          "name": "stderr",
          "output_type": "stream",
          "text": [
            "6001it [10:16,  8.64it/s]"
          ]
        },
        {
          "metadata": {
            "tags": null
          },
          "name": "stdout",
          "output_type": "stream",
          "text": [
            "| epoch   1 |  6000/32580 batches | loss    2.057 \n",
            "money: form, than, them, her, god, most, about, only, government, used\n",
            "lion: unrounded, attachment, ischemic, mundus, possesses, schlegel, firsts, winfrey, fulk, condense\n",
            "africa: west, one, over, her, three, two, nine, four, zero, eight\n",
            "musician: dent, reelection, harakat, rome, rah, famous, drang, esset, london, snap\n",
            "dance: vampire, own, city, world, time, term, article, well, english, philosophicus\n",
            "\n",
            "\n"
          ]
        },
        {
          "metadata": {
            "tags": null
          },
          "name": "stderr",
          "output_type": "stream",
          "text": [
            "6501it [11:07,  8.42it/s]"
          ]
        },
        {
          "metadata": {
            "tags": null
          },
          "name": "stdout",
          "output_type": "stream",
          "text": [
            "| epoch   1 |  6500/32580 batches | loss    2.019 \n",
            "money: form, than, them, and, god, only, used, her, france, about\n",
            "lion: unrounded, attachment, ischemic, mundus, possesses, firsts, schlegel, winfrey, condense, fulk\n",
            "africa: west, four, zero, one, over, nine, example, two, and, her\n",
            "musician: dent, famous, rome, reelection, rah, harakat, london, full, drang, running\n",
            "dance: own, vampire, city, world, article, term, time, well, out, english\n",
            "\n",
            "\n"
          ]
        },
        {
          "metadata": {
            "tags": null
          },
          "name": "stderr",
          "output_type": "stream",
          "text": [
            "7001it [11:59,  9.10it/s]"
          ]
        },
        {
          "metadata": {
            "tags": null
          },
          "name": "stdout",
          "output_type": "stream",
          "text": [
            "| epoch   1 |  7000/32580 batches | loss    1.981 \n",
            "money: form, and, them, god, than, france, work, used, government, her\n",
            "lion: unrounded, attachment, ischemic, mundus, possesses, schlegel, firsts, condense, winfrey, fulk\n",
            "africa: west, four, zero, example, one, seven, nine, eight, three, five\n",
            "musician: famous, rome, london, dent, full, university, rah, reelection, harakat, running\n",
            "dance: own, city, world, term, vampire, article, english, time, children, well\n",
            "\n",
            "\n"
          ]
        },
        {
          "metadata": {
            "tags": null
          },
          "name": "stderr",
          "output_type": "stream",
          "text": [
            "7501it [12:50,  7.56it/s]"
          ]
        },
        {
          "metadata": {
            "tags": null
          },
          "name": "stdout",
          "output_type": "stream",
          "text": [
            "| epoch   1 |  7500/32580 batches | loss    1.947 \n",
            "money: form, them, and, god, work, france, used, than, government, her\n",
            "lion: unrounded, attachment, ischemic, mundus, possesses, firsts, condense, schlegel, winfrey, fulk\n",
            "africa: west, zero, example, four, her, eight, nine, seven, end, order\n",
            "musician: famous, london, rome, university, full, dent, chief, non, followed, rah\n",
            "dance: own, city, world, article, english, term, time, well, vampire, u\n",
            "\n",
            "\n"
          ]
        },
        {
          "metadata": {
            "tags": null
          },
          "name": "stderr",
          "output_type": "stream",
          "text": [
            "8001it [13:42,  8.18it/s]"
          ]
        },
        {
          "metadata": {
            "tags": null
          },
          "name": "stdout",
          "output_type": "stream",
          "text": [
            "| epoch   1 |  8000/32580 batches | loss    1.916 \n",
            "money: form, god, work, them, used, france, than, government, and, considered\n",
            "lion: unrounded, attachment, ischemic, mundus, possesses, condense, firsts, schlegel, winfrey, recent\n",
            "africa: west, zero, end, example, her, eight, seven, nine, order, four\n",
            "musician: famous, london, rome, university, full, example, chief, country, non, followed\n",
            "dance: own, world, english, city, article, time, term, well, u, water\n",
            "\n",
            "\n"
          ]
        },
        {
          "metadata": {
            "tags": null
          },
          "name": "stderr",
          "output_type": "stream",
          "text": [
            "8501it [14:33,  8.40it/s]"
          ]
        },
        {
          "metadata": {
            "tags": null
          },
          "name": "stdout",
          "output_type": "stream",
          "text": [
            "| epoch   1 |  8500/32580 batches | loss    1.886 \n",
            "money: form, god, work, used, france, than, them, government, considered, power\n",
            "lion: unrounded, attachment, ischemic, mundus, possesses, recent, pope, condense, schlegel, winfrey\n",
            "africa: west, end, zero, example, nine, eight, order, seven, her, europe\n",
            "musician: famous, london, university, rome, country, non, york, full, followed, example\n",
            "dance: english, own, world, article, city, term, time, u, well, water\n",
            "\n",
            "\n"
          ]
        },
        {
          "metadata": {
            "tags": null
          },
          "name": "stderr",
          "output_type": "stream",
          "text": [
            "9001it [15:25,  7.67it/s]"
          ]
        },
        {
          "metadata": {
            "tags": null
          },
          "name": "stdout",
          "output_type": "stream",
          "text": [
            "| epoch   1 |  9000/32580 batches | loss    1.861 \n",
            "money: form, god, work, than, france, used, considered, power, found, them\n",
            "lion: unrounded, attachment, ischemic, recent, possesses, mundus, pope, schlegel, condense, reduction\n",
            "africa: west, zero, end, example, order, nine, eight, one, europe, seven\n",
            "musician: famous, university, london, rome, example, york, country, followed, non, full\n",
            "dance: english, own, world, city, article, term, time, u, well, popular\n",
            "\n",
            "\n"
          ]
        },
        {
          "metadata": {
            "tags": null
          },
          "name": "stderr",
          "output_type": "stream",
          "text": [
            "9501it [16:16,  7.95it/s]"
          ]
        },
        {
          "metadata": {
            "tags": null
          },
          "name": "stdout",
          "output_type": "stream",
          "text": [
            "| epoch   1 |  9500/32580 batches | loss    1.836 \n",
            "money: form, god, work, used, considered, france, government, power, found, than\n",
            "lion: unrounded, attachment, recent, ischemic, possesses, mundus, pope, number, below, show\n",
            "africa: west, zero, end, example, order, nine, europe, eight, one, city\n",
            "musician: famous, university, london, rome, example, york, non, country, chief, followed\n",
            "dance: english, world, own, article, city, term, time, u, popular, well\n",
            "\n",
            "\n"
          ]
        },
        {
          "metadata": {
            "tags": null
          },
          "name": "stderr",
          "output_type": "stream",
          "text": [
            "10001it [17:07,  7.62it/s]"
          ]
        },
        {
          "metadata": {
            "tags": null
          },
          "name": "stdout",
          "output_type": "stream",
          "text": [
            "| epoch   1 | 10000/32580 batches | loss    1.814 \n",
            "money: form, god, work, power, considered, used, found, france, government, developed\n",
            "lion: unrounded, attachment, recent, possesses, ischemic, pope, mundus, number, show, below\n",
            "africa: west, end, zero, order, nine, one, europe, eight, example, five\n",
            "musician: famous, university, london, rome, york, country, example, non, followed, chief\n",
            "dance: english, world, own, article, term, time, city, u, children, popular\n",
            "\n",
            "\n"
          ]
        },
        {
          "metadata": {
            "tags": null
          },
          "name": "stderr",
          "output_type": "stream",
          "text": [
            "10500it [17:58, 10.21it/s]"
          ]
        },
        {
          "metadata": {
            "tags": null
          },
          "name": "stdout",
          "output_type": "stream",
          "text": [
            "| epoch   1 | 10500/32580 batches | loss    1.791 \n",
            "money: form, god, work, considered, used, found, government, power, france, developed\n",
            "lion: unrounded, attachment, recent, below, number, possesses, pope, show, ischemic, mundus\n",
            "africa: west, end, nine, order, eight, europe, zero, example, one, seven\n",
            "musician: university, famous, london, rome, example, york, non, country, followed, history\n",
            "dance: world, english, own, article, time, city, term, u, town, means\n",
            "\n",
            "\n"
          ]
        },
        {
          "metadata": {
            "tags": null
          },
          "name": "stderr",
          "output_type": "stream",
          "text": [
            "11000it [18:49, 10.15it/s]"
          ]
        },
        {
          "metadata": {
            "tags": null
          },
          "name": "stdout",
          "output_type": "stream",
          "text": [
            "| epoch   1 | 11000/32580 batches | loss    1.772 \n",
            "money: form, god, work, used, considered, power, government, found, france, developed\n",
            "lion: unrounded, recent, attachment, number, show, below, pope, size, possesses, least\n",
            "africa: west, end, europe, nine, zero, eight, order, example, seven, history\n",
            "musician: university, famous, london, rome, example, york, country, non, followed, chief\n",
            "dance: world, own, english, time, article, term, city, town, u, means\n",
            "\n",
            "\n"
          ]
        },
        {
          "metadata": {
            "tags": null
          },
          "name": "stderr",
          "output_type": "stream",
          "text": [
            "11500it [19:40, 10.10it/s]"
          ]
        },
        {
          "metadata": {
            "tags": null
          },
          "name": "stdout",
          "output_type": "stream",
          "text": [
            "| epoch   1 | 11500/32580 batches | loss    1.762 \n",
            "money: form, god, work, considered, found, used, developed, power, government, france\n",
            "lion: unrounded, attachment, recent, number, show, below, size, pope, least, possesses\n",
            "africa: west, end, zero, europe, nine, order, eight, example, one, south\n",
            "musician: university, london, famous, rome, example, york, country, followed, non, central\n",
            "dance: world, own, english, time, article, u, town, term, french, popular\n",
            "\n",
            "\n"
          ]
        },
        {
          "metadata": {
            "tags": null
          },
          "name": "stderr",
          "output_type": "stream",
          "text": [
            "12000it [20:34, 10.12it/s]"
          ]
        },
        {
          "metadata": {
            "tags": null
          },
          "name": "stdout",
          "output_type": "stream",
          "text": [
            "| epoch   1 | 12000/32580 batches | loss    1.745 \n",
            "money: form, work, god, considered, developed, used, power, found, france, made\n",
            "lion: recent, number, unrounded, show, attachment, size, pope, below, least, possesses\n",
            "africa: west, end, europe, nine, one, zero, order, eight, example, south\n",
            "musician: university, london, famous, rome, york, example, country, followed, central, non\n",
            "dance: world, own, english, time, u, city, article, country, town, considered\n",
            "\n",
            "\n"
          ]
        },
        {
          "metadata": {
            "tags": null
          },
          "name": "stderr",
          "output_type": "stream",
          "text": [
            "12501it [21:26,  7.63it/s]"
          ]
        },
        {
          "metadata": {
            "tags": null
          },
          "name": "stdout",
          "output_type": "stream",
          "text": [
            "| epoch   1 | 12500/32580 batches | loss    1.723 \n",
            "money: form, work, considered, god, developed, power, made, found, result, used\n",
            "lion: number, show, size, unrounded, recent, attachment, pope, least, below, write\n",
            "africa: west, end, europe, nine, zero, one, order, eight, south, example\n",
            "musician: london, famous, university, rome, york, example, country, followed, study, non\n",
            "dance: world, own, english, article, time, country, term, u, town, city\n",
            "\n",
            "\n"
          ]
        },
        {
          "metadata": {
            "tags": null
          },
          "name": "stderr",
          "output_type": "stream",
          "text": [
            "13001it [22:18,  7.75it/s]"
          ]
        },
        {
          "metadata": {
            "tags": null
          },
          "name": "stdout",
          "output_type": "stream",
          "text": [
            "| epoch   1 | 13000/32580 batches | loss    1.712 \n",
            "money: form, work, considered, god, developed, found, result, made, power, just\n",
            "lion: number, show, size, pope, least, below, attachment, unrounded, recent, write\n",
            "africa: west, end, europe, nine, zero, order, eight, south, one, example\n",
            "musician: london, famous, university, rome, example, york, country, study, followed, chief\n",
            "dance: own, world, time, country, english, term, city, article, town, considered\n",
            "\n",
            "\n"
          ]
        },
        {
          "metadata": {
            "tags": null
          },
          "name": "stderr",
          "output_type": "stream",
          "text": [
            "13501it [23:10,  7.91it/s]"
          ]
        },
        {
          "metadata": {
            "tags": null
          },
          "name": "stdout",
          "output_type": "stream",
          "text": [
            "| epoch   1 | 13500/32580 batches | loss    1.704 \n",
            "money: form, work, considered, god, found, made, power, just, developed, result\n",
            "lion: number, show, size, least, below, pope, recent, write, attachment, unrounded\n",
            "africa: west, end, europe, nine, eight, order, south, zero, one, example\n",
            "musician: university, london, famous, rome, york, example, country, study, followed, died\n",
            "dance: own, world, time, english, city, town, term, article, considered, country\n",
            "\n",
            "\n"
          ]
        },
        {
          "metadata": {
            "tags": null
          },
          "name": "stderr",
          "output_type": "stream",
          "text": [
            "14000it [24:01, 10.06it/s]"
          ]
        },
        {
          "metadata": {
            "tags": null
          },
          "name": "stdout",
          "output_type": "stream",
          "text": [
            "| epoch   1 | 14000/32580 batches | loss    1.685 \n",
            "money: form, work, considered, god, found, developed, just, power, result, order\n",
            "lion: number, size, below, least, show, pope, recent, write, original, growth\n",
            "africa: west, europe, end, nine, south, order, zero, eight, one, central\n",
            "musician: university, london, famous, rome, country, york, example, study, followed, died\n",
            "dance: world, own, english, city, term, time, country, article, town, considered\n",
            "\n",
            "\n"
          ]
        },
        {
          "metadata": {
            "tags": null
          },
          "name": "stderr",
          "output_type": "stream",
          "text": [
            "14501it [24:53,  8.87it/s]"
          ]
        },
        {
          "metadata": {
            "tags": null
          },
          "name": "stdout",
          "output_type": "stream",
          "text": [
            "| epoch   1 | 14500/32580 batches | loss    1.671 \n",
            "money: form, work, considered, god, found, developed, just, result, power, used\n",
            "lion: number, size, below, show, least, pope, recent, growth, write, original\n",
            "africa: west, end, europe, nine, south, zero, order, united, america, east\n",
            "musician: university, london, famous, rome, country, york, study, example, followed, died\n",
            "dance: world, english, own, country, city, term, article, time, town, considered\n",
            "\n",
            "\n"
          ]
        },
        {
          "metadata": {
            "tags": null
          },
          "name": "stderr",
          "output_type": "stream",
          "text": [
            "15000it [25:44, 10.14it/s]"
          ]
        },
        {
          "metadata": {
            "tags": null
          },
          "name": "stdout",
          "output_type": "stream",
          "text": [
            "| epoch   1 | 15000/32580 batches | loss    1.656 \n",
            "money: form, work, considered, god, found, developed, result, just, order, power\n",
            "lion: number, size, below, least, show, pope, recent, growth, write, learning\n",
            "africa: west, end, europe, south, nine, order, zero, eight, america, one\n",
            "musician: university, london, famous, rome, country, york, study, followed, example, died\n",
            "dance: world, country, own, english, term, article, town, city, time, popular\n",
            "\n",
            "\n"
          ]
        },
        {
          "metadata": {
            "tags": null
          },
          "name": "stderr",
          "output_type": "stream",
          "text": [
            "15501it [26:36,  8.13it/s]"
          ]
        },
        {
          "metadata": {
            "tags": null
          },
          "name": "stdout",
          "output_type": "stream",
          "text": [
            "| epoch   1 | 15500/32580 batches | loss    1.645 \n",
            "money: work, form, considered, god, result, developed, found, just, order, play\n",
            "lion: number, size, below, least, show, pope, growth, write, learning, recent\n",
            "africa: west, end, europe, south, nine, zero, east, order, america, eight\n",
            "musician: famous, university, london, rome, country, york, study, followed, died, example\n",
            "dance: country, world, own, term, town, article, city, popular, english, considered\n",
            "\n",
            "\n"
          ]
        },
        {
          "metadata": {
            "tags": null
          },
          "name": "stderr",
          "output_type": "stream",
          "text": [
            "16001it [27:28,  8.48it/s]"
          ]
        },
        {
          "metadata": {
            "tags": null
          },
          "name": "stdout",
          "output_type": "stream",
          "text": [
            "| epoch   1 | 16000/32580 batches | loss    1.637 \n",
            "money: work, form, considered, found, developed, result, god, order, just, even\n",
            "lion: number, size, least, below, show, pope, write, growth, addition, learning\n",
            "africa: west, end, europe, nine, south, zero, america, east, north, eight\n",
            "musician: london, famous, rome, university, country, york, study, singer, followed, example\n",
            "dance: country, world, article, town, own, popular, term, english, considered, given\n",
            "\n",
            "\n"
          ]
        },
        {
          "metadata": {
            "tags": null
          },
          "name": "stderr",
          "output_type": "stream",
          "text": [
            "16501it [28:19,  9.02it/s]"
          ]
        },
        {
          "metadata": {
            "tags": null
          },
          "name": "stdout",
          "output_type": "stream",
          "text": [
            "| epoch   1 | 16500/32580 batches | loss    1.631 \n",
            "money: work, form, considered, found, developed, result, god, order, play, just\n",
            "lion: number, size, below, least, show, pope, write, growth, addition, recent\n",
            "africa: west, end, europe, south, nine, america, east, zero, united, north\n",
            "musician: famous, london, rome, country, university, york, singer, followed, study, died\n",
            "dance: country, world, article, popular, town, term, considered, own, given, u\n",
            "\n",
            "\n"
          ]
        },
        {
          "metadata": {
            "tags": null
          },
          "name": "stderr",
          "output_type": "stream",
          "text": [
            "17000it [29:11, 10.13it/s]"
          ]
        },
        {
          "metadata": {
            "tags": null
          },
          "name": "stdout",
          "output_type": "stream",
          "text": [
            "| epoch   1 | 17000/32580 batches | loss    1.613 \n",
            "money: work, form, considered, found, developed, result, god, play, order, just\n",
            "lion: number, size, below, least, show, pope, write, addition, growth, learning\n",
            "africa: end, west, europe, south, nine, america, zero, united, east, north\n",
            "musician: famous, london, rome, university, country, york, singer, followed, example, study\n",
            "dance: country, world, article, popular, town, term, considered, u, own, english\n",
            "\n",
            "\n"
          ]
        },
        {
          "metadata": {
            "tags": null
          },
          "name": "stderr",
          "output_type": "stream",
          "text": [
            "17501it [30:03,  8.99it/s]"
          ]
        },
        {
          "metadata": {
            "tags": null
          },
          "name": "stdout",
          "output_type": "stream",
          "text": [
            "| epoch   1 | 17500/32580 batches | loss    1.610 \n",
            "money: work, form, found, result, considered, developed, god, play, order, end\n",
            "lion: number, size, below, least, pope, write, show, addition, growth, learning\n",
            "africa: europe, end, west, nine, south, america, east, united, zero, north\n",
            "musician: famous, london, rome, country, university, singer, york, example, study, actor\n",
            "dance: country, world, town, article, term, u, considered, popular, english, own\n",
            "\n",
            "\n"
          ]
        },
        {
          "metadata": {
            "tags": null
          },
          "name": "stderr",
          "output_type": "stream",
          "text": [
            "18001it [30:55,  8.22it/s]"
          ]
        },
        {
          "metadata": {
            "tags": null
          },
          "name": "stdout",
          "output_type": "stream",
          "text": [
            "| epoch   1 | 18000/32580 batches | loss    1.593 \n",
            "money: work, form, result, found, considered, developed, god, play, order, just\n",
            "lion: number, size, least, below, pope, write, addition, show, growth, learning\n",
            "africa: europe, end, west, south, nine, america, east, united, north, zero\n",
            "musician: london, famous, rome, university, singer, country, york, zero, study, example\n",
            "dance: country, world, town, term, article, considered, u, english, popular, time\n",
            "\n",
            "\n"
          ]
        },
        {
          "metadata": {
            "tags": null
          },
          "name": "stderr",
          "output_type": "stream",
          "text": [
            "18501it [31:47,  8.14it/s]"
          ]
        },
        {
          "metadata": {
            "tags": null
          },
          "name": "stdout",
          "output_type": "stream",
          "text": [
            "| epoch   1 | 18500/32580 batches | loss    1.586 \n",
            "money: work, result, form, found, developed, considered, god, play, end, order\n",
            "lion: number, size, below, least, pope, addition, write, show, growth, learning\n",
            "africa: end, europe, west, south, america, nine, east, united, zero, north\n",
            "musician: london, famous, rome, university, singer, country, york, study, example, actor\n",
            "dance: country, world, town, term, u, article, popular, considered, music, english\n",
            "\n",
            "\n"
          ]
        },
        {
          "metadata": {
            "tags": null
          },
          "name": "stderr",
          "output_type": "stream",
          "text": [
            "19001it [32:39,  7.62it/s]"
          ]
        },
        {
          "metadata": {
            "tags": null
          },
          "name": "stdout",
          "output_type": "stream",
          "text": [
            "| epoch   1 | 19000/32580 batches | loss    1.575 \n",
            "money: work, result, form, considered, found, developed, god, play, end, order\n",
            "lion: number, size, least, below, addition, write, pope, growth, learning, cause\n",
            "africa: end, europe, west, south, america, east, nine, united, central, india\n",
            "musician: london, rome, famous, singer, university, country, study, york, actor, introduction\n",
            "dance: country, world, town, article, term, popular, considered, u, english, time\n",
            "\n",
            "\n"
          ]
        },
        {
          "metadata": {
            "tags": null
          },
          "name": "stderr",
          "output_type": "stream",
          "text": [
            "19501it [33:30,  7.55it/s]"
          ]
        },
        {
          "metadata": {
            "tags": null
          },
          "name": "stdout",
          "output_type": "stream",
          "text": [
            "| epoch   1 | 19500/32580 batches | loss    1.569 \n",
            "money: work, result, form, considered, found, developed, god, play, end, just\n",
            "lion: number, size, least, addition, below, write, pope, growth, learning, show\n",
            "africa: end, europe, west, south, nine, america, east, united, india, england\n",
            "musician: rome, london, famous, singer, university, country, actor, york, study, introduction\n",
            "dance: country, world, town, term, considered, article, popular, english, u, zero\n",
            "\n",
            "\n"
          ]
        },
        {
          "metadata": {
            "tags": null
          },
          "name": "stderr",
          "output_type": "stream",
          "text": [
            "20001it [34:21,  7.59it/s]"
          ]
        },
        {
          "metadata": {
            "tags": null
          },
          "name": "stdout",
          "output_type": "stream",
          "text": [
            "| epoch   1 | 20000/32580 batches | loss    1.560 \n",
            "money: work, form, result, found, considered, developed, play, god, end, order\n",
            "lion: number, size, addition, least, below, write, pope, growth, length, learning\n",
            "africa: europe, end, west, south, america, nine, east, united, india, england\n",
            "musician: london, famous, rome, singer, university, actor, country, zero, followed, writer\n",
            "dance: country, world, town, considered, zero, popular, term, u, article, english\n",
            "\n",
            "\n"
          ]
        },
        {
          "metadata": {
            "tags": null
          },
          "name": "stderr",
          "output_type": "stream",
          "text": [
            "20500it [35:13, 10.09it/s]"
          ]
        },
        {
          "metadata": {
            "tags": null
          },
          "name": "stdout",
          "output_type": "stream",
          "text": [
            "| epoch   1 | 20500/32580 batches | loss    1.556 \n",
            "money: work, result, form, found, considered, developed, play, god, end, order\n",
            "lion: number, size, least, addition, below, write, pope, growth, length, cause\n",
            "africa: europe, end, west, south, america, nine, east, india, united, england\n",
            "musician: london, rome, famous, singer, university, actor, country, zero, writer, introduction\n",
            "dance: country, world, town, considered, term, popular, five, zero, english, u\n",
            "\n",
            "\n"
          ]
        },
        {
          "metadata": {
            "tags": null
          },
          "name": "stderr",
          "output_type": "stream",
          "text": [
            "21001it [36:04,  7.60it/s]"
          ]
        },
        {
          "metadata": {
            "tags": null
          },
          "name": "stdout",
          "output_type": "stream",
          "text": [
            "| epoch   1 | 21000/32580 batches | loss    1.544 \n",
            "money: work, result, form, found, developed, considered, play, end, order, god\n",
            "lion: size, number, least, addition, below, growth, write, pope, length, cause\n",
            "africa: europe, end, west, america, south, east, nine, india, united, england\n",
            "musician: london, rome, singer, famous, university, actor, writer, zero, york, introduction\n",
            "dance: country, world, town, term, five, considered, zero, music, u, article\n",
            "\n",
            "\n"
          ]
        },
        {
          "metadata": {
            "tags": null
          },
          "name": "stderr",
          "output_type": "stream",
          "text": [
            "21501it [36:55,  7.81it/s]"
          ]
        },
        {
          "metadata": {
            "tags": null
          },
          "name": "stdout",
          "output_type": "stream",
          "text": [
            "| epoch   1 | 21500/32580 batches | loss    1.535 \n",
            "money: work, result, form, found, developed, considered, play, god, do, order\n",
            "lion: size, number, least, addition, pope, growth, write, below, length, cause\n",
            "africa: europe, end, west, america, south, nine, east, india, united, england\n",
            "musician: singer, rome, london, famous, university, actor, writer, zero, introduction, battle\n",
            "dance: country, world, town, five, music, zero, u, term, considered, english\n",
            "\n",
            "\n"
          ]
        },
        {
          "metadata": {
            "tags": null
          },
          "name": "stderr",
          "output_type": "stream",
          "text": [
            "22001it [37:46,  8.25it/s]"
          ]
        },
        {
          "metadata": {
            "tags": null
          },
          "name": "stdout",
          "output_type": "stream",
          "text": [
            "| epoch   1 | 22000/32580 batches | loss    1.530 \n",
            "money: work, result, form, found, developed, considered, play, god, do, even\n",
            "lion: size, number, least, addition, pope, below, growth, write, length, cause\n",
            "africa: europe, end, west, america, south, nine, india, east, united, england\n",
            "musician: singer, rome, london, famous, actor, university, writer, introduction, battle, york\n",
            "dance: country, world, music, five, town, u, zero, english, article, term\n",
            "\n",
            "\n"
          ]
        },
        {
          "metadata": {
            "tags": null
          },
          "name": "stderr",
          "output_type": "stream",
          "text": [
            "22501it [38:39,  9.11it/s]"
          ]
        },
        {
          "metadata": {
            "tags": null
          },
          "name": "stdout",
          "output_type": "stream",
          "text": [
            "| epoch   1 | 22500/32580 batches | loss    1.522 \n",
            "money: work, result, form, found, developed, do, considered, god, play, just\n",
            "lion: size, number, least, addition, pope, write, growth, below, length, cause\n",
            "africa: europe, end, west, america, south, india, nine, england, east, united\n",
            "musician: singer, london, rome, famous, actor, writer, university, introduction, battle, study\n",
            "dance: country, world, music, town, five, u, popular, article, english, term\n",
            "\n",
            "\n"
          ]
        },
        {
          "metadata": {
            "tags": null
          },
          "name": "stderr",
          "output_type": "stream",
          "text": [
            "23001it [39:31,  8.45it/s]"
          ]
        },
        {
          "metadata": {
            "tags": null
          },
          "name": "stdout",
          "output_type": "stream",
          "text": [
            "| epoch   1 | 23000/32580 batches | loss    1.515 \n",
            "money: work, result, form, developed, found, god, considered, do, just, play\n",
            "lion: size, number, least, addition, pope, write, growth, below, length, prevent\n",
            "africa: europe, end, west, america, india, south, england, nine, east, united\n",
            "musician: singer, rome, london, famous, writer, actor, university, introduction, author, chief\n",
            "dance: country, music, world, town, five, u, actor, english, article, term\n",
            "\n",
            "\n"
          ]
        },
        {
          "metadata": {
            "tags": null
          },
          "name": "stderr",
          "output_type": "stream",
          "text": [
            "23501it [40:22,  7.89it/s]"
          ]
        },
        {
          "metadata": {
            "tags": null
          },
          "name": "stdout",
          "output_type": "stream",
          "text": [
            "| epoch   1 | 23500/32580 batches | loss    1.512 \n",
            "money: work, result, developed, form, god, do, play, found, just, considered\n",
            "lion: number, size, least, addition, pope, write, growth, below, length, cause\n",
            "africa: europe, end, west, america, india, south, england, nine, east, united\n",
            "musician: singer, london, rome, writer, actor, famous, university, zero, introduction, author\n",
            "dance: country, music, world, town, u, english, actor, five, term, source\n",
            "\n",
            "\n"
          ]
        },
        {
          "metadata": {
            "tags": null
          },
          "name": "stderr",
          "output_type": "stream",
          "text": [
            "24001it [41:14,  7.50it/s]"
          ]
        },
        {
          "metadata": {
            "tags": null
          },
          "name": "stdout",
          "output_type": "stream",
          "text": [
            "| epoch   1 | 24000/32580 batches | loss    1.505 \n",
            "money: work, result, developed, found, play, form, do, god, considered, just\n",
            "lion: number, size, least, addition, pope, write, growth, cause, prevent, below\n",
            "africa: europe, end, west, america, india, south, england, east, north, united\n",
            "musician: singer, writer, actor, rome, london, famous, university, author, composer, introduction\n",
            "dance: country, music, world, town, actor, term, english, u, source, popular\n",
            "\n",
            "\n"
          ]
        },
        {
          "metadata": {
            "tags": null
          },
          "name": "stderr",
          "output_type": "stream",
          "text": [
            "24501it [42:04,  8.95it/s]"
          ]
        },
        {
          "metadata": {
            "tags": null
          },
          "name": "stdout",
          "output_type": "stream",
          "text": [
            "| epoch   1 | 24500/32580 batches | loss    1.500 \n",
            "money: work, result, developed, form, found, god, even, play, do, considered\n",
            "lion: number, size, addition, least, write, pope, growth, cause, prevent, length\n",
            "africa: europe, end, west, america, india, england, south, east, north, united\n",
            "musician: singer, writer, actor, rome, london, famous, university, author, composer, introduction\n",
            "dance: country, music, world, town, actor, u, popular, five, term, time\n",
            "\n",
            "\n"
          ]
        },
        {
          "metadata": {
            "tags": null
          },
          "name": "stderr",
          "output_type": "stream",
          "text": [
            "25001it [42:56,  8.46it/s]"
          ]
        },
        {
          "metadata": {
            "tags": null
          },
          "name": "stdout",
          "output_type": "stream",
          "text": [
            "| epoch   1 | 25000/32580 batches | loss    1.496 \n",
            "money: work, result, developed, form, found, god, do, just, play, question\n",
            "lion: addition, size, number, least, write, growth, pope, prevent, cause, length\n",
            "africa: europe, end, west, america, india, south, england, east, united, germany\n",
            "musician: singer, writer, actor, london, rome, university, famous, composer, author, actress\n",
            "dance: country, music, world, town, actor, popular, five, term, u, french\n",
            "\n",
            "\n"
          ]
        },
        {
          "metadata": {
            "tags": null
          },
          "name": "stderr",
          "output_type": "stream",
          "text": [
            "25500it [43:47, 10.12it/s]"
          ]
        },
        {
          "metadata": {
            "tags": null
          },
          "name": "stdout",
          "output_type": "stream",
          "text": [
            "| epoch   1 | 25500/32580 batches | loss    1.487 \n",
            "money: work, result, god, form, developed, play, found, do, just, even\n",
            "lion: size, addition, least, number, write, pope, growth, prevent, say, length\n",
            "africa: europe, end, west, america, india, south, england, east, united, germany\n",
            "musician: singer, writer, actor, rome, london, university, famous, composer, author, introduction\n",
            "dance: country, music, world, town, popular, actor, term, u, applied, french\n",
            "\n",
            "\n"
          ]
        },
        {
          "metadata": {
            "tags": null
          },
          "name": "stderr",
          "output_type": "stream",
          "text": [
            "26001it [44:39,  8.42it/s]"
          ]
        },
        {
          "metadata": {
            "tags": null
          },
          "name": "stdout",
          "output_type": "stream",
          "text": [
            "| epoch   1 | 26000/32580 batches | loss    1.481 \n",
            "money: work, result, developed, form, do, play, found, considered, just, even\n",
            "lion: addition, size, write, least, number, pope, growth, length, prevent, say\n",
            "africa: europe, end, west, america, india, south, east, england, germany, north\n",
            "musician: singer, writer, actor, rome, london, famous, composer, university, author, actress\n",
            "dance: country, music, world, town, popular, actor, term, french, applied, u\n",
            "\n",
            "\n"
          ]
        },
        {
          "metadata": {
            "tags": null
          },
          "name": "stderr",
          "output_type": "stream",
          "text": [
            "26501it [45:29,  9.05it/s]"
          ]
        },
        {
          "metadata": {
            "tags": null
          },
          "name": "stdout",
          "output_type": "stream",
          "text": [
            "| epoch   1 | 26500/32580 batches | loss    1.480 \n",
            "money: work, result, developed, do, form, considered, found, question, play, just\n",
            "lion: addition, size, least, number, write, pope, growth, length, say, cause\n",
            "africa: europe, west, america, end, india, south, england, east, germany, united\n",
            "musician: singer, writer, actor, rome, famous, london, composer, author, actress, university\n",
            "dance: country, music, popular, town, world, actor, applied, term, french, considered\n",
            "\n",
            "\n"
          ]
        },
        {
          "metadata": {
            "tags": null
          },
          "name": "stderr",
          "output_type": "stream",
          "text": [
            "27001it [46:21,  8.81it/s]"
          ]
        },
        {
          "metadata": {
            "tags": null
          },
          "name": "stdout",
          "output_type": "stream",
          "text": [
            "| epoch   1 | 27000/32580 batches | loss    1.471 \n",
            "money: work, result, developed, do, god, just, question, form, considered, play\n",
            "lion: addition, size, write, least, growth, number, pope, length, cause, say\n",
            "africa: europe, west, america, end, india, england, east, south, germany, united\n",
            "musician: singer, writer, actor, rome, famous, london, composer, author, introduction, actress\n",
            "dance: country, music, town, world, popular, actor, applied, english, french, culture\n",
            "\n",
            "\n"
          ]
        },
        {
          "metadata": {
            "tags": null
          },
          "name": "stderr",
          "output_type": "stream",
          "text": [
            "27501it [47:13,  8.90it/s]"
          ]
        },
        {
          "metadata": {
            "tags": null
          },
          "name": "stdout",
          "output_type": "stream",
          "text": [
            "| epoch   1 | 27500/32580 batches | loss    1.470 \n",
            "money: work, result, do, developed, just, question, form, god, considered, idea\n",
            "lion: addition, write, least, size, number, growth, length, cause, pope, say\n",
            "africa: europe, america, west, end, india, england, east, germany, south, united\n",
            "musician: singer, writer, actor, rome, composer, famous, london, author, actress, university\n",
            "dance: country, music, town, world, popular, applied, actor, traditional, term, considered\n",
            "\n",
            "\n"
          ]
        },
        {
          "metadata": {
            "tags": null
          },
          "name": "stderr",
          "output_type": "stream",
          "text": [
            "28000it [48:04, 10.16it/s]"
          ]
        },
        {
          "metadata": {
            "tags": null
          },
          "name": "stdout",
          "output_type": "stream",
          "text": [
            "| epoch   1 | 28000/32580 batches | loss    1.463 \n",
            "money: work, result, just, developed, god, do, question, idea, form, addition\n",
            "lion: addition, least, write, number, size, growth, pope, cause, say, length\n",
            "africa: europe, america, end, west, india, england, east, germany, south, united\n",
            "musician: singer, writer, actor, composer, rome, famous, london, author, actress, poet\n",
            "dance: country, music, town, actor, world, popular, applied, traditional, considered, french\n",
            "\n",
            "\n"
          ]
        },
        {
          "metadata": {
            "tags": null
          },
          "name": "stderr",
          "output_type": "stream",
          "text": [
            "28501it [48:56,  8.15it/s]"
          ]
        },
        {
          "metadata": {
            "tags": null
          },
          "name": "stdout",
          "output_type": "stream",
          "text": [
            "| epoch   1 | 28500/32580 batches | loss    1.455 \n",
            "money: work, result, just, do, developed, god, question, idea, considered, even\n",
            "lion: addition, least, write, number, growth, pope, size, length, cause, say\n",
            "africa: europe, america, end, west, india, england, east, germany, south, united\n",
            "musician: singer, writer, actor, composer, rome, author, famous, actress, london, poet\n",
            "dance: country, music, town, world, popular, traditional, actor, applied, french, considered\n",
            "\n",
            "\n"
          ]
        },
        {
          "metadata": {
            "tags": null
          },
          "name": "stderr",
          "output_type": "stream",
          "text": [
            "29000it [49:47, 10.06it/s]"
          ]
        },
        {
          "metadata": {
            "tags": null
          },
          "name": "stdout",
          "output_type": "stream",
          "text": [
            "| epoch   1 | 29000/32580 batches | loss    1.447 \n",
            "money: work, result, just, do, developed, question, even, idea, god, considered\n",
            "lion: addition, least, write, number, pope, size, growth, cause, length, say\n",
            "africa: europe, america, india, west, end, england, germany, east, nine, united\n",
            "musician: singer, writer, actor, composer, rome, actress, author, famous, poet, london\n",
            "dance: country, music, town, traditional, popular, actor, world, applied, french, considered\n",
            "\n",
            "\n"
          ]
        },
        {
          "metadata": {
            "tags": null
          },
          "name": "stderr",
          "output_type": "stream",
          "text": [
            "29501it [50:39,  8.38it/s]"
          ]
        },
        {
          "metadata": {
            "tags": null
          },
          "name": "stdout",
          "output_type": "stream",
          "text": [
            "| epoch   1 | 29500/32580 batches | loss    1.440 \n",
            "money: work, result, just, do, even, god, question, it, idea, considered\n",
            "lion: addition, write, least, growth, pope, number, size, cause, length, say\n",
            "africa: europe, america, india, end, west, england, germany, east, south, nine\n",
            "musician: singer, writer, actor, composer, actress, rome, author, poet, famous, london\n",
            "dance: music, country, town, traditional, popular, actor, applied, world, considered, term\n",
            "\n",
            "\n"
          ]
        },
        {
          "metadata": {
            "tags": null
          },
          "name": "stderr",
          "output_type": "stream",
          "text": [
            "30001it [51:30,  7.56it/s]"
          ]
        },
        {
          "metadata": {
            "tags": null
          },
          "name": "stdout",
          "output_type": "stream",
          "text": [
            "| epoch   1 | 30000/32580 batches | loss    1.441 \n",
            "money: work, result, just, even, god, do, question, idea, developed, considered\n",
            "lion: addition, least, write, pope, growth, number, length, size, say, cause\n",
            "africa: europe, america, india, end, west, england, germany, east, south, china\n",
            "musician: singer, writer, actor, composer, author, actress, poet, rome, famous, london\n",
            "dance: country, music, traditional, town, popular, actor, applied, world, business, considered\n",
            "\n",
            "\n"
          ]
        },
        {
          "metadata": {
            "tags": null
          },
          "name": "stderr",
          "output_type": "stream",
          "text": [
            "30501it [52:21,  7.96it/s]"
          ]
        },
        {
          "metadata": {
            "tags": null
          },
          "name": "stdout",
          "output_type": "stream",
          "text": [
            "| epoch   1 | 30500/32580 batches | loss    1.435 \n",
            "money: work, result, just, even, do, question, idea, god, considered, possible\n",
            "lion: addition, least, write, pope, length, growth, cause, size, say, number\n",
            "africa: europe, america, india, end, west, england, germany, east, south, china\n",
            "musician: singer, writer, actor, composer, actress, author, poet, rome, famous, london\n",
            "dance: country, music, traditional, popular, town, actor, applied, world, business, considered\n",
            "\n",
            "\n"
          ]
        },
        {
          "metadata": {
            "tags": null
          },
          "name": "stderr",
          "output_type": "stream",
          "text": [
            "31001it [53:12,  8.18it/s]"
          ]
        },
        {
          "metadata": {
            "tags": null
          },
          "name": "stdout",
          "output_type": "stream",
          "text": [
            "| epoch   1 | 31000/32580 batches | loss    1.432 \n",
            "money: work, result, even, question, just, do, idea, god, considered, possible\n",
            "lion: addition, least, write, pope, growth, size, cause, length, say, number\n",
            "africa: europe, america, india, end, england, west, germany, east, south, china\n",
            "musician: singer, writer, actor, composer, actress, poet, author, rome, famous, zero\n",
            "dance: country, music, traditional, popular, town, actor, business, applied, world, considered\n",
            "\n",
            "\n"
          ]
        },
        {
          "metadata": {
            "tags": null
          },
          "name": "stderr",
          "output_type": "stream",
          "text": [
            "31501it [54:03,  7.81it/s]"
          ]
        },
        {
          "metadata": {
            "tags": null
          },
          "name": "stdout",
          "output_type": "stream",
          "text": [
            "| epoch   1 | 31500/32580 batches | loss    1.425 \n",
            "money: work, result, even, just, question, do, idea, god, considered, possible\n",
            "lion: addition, least, write, growth, size, pope, say, number, cause, length\n",
            "africa: europe, america, india, england, west, end, germany, east, south, asia\n",
            "musician: singer, writer, actor, composer, actress, poet, author, famous, rome, politician\n",
            "dance: country, music, traditional, popular, town, actor, world, business, applied, culture\n",
            "\n",
            "\n"
          ]
        },
        {
          "metadata": {
            "tags": null
          },
          "name": "stderr",
          "output_type": "stream",
          "text": [
            "32001it [54:53,  9.01it/s]"
          ]
        },
        {
          "metadata": {
            "tags": null
          },
          "name": "stdout",
          "output_type": "stream",
          "text": [
            "| epoch   1 | 32000/32580 batches | loss    1.428 \n",
            "money: work, even, result, question, just, god, idea, do, possible, considered\n",
            "lion: addition, least, write, pope, say, growth, length, size, cause, prevent\n",
            "africa: europe, america, india, england, west, germany, end, east, south, asia\n",
            "musician: singer, writer, actor, composer, actress, poet, author, famous, rome, politician\n",
            "dance: country, music, traditional, actor, town, popular, culture, business, jewish, world\n",
            "\n",
            "\n"
          ]
        },
        {
          "metadata": {
            "tags": null
          },
          "name": "stderr",
          "output_type": "stream",
          "text": [
            "32501it [55:44,  8.74it/s]"
          ]
        },
        {
          "metadata": {
            "tags": null
          },
          "name": "stdout",
          "output_type": "stream",
          "text": [
            "| epoch   1 | 32500/32580 batches | loss    1.412 \n",
            "money: work, even, result, question, just, god, do, idea, form, possible\n",
            "lion: addition, write, least, say, pope, length, growth, prevent, size, cause\n",
            "africa: europe, america, india, england, germany, west, end, east, south, asia\n",
            "musician: singer, writer, actor, composer, actress, poet, author, politician, rome, famous\n",
            "dance: country, music, traditional, actor, popular, town, culture, business, jewish, applied\n",
            "\n",
            "\n"
          ]
        },
        {
          "metadata": {
            "tags": null
          },
          "name": "stderr",
          "output_type": "stream",
          "text": [
            "32580it [55:54,  9.71it/s]\n",
            "1it [00:02,  2.15s/it]"
          ]
        },
        {
          "metadata": {
            "tags": null
          },
          "name": "stdout",
          "output_type": "stream",
          "text": [
            "| epoch   2 |     0/32580 batches | loss    1.243 \n",
            "money: work, even, result, question, just, god, do, idea, form, possible\n",
            "lion: addition, write, least, say, pope, length, growth, prevent, size, cause\n",
            "africa: europe, america, india, england, germany, west, end, east, south, asia\n",
            "musician: singer, writer, actor, composer, actress, poet, author, politician, rome, famous\n",
            "dance: country, music, traditional, actor, town, popular, culture, business, applied, considered\n",
            "\n",
            "\n"
          ]
        },
        {
          "metadata": {
            "tags": null
          },
          "name": "stderr",
          "output_type": "stream",
          "text": [
            "500it [00:52, 10.02it/s]"
          ]
        },
        {
          "metadata": {
            "tags": null
          },
          "name": "stdout",
          "output_type": "stream",
          "text": [
            "| epoch   2 |   500/32580 batches | loss    1.375 \n",
            "money: work, even, result, question, just, god, do, idea, form, possible\n",
            "lion: addition, write, least, say, pope, length, growth, prevent, size, cause\n",
            "africa: europe, america, india, england, germany, west, end, east, south, asia\n",
            "musician: singer, writer, actor, composer, actress, poet, author, politician, rome, famous\n",
            "dance: country, music, traditional, actor, town, popular, culture, business, applied, considered\n",
            "\n",
            "\n"
          ]
        },
        {
          "metadata": {
            "tags": null
          },
          "name": "stderr",
          "output_type": "stream",
          "text": [
            "1001it [01:43,  7.47it/s]"
          ]
        },
        {
          "metadata": {
            "tags": null
          },
          "name": "stdout",
          "output_type": "stream",
          "text": [
            "| epoch   2 |  1000/32580 batches | loss    1.367 \n",
            "money: work, even, result, question, just, god, do, idea, form, possible\n",
            "lion: addition, write, least, say, pope, length, growth, prevent, size, cause\n",
            "africa: europe, america, india, england, germany, west, end, east, asia, south\n",
            "musician: singer, writer, actor, composer, actress, poet, author, politician, rome, famous\n",
            "dance: country, music, traditional, actor, town, popular, culture, business, applied, considered\n",
            "\n",
            "\n"
          ]
        },
        {
          "metadata": {
            "tags": null
          },
          "name": "stderr",
          "output_type": "stream",
          "text": [
            "1501it [02:34,  7.54it/s]"
          ]
        },
        {
          "metadata": {
            "tags": null
          },
          "name": "stdout",
          "output_type": "stream",
          "text": [
            "| epoch   2 |  1500/32580 batches | loss    1.373 \n",
            "money: work, even, result, question, just, god, do, idea, form, possible\n",
            "lion: addition, write, least, say, pope, length, growth, prevent, size, cause\n",
            "africa: europe, america, india, england, germany, west, end, east, asia, ireland\n",
            "musician: singer, writer, actor, composer, actress, poet, author, politician, rome, famous\n",
            "dance: country, music, traditional, actor, town, popular, culture, business, applied, considered\n",
            "\n",
            "\n"
          ]
        },
        {
          "metadata": {
            "tags": null
          },
          "name": "stderr",
          "output_type": "stream",
          "text": [
            "2001it [03:30,  8.81it/s]"
          ]
        },
        {
          "metadata": {
            "tags": null
          },
          "name": "stdout",
          "output_type": "stream",
          "text": [
            "| epoch   2 |  2000/32580 batches | loss    1.367 \n",
            "money: work, even, result, question, just, god, do, idea, form, possible\n",
            "lion: addition, write, least, say, pope, length, growth, prevent, size, cause\n",
            "africa: europe, america, india, england, germany, west, end, east, asia, ireland\n",
            "musician: singer, writer, actor, composer, actress, poet, author, politician, rome, famous\n",
            "dance: country, music, traditional, actor, town, popular, culture, business, applied, considered\n",
            "\n",
            "\n"
          ]
        },
        {
          "metadata": {
            "tags": null
          },
          "name": "stderr",
          "output_type": "stream",
          "text": [
            "2500it [04:22, 10.17it/s]"
          ]
        },
        {
          "metadata": {
            "tags": null
          },
          "name": "stdout",
          "output_type": "stream",
          "text": [
            "| epoch   2 |  2500/32580 batches | loss    1.367 \n",
            "money: work, even, result, question, just, god, do, idea, form, possible\n",
            "lion: addition, write, least, say, pope, length, growth, prevent, size, cause\n",
            "africa: europe, america, india, england, germany, west, end, east, asia, ireland\n",
            "musician: singer, writer, actor, composer, actress, poet, author, politician, rome, famous\n",
            "dance: country, music, traditional, actor, town, popular, culture, business, applied, considered\n",
            "\n",
            "\n"
          ]
        },
        {
          "metadata": {
            "tags": null
          },
          "name": "stderr",
          "output_type": "stream",
          "text": [
            "3001it [05:14,  8.99it/s]"
          ]
        },
        {
          "metadata": {
            "tags": null
          },
          "name": "stdout",
          "output_type": "stream",
          "text": [
            "| epoch   2 |  3000/32580 batches | loss    1.366 \n",
            "money: work, even, result, question, just, do, god, idea, possible, form\n",
            "lion: addition, write, least, say, pope, length, growth, prevent, size, cause\n",
            "africa: europe, america, india, england, germany, west, end, east, asia, ireland\n",
            "musician: singer, writer, actor, composer, actress, poet, author, politician, rome, famous\n",
            "dance: country, music, traditional, actor, town, popular, culture, business, applied, beginning\n",
            "\n",
            "\n"
          ]
        },
        {
          "metadata": {
            "tags": null
          },
          "name": "stderr",
          "output_type": "stream",
          "text": [
            "3501it [06:05,  8.90it/s]"
          ]
        },
        {
          "metadata": {
            "tags": null
          },
          "name": "stdout",
          "output_type": "stream",
          "text": [
            "| epoch   2 |  3500/32580 batches | loss    1.363 \n",
            "money: work, even, result, question, just, do, god, idea, possible, form\n",
            "lion: addition, write, least, say, pope, length, growth, prevent, size, cause\n",
            "africa: europe, america, india, england, germany, west, end, east, asia, ireland\n",
            "musician: singer, writer, actor, composer, actress, poet, author, politician, rome, famous\n",
            "dance: country, music, traditional, actor, popular, town, culture, business, applied, singer\n",
            "\n",
            "\n"
          ]
        },
        {
          "metadata": {
            "tags": null
          },
          "name": "stderr",
          "output_type": "stream",
          "text": [
            "4001it [06:57,  8.60it/s]"
          ]
        },
        {
          "metadata": {
            "tags": null
          },
          "name": "stdout",
          "output_type": "stream",
          "text": [
            "| epoch   2 |  4000/32580 batches | loss    1.367 \n",
            "money: work, even, result, question, just, do, god, idea, possible, form\n",
            "lion: addition, write, least, say, pope, length, growth, prevent, size, cause\n",
            "africa: europe, america, india, england, germany, west, end, east, asia, ireland\n",
            "musician: singer, writer, actor, composer, actress, poet, author, politician, rome, famous\n",
            "dance: country, music, traditional, actor, popular, town, culture, business, applied, singer\n",
            "\n",
            "\n"
          ]
        },
        {
          "metadata": {
            "tags": null
          },
          "name": "stderr",
          "output_type": "stream",
          "text": [
            "4501it [07:47,  9.13it/s]"
          ]
        },
        {
          "metadata": {
            "tags": null
          },
          "name": "stdout",
          "output_type": "stream",
          "text": [
            "| epoch   2 |  4500/32580 batches | loss    1.366 \n",
            "money: work, even, result, question, just, do, god, idea, possible, know\n",
            "lion: addition, write, least, say, pope, length, growth, prevent, size, cause\n",
            "africa: europe, america, india, england, germany, west, end, east, asia, ireland\n",
            "musician: singer, writer, actor, composer, actress, poet, author, politician, rome, famous\n",
            "dance: country, music, traditional, actor, popular, town, culture, business, applied, singer\n",
            "\n",
            "\n"
          ]
        },
        {
          "metadata": {
            "tags": null
          },
          "name": "stderr",
          "output_type": "stream",
          "text": [
            "5001it [08:38,  9.13it/s]"
          ]
        },
        {
          "metadata": {
            "tags": null
          },
          "name": "stdout",
          "output_type": "stream",
          "text": [
            "| epoch   2 |  5000/32580 batches | loss    1.365 \n",
            "money: work, even, result, question, just, do, god, idea, possible, know\n",
            "lion: addition, write, least, say, pope, length, growth, prevent, size, cause\n",
            "africa: europe, america, india, england, germany, west, end, east, asia, ireland\n",
            "musician: singer, writer, actor, composer, actress, poet, author, politician, rome, famous\n",
            "dance: country, music, traditional, actor, popular, town, culture, business, applied, singer\n",
            "\n",
            "\n"
          ]
        },
        {
          "metadata": {
            "tags": null
          },
          "name": "stderr",
          "output_type": "stream",
          "text": [
            "5501it [09:30,  7.92it/s]"
          ]
        },
        {
          "metadata": {
            "tags": null
          },
          "name": "stdout",
          "output_type": "stream",
          "text": [
            "| epoch   2 |  5500/32580 batches | loss    1.363 \n",
            "money: work, even, result, question, just, do, god, idea, possible, know\n",
            "lion: addition, write, least, say, pope, length, growth, size, prevent, cause\n",
            "africa: europe, america, india, england, germany, west, end, east, ireland, asia\n",
            "musician: singer, writer, actor, composer, actress, poet, author, politician, rome, famous\n",
            "dance: country, music, traditional, actor, popular, town, culture, business, applied, beginning\n",
            "\n",
            "\n"
          ]
        },
        {
          "metadata": {
            "tags": null
          },
          "name": "stderr",
          "output_type": "stream",
          "text": [
            "6001it [10:21,  8.37it/s]"
          ]
        },
        {
          "metadata": {
            "tags": null
          },
          "name": "stdout",
          "output_type": "stream",
          "text": [
            "| epoch   2 |  6000/32580 batches | loss    1.363 \n",
            "money: work, even, result, question, just, do, god, idea, possible, know\n",
            "lion: addition, write, least, say, pope, length, growth, size, prevent, cause\n",
            "africa: europe, america, india, england, germany, west, end, east, ireland, asia\n",
            "musician: singer, writer, actor, composer, actress, poet, author, politician, rome, famous\n",
            "dance: country, music, traditional, actor, popular, town, culture, business, applied, singer\n",
            "\n",
            "\n"
          ]
        },
        {
          "metadata": {
            "tags": null
          },
          "name": "stderr",
          "output_type": "stream",
          "text": [
            "6501it [11:11,  8.86it/s]"
          ]
        },
        {
          "metadata": {
            "tags": null
          },
          "name": "stdout",
          "output_type": "stream",
          "text": [
            "| epoch   2 |  6500/32580 batches | loss    1.364 \n",
            "money: work, even, result, question, just, do, god, idea, possible, know\n",
            "lion: addition, write, least, say, pope, length, growth, prevent, size, cause\n",
            "africa: europe, america, india, england, germany, west, end, east, asia, ireland\n",
            "musician: singer, writer, actor, composer, actress, poet, author, politician, rome, famous\n",
            "dance: country, music, traditional, actor, popular, town, culture, business, applied, beginning\n",
            "\n",
            "\n"
          ]
        },
        {
          "output_type": "stream",
          "name": "stderr",
          "text": [
            "7001it [12:03,  7.88it/s]"
          ]
        },
        {
          "output_type": "stream",
          "name": "stdout",
          "text": [
            "| epoch   2 |  7000/32580 batches | loss    1.364 \n",
            "money: work, even, result, question, just, do, god, idea, possible, know\n",
            "lion: addition, write, least, say, pope, length, growth, prevent, size, cause\n",
            "africa: europe, america, india, england, germany, west, east, end, asia, ireland\n",
            "musician: singer, writer, actor, composer, actress, poet, author, politician, rome, famous\n",
            "dance: country, music, traditional, actor, popular, town, culture, business, applied, beginning\n",
            "\n",
            "\n"
          ]
        },
        {
          "output_type": "stream",
          "name": "stderr",
          "text": [
            "7501it [12:56,  7.85it/s]"
          ]
        },
        {
          "output_type": "stream",
          "name": "stdout",
          "text": [
            "| epoch   2 |  7500/32580 batches | loss    1.362 \n",
            "money: work, even, result, question, just, do, god, idea, possible, know\n",
            "lion: addition, write, least, say, pope, length, growth, prevent, size, cause\n",
            "africa: europe, america, india, england, germany, west, east, end, asia, ireland\n",
            "musician: singer, writer, actor, composer, actress, poet, author, politician, rome, famous\n",
            "dance: country, music, traditional, actor, popular, town, culture, business, applied, beginning\n",
            "\n",
            "\n"
          ]
        },
        {
          "output_type": "stream",
          "name": "stderr",
          "text": [
            "8001it [13:49,  7.49it/s]"
          ]
        },
        {
          "output_type": "stream",
          "name": "stdout",
          "text": [
            "| epoch   2 |  8000/32580 batches | loss    1.360 \n",
            "money: work, even, result, question, just, do, god, idea, possible, it\n",
            "lion: addition, write, least, say, pope, length, growth, prevent, size, cause\n",
            "africa: europe, america, india, england, germany, west, east, end, asia, ireland\n",
            "musician: singer, writer, actor, composer, actress, poet, author, politician, rome, famous\n",
            "dance: country, music, traditional, actor, popular, town, culture, business, applied, singer\n",
            "\n",
            "\n"
          ]
        },
        {
          "output_type": "stream",
          "name": "stderr",
          "text": [
            "8501it [14:43,  7.85it/s]"
          ]
        },
        {
          "output_type": "stream",
          "name": "stdout",
          "text": [
            "| epoch   2 |  8500/32580 batches | loss    1.361 \n",
            "money: work, even, result, question, just, do, god, idea, possible, it\n",
            "lion: addition, write, least, say, pope, length, growth, prevent, size, cause\n",
            "africa: europe, america, india, england, germany, west, east, end, asia, ireland\n",
            "musician: singer, writer, actor, composer, actress, poet, author, politician, rome, famous\n",
            "dance: country, music, traditional, actor, popular, town, culture, business, applied, singer\n",
            "\n",
            "\n"
          ]
        },
        {
          "output_type": "stream",
          "name": "stderr",
          "text": [
            "9001it [15:36,  7.89it/s]"
          ]
        },
        {
          "output_type": "stream",
          "name": "stdout",
          "text": [
            "| epoch   2 |  9000/32580 batches | loss    1.361 \n",
            "money: work, even, result, question, just, do, god, idea, it, possible\n",
            "lion: addition, write, least, say, pope, length, growth, prevent, size, cause\n",
            "africa: europe, america, india, england, germany, west, east, end, asia, ireland\n",
            "musician: singer, writer, actor, composer, actress, poet, author, politician, rome, famous\n",
            "dance: country, music, traditional, actor, popular, town, culture, business, applied, beginning\n",
            "\n",
            "\n"
          ]
        },
        {
          "output_type": "stream",
          "name": "stderr",
          "text": [
            "9501it [16:29,  7.62it/s]"
          ]
        },
        {
          "output_type": "stream",
          "name": "stdout",
          "text": [
            "| epoch   2 |  9500/32580 batches | loss    1.360 \n",
            "money: work, even, result, question, just, do, god, idea, possible, it\n",
            "lion: addition, write, least, say, pope, length, growth, prevent, size, cause\n",
            "africa: europe, america, india, england, germany, west, east, end, asia, ireland\n",
            "musician: singer, writer, actor, composer, actress, poet, author, politician, rome, famous\n",
            "dance: country, music, traditional, actor, popular, town, culture, business, applied, beginning\n",
            "\n",
            "\n"
          ]
        },
        {
          "output_type": "stream",
          "name": "stderr",
          "text": [
            "10001it [17:22,  7.73it/s]"
          ]
        },
        {
          "output_type": "stream",
          "name": "stdout",
          "text": [
            "| epoch   2 | 10000/32580 batches | loss    1.361 \n",
            "money: work, even, result, question, just, do, god, idea, possible, it\n",
            "lion: addition, write, least, say, pope, length, growth, prevent, size, cause\n",
            "africa: europe, america, india, england, germany, west, east, end, asia, ireland\n",
            "musician: singer, writer, actor, composer, actress, poet, author, politician, rome, famous\n",
            "dance: country, music, traditional, actor, popular, town, culture, business, applied, singer\n",
            "\n",
            "\n"
          ]
        },
        {
          "output_type": "stream",
          "name": "stderr",
          "text": [
            "10501it [18:15,  7.93it/s]"
          ]
        },
        {
          "output_type": "stream",
          "name": "stdout",
          "text": [
            "| epoch   2 | 10500/32580 batches | loss    1.358 \n",
            "money: work, even, result, question, just, do, god, idea, possible, it\n",
            "lion: addition, write, least, say, pope, length, growth, prevent, size, cause\n",
            "africa: europe, america, india, england, germany, west, east, end, asia, ireland\n",
            "musician: singer, writer, actor, composer, actress, poet, author, politician, rome, famous\n",
            "dance: country, music, traditional, actor, popular, town, culture, business, applied, singer\n",
            "\n",
            "\n"
          ]
        },
        {
          "output_type": "stream",
          "name": "stderr",
          "text": [
            "11001it [19:08,  7.87it/s]"
          ]
        },
        {
          "output_type": "stream",
          "name": "stdout",
          "text": [
            "| epoch   2 | 11000/32580 batches | loss    1.355 \n",
            "money: work, even, result, question, just, do, god, idea, possible, it\n",
            "lion: addition, write, least, say, pope, length, growth, prevent, size, cause\n",
            "africa: europe, america, india, england, germany, west, east, end, asia, ireland\n",
            "musician: singer, writer, actor, composer, actress, poet, author, politician, rome, famous\n",
            "dance: country, music, traditional, actor, popular, town, culture, business, applied, singer\n",
            "\n",
            "\n"
          ]
        },
        {
          "output_type": "stream",
          "name": "stderr",
          "text": [
            "11501it [20:00,  7.98it/s]"
          ]
        },
        {
          "output_type": "stream",
          "name": "stdout",
          "text": [
            "| epoch   2 | 11500/32580 batches | loss    1.359 \n",
            "money: work, even, result, question, just, do, god, idea, it, possible\n",
            "lion: addition, write, least, say, pope, length, growth, prevent, size, cause\n",
            "africa: europe, america, india, england, germany, west, east, end, asia, ireland\n",
            "musician: singer, writer, actor, composer, actress, poet, author, politician, rome, famous\n",
            "dance: country, music, traditional, actor, popular, town, culture, business, applied, singer\n",
            "\n",
            "\n"
          ]
        },
        {
          "output_type": "stream",
          "name": "stderr",
          "text": [
            "12001it [20:52,  7.24it/s]"
          ]
        },
        {
          "output_type": "stream",
          "name": "stdout",
          "text": [
            "| epoch   2 | 12000/32580 batches | loss    1.358 \n",
            "money: work, even, result, question, just, do, god, idea, it, possible\n",
            "lion: addition, write, least, say, pope, length, growth, prevent, size, cause\n",
            "africa: europe, america, india, england, germany, west, east, end, asia, ireland\n",
            "musician: singer, writer, actor, composer, actress, poet, author, politician, rome, famous\n",
            "dance: country, music, traditional, actor, popular, town, culture, business, applied, singer\n",
            "\n",
            "\n"
          ]
        },
        {
          "output_type": "stream",
          "name": "stderr",
          "text": [
            "12501it [21:45,  7.29it/s]"
          ]
        },
        {
          "output_type": "stream",
          "name": "stdout",
          "text": [
            "| epoch   2 | 12500/32580 batches | loss    1.358 \n",
            "money: work, even, result, question, just, do, god, idea, it, possible\n",
            "lion: addition, write, least, say, pope, length, growth, prevent, size, cause\n",
            "africa: europe, america, india, england, germany, west, east, end, asia, ireland\n",
            "musician: singer, writer, actor, composer, actress, poet, author, politician, rome, famous\n",
            "dance: country, music, traditional, actor, popular, town, culture, business, applied, beginning\n",
            "\n",
            "\n"
          ]
        },
        {
          "output_type": "stream",
          "name": "stderr",
          "text": [
            "13001it [22:38,  7.63it/s]"
          ]
        },
        {
          "output_type": "stream",
          "name": "stdout",
          "text": [
            "| epoch   2 | 13000/32580 batches | loss    1.360 \n",
            "money: work, even, result, question, just, do, god, idea, it, possible\n",
            "lion: addition, write, least, say, pope, length, growth, prevent, size, cause\n",
            "africa: europe, america, india, england, germany, west, east, end, asia, ireland\n",
            "musician: singer, writer, actor, composer, actress, poet, author, politician, rome, famous\n",
            "dance: country, music, traditional, actor, popular, town, culture, business, applied, beginning\n",
            "\n",
            "\n"
          ]
        },
        {
          "output_type": "stream",
          "name": "stderr",
          "text": [
            "13501it [23:31,  7.77it/s]"
          ]
        },
        {
          "output_type": "stream",
          "name": "stdout",
          "text": [
            "| epoch   2 | 13500/32580 batches | loss    1.359 \n",
            "money: work, even, result, question, just, do, god, idea, it, possible\n",
            "lion: addition, write, least, say, pope, length, growth, prevent, size, cause\n",
            "africa: europe, america, india, england, germany, west, east, end, asia, ireland\n",
            "musician: singer, writer, actor, composer, actress, poet, author, politician, rome, famous\n",
            "dance: country, music, traditional, actor, popular, culture, town, business, applied, beginning\n",
            "\n",
            "\n"
          ]
        },
        {
          "output_type": "stream",
          "name": "stderr",
          "text": [
            "14001it [24:23,  7.74it/s]"
          ]
        },
        {
          "output_type": "stream",
          "name": "stdout",
          "text": [
            "| epoch   2 | 14000/32580 batches | loss    1.358 \n",
            "money: work, even, result, question, just, god, do, idea, it, possible\n",
            "lion: addition, write, least, say, pope, length, growth, prevent, size, cause\n",
            "africa: europe, america, india, england, germany, west, east, end, asia, ireland\n",
            "musician: singer, writer, actor, composer, actress, poet, author, politician, rome, famous\n",
            "dance: country, music, traditional, actor, popular, culture, town, business, applied, beginning\n",
            "\n",
            "\n"
          ]
        },
        {
          "output_type": "stream",
          "name": "stderr",
          "text": [
            "14501it [25:15,  7.79it/s]"
          ]
        },
        {
          "output_type": "stream",
          "name": "stdout",
          "text": [
            "| epoch   2 | 14500/32580 batches | loss    1.357 \n",
            "money: work, even, result, question, just, god, do, idea, it, possible\n",
            "lion: addition, write, least, say, pope, length, growth, prevent, size, opposed\n",
            "africa: europe, america, india, england, germany, west, east, end, asia, ireland\n",
            "musician: singer, writer, actor, composer, actress, poet, author, politician, rome, famous\n",
            "dance: country, music, traditional, actor, popular, culture, town, business, applied, beginning\n",
            "\n",
            "\n"
          ]
        },
        {
          "output_type": "stream",
          "name": "stderr",
          "text": [
            "15001it [26:08,  7.28it/s]"
          ]
        },
        {
          "output_type": "stream",
          "name": "stdout",
          "text": [
            "| epoch   2 | 15000/32580 batches | loss    1.355 \n",
            "money: work, even, result, question, just, god, do, idea, it, possible\n",
            "lion: addition, write, least, say, pope, length, growth, prevent, size, opposed\n",
            "africa: europe, america, india, england, germany, west, east, asia, end, ireland\n",
            "musician: singer, writer, actor, composer, actress, poet, author, politician, rome, famous\n",
            "dance: country, music, traditional, actor, popular, culture, town, business, applied, beginning\n",
            "\n",
            "\n"
          ]
        },
        {
          "output_type": "stream",
          "name": "stderr",
          "text": [
            "15501it [27:01,  7.57it/s]"
          ]
        },
        {
          "output_type": "stream",
          "name": "stdout",
          "text": [
            "| epoch   2 | 15500/32580 batches | loss    1.359 \n",
            "money: work, even, result, question, just, god, do, idea, possible, it\n",
            "lion: addition, write, least, say, pope, length, growth, prevent, size, opposed\n",
            "africa: europe, america, india, england, germany, west, east, asia, end, ireland\n",
            "musician: singer, writer, actor, composer, actress, poet, author, politician, rome, famous\n",
            "dance: country, music, traditional, actor, popular, culture, town, business, applied, beginning\n",
            "\n",
            "\n"
          ]
        },
        {
          "output_type": "stream",
          "name": "stderr",
          "text": [
            "16001it [27:54,  7.46it/s]"
          ]
        },
        {
          "output_type": "stream",
          "name": "stdout",
          "text": [
            "| epoch   2 | 16000/32580 batches | loss    1.358 \n",
            "money: work, even, result, question, just, god, do, idea, it, possible\n",
            "lion: addition, write, least, say, pope, length, growth, prevent, size, cause\n",
            "africa: europe, america, india, england, germany, west, east, asia, end, ireland\n",
            "musician: singer, writer, actor, composer, actress, poet, author, politician, rome, famous\n",
            "dance: country, music, traditional, actor, popular, culture, town, business, applied, beginning\n",
            "\n",
            "\n"
          ]
        },
        {
          "output_type": "stream",
          "name": "stderr",
          "text": [
            "16501it [28:47,  7.93it/s]"
          ]
        },
        {
          "output_type": "stream",
          "name": "stdout",
          "text": [
            "| epoch   2 | 16500/32580 batches | loss    1.354 \n",
            "money: work, even, result, question, just, god, do, idea, possible, it\n",
            "lion: addition, write, least, say, pope, length, growth, prevent, size, cause\n",
            "africa: europe, america, india, england, germany, west, east, asia, end, ireland\n",
            "musician: singer, writer, actor, composer, actress, poet, author, politician, rome, famous\n",
            "dance: country, music, traditional, actor, popular, culture, town, business, applied, beginning\n",
            "\n",
            "\n"
          ]
        },
        {
          "output_type": "stream",
          "name": "stderr",
          "text": [
            "17001it [29:38,  7.53it/s]"
          ]
        },
        {
          "output_type": "stream",
          "name": "stdout",
          "text": [
            "| epoch   2 | 17000/32580 batches | loss    1.354 \n",
            "money: work, even, result, question, just, god, do, idea, possible, it\n",
            "lion: addition, write, least, say, length, pope, growth, prevent, size, cause\n",
            "africa: europe, america, india, england, germany, west, east, asia, ireland, end\n",
            "musician: singer, writer, actor, composer, actress, poet, author, politician, rome, famous\n",
            "dance: country, music, traditional, actor, popular, culture, town, business, applied, beginning\n",
            "\n",
            "\n"
          ]
        },
        {
          "output_type": "stream",
          "name": "stderr",
          "text": [
            "17501it [30:31,  7.29it/s]"
          ]
        },
        {
          "output_type": "stream",
          "name": "stdout",
          "text": [
            "| epoch   2 | 17500/32580 batches | loss    1.352 \n",
            "money: work, even, result, question, just, god, do, idea, possible, know\n",
            "lion: addition, write, least, say, length, pope, growth, prevent, size, cause\n",
            "africa: europe, america, india, england, germany, west, east, asia, ireland, end\n",
            "musician: singer, writer, actor, composer, actress, poet, author, politician, rome, famous\n",
            "dance: country, music, traditional, actor, culture, popular, town, business, applied, beginning\n",
            "\n",
            "\n"
          ]
        },
        {
          "output_type": "stream",
          "name": "stderr",
          "text": [
            "18001it [31:23,  7.91it/s]"
          ]
        },
        {
          "output_type": "stream",
          "name": "stdout",
          "text": [
            "| epoch   2 | 18000/32580 batches | loss    1.351 \n",
            "money: work, even, result, question, just, god, do, idea, possible, know\n",
            "lion: addition, write, least, say, length, pope, growth, prevent, size, cause\n",
            "africa: europe, america, india, england, germany, west, east, asia, ireland, end\n",
            "musician: singer, writer, actor, composer, actress, poet, author, politician, rome, famous\n",
            "dance: country, music, traditional, actor, popular, culture, town, business, applied, beginning\n",
            "\n",
            "\n"
          ]
        },
        {
          "output_type": "stream",
          "name": "stderr",
          "text": [
            "18501it [32:17,  7.37it/s]"
          ]
        },
        {
          "output_type": "stream",
          "name": "stdout",
          "text": [
            "| epoch   2 | 18500/32580 batches | loss    1.354 \n",
            "money: work, even, result, question, just, god, do, idea, possible, know\n",
            "lion: addition, write, least, say, length, pope, growth, prevent, size, opposed\n",
            "africa: europe, america, india, england, germany, west, east, asia, ireland, end\n",
            "musician: singer, writer, actor, composer, actress, poet, author, politician, famous, rome\n",
            "dance: music, country, traditional, actor, popular, culture, town, business, applied, beginning\n",
            "\n",
            "\n"
          ]
        },
        {
          "output_type": "stream",
          "name": "stderr",
          "text": [
            "19001it [33:09,  7.31it/s]"
          ]
        },
        {
          "output_type": "stream",
          "name": "stdout",
          "text": [
            "| epoch   2 | 19000/32580 batches | loss    1.356 \n",
            "money: work, even, question, result, just, god, idea, do, possible, know\n",
            "lion: addition, write, least, say, pope, length, growth, prevent, size, opposed\n",
            "africa: europe, america, india, england, germany, west, east, asia, ireland, end\n",
            "musician: singer, writer, actor, composer, actress, poet, author, politician, famous, rome\n",
            "dance: music, country, traditional, actor, popular, culture, town, business, applied, beginning\n",
            "\n",
            "\n"
          ]
        },
        {
          "output_type": "stream",
          "name": "stderr",
          "text": [
            "19501it [34:00,  7.94it/s]"
          ]
        },
        {
          "output_type": "stream",
          "name": "stdout",
          "text": [
            "| epoch   2 | 19500/32580 batches | loss    1.353 \n",
            "money: work, even, result, question, just, god, do, idea, possible, it\n",
            "lion: addition, write, least, say, pope, length, growth, prevent, size, opposed\n",
            "africa: europe, america, india, england, germany, west, east, asia, ireland, end\n",
            "musician: singer, writer, actor, composer, actress, poet, author, politician, famous, rome\n",
            "dance: music, country, traditional, actor, popular, culture, town, business, applied, beginning\n",
            "\n",
            "\n"
          ]
        },
        {
          "output_type": "stream",
          "name": "stderr",
          "text": [
            "20001it [34:51,  8.94it/s]"
          ]
        },
        {
          "output_type": "stream",
          "name": "stdout",
          "text": [
            "| epoch   2 | 20000/32580 batches | loss    1.350 \n",
            "money: work, even, question, result, just, do, god, idea, it, possible\n",
            "lion: addition, write, least, say, pope, length, growth, prevent, size, opposed\n",
            "africa: europe, america, india, england, germany, west, east, asia, ireland, end\n",
            "musician: singer, writer, actor, composer, actress, poet, author, politician, famous, rome\n",
            "dance: music, country, traditional, actor, popular, culture, town, business, applied, considered\n",
            "\n",
            "\n"
          ]
        },
        {
          "output_type": "stream",
          "name": "stderr",
          "text": [
            "20501it [35:43,  7.34it/s]"
          ]
        },
        {
          "output_type": "stream",
          "name": "stdout",
          "text": [
            "| epoch   2 | 20500/32580 batches | loss    1.346 \n",
            "money: work, even, question, result, just, do, god, idea, possible, it\n",
            "lion: addition, write, least, say, pope, length, prevent, growth, size, opposed\n",
            "africa: europe, america, india, england, germany, west, east, asia, ireland, end\n",
            "musician: singer, writer, actor, composer, actress, poet, author, politician, famous, rome\n",
            "dance: music, country, traditional, actor, popular, culture, town, business, applied, beginning\n",
            "\n",
            "\n"
          ]
        },
        {
          "output_type": "stream",
          "name": "stderr",
          "text": [
            "21001it [36:34,  8.61it/s]"
          ]
        },
        {
          "output_type": "stream",
          "name": "stdout",
          "text": [
            "| epoch   2 | 21000/32580 batches | loss    1.349 \n",
            "money: work, even, question, result, just, do, god, idea, it, possible\n",
            "lion: addition, write, least, say, pope, length, prevent, growth, size, opposed\n",
            "africa: europe, america, india, england, germany, west, east, asia, ireland, end\n",
            "musician: singer, writer, actor, composer, actress, poet, author, politician, famous, rome\n",
            "dance: music, country, traditional, actor, popular, culture, town, business, applied, beginning\n",
            "\n",
            "\n"
          ]
        },
        {
          "output_type": "stream",
          "name": "stderr",
          "text": [
            "21501it [37:25,  8.96it/s]"
          ]
        },
        {
          "output_type": "stream",
          "name": "stdout",
          "text": [
            "| epoch   2 | 21500/32580 batches | loss    1.345 \n",
            "money: work, even, question, result, just, do, god, idea, it, possible\n",
            "lion: addition, write, least, say, pope, length, growth, prevent, size, opposed\n",
            "africa: europe, america, india, england, germany, west, east, asia, ireland, end\n",
            "musician: singer, writer, actor, composer, actress, poet, author, politician, rome, famous\n",
            "dance: music, country, traditional, actor, popular, culture, town, business, applied, considered\n",
            "\n",
            "\n"
          ]
        },
        {
          "output_type": "stream",
          "name": "stderr",
          "text": [
            "22001it [38:17,  8.64it/s]"
          ]
        },
        {
          "output_type": "stream",
          "name": "stdout",
          "text": [
            "| epoch   2 | 22000/32580 batches | loss    1.348 \n",
            "money: work, even, question, result, just, do, god, idea, it, possible\n",
            "lion: addition, write, say, least, pope, length, growth, prevent, size, opposed\n",
            "africa: europe, america, india, england, germany, west, east, asia, ireland, end\n",
            "musician: singer, writer, actor, composer, actress, poet, author, politician, famous, rome\n",
            "dance: music, country, traditional, actor, popular, culture, town, business, applied, beginning\n",
            "\n",
            "\n"
          ]
        },
        {
          "output_type": "stream",
          "name": "stderr",
          "text": [
            "22501it [39:08,  8.62it/s]"
          ]
        },
        {
          "output_type": "stream",
          "name": "stdout",
          "text": [
            "| epoch   2 | 22500/32580 batches | loss    1.353 \n",
            "money: work, even, question, result, just, do, god, idea, it, possible\n",
            "lion: addition, write, least, say, pope, length, prevent, growth, size, opposed\n",
            "africa: europe, america, india, england, germany, west, east, asia, ireland, end\n",
            "musician: singer, writer, actor, composer, actress, poet, author, politician, rome, famous\n",
            "dance: music, country, traditional, actor, popular, culture, town, business, applied, considered\n",
            "\n",
            "\n"
          ]
        },
        {
          "output_type": "stream",
          "name": "stderr",
          "text": [
            "23000it [40:00, 10.08it/s]"
          ]
        },
        {
          "output_type": "stream",
          "name": "stdout",
          "text": [
            "| epoch   2 | 23000/32580 batches | loss    1.348 \n",
            "money: work, even, question, result, just, do, god, idea, it, possible\n",
            "lion: addition, write, say, least, pope, length, prevent, growth, size, opposed\n",
            "africa: europe, america, india, england, germany, west, east, asia, ireland, end\n",
            "musician: singer, writer, actor, composer, actress, poet, author, politician, rome, famous\n",
            "dance: music, country, traditional, actor, popular, culture, town, business, applied, considered\n",
            "\n",
            "\n"
          ]
        },
        {
          "output_type": "stream",
          "name": "stderr",
          "text": [
            "23500it [40:51, 10.14it/s]"
          ]
        },
        {
          "output_type": "stream",
          "name": "stdout",
          "text": [
            "| epoch   2 | 23500/32580 batches | loss    1.350 \n",
            "money: work, even, question, result, just, do, god, idea, it, possible\n",
            "lion: addition, write, say, least, pope, length, prevent, growth, size, opposed\n",
            "africa: europe, america, india, england, germany, west, east, asia, ireland, end\n",
            "musician: singer, writer, actor, composer, actress, poet, author, politician, rome, famous\n",
            "dance: music, country, traditional, actor, popular, culture, town, business, applied, considered\n",
            "\n",
            "\n"
          ]
        },
        {
          "output_type": "stream",
          "name": "stderr",
          "text": [
            "24001it [41:42,  8.80it/s]"
          ]
        },
        {
          "output_type": "stream",
          "name": "stdout",
          "text": [
            "| epoch   2 | 24000/32580 batches | loss    1.345 \n",
            "money: work, even, question, result, just, do, god, idea, possible, it\n",
            "lion: addition, write, say, least, pope, length, prevent, growth, size, opposed\n",
            "africa: europe, america, india, england, germany, west, east, asia, ireland, end\n",
            "musician: singer, writer, actor, composer, actress, poet, author, politician, rome, famous\n",
            "dance: music, country, traditional, actor, popular, culture, town, business, applied, considered\n",
            "\n",
            "\n"
          ]
        },
        {
          "output_type": "stream",
          "name": "stderr",
          "text": [
            "24501it [42:33,  8.81it/s]"
          ]
        },
        {
          "output_type": "stream",
          "name": "stdout",
          "text": [
            "| epoch   2 | 24500/32580 batches | loss    1.346 \n",
            "money: work, even, question, result, just, do, god, idea, possible, know\n",
            "lion: addition, write, say, least, pope, length, prevent, growth, size, opposed\n",
            "africa: europe, america, india, england, germany, west, east, asia, ireland, end\n",
            "musician: singer, writer, actor, composer, actress, poet, author, politician, famous, rome\n",
            "dance: music, country, traditional, actor, popular, culture, town, business, applied, considered\n",
            "\n",
            "\n"
          ]
        },
        {
          "output_type": "stream",
          "name": "stderr",
          "text": [
            "25001it [43:29,  7.54it/s]"
          ]
        },
        {
          "output_type": "stream",
          "name": "stdout",
          "text": [
            "| epoch   2 | 25000/32580 batches | loss    1.345 \n",
            "money: work, even, question, result, just, do, idea, god, it, know\n",
            "lion: addition, write, say, least, pope, length, prevent, growth, size, opposed\n",
            "africa: europe, america, india, england, germany, west, east, asia, ireland, end\n",
            "musician: singer, writer, actor, composer, actress, poet, author, politician, rome, famous\n",
            "dance: music, country, traditional, actor, popular, culture, town, business, applied, singer\n",
            "\n",
            "\n"
          ]
        },
        {
          "output_type": "stream",
          "name": "stderr",
          "text": [
            "25501it [44:21,  8.95it/s]"
          ]
        },
        {
          "output_type": "stream",
          "name": "stdout",
          "text": [
            "| epoch   2 | 25500/32580 batches | loss    1.342 \n",
            "money: work, even, question, result, just, do, idea, god, it, know\n",
            "lion: addition, write, say, least, pope, length, prevent, growth, size, opposed\n",
            "africa: europe, america, india, england, germany, west, east, asia, ireland, end\n",
            "musician: singer, writer, actor, composer, actress, poet, author, politician, famous, rome\n",
            "dance: music, country, traditional, actor, popular, culture, town, business, applied, singer\n",
            "\n",
            "\n"
          ]
        },
        {
          "output_type": "stream",
          "name": "stderr",
          "text": [
            "26001it [45:13,  7.39it/s]"
          ]
        },
        {
          "output_type": "stream",
          "name": "stdout",
          "text": [
            "| epoch   2 | 26000/32580 batches | loss    1.342 \n",
            "money: work, even, question, result, just, do, idea, god, it, know\n",
            "lion: addition, write, say, least, pope, length, prevent, growth, size, opposed\n",
            "africa: europe, america, india, england, germany, west, east, asia, ireland, end\n",
            "musician: singer, writer, actor, composer, actress, poet, author, politician, famous, rome\n",
            "dance: music, country, traditional, actor, popular, culture, town, business, applied, singer\n",
            "\n",
            "\n"
          ]
        },
        {
          "output_type": "stream",
          "name": "stderr",
          "text": [
            "26501it [46:05,  8.81it/s]"
          ]
        },
        {
          "output_type": "stream",
          "name": "stdout",
          "text": [
            "| epoch   2 | 26500/32580 batches | loss    1.341 \n",
            "money: work, even, question, result, just, do, idea, god, it, know\n",
            "lion: addition, write, say, least, pope, length, prevent, growth, size, opposed\n",
            "africa: europe, america, india, england, germany, west, east, asia, ireland, end\n",
            "musician: singer, writer, actor, composer, actress, poet, author, politician, famous, rome\n",
            "dance: music, country, traditional, actor, popular, culture, town, business, applied, singer\n",
            "\n",
            "\n"
          ]
        },
        {
          "output_type": "stream",
          "name": "stderr",
          "text": [
            "27001it [46:57,  7.59it/s]"
          ]
        },
        {
          "output_type": "stream",
          "name": "stdout",
          "text": [
            "| epoch   2 | 27000/32580 batches | loss    1.344 \n",
            "money: work, even, question, result, just, do, idea, god, it, know\n",
            "lion: addition, write, say, least, pope, length, prevent, growth, size, opposed\n",
            "africa: europe, america, india, england, germany, west, east, asia, ireland, end\n",
            "musician: singer, writer, actor, composer, actress, poet, author, politician, famous, rome\n",
            "dance: music, country, traditional, actor, popular, culture, town, business, applied, beginning\n",
            "\n",
            "\n"
          ]
        },
        {
          "output_type": "stream",
          "name": "stderr",
          "text": [
            "27501it [47:50,  7.23it/s]"
          ]
        },
        {
          "output_type": "stream",
          "name": "stdout",
          "text": [
            "| epoch   2 | 27500/32580 batches | loss    1.345 \n",
            "money: work, even, question, result, just, do, idea, god, it, know\n",
            "lion: addition, write, say, least, pope, length, prevent, growth, size, opposed\n",
            "africa: europe, america, india, england, germany, west, east, asia, ireland, end\n",
            "musician: singer, writer, actor, composer, actress, poet, author, politician, famous, rome\n",
            "dance: music, country, traditional, actor, popular, culture, town, business, applied, singer\n",
            "\n",
            "\n"
          ]
        },
        {
          "output_type": "stream",
          "name": "stderr",
          "text": [
            "28001it [48:42,  7.95it/s]"
          ]
        },
        {
          "output_type": "stream",
          "name": "stdout",
          "text": [
            "| epoch   2 | 28000/32580 batches | loss    1.346 \n",
            "money: work, even, question, result, just, do, idea, god, it, know\n",
            "lion: addition, write, say, least, pope, length, prevent, growth, size, opposed\n",
            "africa: europe, america, india, england, germany, west, east, asia, ireland, end\n",
            "musician: singer, writer, actor, composer, actress, poet, author, politician, famous, rome\n",
            "dance: music, country, traditional, actor, popular, culture, town, business, applied, beginning\n",
            "\n",
            "\n"
          ]
        },
        {
          "output_type": "stream",
          "name": "stderr",
          "text": [
            "28501it [49:36,  7.84it/s]"
          ]
        },
        {
          "output_type": "stream",
          "name": "stdout",
          "text": [
            "| epoch   2 | 28500/32580 batches | loss    1.343 \n",
            "money: work, even, question, result, just, do, idea, god, it, know\n",
            "lion: addition, write, say, least, pope, length, prevent, growth, size, opposed\n",
            "africa: europe, america, india, england, germany, west, east, asia, ireland, end\n",
            "musician: singer, writer, actor, composer, actress, poet, author, politician, famous, rome\n",
            "dance: music, country, traditional, actor, popular, culture, town, business, applied, singer\n",
            "\n",
            "\n"
          ]
        },
        {
          "output_type": "stream",
          "name": "stderr",
          "text": [
            "29000it [50:27, 10.09it/s]"
          ]
        },
        {
          "output_type": "stream",
          "name": "stdout",
          "text": [
            "| epoch   2 | 29000/32580 batches | loss    1.343 \n",
            "money: work, even, question, result, just, do, idea, god, it, know\n",
            "lion: addition, write, say, least, pope, length, prevent, growth, size, opposed\n",
            "africa: europe, america, india, england, germany, west, east, asia, ireland, end\n",
            "musician: singer, writer, actor, composer, actress, poet, author, politician, famous, rome\n",
            "dance: music, country, traditional, actor, popular, culture, town, business, applied, singer\n",
            "\n",
            "\n"
          ]
        },
        {
          "output_type": "stream",
          "name": "stderr",
          "text": [
            "29500it [51:18, 10.01it/s]"
          ]
        },
        {
          "output_type": "stream",
          "name": "stdout",
          "text": [
            "| epoch   2 | 29500/32580 batches | loss    1.347 \n",
            "money: work, even, question, result, just, do, idea, god, know, it\n",
            "lion: addition, write, say, least, pope, length, prevent, growth, size, opposed\n",
            "africa: europe, america, india, england, germany, west, east, asia, ireland, end\n",
            "musician: singer, writer, actor, composer, actress, poet, author, politician, famous, rome\n",
            "dance: music, country, traditional, actor, popular, culture, town, business, applied, beginning\n",
            "\n",
            "\n"
          ]
        },
        {
          "output_type": "stream",
          "name": "stderr",
          "text": [
            "30001it [52:11,  8.00it/s]"
          ]
        },
        {
          "output_type": "stream",
          "name": "stdout",
          "text": [
            "| epoch   2 | 30000/32580 batches | loss    1.349 \n",
            "money: work, even, question, result, just, do, idea, god, know, it\n",
            "lion: addition, write, say, least, pope, length, prevent, growth, size, opposed\n",
            "africa: europe, america, india, england, germany, west, east, asia, ireland, end\n",
            "musician: singer, writer, actor, composer, actress, poet, author, politician, famous, rome\n",
            "dance: music, country, traditional, actor, popular, culture, town, business, applied, beginning\n",
            "\n",
            "\n"
          ]
        },
        {
          "output_type": "stream",
          "name": "stderr",
          "text": [
            "30501it [53:04,  8.53it/s]"
          ]
        },
        {
          "output_type": "stream",
          "name": "stdout",
          "text": [
            "| epoch   2 | 30500/32580 batches | loss    1.345 \n",
            "money: work, even, question, result, just, do, idea, god, it, know\n",
            "lion: addition, write, say, least, pope, length, prevent, growth, opposed, size\n",
            "africa: europe, america, india, england, germany, west, east, asia, ireland, south\n",
            "musician: singer, writer, actor, composer, actress, poet, author, politician, famous, rome\n",
            "dance: music, country, traditional, actor, popular, culture, town, business, applied, singer\n",
            "\n",
            "\n"
          ]
        },
        {
          "output_type": "stream",
          "name": "stderr",
          "text": [
            "31001it [53:56,  7.79it/s]"
          ]
        },
        {
          "output_type": "stream",
          "name": "stdout",
          "text": [
            "| epoch   2 | 31000/32580 batches | loss    1.343 \n",
            "money: work, even, question, result, just, do, idea, god, it, know\n",
            "lion: addition, write, say, least, pope, length, prevent, growth, size, opposed\n",
            "africa: europe, america, india, england, germany, west, east, asia, ireland, south\n",
            "musician: singer, writer, actor, composer, actress, poet, author, politician, famous, rome\n",
            "dance: music, country, traditional, actor, popular, culture, town, business, applied, singer\n",
            "\n",
            "\n"
          ]
        },
        {
          "output_type": "stream",
          "name": "stderr",
          "text": [
            "31501it [54:49,  7.77it/s]"
          ]
        },
        {
          "output_type": "stream",
          "name": "stdout",
          "text": [
            "| epoch   2 | 31500/32580 batches | loss    1.345 \n",
            "money: work, even, question, result, just, do, idea, god, it, know\n",
            "lion: addition, write, say, least, length, pope, prevent, growth, size, opposed\n",
            "africa: europe, america, india, england, germany, west, east, asia, ireland, south\n",
            "musician: singer, writer, actor, composer, actress, poet, author, politician, famous, rome\n",
            "dance: music, country, traditional, actor, popular, culture, town, business, applied, singer\n",
            "\n",
            "\n"
          ]
        },
        {
          "output_type": "stream",
          "name": "stderr",
          "text": [
            "32001it [55:42,  7.73it/s]"
          ]
        },
        {
          "output_type": "stream",
          "name": "stdout",
          "text": [
            "| epoch   2 | 32000/32580 batches | loss    1.345 \n",
            "money: work, even, question, result, just, do, idea, god, it, know\n",
            "lion: addition, write, say, least, length, pope, prevent, growth, opposed, size\n",
            "africa: europe, america, india, england, germany, west, east, asia, ireland, south\n",
            "musician: singer, writer, actor, composer, poet, actress, author, politician, famous, rome\n",
            "dance: music, country, traditional, popular, actor, culture, town, business, applied, singer\n",
            "\n",
            "\n"
          ]
        },
        {
          "output_type": "stream",
          "name": "stderr",
          "text": [
            "32501it [56:35,  7.83it/s]"
          ]
        },
        {
          "output_type": "stream",
          "name": "stdout",
          "text": [
            "| epoch   2 | 32500/32580 batches | loss    1.341 \n",
            "money: work, even, question, result, just, do, idea, god, it, know\n",
            "lion: addition, write, say, least, length, pope, prevent, growth, opposed, size\n",
            "africa: europe, america, india, england, germany, west, east, asia, ireland, south\n",
            "musician: singer, writer, actor, composer, actress, poet, author, politician, famous, rome\n",
            "dance: music, country, traditional, popular, actor, culture, town, business, applied, beginning\n",
            "\n",
            "\n"
          ]
        },
        {
          "output_type": "stream",
          "name": "stderr",
          "text": [
            "32580it [56:45,  9.57it/s]\n",
            "1it [00:02,  2.08s/it]"
          ]
        },
        {
          "output_type": "stream",
          "name": "stdout",
          "text": [
            "| epoch   3 |     0/32580 batches | loss    1.316 \n",
            "money: work, even, question, result, just, do, idea, god, it, know\n",
            "lion: addition, write, say, least, length, pope, prevent, growth, opposed, size\n",
            "africa: europe, america, india, england, germany, west, east, asia, ireland, south\n",
            "musician: singer, writer, actor, composer, actress, poet, author, politician, famous, rome\n",
            "dance: music, country, traditional, popular, actor, culture, town, business, applied, singer\n",
            "\n",
            "\n"
          ]
        },
        {
          "output_type": "stream",
          "name": "stderr",
          "text": [
            "501it [00:55,  7.72it/s]"
          ]
        },
        {
          "output_type": "stream",
          "name": "stdout",
          "text": [
            "| epoch   3 |   500/32580 batches | loss    1.337 \n",
            "money: work, even, question, result, just, do, idea, god, it, know\n",
            "lion: addition, write, say, least, length, pope, prevent, growth, opposed, size\n",
            "africa: europe, america, india, england, germany, west, east, asia, ireland, south\n",
            "musician: singer, writer, actor, composer, actress, poet, author, politician, famous, rome\n",
            "dance: music, country, traditional, popular, actor, culture, town, business, applied, singer\n",
            "\n",
            "\n"
          ]
        },
        {
          "output_type": "stream",
          "name": "stderr",
          "text": [
            "1001it [01:49,  7.82it/s]"
          ]
        },
        {
          "output_type": "stream",
          "name": "stdout",
          "text": [
            "| epoch   3 |  1000/32580 batches | loss    1.332 \n",
            "money: work, even, question, result, just, do, idea, god, it, know\n",
            "lion: addition, write, say, least, length, pope, prevent, growth, opposed, size\n",
            "africa: europe, america, india, england, germany, west, east, asia, ireland, south\n",
            "musician: singer, writer, actor, composer, actress, poet, author, politician, famous, rome\n",
            "dance: music, country, traditional, popular, actor, culture, town, business, applied, singer\n",
            "\n",
            "\n"
          ]
        },
        {
          "output_type": "stream",
          "name": "stderr",
          "text": [
            "1501it [02:42,  7.81it/s]"
          ]
        },
        {
          "output_type": "stream",
          "name": "stdout",
          "text": [
            "| epoch   3 |  1500/32580 batches | loss    1.335 \n",
            "money: work, even, question, result, just, do, idea, god, it, know\n",
            "lion: addition, write, say, least, length, pope, prevent, growth, opposed, size\n",
            "africa: europe, america, india, england, germany, west, east, asia, ireland, south\n",
            "musician: singer, writer, actor, composer, actress, poet, author, politician, famous, rome\n",
            "dance: music, country, traditional, popular, actor, culture, town, business, applied, singer\n",
            "\n",
            "\n"
          ]
        },
        {
          "output_type": "stream",
          "name": "stderr",
          "text": [
            "2001it [03:34,  7.73it/s]"
          ]
        },
        {
          "output_type": "stream",
          "name": "stdout",
          "text": [
            "| epoch   3 |  2000/32580 batches | loss    1.329 \n",
            "money: work, even, question, result, just, do, idea, god, it, know\n",
            "lion: addition, write, say, least, length, pope, prevent, growth, opposed, size\n",
            "africa: europe, america, india, england, germany, west, east, asia, ireland, south\n",
            "musician: singer, writer, actor, composer, actress, poet, author, politician, famous, rome\n",
            "dance: music, country, traditional, popular, actor, culture, town, business, applied, singer\n",
            "\n",
            "\n"
          ]
        },
        {
          "output_type": "stream",
          "name": "stderr",
          "text": [
            "2501it [04:28,  7.32it/s]"
          ]
        },
        {
          "output_type": "stream",
          "name": "stdout",
          "text": [
            "| epoch   3 |  2500/32580 batches | loss    1.336 \n",
            "money: work, even, question, result, just, do, idea, god, it, know\n",
            "lion: addition, write, say, least, length, pope, prevent, growth, opposed, size\n",
            "africa: europe, america, india, england, germany, west, east, asia, ireland, south\n",
            "musician: singer, writer, actor, composer, actress, poet, author, politician, famous, rome\n",
            "dance: music, country, traditional, popular, actor, culture, town, business, applied, singer\n",
            "\n",
            "\n"
          ]
        },
        {
          "output_type": "stream",
          "name": "stderr",
          "text": [
            "3001it [05:20,  7.70it/s]"
          ]
        },
        {
          "output_type": "stream",
          "name": "stdout",
          "text": [
            "| epoch   3 |  3000/32580 batches | loss    1.335 \n",
            "money: work, even, question, result, just, do, idea, god, it, know\n",
            "lion: addition, write, say, least, length, pope, prevent, growth, opposed, size\n",
            "africa: europe, america, india, england, germany, west, east, asia, ireland, south\n",
            "musician: singer, writer, actor, composer, actress, poet, author, politician, famous, rome\n",
            "dance: music, country, traditional, popular, actor, culture, town, business, applied, singer\n",
            "\n",
            "\n"
          ]
        },
        {
          "output_type": "stream",
          "name": "stderr",
          "text": [
            "3501it [06:15,  7.70it/s]"
          ]
        },
        {
          "output_type": "stream",
          "name": "stdout",
          "text": [
            "| epoch   3 |  3500/32580 batches | loss    1.332 \n",
            "money: work, even, question, result, just, do, idea, god, it, know\n",
            "lion: addition, write, say, least, length, pope, prevent, growth, opposed, size\n",
            "africa: europe, america, india, england, germany, west, east, asia, ireland, south\n",
            "musician: singer, writer, actor, composer, actress, poet, author, politician, famous, rome\n",
            "dance: music, country, traditional, popular, actor, culture, town, business, applied, singer\n",
            "\n",
            "\n"
          ]
        },
        {
          "output_type": "stream",
          "name": "stderr",
          "text": [
            "4001it [07:13,  7.53it/s]"
          ]
        },
        {
          "output_type": "stream",
          "name": "stdout",
          "text": [
            "| epoch   3 |  4000/32580 batches | loss    1.334 \n",
            "money: work, even, question, result, just, do, idea, god, it, know\n",
            "lion: addition, write, say, least, length, pope, prevent, growth, opposed, size\n",
            "africa: europe, america, india, england, germany, west, east, asia, ireland, south\n",
            "musician: singer, writer, actor, composer, actress, poet, author, politician, famous, rome\n",
            "dance: music, country, traditional, popular, actor, culture, town, business, applied, singer\n",
            "\n",
            "\n"
          ]
        },
        {
          "output_type": "stream",
          "name": "stderr",
          "text": [
            "4501it [08:07,  7.89it/s]"
          ]
        },
        {
          "output_type": "stream",
          "name": "stdout",
          "text": [
            "| epoch   3 |  4500/32580 batches | loss    1.336 \n",
            "money: work, even, question, result, just, do, idea, god, it, know\n",
            "lion: addition, write, say, least, length, pope, prevent, growth, opposed, size\n",
            "africa: europe, america, india, england, germany, west, east, asia, ireland, south\n",
            "musician: singer, writer, actor, composer, actress, poet, author, politician, famous, rome\n",
            "dance: music, country, traditional, popular, actor, culture, town, business, applied, singer\n",
            "\n",
            "\n"
          ]
        },
        {
          "output_type": "stream",
          "name": "stderr",
          "text": [
            "5001it [09:00,  7.54it/s]"
          ]
        },
        {
          "output_type": "stream",
          "name": "stdout",
          "text": [
            "| epoch   3 |  5000/32580 batches | loss    1.333 \n",
            "money: work, even, question, result, just, do, idea, god, it, know\n",
            "lion: addition, write, say, least, length, pope, prevent, growth, opposed, size\n",
            "africa: europe, america, india, england, germany, west, east, asia, ireland, south\n",
            "musician: singer, writer, actor, composer, actress, poet, author, politician, famous, rome\n",
            "dance: music, country, traditional, popular, actor, culture, town, business, applied, singer\n",
            "\n",
            "\n"
          ]
        },
        {
          "output_type": "stream",
          "name": "stderr",
          "text": [
            "5501it [09:54,  7.64it/s]"
          ]
        },
        {
          "output_type": "stream",
          "name": "stdout",
          "text": [
            "| epoch   3 |  5500/32580 batches | loss    1.334 \n",
            "money: work, even, question, result, just, do, idea, god, it, know\n",
            "lion: addition, write, say, least, length, pope, prevent, growth, opposed, size\n",
            "africa: europe, america, india, england, germany, west, east, asia, ireland, china\n",
            "musician: singer, writer, actor, composer, actress, poet, author, politician, famous, rome\n",
            "dance: music, country, traditional, popular, actor, culture, town, business, applied, singer\n",
            "\n",
            "\n"
          ]
        },
        {
          "output_type": "stream",
          "name": "stderr",
          "text": [
            "6001it [10:46,  7.67it/s]"
          ]
        },
        {
          "output_type": "stream",
          "name": "stdout",
          "text": [
            "| epoch   3 |  6000/32580 batches | loss    1.332 \n",
            "money: work, even, question, result, just, do, idea, god, it, know\n",
            "lion: addition, write, say, least, length, pope, prevent, growth, opposed, size\n",
            "africa: europe, america, india, england, germany, west, east, asia, ireland, china\n",
            "musician: singer, writer, actor, composer, actress, poet, author, politician, famous, rome\n",
            "dance: music, country, traditional, popular, actor, culture, town, business, applied, singer\n",
            "\n",
            "\n"
          ]
        },
        {
          "output_type": "stream",
          "name": "stderr",
          "text": [
            "6501it [11:39,  7.62it/s]"
          ]
        },
        {
          "output_type": "stream",
          "name": "stdout",
          "text": [
            "| epoch   3 |  6500/32580 batches | loss    1.334 \n",
            "money: work, even, question, result, just, do, idea, god, it, know\n",
            "lion: addition, write, say, least, length, pope, prevent, growth, opposed, size\n",
            "africa: europe, america, india, england, germany, west, east, asia, ireland, china\n",
            "musician: singer, writer, actor, composer, actress, poet, author, politician, famous, rome\n",
            "dance: music, country, traditional, popular, actor, culture, town, business, applied, singer\n",
            "\n",
            "\n"
          ]
        },
        {
          "output_type": "stream",
          "name": "stderr",
          "text": [
            "7001it [12:33,  7.85it/s]"
          ]
        },
        {
          "output_type": "stream",
          "name": "stdout",
          "text": [
            "| epoch   3 |  7000/32580 batches | loss    1.334 \n",
            "money: work, even, question, result, just, do, idea, god, it, know\n",
            "lion: addition, write, say, least, length, pope, prevent, growth, opposed, size\n",
            "africa: europe, america, india, england, germany, west, east, asia, ireland, china\n",
            "musician: singer, writer, actor, composer, actress, poet, author, politician, famous, rome\n",
            "dance: music, country, traditional, popular, actor, culture, town, business, applied, singer\n",
            "\n",
            "\n"
          ]
        },
        {
          "output_type": "stream",
          "name": "stderr",
          "text": [
            "7501it [13:26,  7.16it/s]"
          ]
        },
        {
          "output_type": "stream",
          "name": "stdout",
          "text": [
            "| epoch   3 |  7500/32580 batches | loss    1.339 \n",
            "money: work, even, question, result, just, do, idea, god, it, know\n",
            "lion: addition, write, say, least, length, pope, prevent, growth, opposed, size\n",
            "africa: europe, america, india, england, germany, west, east, asia, ireland, china\n",
            "musician: singer, writer, actor, composer, actress, poet, author, politician, famous, rome\n",
            "dance: music, country, traditional, popular, actor, culture, town, business, applied, singer\n",
            "\n",
            "\n"
          ]
        },
        {
          "output_type": "stream",
          "name": "stderr",
          "text": [
            "8001it [14:19,  7.82it/s]"
          ]
        },
        {
          "output_type": "stream",
          "name": "stdout",
          "text": [
            "| epoch   3 |  8000/32580 batches | loss    1.331 \n",
            "money: work, even, question, result, just, do, idea, god, it, know\n",
            "lion: addition, write, say, least, length, pope, prevent, growth, opposed, size\n",
            "africa: europe, america, india, england, germany, west, east, asia, ireland, china\n",
            "musician: singer, writer, actor, composer, actress, poet, author, politician, famous, rome\n",
            "dance: music, country, traditional, popular, actor, culture, town, business, applied, singer\n",
            "\n",
            "\n"
          ]
        },
        {
          "output_type": "stream",
          "name": "stderr",
          "text": [
            "8501it [15:12,  7.78it/s]"
          ]
        },
        {
          "output_type": "stream",
          "name": "stdout",
          "text": [
            "| epoch   3 |  8500/32580 batches | loss    1.332 \n",
            "money: work, even, question, result, just, do, idea, god, it, know\n",
            "lion: addition, write, say, least, length, pope, prevent, growth, opposed, size\n",
            "africa: europe, america, india, england, germany, west, east, asia, ireland, china\n",
            "musician: singer, writer, actor, composer, actress, poet, author, politician, famous, rome\n",
            "dance: music, country, traditional, popular, actor, culture, town, business, applied, singer\n",
            "\n",
            "\n"
          ]
        },
        {
          "output_type": "stream",
          "name": "stderr",
          "text": [
            "9001it [16:05,  7.48it/s]"
          ]
        },
        {
          "output_type": "stream",
          "name": "stdout",
          "text": [
            "| epoch   3 |  9000/32580 batches | loss    1.336 \n",
            "money: work, even, question, result, just, do, idea, god, it, know\n",
            "lion: addition, write, say, least, length, pope, prevent, growth, opposed, size\n",
            "africa: europe, america, india, england, germany, west, east, asia, ireland, china\n",
            "musician: singer, writer, actor, composer, actress, poet, author, politician, famous, rome\n",
            "dance: music, country, traditional, popular, actor, culture, town, business, applied, singer\n",
            "\n",
            "\n"
          ]
        },
        {
          "output_type": "stream",
          "name": "stderr",
          "text": [
            "9501it [16:58,  7.22it/s]"
          ]
        },
        {
          "output_type": "stream",
          "name": "stdout",
          "text": [
            "| epoch   3 |  9500/32580 batches | loss    1.332 \n",
            "money: work, even, question, result, just, do, idea, god, it, know\n",
            "lion: addition, write, say, least, length, pope, prevent, growth, opposed, size\n",
            "africa: europe, america, india, england, germany, west, east, asia, ireland, china\n",
            "musician: singer, writer, actor, composer, actress, poet, author, politician, famous, rome\n",
            "dance: music, country, traditional, popular, actor, culture, town, business, applied, singer\n",
            "\n",
            "\n"
          ]
        },
        {
          "output_type": "stream",
          "name": "stderr",
          "text": [
            "10001it [17:51,  7.70it/s]"
          ]
        },
        {
          "output_type": "stream",
          "name": "stdout",
          "text": [
            "| epoch   3 | 10000/32580 batches | loss    1.332 \n",
            "money: work, even, question, result, just, do, idea, god, it, know\n",
            "lion: addition, write, say, least, length, pope, prevent, growth, opposed, size\n",
            "africa: europe, america, india, england, germany, west, east, asia, ireland, china\n",
            "musician: singer, writer, actor, composer, actress, poet, author, politician, famous, rome\n",
            "dance: music, country, traditional, popular, actor, culture, town, business, applied, singer\n",
            "\n",
            "\n"
          ]
        },
        {
          "output_type": "stream",
          "name": "stderr",
          "text": [
            "10501it [18:45,  7.80it/s]"
          ]
        },
        {
          "output_type": "stream",
          "name": "stdout",
          "text": [
            "| epoch   3 | 10500/32580 batches | loss    1.333 \n",
            "money: work, even, question, result, just, do, idea, god, it, know\n",
            "lion: addition, write, say, least, length, pope, prevent, growth, opposed, size\n",
            "africa: europe, america, india, england, germany, west, east, asia, ireland, china\n",
            "musician: singer, writer, actor, composer, actress, poet, author, politician, famous, rome\n",
            "dance: music, country, traditional, popular, actor, culture, town, business, applied, singer\n",
            "\n",
            "\n"
          ]
        },
        {
          "output_type": "stream",
          "name": "stderr",
          "text": [
            "11001it [19:39,  7.20it/s]"
          ]
        },
        {
          "output_type": "stream",
          "name": "stdout",
          "text": [
            "| epoch   3 | 11000/32580 batches | loss    1.337 \n",
            "money: work, even, question, result, just, do, idea, god, it, know\n",
            "lion: addition, write, say, least, length, pope, prevent, growth, opposed, size\n",
            "africa: europe, america, india, england, germany, west, east, asia, ireland, china\n",
            "musician: singer, writer, actor, composer, actress, poet, author, politician, famous, rome\n",
            "dance: music, country, traditional, popular, actor, culture, town, business, applied, singer\n",
            "\n",
            "\n"
          ]
        },
        {
          "output_type": "stream",
          "name": "stderr",
          "text": [
            "11501it [20:33,  7.11it/s]"
          ]
        },
        {
          "output_type": "stream",
          "name": "stdout",
          "text": [
            "| epoch   3 | 11500/32580 batches | loss    1.335 \n",
            "money: work, even, question, result, just, do, idea, god, it, know\n",
            "lion: addition, write, say, least, length, pope, prevent, growth, opposed, size\n",
            "africa: europe, america, india, england, germany, west, east, asia, ireland, china\n",
            "musician: singer, writer, actor, composer, actress, poet, author, politician, famous, rome\n",
            "dance: music, country, traditional, popular, actor, culture, town, business, applied, singer\n",
            "\n",
            "\n"
          ]
        },
        {
          "output_type": "stream",
          "name": "stderr",
          "text": [
            "12001it [21:25,  7.85it/s]"
          ]
        },
        {
          "output_type": "stream",
          "name": "stdout",
          "text": [
            "| epoch   3 | 12000/32580 batches | loss    1.332 \n",
            "money: work, even, question, result, just, do, idea, god, it, know\n",
            "lion: addition, write, say, least, length, pope, prevent, growth, opposed, size\n",
            "africa: europe, america, india, england, germany, west, east, asia, ireland, china\n",
            "musician: singer, writer, actor, composer, actress, poet, author, politician, famous, rome\n",
            "dance: music, country, traditional, popular, actor, culture, town, business, applied, singer\n",
            "\n",
            "\n"
          ]
        },
        {
          "output_type": "stream",
          "name": "stderr",
          "text": [
            "12501it [22:19,  7.82it/s]"
          ]
        },
        {
          "output_type": "stream",
          "name": "stdout",
          "text": [
            "| epoch   3 | 12500/32580 batches | loss    1.332 \n",
            "money: work, even, question, result, just, do, idea, god, it, know\n",
            "lion: addition, write, say, least, length, pope, prevent, growth, opposed, size\n",
            "africa: europe, america, india, england, germany, west, east, asia, ireland, china\n",
            "musician: singer, writer, actor, composer, actress, poet, author, politician, famous, rome\n",
            "dance: music, country, traditional, popular, actor, culture, town, business, applied, singer\n",
            "\n",
            "\n"
          ]
        },
        {
          "output_type": "stream",
          "name": "stderr",
          "text": [
            "13001it [23:11,  7.65it/s]"
          ]
        },
        {
          "output_type": "stream",
          "name": "stdout",
          "text": [
            "| epoch   3 | 13000/32580 batches | loss    1.333 \n",
            "money: work, even, question, result, just, do, idea, god, it, know\n",
            "lion: addition, write, say, least, length, pope, prevent, growth, opposed, size\n",
            "africa: europe, america, india, england, germany, west, east, asia, ireland, china\n",
            "musician: singer, writer, actor, composer, actress, poet, author, politician, famous, rome\n",
            "dance: music, country, traditional, popular, actor, culture, town, business, applied, singer\n",
            "\n",
            "\n"
          ]
        },
        {
          "output_type": "stream",
          "name": "stderr",
          "text": [
            "13501it [24:04,  7.65it/s]"
          ]
        },
        {
          "output_type": "stream",
          "name": "stdout",
          "text": [
            "| epoch   3 | 13500/32580 batches | loss    1.332 \n",
            "money: work, even, question, result, just, do, idea, god, it, know\n",
            "lion: addition, write, say, least, length, pope, prevent, growth, opposed, size\n",
            "africa: europe, america, india, england, germany, west, east, asia, ireland, china\n",
            "musician: singer, writer, actor, composer, actress, poet, author, politician, famous, rome\n",
            "dance: music, country, traditional, popular, actor, culture, town, business, applied, singer\n",
            "\n",
            "\n"
          ]
        },
        {
          "output_type": "stream",
          "name": "stderr",
          "text": [
            "14001it [24:57,  7.23it/s]"
          ]
        },
        {
          "output_type": "stream",
          "name": "stdout",
          "text": [
            "| epoch   3 | 14000/32580 batches | loss    1.334 \n",
            "money: work, even, question, result, just, do, idea, god, it, know\n",
            "lion: addition, write, say, least, length, pope, prevent, growth, opposed, size\n",
            "africa: europe, america, india, england, germany, west, east, asia, ireland, china\n",
            "musician: singer, writer, actor, composer, actress, poet, author, politician, famous, rome\n",
            "dance: music, country, traditional, popular, actor, culture, town, business, applied, singer\n",
            "\n",
            "\n"
          ]
        },
        {
          "output_type": "stream",
          "name": "stderr",
          "text": [
            "14501it [25:50,  7.23it/s]"
          ]
        },
        {
          "output_type": "stream",
          "name": "stdout",
          "text": [
            "| epoch   3 | 14500/32580 batches | loss    1.332 \n",
            "money: work, even, question, result, just, do, idea, god, it, know\n",
            "lion: addition, write, say, least, length, pope, prevent, growth, opposed, size\n",
            "africa: europe, america, india, england, germany, west, east, asia, ireland, china\n",
            "musician: singer, writer, actor, composer, actress, poet, author, politician, famous, rome\n",
            "dance: music, country, traditional, popular, actor, culture, town, business, applied, singer\n",
            "\n",
            "\n"
          ]
        },
        {
          "output_type": "stream",
          "name": "stderr",
          "text": [
            "15001it [26:44,  7.69it/s]"
          ]
        },
        {
          "output_type": "stream",
          "name": "stdout",
          "text": [
            "| epoch   3 | 15000/32580 batches | loss    1.335 \n",
            "money: work, even, question, result, just, do, idea, god, it, know\n",
            "lion: addition, write, say, least, length, pope, prevent, growth, opposed, size\n",
            "africa: europe, america, india, england, germany, west, east, asia, ireland, china\n",
            "musician: singer, writer, actor, composer, actress, poet, author, politician, famous, rome\n",
            "dance: music, country, traditional, popular, actor, culture, town, business, applied, singer\n",
            "\n",
            "\n"
          ]
        },
        {
          "output_type": "stream",
          "name": "stderr",
          "text": [
            "15501it [27:37,  7.72it/s]"
          ]
        },
        {
          "output_type": "stream",
          "name": "stdout",
          "text": [
            "| epoch   3 | 15500/32580 batches | loss    1.332 \n",
            "money: work, even, question, result, just, do, idea, god, it, know\n",
            "lion: addition, write, say, least, length, pope, prevent, growth, opposed, size\n",
            "africa: europe, america, india, england, germany, west, east, asia, ireland, china\n",
            "musician: singer, writer, actor, composer, actress, poet, author, politician, famous, rome\n",
            "dance: music, country, traditional, popular, actor, culture, town, business, applied, singer\n",
            "\n",
            "\n"
          ]
        },
        {
          "output_type": "stream",
          "name": "stderr",
          "text": [
            "16001it [28:31,  7.64it/s]"
          ]
        },
        {
          "output_type": "stream",
          "name": "stdout",
          "text": [
            "| epoch   3 | 16000/32580 batches | loss    1.332 \n",
            "money: work, even, question, result, just, do, idea, god, it, know\n",
            "lion: addition, write, say, least, length, pope, prevent, growth, opposed, size\n",
            "africa: europe, america, india, england, germany, west, east, asia, ireland, china\n",
            "musician: singer, writer, actor, composer, actress, poet, author, politician, famous, rome\n",
            "dance: music, country, traditional, popular, actor, culture, town, business, applied, singer\n",
            "\n",
            "\n"
          ]
        },
        {
          "output_type": "stream",
          "name": "stderr",
          "text": [
            "16501it [29:24,  7.54it/s]"
          ]
        },
        {
          "output_type": "stream",
          "name": "stdout",
          "text": [
            "| epoch   3 | 16500/32580 batches | loss    1.336 \n",
            "money: work, even, question, result, just, do, idea, god, it, know\n",
            "lion: addition, write, say, least, length, pope, prevent, growth, opposed, size\n",
            "africa: europe, america, india, england, germany, west, east, asia, ireland, china\n",
            "musician: singer, writer, actor, composer, actress, poet, author, politician, famous, rome\n",
            "dance: music, country, traditional, popular, actor, culture, town, business, applied, singer\n",
            "\n",
            "\n"
          ]
        },
        {
          "output_type": "stream",
          "name": "stderr",
          "text": [
            "17001it [30:17,  7.84it/s]"
          ]
        },
        {
          "output_type": "stream",
          "name": "stdout",
          "text": [
            "| epoch   3 | 17000/32580 batches | loss    1.332 \n",
            "money: work, even, question, result, just, do, idea, god, it, know\n",
            "lion: addition, write, say, least, length, pope, prevent, growth, opposed, size\n",
            "africa: europe, america, india, england, germany, west, east, asia, ireland, china\n",
            "musician: singer, writer, actor, composer, actress, poet, author, politician, famous, rome\n",
            "dance: music, country, traditional, popular, actor, culture, town, business, applied, singer\n",
            "\n",
            "\n"
          ]
        },
        {
          "output_type": "stream",
          "name": "stderr",
          "text": [
            "17501it [31:11,  7.71it/s]"
          ]
        },
        {
          "output_type": "stream",
          "name": "stdout",
          "text": [
            "| epoch   3 | 17500/32580 batches | loss    1.336 \n",
            "money: work, even, question, result, just, do, idea, god, it, know\n",
            "lion: addition, write, say, least, length, pope, prevent, growth, opposed, size\n",
            "africa: europe, america, india, england, germany, west, east, asia, ireland, china\n",
            "musician: singer, writer, actor, composer, actress, poet, author, politician, famous, rome\n",
            "dance: music, country, traditional, popular, actor, culture, town, business, applied, singer\n",
            "\n",
            "\n"
          ]
        },
        {
          "output_type": "stream",
          "name": "stderr",
          "text": [
            "18001it [32:05,  7.70it/s]"
          ]
        },
        {
          "output_type": "stream",
          "name": "stdout",
          "text": [
            "| epoch   3 | 18000/32580 batches | loss    1.333 \n",
            "money: work, even, question, result, just, do, idea, god, it, know\n",
            "lion: addition, write, say, least, length, pope, prevent, growth, opposed, size\n",
            "africa: europe, america, india, england, germany, west, east, asia, ireland, china\n",
            "musician: singer, writer, actor, composer, actress, poet, author, politician, famous, rome\n",
            "dance: music, country, traditional, popular, actor, culture, town, business, applied, singer\n",
            "\n",
            "\n"
          ]
        },
        {
          "output_type": "stream",
          "name": "stderr",
          "text": [
            "18501it [32:58,  7.81it/s]"
          ]
        },
        {
          "output_type": "stream",
          "name": "stdout",
          "text": [
            "| epoch   3 | 18500/32580 batches | loss    1.333 \n",
            "money: work, even, question, result, just, do, idea, god, it, know\n",
            "lion: addition, write, say, least, length, pope, prevent, growth, opposed, size\n",
            "africa: europe, america, india, england, germany, west, east, asia, ireland, china\n",
            "musician: singer, writer, actor, composer, actress, poet, author, politician, famous, rome\n",
            "dance: music, country, traditional, popular, actor, culture, town, business, applied, singer\n",
            "\n",
            "\n"
          ]
        },
        {
          "output_type": "stream",
          "name": "stderr",
          "text": [
            "19001it [33:53,  7.75it/s]"
          ]
        },
        {
          "output_type": "stream",
          "name": "stdout",
          "text": [
            "| epoch   3 | 19000/32580 batches | loss    1.334 \n",
            "money: work, even, question, result, just, do, idea, god, it, know\n",
            "lion: addition, write, say, least, length, pope, prevent, growth, opposed, size\n",
            "africa: europe, america, india, england, germany, west, east, asia, ireland, china\n",
            "musician: singer, writer, actor, composer, actress, poet, author, politician, famous, rome\n",
            "dance: music, country, traditional, popular, actor, culture, town, business, applied, singer\n",
            "\n",
            "\n"
          ]
        },
        {
          "output_type": "stream",
          "name": "stderr",
          "text": [
            "19501it [34:46,  7.24it/s]"
          ]
        },
        {
          "output_type": "stream",
          "name": "stdout",
          "text": [
            "| epoch   3 | 19500/32580 batches | loss    1.332 \n",
            "money: work, even, question, result, just, do, idea, god, it, know\n",
            "lion: addition, write, say, least, length, pope, prevent, growth, opposed, size\n",
            "africa: europe, america, india, england, germany, west, east, asia, ireland, china\n",
            "musician: singer, writer, actor, composer, actress, poet, author, politician, famous, rome\n",
            "dance: music, country, traditional, popular, actor, culture, town, business, applied, singer\n",
            "\n",
            "\n"
          ]
        },
        {
          "output_type": "stream",
          "name": "stderr",
          "text": [
            "20001it [35:40,  7.73it/s]"
          ]
        },
        {
          "output_type": "stream",
          "name": "stdout",
          "text": [
            "| epoch   3 | 20000/32580 batches | loss    1.329 \n",
            "money: work, even, question, result, just, do, idea, god, it, know\n",
            "lion: addition, write, say, least, length, pope, prevent, growth, opposed, size\n",
            "africa: europe, america, india, england, germany, west, east, asia, ireland, china\n",
            "musician: singer, writer, actor, composer, actress, poet, author, politician, famous, rome\n",
            "dance: music, country, traditional, popular, actor, culture, town, business, applied, singer\n",
            "\n",
            "\n"
          ]
        },
        {
          "output_type": "stream",
          "name": "stderr",
          "text": [
            "20501it [36:34,  7.61it/s]"
          ]
        },
        {
          "output_type": "stream",
          "name": "stdout",
          "text": [
            "| epoch   3 | 20500/32580 batches | loss    1.329 \n",
            "money: work, even, question, result, just, do, idea, god, it, know\n",
            "lion: addition, write, say, least, length, pope, prevent, growth, opposed, size\n",
            "africa: europe, america, india, england, germany, west, east, asia, ireland, china\n",
            "musician: singer, writer, actor, composer, actress, poet, author, politician, famous, rome\n",
            "dance: music, country, traditional, popular, actor, culture, town, business, applied, singer\n",
            "\n",
            "\n"
          ]
        },
        {
          "output_type": "stream",
          "name": "stderr",
          "text": [
            "21001it [37:27,  7.33it/s]"
          ]
        },
        {
          "output_type": "stream",
          "name": "stdout",
          "text": [
            "| epoch   3 | 21000/32580 batches | loss    1.333 \n",
            "money: work, even, question, result, just, do, idea, god, it, know\n",
            "lion: addition, write, say, least, length, pope, prevent, growth, opposed, size\n",
            "africa: europe, america, india, england, germany, west, east, asia, ireland, china\n",
            "musician: singer, writer, actor, composer, actress, poet, author, politician, famous, rome\n",
            "dance: music, country, traditional, popular, actor, culture, town, business, applied, singer\n",
            "\n",
            "\n"
          ]
        },
        {
          "output_type": "stream",
          "name": "stderr",
          "text": [
            "21501it [38:20,  7.65it/s]"
          ]
        },
        {
          "output_type": "stream",
          "name": "stdout",
          "text": [
            "| epoch   3 | 21500/32580 batches | loss    1.327 \n",
            "money: work, even, question, result, just, do, idea, god, it, know\n",
            "lion: addition, write, say, least, length, pope, prevent, growth, opposed, size\n",
            "africa: europe, america, india, england, germany, west, east, asia, ireland, china\n",
            "musician: singer, writer, actor, composer, actress, poet, author, politician, famous, rome\n",
            "dance: music, country, traditional, popular, actor, culture, town, business, applied, singer\n",
            "\n",
            "\n"
          ]
        },
        {
          "output_type": "stream",
          "name": "stderr",
          "text": [
            "22001it [39:14,  7.63it/s]"
          ]
        },
        {
          "output_type": "stream",
          "name": "stdout",
          "text": [
            "| epoch   3 | 22000/32580 batches | loss    1.334 \n",
            "money: work, even, question, result, just, do, idea, god, it, know\n",
            "lion: addition, write, say, least, length, pope, prevent, growth, opposed, size\n",
            "africa: europe, america, india, england, germany, west, east, asia, ireland, china\n",
            "musician: singer, writer, actor, composer, actress, poet, author, politician, famous, rome\n",
            "dance: music, country, traditional, popular, actor, culture, town, business, applied, singer\n",
            "\n",
            "\n"
          ]
        },
        {
          "output_type": "stream",
          "name": "stderr",
          "text": [
            "22501it [40:07,  7.64it/s]"
          ]
        },
        {
          "output_type": "stream",
          "name": "stdout",
          "text": [
            "| epoch   3 | 22500/32580 batches | loss    1.335 \n",
            "money: work, even, question, result, just, do, idea, god, it, know\n",
            "lion: addition, write, say, least, length, pope, prevent, growth, opposed, size\n",
            "africa: europe, america, india, england, germany, west, east, asia, ireland, china\n",
            "musician: singer, writer, actor, composer, actress, poet, author, politician, famous, rome\n",
            "dance: music, country, traditional, popular, actor, culture, town, business, applied, singer\n",
            "\n",
            "\n"
          ]
        },
        {
          "output_type": "stream",
          "name": "stderr",
          "text": [
            "23001it [41:00,  7.68it/s]"
          ]
        },
        {
          "output_type": "stream",
          "name": "stdout",
          "text": [
            "| epoch   3 | 23000/32580 batches | loss    1.329 \n",
            "money: work, even, question, result, just, do, idea, god, it, know\n",
            "lion: addition, write, say, least, length, pope, prevent, growth, opposed, size\n",
            "africa: europe, america, india, england, germany, west, east, asia, ireland, china\n",
            "musician: singer, writer, actor, composer, actress, poet, author, politician, famous, rome\n",
            "dance: music, country, traditional, popular, actor, culture, town, business, applied, singer\n",
            "\n",
            "\n"
          ]
        },
        {
          "output_type": "stream",
          "name": "stderr",
          "text": [
            "23501it [41:54,  7.83it/s]"
          ]
        },
        {
          "output_type": "stream",
          "name": "stdout",
          "text": [
            "| epoch   3 | 23500/32580 batches | loss    1.333 \n",
            "money: work, even, question, result, just, do, idea, god, it, know\n",
            "lion: addition, write, say, least, length, pope, prevent, growth, opposed, size\n",
            "africa: europe, america, india, england, germany, west, east, asia, ireland, china\n",
            "musician: singer, writer, actor, composer, actress, poet, author, politician, famous, rome\n",
            "dance: music, country, traditional, popular, actor, culture, town, business, applied, singer\n",
            "\n",
            "\n"
          ]
        },
        {
          "output_type": "stream",
          "name": "stderr",
          "text": [
            "24001it [42:48,  7.71it/s]"
          ]
        },
        {
          "output_type": "stream",
          "name": "stdout",
          "text": [
            "| epoch   3 | 24000/32580 batches | loss    1.334 \n",
            "money: work, even, question, result, just, do, idea, god, it, know\n",
            "lion: addition, write, say, least, length, pope, prevent, growth, opposed, size\n",
            "africa: europe, america, india, england, germany, west, east, asia, ireland, china\n",
            "musician: singer, writer, actor, composer, actress, poet, author, politician, famous, rome\n",
            "dance: music, country, traditional, popular, actor, culture, town, business, applied, singer\n",
            "\n",
            "\n"
          ]
        },
        {
          "output_type": "stream",
          "name": "stderr",
          "text": [
            "24501it [43:40,  7.67it/s]"
          ]
        },
        {
          "output_type": "stream",
          "name": "stdout",
          "text": [
            "| epoch   3 | 24500/32580 batches | loss    1.330 \n",
            "money: work, even, question, result, just, do, idea, god, it, know\n",
            "lion: addition, write, say, least, length, pope, prevent, growth, opposed, size\n",
            "africa: europe, america, india, england, germany, west, east, asia, ireland, china\n",
            "musician: singer, writer, actor, composer, actress, poet, author, politician, famous, rome\n",
            "dance: music, country, traditional, popular, actor, culture, town, business, applied, singer\n",
            "\n",
            "\n"
          ]
        },
        {
          "output_type": "stream",
          "name": "stderr",
          "text": [
            "25001it [44:33,  7.34it/s]"
          ]
        },
        {
          "output_type": "stream",
          "name": "stdout",
          "text": [
            "| epoch   3 | 25000/32580 batches | loss    1.332 \n",
            "money: work, even, question, result, just, do, idea, god, it, know\n",
            "lion: addition, write, say, least, length, pope, prevent, growth, opposed, size\n",
            "africa: europe, america, india, england, germany, west, east, asia, ireland, china\n",
            "musician: singer, writer, actor, composer, actress, poet, author, politician, famous, rome\n",
            "dance: music, country, traditional, popular, actor, culture, town, business, applied, singer\n",
            "\n",
            "\n"
          ]
        },
        {
          "output_type": "stream",
          "name": "stderr",
          "text": [
            "25501it [45:27,  7.38it/s]"
          ]
        },
        {
          "output_type": "stream",
          "name": "stdout",
          "text": [
            "| epoch   3 | 25500/32580 batches | loss    1.332 \n",
            "money: work, even, question, result, just, do, idea, god, it, know\n",
            "lion: addition, write, say, least, length, pope, prevent, growth, opposed, size\n",
            "africa: europe, america, india, england, germany, west, east, asia, ireland, china\n",
            "musician: singer, writer, actor, composer, actress, poet, author, politician, famous, rome\n",
            "dance: music, country, traditional, popular, actor, culture, town, business, applied, singer\n",
            "\n",
            "\n"
          ]
        },
        {
          "output_type": "stream",
          "name": "stderr",
          "text": [
            "26001it [46:22,  7.66it/s]"
          ]
        },
        {
          "output_type": "stream",
          "name": "stdout",
          "text": [
            "| epoch   3 | 26000/32580 batches | loss    1.328 \n",
            "money: work, even, question, result, just, do, idea, god, it, know\n",
            "lion: addition, write, say, least, length, pope, prevent, growth, opposed, size\n",
            "africa: europe, america, india, england, germany, west, east, asia, ireland, china\n",
            "musician: singer, writer, actor, composer, actress, poet, author, politician, famous, rome\n",
            "dance: music, country, traditional, popular, actor, culture, town, business, applied, singer\n",
            "\n",
            "\n"
          ]
        },
        {
          "output_type": "stream",
          "name": "stderr",
          "text": [
            "26501it [47:15,  7.43it/s]"
          ]
        },
        {
          "output_type": "stream",
          "name": "stdout",
          "text": [
            "| epoch   3 | 26500/32580 batches | loss    1.334 \n",
            "money: work, even, question, result, just, do, idea, god, it, know\n",
            "lion: addition, write, say, least, length, pope, prevent, growth, opposed, size\n",
            "africa: europe, america, india, england, germany, west, east, asia, ireland, china\n",
            "musician: singer, writer, actor, composer, poet, actress, author, politician, famous, rome\n",
            "dance: music, country, traditional, popular, actor, culture, town, business, applied, singer\n",
            "\n",
            "\n"
          ]
        },
        {
          "output_type": "stream",
          "name": "stderr",
          "text": [
            "27001it [48:13,  7.64it/s]"
          ]
        },
        {
          "output_type": "stream",
          "name": "stdout",
          "text": [
            "| epoch   3 | 27000/32580 batches | loss    1.329 \n",
            "money: work, even, question, result, just, do, idea, god, it, know\n",
            "lion: addition, write, say, least, length, pope, prevent, growth, opposed, size\n",
            "africa: europe, america, india, england, germany, west, east, asia, ireland, china\n",
            "musician: singer, writer, actor, composer, poet, actress, author, politician, famous, rome\n",
            "dance: music, country, traditional, popular, actor, culture, town, business, applied, singer\n",
            "\n",
            "\n"
          ]
        },
        {
          "output_type": "stream",
          "name": "stderr",
          "text": [
            "27501it [49:06,  7.66it/s]"
          ]
        },
        {
          "output_type": "stream",
          "name": "stdout",
          "text": [
            "| epoch   3 | 27500/32580 batches | loss    1.332 \n",
            "money: work, even, question, result, just, do, idea, god, it, know\n",
            "lion: addition, write, say, least, length, pope, prevent, growth, opposed, size\n",
            "africa: europe, america, india, england, germany, west, east, asia, ireland, china\n",
            "musician: singer, writer, actor, composer, poet, actress, author, politician, famous, rome\n",
            "dance: music, country, traditional, popular, actor, culture, town, business, applied, singer\n",
            "\n",
            "\n"
          ]
        },
        {
          "output_type": "stream",
          "name": "stderr",
          "text": [
            "28001it [49:59,  7.88it/s]"
          ]
        },
        {
          "output_type": "stream",
          "name": "stdout",
          "text": [
            "| epoch   3 | 28000/32580 batches | loss    1.329 \n",
            "money: work, even, question, result, just, do, idea, god, it, know\n",
            "lion: addition, write, say, least, length, pope, prevent, growth, opposed, size\n",
            "africa: europe, america, india, england, germany, west, east, asia, ireland, china\n",
            "musician: singer, writer, actor, composer, poet, actress, author, politician, famous, rome\n",
            "dance: music, country, traditional, popular, actor, culture, town, business, applied, singer\n",
            "\n",
            "\n"
          ]
        },
        {
          "output_type": "stream",
          "name": "stderr",
          "text": [
            "28501it [50:53,  7.48it/s]"
          ]
        },
        {
          "output_type": "stream",
          "name": "stdout",
          "text": [
            "| epoch   3 | 28500/32580 batches | loss    1.335 \n",
            "money: work, even, question, result, just, do, idea, god, it, know\n",
            "lion: addition, write, say, least, length, pope, prevent, growth, opposed, size\n",
            "africa: europe, america, india, england, germany, west, east, asia, ireland, china\n",
            "musician: singer, writer, actor, composer, poet, actress, author, politician, famous, rome\n",
            "dance: music, country, traditional, popular, actor, culture, town, business, applied, singer\n",
            "\n",
            "\n"
          ]
        },
        {
          "output_type": "stream",
          "name": "stderr",
          "text": [
            "29001it [51:46,  7.72it/s]"
          ]
        },
        {
          "output_type": "stream",
          "name": "stdout",
          "text": [
            "| epoch   3 | 29000/32580 batches | loss    1.334 \n",
            "money: work, even, question, result, just, do, idea, god, it, know\n",
            "lion: addition, write, say, least, length, pope, prevent, growth, opposed, size\n",
            "africa: europe, america, india, england, germany, west, east, asia, ireland, china\n",
            "musician: singer, writer, actor, composer, poet, actress, author, politician, famous, rome\n",
            "dance: music, country, traditional, popular, actor, culture, town, business, applied, singer\n",
            "\n",
            "\n"
          ]
        },
        {
          "output_type": "stream",
          "name": "stderr",
          "text": [
            "29501it [52:40,  7.21it/s]"
          ]
        },
        {
          "output_type": "stream",
          "name": "stdout",
          "text": [
            "| epoch   3 | 29500/32580 batches | loss    1.333 \n",
            "money: work, even, question, result, just, do, idea, god, it, know\n",
            "lion: addition, write, say, least, length, pope, prevent, growth, opposed, size\n",
            "africa: europe, america, india, england, germany, west, east, asia, ireland, china\n",
            "musician: singer, writer, actor, composer, poet, actress, author, politician, famous, rome\n",
            "dance: music, country, traditional, popular, actor, culture, town, business, applied, singer\n",
            "\n",
            "\n"
          ]
        },
        {
          "output_type": "stream",
          "name": "stderr",
          "text": [
            "30001it [53:34,  7.63it/s]"
          ]
        },
        {
          "output_type": "stream",
          "name": "stdout",
          "text": [
            "| epoch   3 | 30000/32580 batches | loss    1.332 \n",
            "money: work, even, question, result, just, do, idea, god, it, know\n",
            "lion: addition, write, say, least, length, pope, prevent, growth, opposed, size\n",
            "africa: europe, america, india, england, germany, west, east, asia, ireland, china\n",
            "musician: singer, writer, actor, composer, poet, actress, author, politician, famous, rome\n",
            "dance: music, country, traditional, popular, actor, culture, town, business, applied, singer\n",
            "\n",
            "\n"
          ]
        },
        {
          "output_type": "stream",
          "name": "stderr",
          "text": [
            "30501it [54:27,  7.81it/s]"
          ]
        },
        {
          "output_type": "stream",
          "name": "stdout",
          "text": [
            "| epoch   3 | 30500/32580 batches | loss    1.334 \n",
            "money: work, even, question, result, just, do, idea, god, it, know\n",
            "lion: addition, write, say, least, length, pope, prevent, growth, opposed, size\n",
            "africa: europe, america, india, england, germany, west, east, asia, ireland, china\n",
            "musician: singer, writer, actor, composer, poet, actress, author, politician, famous, rome\n",
            "dance: music, country, traditional, popular, actor, culture, town, business, applied, singer\n",
            "\n",
            "\n"
          ]
        },
        {
          "output_type": "stream",
          "name": "stderr",
          "text": [
            "31001it [55:21,  7.72it/s]"
          ]
        },
        {
          "output_type": "stream",
          "name": "stdout",
          "text": [
            "| epoch   3 | 31000/32580 batches | loss    1.334 \n",
            "money: work, even, question, result, just, do, idea, god, it, know\n",
            "lion: addition, write, say, least, length, pope, prevent, growth, opposed, size\n",
            "africa: europe, america, india, england, germany, west, east, asia, ireland, china\n",
            "musician: singer, writer, actor, composer, poet, actress, author, politician, famous, rome\n",
            "dance: music, country, traditional, popular, actor, culture, town, business, applied, singer\n",
            "\n",
            "\n"
          ]
        },
        {
          "output_type": "stream",
          "name": "stderr",
          "text": [
            "31501it [56:15,  7.41it/s]"
          ]
        },
        {
          "output_type": "stream",
          "name": "stdout",
          "text": [
            "| epoch   3 | 31500/32580 batches | loss    1.333 \n",
            "money: work, even, question, result, just, do, idea, god, it, know\n",
            "lion: addition, write, say, least, length, pope, prevent, growth, opposed, size\n",
            "africa: europe, america, india, england, germany, west, east, asia, ireland, china\n",
            "musician: singer, writer, actor, composer, poet, actress, author, politician, famous, rome\n",
            "dance: music, country, traditional, popular, actor, culture, town, business, applied, singer\n",
            "\n",
            "\n"
          ]
        },
        {
          "output_type": "stream",
          "name": "stderr",
          "text": [
            "32001it [57:08,  7.72it/s]"
          ]
        },
        {
          "output_type": "stream",
          "name": "stdout",
          "text": [
            "| epoch   3 | 32000/32580 batches | loss    1.334 \n",
            "money: work, even, question, result, just, do, idea, god, it, know\n",
            "lion: addition, write, say, least, length, pope, prevent, growth, opposed, size\n",
            "africa: europe, america, india, england, germany, west, east, asia, ireland, china\n",
            "musician: singer, writer, actor, composer, poet, actress, author, politician, famous, rome\n",
            "dance: music, country, traditional, popular, actor, culture, town, business, applied, singer\n",
            "\n",
            "\n"
          ]
        },
        {
          "output_type": "stream",
          "name": "stderr",
          "text": [
            "32501it [58:02,  7.62it/s]"
          ]
        },
        {
          "output_type": "stream",
          "name": "stdout",
          "text": [
            "| epoch   3 | 32500/32580 batches | loss    1.330 \n",
            "money: work, even, question, result, just, do, idea, god, it, know\n",
            "lion: addition, write, say, least, length, pope, prevent, growth, opposed, size\n",
            "africa: europe, america, india, england, germany, west, east, asia, ireland, china\n",
            "musician: singer, writer, actor, composer, poet, actress, author, politician, famous, rome\n",
            "dance: music, country, traditional, popular, actor, culture, town, business, applied, singer\n",
            "\n",
            "\n"
          ]
        },
        {
          "output_type": "stream",
          "name": "stderr",
          "text": [
            "32580it [58:13,  9.33it/s]\n",
            "1it [00:02,  2.06s/it]"
          ]
        },
        {
          "output_type": "stream",
          "name": "stdout",
          "text": [
            "| epoch   4 |     0/32580 batches | loss    1.351 \n",
            "money: work, even, question, result, just, do, idea, god, it, know\n",
            "lion: addition, write, say, least, length, pope, prevent, growth, opposed, size\n",
            "africa: europe, america, india, england, germany, west, east, asia, ireland, china\n",
            "musician: singer, writer, actor, composer, poet, actress, author, politician, famous, rome\n",
            "dance: music, country, traditional, popular, actor, culture, town, business, applied, singer\n",
            "\n",
            "\n"
          ]
        },
        {
          "output_type": "stream",
          "name": "stderr",
          "text": [
            "501it [00:54,  7.77it/s]"
          ]
        },
        {
          "output_type": "stream",
          "name": "stdout",
          "text": [
            "| epoch   4 |   500/32580 batches | loss    1.331 \n",
            "money: work, even, question, result, just, do, idea, god, it, know\n",
            "lion: addition, write, say, least, length, pope, prevent, growth, opposed, size\n",
            "africa: europe, america, india, england, germany, west, east, asia, ireland, china\n",
            "musician: singer, writer, actor, composer, poet, actress, author, politician, famous, rome\n",
            "dance: music, country, traditional, popular, actor, culture, town, business, applied, singer\n",
            "\n",
            "\n"
          ]
        },
        {
          "output_type": "stream",
          "name": "stderr",
          "text": [
            "1001it [01:48,  7.75it/s]"
          ]
        },
        {
          "output_type": "stream",
          "name": "stdout",
          "text": [
            "| epoch   4 |  1000/32580 batches | loss    1.331 \n",
            "money: work, even, question, result, just, do, idea, god, it, know\n",
            "lion: addition, write, say, least, length, pope, prevent, growth, opposed, size\n",
            "africa: europe, america, india, england, germany, west, east, asia, ireland, china\n",
            "musician: singer, writer, actor, composer, poet, actress, author, politician, famous, rome\n",
            "dance: music, country, traditional, popular, actor, culture, town, business, applied, singer\n",
            "\n",
            "\n"
          ]
        },
        {
          "output_type": "stream",
          "name": "stderr",
          "text": [
            "1501it [02:42,  7.78it/s]"
          ]
        },
        {
          "output_type": "stream",
          "name": "stdout",
          "text": [
            "| epoch   4 |  1500/32580 batches | loss    1.330 \n",
            "money: work, even, question, result, just, do, idea, god, it, know\n",
            "lion: addition, write, say, least, length, pope, prevent, growth, opposed, size\n",
            "africa: europe, america, india, england, germany, west, east, asia, ireland, china\n",
            "musician: singer, writer, actor, composer, poet, actress, author, politician, famous, rome\n",
            "dance: music, country, traditional, popular, actor, culture, town, business, applied, singer\n",
            "\n",
            "\n"
          ]
        },
        {
          "output_type": "stream",
          "name": "stderr",
          "text": [
            "2001it [03:36,  7.76it/s]"
          ]
        },
        {
          "output_type": "stream",
          "name": "stdout",
          "text": [
            "| epoch   4 |  2000/32580 batches | loss    1.330 \n",
            "money: work, even, question, result, just, do, idea, god, it, know\n",
            "lion: addition, write, say, least, length, pope, prevent, growth, opposed, size\n",
            "africa: europe, america, india, england, germany, west, east, asia, ireland, china\n",
            "musician: singer, writer, actor, composer, poet, actress, author, politician, famous, rome\n",
            "dance: music, country, traditional, popular, actor, culture, town, business, applied, singer\n",
            "\n",
            "\n"
          ]
        },
        {
          "output_type": "stream",
          "name": "stderr",
          "text": [
            "2501it [04:29,  7.38it/s]"
          ]
        },
        {
          "output_type": "stream",
          "name": "stdout",
          "text": [
            "| epoch   4 |  2500/32580 batches | loss    1.329 \n",
            "money: work, even, question, result, just, do, idea, god, it, know\n",
            "lion: addition, write, say, least, length, pope, prevent, growth, opposed, size\n",
            "africa: europe, america, india, england, germany, west, east, asia, ireland, china\n",
            "musician: singer, writer, actor, composer, poet, actress, author, politician, famous, rome\n",
            "dance: music, country, traditional, popular, actor, culture, town, business, applied, singer\n",
            "\n",
            "\n"
          ]
        },
        {
          "output_type": "stream",
          "name": "stderr",
          "text": [
            "3001it [05:23,  7.26it/s]"
          ]
        },
        {
          "output_type": "stream",
          "name": "stdout",
          "text": [
            "| epoch   4 |  3000/32580 batches | loss    1.333 \n",
            "money: work, even, question, result, just, do, idea, god, it, know\n",
            "lion: addition, write, say, least, length, pope, prevent, growth, opposed, size\n",
            "africa: europe, america, india, england, germany, west, east, asia, ireland, china\n",
            "musician: singer, writer, actor, composer, poet, actress, author, politician, famous, rome\n",
            "dance: music, country, traditional, popular, actor, culture, town, business, applied, singer\n",
            "\n",
            "\n"
          ]
        },
        {
          "output_type": "stream",
          "name": "stderr",
          "text": [
            "3501it [06:15,  7.75it/s]"
          ]
        },
        {
          "output_type": "stream",
          "name": "stdout",
          "text": [
            "| epoch   4 |  3500/32580 batches | loss    1.332 \n",
            "money: work, even, question, result, just, do, idea, god, it, know\n",
            "lion: addition, write, say, least, length, pope, prevent, growth, opposed, size\n",
            "africa: europe, america, india, england, germany, west, east, asia, ireland, china\n",
            "musician: singer, writer, actor, composer, poet, actress, author, politician, famous, rome\n",
            "dance: music, country, traditional, popular, actor, culture, town, business, applied, singer\n",
            "\n",
            "\n"
          ]
        },
        {
          "output_type": "stream",
          "name": "stderr",
          "text": [
            "4001it [07:08,  7.89it/s]"
          ]
        },
        {
          "output_type": "stream",
          "name": "stdout",
          "text": [
            "| epoch   4 |  4000/32580 batches | loss    1.330 \n",
            "money: work, even, question, result, just, do, idea, god, it, know\n",
            "lion: addition, write, say, least, length, pope, prevent, growth, opposed, size\n",
            "africa: europe, america, india, england, germany, west, east, asia, ireland, china\n",
            "musician: singer, writer, actor, composer, poet, actress, author, politician, famous, rome\n",
            "dance: music, country, traditional, popular, actor, culture, town, business, applied, singer\n",
            "\n",
            "\n"
          ]
        },
        {
          "output_type": "stream",
          "name": "stderr",
          "text": [
            "4501it [08:02,  7.72it/s]"
          ]
        },
        {
          "output_type": "stream",
          "name": "stdout",
          "text": [
            "| epoch   4 |  4500/32580 batches | loss    1.332 \n",
            "money: work, even, question, result, just, do, idea, god, it, know\n",
            "lion: addition, write, say, least, length, pope, prevent, growth, opposed, size\n",
            "africa: europe, america, india, england, germany, west, east, asia, ireland, china\n",
            "musician: singer, writer, actor, composer, poet, actress, author, politician, famous, rome\n",
            "dance: music, country, traditional, popular, actor, culture, town, business, applied, singer\n",
            "\n",
            "\n"
          ]
        },
        {
          "output_type": "stream",
          "name": "stderr",
          "text": [
            "5001it [08:55,  7.83it/s]"
          ]
        },
        {
          "output_type": "stream",
          "name": "stdout",
          "text": [
            "| epoch   4 |  5000/32580 batches | loss    1.332 \n",
            "money: work, even, question, result, just, do, idea, god, it, know\n",
            "lion: addition, write, say, least, length, pope, prevent, growth, opposed, size\n",
            "africa: europe, america, india, england, germany, west, east, asia, ireland, china\n",
            "musician: singer, writer, actor, composer, poet, actress, author, politician, famous, rome\n",
            "dance: music, country, traditional, popular, actor, culture, town, business, applied, singer\n",
            "\n",
            "\n"
          ]
        },
        {
          "output_type": "stream",
          "name": "stderr",
          "text": [
            "5501it [09:48,  7.86it/s]"
          ]
        },
        {
          "output_type": "stream",
          "name": "stdout",
          "text": [
            "| epoch   4 |  5500/32580 batches | loss    1.332 \n",
            "money: work, even, question, result, just, do, idea, god, it, know\n",
            "lion: addition, write, say, least, length, pope, prevent, growth, opposed, size\n",
            "africa: europe, america, india, england, germany, west, east, asia, ireland, china\n",
            "musician: singer, writer, actor, composer, poet, actress, author, politician, famous, rome\n",
            "dance: music, country, traditional, popular, actor, culture, town, business, applied, singer\n",
            "\n",
            "\n"
          ]
        },
        {
          "output_type": "stream",
          "name": "stderr",
          "text": [
            "6001it [10:41,  7.33it/s]"
          ]
        },
        {
          "output_type": "stream",
          "name": "stdout",
          "text": [
            "| epoch   4 |  6000/32580 batches | loss    1.333 \n",
            "money: work, even, question, result, just, do, idea, god, it, know\n",
            "lion: addition, write, say, least, length, pope, prevent, growth, opposed, size\n",
            "africa: europe, america, india, england, germany, west, east, asia, ireland, china\n",
            "musician: singer, writer, actor, composer, poet, actress, author, politician, famous, rome\n",
            "dance: music, country, traditional, popular, actor, culture, town, business, applied, singer\n",
            "\n",
            "\n"
          ]
        },
        {
          "output_type": "stream",
          "name": "stderr",
          "text": [
            "6501it [11:35,  7.81it/s]"
          ]
        },
        {
          "output_type": "stream",
          "name": "stdout",
          "text": [
            "| epoch   4 |  6500/32580 batches | loss    1.330 \n",
            "money: work, even, question, result, just, do, idea, god, it, know\n",
            "lion: addition, write, say, least, length, pope, prevent, growth, opposed, size\n",
            "africa: europe, america, india, england, germany, west, east, asia, ireland, china\n",
            "musician: singer, writer, actor, composer, poet, actress, author, politician, famous, rome\n",
            "dance: music, country, traditional, popular, actor, culture, town, business, applied, singer\n",
            "\n",
            "\n"
          ]
        },
        {
          "output_type": "stream",
          "name": "stderr",
          "text": [
            "7001it [12:27,  7.65it/s]"
          ]
        },
        {
          "output_type": "stream",
          "name": "stdout",
          "text": [
            "| epoch   4 |  7000/32580 batches | loss    1.329 \n",
            "money: work, even, question, result, just, do, idea, god, it, know\n",
            "lion: addition, write, say, least, length, pope, prevent, growth, opposed, size\n",
            "africa: europe, america, india, england, germany, west, east, asia, ireland, china\n",
            "musician: singer, writer, actor, composer, poet, actress, author, politician, famous, rome\n",
            "dance: music, country, traditional, popular, actor, culture, town, business, applied, singer\n",
            "\n",
            "\n"
          ]
        },
        {
          "output_type": "stream",
          "name": "stderr",
          "text": [
            "7501it [13:20,  7.74it/s]"
          ]
        },
        {
          "output_type": "stream",
          "name": "stdout",
          "text": [
            "| epoch   4 |  7500/32580 batches | loss    1.331 \n",
            "money: work, even, question, result, just, do, idea, god, it, know\n",
            "lion: addition, write, say, least, length, pope, prevent, growth, opposed, size\n",
            "africa: europe, america, india, england, germany, west, east, asia, ireland, china\n",
            "musician: singer, writer, actor, composer, poet, actress, author, politician, famous, rome\n",
            "dance: music, country, traditional, popular, actor, culture, town, business, applied, singer\n",
            "\n",
            "\n"
          ]
        },
        {
          "output_type": "stream",
          "name": "stderr",
          "text": [
            "8001it [14:13,  7.20it/s]"
          ]
        },
        {
          "output_type": "stream",
          "name": "stdout",
          "text": [
            "| epoch   4 |  8000/32580 batches | loss    1.328 \n",
            "money: work, even, question, result, just, do, idea, god, it, know\n",
            "lion: addition, write, say, least, length, pope, prevent, growth, opposed, size\n",
            "africa: europe, america, india, england, germany, west, east, asia, ireland, china\n",
            "musician: singer, writer, actor, composer, poet, actress, author, politician, famous, rome\n",
            "dance: music, country, traditional, popular, actor, culture, town, business, applied, singer\n",
            "\n",
            "\n"
          ]
        },
        {
          "output_type": "stream",
          "name": "stderr",
          "text": [
            "8501it [15:06,  7.79it/s]"
          ]
        },
        {
          "output_type": "stream",
          "name": "stdout",
          "text": [
            "| epoch   4 |  8500/32580 batches | loss    1.334 \n",
            "money: work, even, question, result, just, do, idea, god, it, know\n",
            "lion: addition, write, say, least, length, pope, prevent, growth, opposed, size\n",
            "africa: europe, america, india, england, germany, west, east, asia, ireland, china\n",
            "musician: singer, writer, actor, composer, poet, actress, author, politician, famous, rome\n",
            "dance: music, country, traditional, popular, actor, culture, town, business, applied, singer\n",
            "\n",
            "\n"
          ]
        },
        {
          "output_type": "stream",
          "name": "stderr",
          "text": [
            "9001it [16:00,  7.67it/s]"
          ]
        },
        {
          "output_type": "stream",
          "name": "stdout",
          "text": [
            "| epoch   4 |  9000/32580 batches | loss    1.330 \n",
            "money: work, even, question, result, just, do, idea, god, it, know\n",
            "lion: addition, write, say, least, length, pope, prevent, growth, opposed, size\n",
            "africa: europe, america, india, england, germany, west, east, asia, ireland, china\n",
            "musician: singer, writer, actor, composer, poet, actress, author, politician, famous, rome\n",
            "dance: music, country, traditional, popular, actor, culture, town, business, applied, singer\n",
            "\n",
            "\n"
          ]
        },
        {
          "output_type": "stream",
          "name": "stderr",
          "text": [
            "9501it [16:54,  7.83it/s]"
          ]
        },
        {
          "output_type": "stream",
          "name": "stdout",
          "text": [
            "| epoch   4 |  9500/32580 batches | loss    1.332 \n",
            "money: work, even, question, result, just, do, idea, god, it, know\n",
            "lion: addition, write, say, least, length, pope, prevent, growth, opposed, size\n",
            "africa: europe, america, india, england, germany, west, east, asia, ireland, china\n",
            "musician: singer, writer, actor, composer, poet, actress, author, politician, famous, rome\n",
            "dance: music, country, traditional, popular, actor, culture, town, business, applied, singer\n",
            "\n",
            "\n"
          ]
        },
        {
          "output_type": "stream",
          "name": "stderr",
          "text": [
            "10001it [17:47,  7.75it/s]"
          ]
        },
        {
          "output_type": "stream",
          "name": "stdout",
          "text": [
            "| epoch   4 | 10000/32580 batches | loss    1.330 \n",
            "money: work, even, question, result, just, do, idea, god, it, know\n",
            "lion: addition, write, say, least, length, pope, prevent, growth, opposed, size\n",
            "africa: europe, america, india, england, germany, west, east, asia, ireland, china\n",
            "musician: singer, writer, actor, composer, poet, actress, author, politician, famous, rome\n",
            "dance: music, country, traditional, popular, actor, culture, town, business, applied, singer\n",
            "\n",
            "\n"
          ]
        },
        {
          "output_type": "stream",
          "name": "stderr",
          "text": [
            "10501it [18:40,  7.85it/s]"
          ]
        },
        {
          "output_type": "stream",
          "name": "stdout",
          "text": [
            "| epoch   4 | 10500/32580 batches | loss    1.330 \n",
            "money: work, even, question, result, just, do, idea, god, it, know\n",
            "lion: addition, write, say, least, length, pope, prevent, growth, opposed, size\n",
            "africa: europe, america, india, england, germany, west, east, asia, ireland, china\n",
            "musician: singer, writer, actor, composer, poet, actress, author, politician, famous, rome\n",
            "dance: music, country, traditional, popular, actor, culture, town, business, applied, singer\n",
            "\n",
            "\n"
          ]
        },
        {
          "output_type": "stream",
          "name": "stderr",
          "text": [
            "11001it [19:33,  7.92it/s]"
          ]
        },
        {
          "output_type": "stream",
          "name": "stdout",
          "text": [
            "| epoch   4 | 11000/32580 batches | loss    1.329 \n",
            "money: work, even, question, result, just, do, idea, god, it, know\n",
            "lion: addition, write, say, least, length, pope, prevent, growth, opposed, size\n",
            "africa: europe, america, india, england, germany, west, east, asia, ireland, china\n",
            "musician: singer, writer, actor, composer, poet, actress, author, politician, famous, rome\n",
            "dance: music, country, traditional, popular, actor, culture, town, business, applied, singer\n",
            "\n",
            "\n"
          ]
        },
        {
          "output_type": "stream",
          "name": "stderr",
          "text": [
            "11501it [20:26,  7.76it/s]"
          ]
        },
        {
          "output_type": "stream",
          "name": "stdout",
          "text": [
            "| epoch   4 | 11500/32580 batches | loss    1.327 \n",
            "money: work, even, question, result, just, do, idea, god, it, know\n",
            "lion: addition, write, say, least, length, pope, prevent, growth, opposed, size\n",
            "africa: europe, america, india, england, germany, west, east, asia, ireland, china\n",
            "musician: singer, writer, actor, composer, poet, actress, author, politician, famous, rome\n",
            "dance: music, country, traditional, popular, actor, culture, town, business, applied, singer\n",
            "\n",
            "\n"
          ]
        },
        {
          "output_type": "stream",
          "name": "stderr",
          "text": [
            "12001it [21:20,  7.66it/s]"
          ]
        },
        {
          "output_type": "stream",
          "name": "stdout",
          "text": [
            "| epoch   4 | 12000/32580 batches | loss    1.330 \n",
            "money: work, even, question, result, just, do, idea, god, it, know\n",
            "lion: addition, write, say, least, length, pope, prevent, growth, opposed, size\n",
            "africa: europe, america, india, england, germany, west, east, asia, ireland, china\n",
            "musician: singer, writer, actor, composer, poet, actress, author, politician, famous, rome\n",
            "dance: music, country, traditional, popular, actor, culture, town, business, applied, singer\n",
            "\n",
            "\n"
          ]
        },
        {
          "output_type": "stream",
          "name": "stderr",
          "text": [
            "12501it [22:12,  7.91it/s]"
          ]
        },
        {
          "output_type": "stream",
          "name": "stdout",
          "text": [
            "| epoch   4 | 12500/32580 batches | loss    1.331 \n",
            "money: work, even, question, result, just, do, idea, god, it, know\n",
            "lion: addition, write, say, least, length, pope, prevent, growth, opposed, size\n",
            "africa: europe, america, india, england, germany, west, east, asia, ireland, china\n",
            "musician: singer, writer, actor, composer, poet, actress, author, politician, famous, rome\n",
            "dance: music, country, traditional, popular, actor, culture, town, business, applied, singer\n",
            "\n",
            "\n"
          ]
        },
        {
          "output_type": "stream",
          "name": "stderr",
          "text": [
            "13001it [23:06,  7.70it/s]"
          ]
        },
        {
          "output_type": "stream",
          "name": "stdout",
          "text": [
            "| epoch   4 | 13000/32580 batches | loss    1.335 \n",
            "money: work, even, question, result, just, do, idea, god, it, know\n",
            "lion: addition, write, say, least, length, pope, prevent, growth, opposed, size\n",
            "africa: europe, america, india, england, germany, west, east, asia, ireland, china\n",
            "musician: singer, writer, actor, composer, poet, actress, author, politician, famous, rome\n",
            "dance: music, country, traditional, popular, actor, culture, town, business, applied, singer\n",
            "\n",
            "\n"
          ]
        },
        {
          "output_type": "stream",
          "name": "stderr",
          "text": [
            "13501it [23:59,  7.72it/s]"
          ]
        },
        {
          "output_type": "stream",
          "name": "stdout",
          "text": [
            "| epoch   4 | 13500/32580 batches | loss    1.327 \n",
            "money: work, even, question, result, just, do, idea, god, it, know\n",
            "lion: addition, write, say, least, length, pope, prevent, growth, opposed, size\n",
            "africa: europe, america, india, england, germany, west, east, asia, ireland, china\n",
            "musician: singer, writer, actor, composer, poet, actress, author, politician, famous, rome\n",
            "dance: music, country, traditional, popular, actor, culture, town, business, applied, singer\n",
            "\n",
            "\n"
          ]
        },
        {
          "output_type": "stream",
          "name": "stderr",
          "text": [
            "14001it [24:53,  7.65it/s]"
          ]
        },
        {
          "output_type": "stream",
          "name": "stdout",
          "text": [
            "| epoch   4 | 14000/32580 batches | loss    1.335 \n",
            "money: work, even, question, result, just, do, idea, god, it, know\n",
            "lion: addition, write, say, least, length, pope, prevent, growth, opposed, size\n",
            "africa: europe, america, india, england, germany, west, east, asia, ireland, china\n",
            "musician: singer, writer, actor, composer, poet, actress, author, politician, famous, rome\n",
            "dance: music, country, traditional, popular, actor, culture, town, business, applied, singer\n",
            "\n",
            "\n"
          ]
        },
        {
          "output_type": "stream",
          "name": "stderr",
          "text": [
            "14501it [25:46,  7.83it/s]"
          ]
        },
        {
          "output_type": "stream",
          "name": "stdout",
          "text": [
            "| epoch   4 | 14500/32580 batches | loss    1.332 \n",
            "money: work, even, question, result, just, do, idea, god, it, know\n",
            "lion: addition, write, say, least, length, pope, prevent, growth, opposed, size\n",
            "africa: europe, america, india, england, germany, west, east, asia, ireland, china\n",
            "musician: singer, writer, actor, composer, poet, actress, author, politician, famous, rome\n",
            "dance: music, country, traditional, popular, actor, culture, town, business, applied, singer\n",
            "\n",
            "\n"
          ]
        },
        {
          "output_type": "stream",
          "name": "stderr",
          "text": [
            "15001it [26:39,  7.30it/s]"
          ]
        },
        {
          "output_type": "stream",
          "name": "stdout",
          "text": [
            "| epoch   4 | 15000/32580 batches | loss    1.331 \n",
            "money: work, even, question, result, just, do, idea, god, it, know\n",
            "lion: addition, write, say, least, length, pope, prevent, growth, opposed, size\n",
            "africa: europe, america, india, england, germany, west, east, asia, ireland, china\n",
            "musician: singer, writer, actor, composer, poet, actress, author, politician, famous, rome\n",
            "dance: music, country, traditional, popular, actor, culture, town, business, applied, singer\n",
            "\n",
            "\n"
          ]
        },
        {
          "output_type": "stream",
          "name": "stderr",
          "text": [
            "15501it [27:33,  7.09it/s]"
          ]
        },
        {
          "output_type": "stream",
          "name": "stdout",
          "text": [
            "| epoch   4 | 15500/32580 batches | loss    1.331 \n",
            "money: work, even, question, result, just, do, idea, god, it, know\n",
            "lion: addition, write, say, least, length, pope, prevent, growth, opposed, size\n",
            "africa: europe, america, india, england, germany, west, east, asia, ireland, china\n",
            "musician: singer, writer, actor, composer, poet, actress, author, politician, famous, rome\n",
            "dance: music, country, traditional, popular, actor, culture, town, business, applied, singer\n",
            "\n",
            "\n"
          ]
        },
        {
          "output_type": "stream",
          "name": "stderr",
          "text": [
            "16001it [28:26,  7.51it/s]"
          ]
        },
        {
          "output_type": "stream",
          "name": "stdout",
          "text": [
            "| epoch   4 | 16000/32580 batches | loss    1.330 \n",
            "money: work, even, question, result, just, do, idea, god, it, know\n",
            "lion: addition, write, say, least, length, pope, prevent, growth, opposed, size\n",
            "africa: europe, america, india, england, germany, west, east, asia, ireland, china\n",
            "musician: singer, writer, actor, composer, poet, actress, author, politician, famous, rome\n",
            "dance: music, country, traditional, popular, actor, culture, town, business, applied, singer\n",
            "\n",
            "\n"
          ]
        },
        {
          "output_type": "stream",
          "name": "stderr",
          "text": [
            "16501it [29:21,  7.44it/s]"
          ]
        },
        {
          "output_type": "stream",
          "name": "stdout",
          "text": [
            "| epoch   4 | 16500/32580 batches | loss    1.330 \n",
            "money: work, even, question, result, just, do, idea, god, it, know\n",
            "lion: addition, write, say, least, length, pope, prevent, growth, opposed, size\n",
            "africa: europe, america, india, england, germany, west, east, asia, ireland, china\n",
            "musician: singer, writer, actor, composer, poet, actress, author, politician, famous, rome\n",
            "dance: music, country, traditional, popular, actor, culture, town, business, applied, singer\n",
            "\n",
            "\n"
          ]
        },
        {
          "output_type": "stream",
          "name": "stderr",
          "text": [
            "17001it [30:14,  7.82it/s]"
          ]
        },
        {
          "output_type": "stream",
          "name": "stdout",
          "text": [
            "| epoch   4 | 17000/32580 batches | loss    1.328 \n",
            "money: work, even, question, result, just, do, idea, god, it, know\n",
            "lion: addition, write, say, least, length, pope, prevent, growth, opposed, size\n",
            "africa: europe, america, india, england, germany, west, east, asia, ireland, china\n",
            "musician: singer, writer, actor, composer, poet, actress, author, politician, famous, rome\n",
            "dance: music, country, traditional, popular, actor, culture, town, business, applied, singer\n",
            "\n",
            "\n"
          ]
        },
        {
          "output_type": "stream",
          "name": "stderr",
          "text": [
            "17501it [31:11,  7.86it/s]"
          ]
        },
        {
          "output_type": "stream",
          "name": "stdout",
          "text": [
            "| epoch   4 | 17500/32580 batches | loss    1.332 \n",
            "money: work, even, question, result, just, do, idea, god, it, know\n",
            "lion: addition, write, say, least, length, pope, prevent, growth, opposed, size\n",
            "africa: europe, america, india, england, germany, west, east, asia, ireland, china\n",
            "musician: singer, writer, actor, composer, poet, actress, author, politician, famous, rome\n",
            "dance: music, country, traditional, popular, actor, culture, town, business, applied, singer\n",
            "\n",
            "\n"
          ]
        },
        {
          "output_type": "stream",
          "name": "stderr",
          "text": [
            "18001it [32:04,  7.80it/s]"
          ]
        },
        {
          "output_type": "stream",
          "name": "stdout",
          "text": [
            "| epoch   4 | 18000/32580 batches | loss    1.329 \n",
            "money: work, even, question, result, just, do, idea, god, it, know\n",
            "lion: addition, write, say, least, length, pope, prevent, growth, opposed, size\n",
            "africa: europe, america, india, england, germany, west, east, asia, ireland, china\n",
            "musician: singer, writer, actor, composer, poet, actress, author, politician, famous, rome\n",
            "dance: music, country, traditional, popular, actor, culture, town, business, applied, singer\n",
            "\n",
            "\n"
          ]
        },
        {
          "output_type": "stream",
          "name": "stderr",
          "text": [
            "18501it [32:56,  7.63it/s]"
          ]
        },
        {
          "output_type": "stream",
          "name": "stdout",
          "text": [
            "| epoch   4 | 18500/32580 batches | loss    1.333 \n",
            "money: work, even, question, result, just, do, idea, god, it, know\n",
            "lion: addition, write, say, least, length, pope, prevent, growth, opposed, size\n",
            "africa: europe, america, india, england, germany, west, east, asia, ireland, china\n",
            "musician: singer, writer, actor, composer, poet, actress, author, politician, famous, rome\n",
            "dance: music, country, traditional, popular, actor, culture, town, business, applied, singer\n",
            "\n",
            "\n"
          ]
        },
        {
          "output_type": "stream",
          "name": "stderr",
          "text": [
            "19001it [33:49,  7.71it/s]"
          ]
        },
        {
          "output_type": "stream",
          "name": "stdout",
          "text": [
            "| epoch   4 | 19000/32580 batches | loss    1.331 \n",
            "money: work, even, question, result, just, do, idea, god, it, know\n",
            "lion: addition, write, say, least, length, pope, prevent, growth, opposed, size\n",
            "africa: europe, america, india, england, germany, west, east, asia, ireland, china\n",
            "musician: singer, writer, actor, composer, poet, actress, author, politician, famous, rome\n",
            "dance: music, country, traditional, popular, actor, culture, town, business, applied, singer\n",
            "\n",
            "\n"
          ]
        },
        {
          "output_type": "stream",
          "name": "stderr",
          "text": [
            "19501it [34:43,  7.72it/s]"
          ]
        },
        {
          "output_type": "stream",
          "name": "stdout",
          "text": [
            "| epoch   4 | 19500/32580 batches | loss    1.327 \n",
            "money: work, even, question, result, just, do, idea, god, it, know\n",
            "lion: addition, write, say, least, length, pope, prevent, growth, opposed, size\n",
            "africa: europe, america, india, england, germany, west, east, asia, ireland, china\n",
            "musician: singer, writer, actor, composer, poet, actress, author, politician, famous, rome\n",
            "dance: music, country, traditional, popular, actor, culture, town, business, applied, singer\n",
            "\n",
            "\n"
          ]
        },
        {
          "output_type": "stream",
          "name": "stderr",
          "text": [
            "20001it [35:35,  7.64it/s]"
          ]
        },
        {
          "output_type": "stream",
          "name": "stdout",
          "text": [
            "| epoch   4 | 20000/32580 batches | loss    1.331 \n",
            "money: work, even, question, result, just, do, idea, god, it, know\n",
            "lion: addition, write, say, least, length, pope, prevent, growth, opposed, size\n",
            "africa: europe, america, india, england, germany, west, east, asia, ireland, china\n",
            "musician: singer, writer, actor, composer, poet, actress, author, politician, famous, rome\n",
            "dance: music, country, traditional, popular, actor, culture, town, business, applied, singer\n",
            "\n",
            "\n"
          ]
        },
        {
          "output_type": "stream",
          "name": "stderr",
          "text": [
            "20501it [36:29,  7.26it/s]"
          ]
        },
        {
          "output_type": "stream",
          "name": "stdout",
          "text": [
            "| epoch   4 | 20500/32580 batches | loss    1.328 \n",
            "money: work, even, question, result, just, do, idea, god, it, know\n",
            "lion: addition, write, say, least, length, pope, prevent, growth, opposed, size\n",
            "africa: europe, america, india, england, germany, west, east, asia, ireland, china\n",
            "musician: singer, writer, actor, composer, poet, actress, author, politician, famous, rome\n",
            "dance: music, country, traditional, popular, actor, culture, town, business, applied, singer\n",
            "\n",
            "\n"
          ]
        },
        {
          "output_type": "stream",
          "name": "stderr",
          "text": [
            "21001it [37:23,  7.56it/s]"
          ]
        },
        {
          "output_type": "stream",
          "name": "stdout",
          "text": [
            "| epoch   4 | 21000/32580 batches | loss    1.331 \n",
            "money: work, even, question, result, just, do, idea, god, it, know\n",
            "lion: addition, write, say, least, length, pope, prevent, growth, opposed, size\n",
            "africa: europe, america, india, england, germany, west, east, asia, ireland, china\n",
            "musician: singer, writer, actor, composer, poet, actress, author, politician, famous, rome\n",
            "dance: music, country, traditional, popular, actor, culture, town, business, applied, singer\n",
            "\n",
            "\n"
          ]
        },
        {
          "output_type": "stream",
          "name": "stderr",
          "text": [
            "21501it [38:16,  7.69it/s]"
          ]
        },
        {
          "output_type": "stream",
          "name": "stdout",
          "text": [
            "| epoch   4 | 21500/32580 batches | loss    1.335 \n",
            "money: work, even, question, result, just, do, idea, god, it, know\n",
            "lion: addition, write, say, least, length, pope, prevent, growth, opposed, size\n",
            "africa: europe, america, india, england, germany, west, east, asia, ireland, china\n",
            "musician: singer, writer, actor, composer, poet, actress, author, politician, famous, rome\n",
            "dance: music, country, traditional, popular, actor, culture, town, business, applied, singer\n",
            "\n",
            "\n"
          ]
        },
        {
          "output_type": "stream",
          "name": "stderr",
          "text": [
            "22001it [39:08,  7.79it/s]"
          ]
        },
        {
          "output_type": "stream",
          "name": "stdout",
          "text": [
            "| epoch   4 | 22000/32580 batches | loss    1.330 \n",
            "money: work, even, question, result, just, do, idea, god, it, know\n",
            "lion: addition, write, say, least, length, pope, prevent, growth, opposed, size\n",
            "africa: europe, america, india, england, germany, west, east, asia, ireland, china\n",
            "musician: singer, writer, actor, composer, poet, actress, author, politician, famous, rome\n",
            "dance: music, country, traditional, popular, actor, culture, town, business, applied, singer\n",
            "\n",
            "\n"
          ]
        },
        {
          "output_type": "stream",
          "name": "stderr",
          "text": [
            "22501it [40:02,  7.33it/s]"
          ]
        },
        {
          "output_type": "stream",
          "name": "stdout",
          "text": [
            "| epoch   4 | 22500/32580 batches | loss    1.330 \n",
            "money: work, even, question, result, just, do, idea, god, it, know\n",
            "lion: addition, write, say, least, length, pope, prevent, growth, opposed, size\n",
            "africa: europe, america, india, england, germany, west, east, asia, ireland, china\n",
            "musician: singer, writer, actor, composer, poet, actress, author, politician, famous, rome\n",
            "dance: music, country, traditional, popular, actor, culture, town, business, applied, singer\n",
            "\n",
            "\n"
          ]
        },
        {
          "output_type": "stream",
          "name": "stderr",
          "text": [
            "23001it [40:55,  7.59it/s]"
          ]
        },
        {
          "output_type": "stream",
          "name": "stdout",
          "text": [
            "| epoch   4 | 23000/32580 batches | loss    1.329 \n",
            "money: work, even, question, result, just, do, idea, god, it, know\n",
            "lion: addition, write, say, least, length, pope, prevent, growth, opposed, size\n",
            "africa: europe, america, india, england, germany, west, east, asia, ireland, china\n",
            "musician: singer, writer, actor, composer, poet, actress, author, politician, famous, rome\n",
            "dance: music, country, traditional, popular, actor, culture, town, business, applied, singer\n",
            "\n",
            "\n"
          ]
        },
        {
          "output_type": "stream",
          "name": "stderr",
          "text": [
            "23501it [41:48,  7.77it/s]"
          ]
        },
        {
          "output_type": "stream",
          "name": "stdout",
          "text": [
            "| epoch   4 | 23500/32580 batches | loss    1.327 \n",
            "money: work, even, question, result, just, do, idea, god, it, know\n",
            "lion: addition, write, say, least, length, pope, prevent, growth, opposed, size\n",
            "africa: europe, america, india, england, germany, west, east, asia, ireland, china\n",
            "musician: singer, writer, actor, composer, poet, actress, author, politician, famous, rome\n",
            "dance: music, country, traditional, popular, actor, culture, town, business, applied, singer\n",
            "\n",
            "\n"
          ]
        },
        {
          "output_type": "stream",
          "name": "stderr",
          "text": [
            "24001it [42:41,  7.69it/s]"
          ]
        },
        {
          "output_type": "stream",
          "name": "stdout",
          "text": [
            "| epoch   4 | 24000/32580 batches | loss    1.333 \n",
            "money: work, even, question, result, just, do, idea, god, it, know\n",
            "lion: addition, write, say, least, length, pope, prevent, growth, opposed, size\n",
            "africa: europe, america, india, england, germany, west, east, asia, ireland, china\n",
            "musician: singer, writer, actor, composer, poet, actress, author, politician, famous, rome\n",
            "dance: music, country, traditional, popular, actor, culture, town, business, applied, singer\n",
            "\n",
            "\n"
          ]
        },
        {
          "output_type": "stream",
          "name": "stderr",
          "text": [
            "24501it [43:33,  7.71it/s]"
          ]
        },
        {
          "output_type": "stream",
          "name": "stdout",
          "text": [
            "| epoch   4 | 24500/32580 batches | loss    1.329 \n",
            "money: work, even, question, result, just, do, idea, god, it, know\n",
            "lion: addition, write, say, least, length, pope, prevent, growth, opposed, size\n",
            "africa: europe, america, india, england, germany, west, east, asia, ireland, china\n",
            "musician: singer, writer, actor, composer, poet, actress, author, politician, famous, rome\n",
            "dance: music, country, traditional, popular, actor, culture, town, business, applied, singer\n",
            "\n",
            "\n"
          ]
        },
        {
          "output_type": "stream",
          "name": "stderr",
          "text": [
            "25001it [44:26,  7.50it/s]"
          ]
        },
        {
          "output_type": "stream",
          "name": "stdout",
          "text": [
            "| epoch   4 | 25000/32580 batches | loss    1.328 \n",
            "money: work, even, question, result, just, do, idea, god, it, know\n",
            "lion: addition, write, say, least, length, pope, prevent, growth, opposed, size\n",
            "africa: europe, america, india, england, germany, west, east, asia, ireland, china\n",
            "musician: singer, writer, actor, composer, poet, actress, author, politician, famous, rome\n",
            "dance: music, country, traditional, popular, actor, culture, town, business, applied, singer\n",
            "\n",
            "\n"
          ]
        },
        {
          "output_type": "stream",
          "name": "stderr",
          "text": [
            "25501it [45:20,  7.25it/s]"
          ]
        },
        {
          "output_type": "stream",
          "name": "stdout",
          "text": [
            "| epoch   4 | 25500/32580 batches | loss    1.327 \n",
            "money: work, even, question, result, just, do, idea, god, it, know\n",
            "lion: addition, write, say, least, length, pope, prevent, growth, opposed, size\n",
            "africa: europe, america, india, england, germany, west, east, asia, ireland, china\n",
            "musician: singer, writer, actor, composer, poet, actress, author, politician, famous, rome\n",
            "dance: music, country, traditional, popular, actor, culture, town, business, applied, singer\n",
            "\n",
            "\n"
          ]
        },
        {
          "output_type": "stream",
          "name": "stderr",
          "text": [
            "26001it [46:13,  7.70it/s]"
          ]
        },
        {
          "output_type": "stream",
          "name": "stdout",
          "text": [
            "| epoch   4 | 26000/32580 batches | loss    1.330 \n",
            "money: work, even, question, result, just, do, idea, god, it, know\n",
            "lion: addition, write, say, least, length, pope, prevent, growth, opposed, size\n",
            "africa: europe, america, india, england, germany, west, east, asia, ireland, china\n",
            "musician: singer, writer, actor, composer, poet, actress, author, politician, famous, rome\n",
            "dance: music, country, traditional, popular, actor, culture, town, business, applied, singer\n",
            "\n",
            "\n"
          ]
        },
        {
          "output_type": "stream",
          "name": "stderr",
          "text": [
            "26501it [47:08,  7.63it/s]"
          ]
        },
        {
          "output_type": "stream",
          "name": "stdout",
          "text": [
            "| epoch   4 | 26500/32580 batches | loss    1.329 \n",
            "money: work, even, question, result, just, do, idea, god, it, know\n",
            "lion: addition, write, say, least, length, pope, prevent, growth, opposed, size\n",
            "africa: europe, america, india, england, germany, west, east, asia, ireland, china\n",
            "musician: singer, writer, actor, composer, poet, actress, author, politician, famous, rome\n",
            "dance: music, country, traditional, popular, actor, culture, town, business, applied, singer\n",
            "\n",
            "\n"
          ]
        },
        {
          "output_type": "stream",
          "name": "stderr",
          "text": [
            "27001it [48:01,  7.63it/s]"
          ]
        },
        {
          "output_type": "stream",
          "name": "stdout",
          "text": [
            "| epoch   4 | 27000/32580 batches | loss    1.333 \n",
            "money: work, even, question, result, just, do, idea, god, it, know\n",
            "lion: addition, write, say, least, length, pope, prevent, growth, opposed, size\n",
            "africa: europe, america, india, england, germany, west, east, asia, ireland, china\n",
            "musician: singer, writer, actor, composer, poet, actress, author, politician, famous, rome\n",
            "dance: music, country, traditional, popular, actor, culture, town, business, applied, singer\n",
            "\n",
            "\n"
          ]
        },
        {
          "output_type": "stream",
          "name": "stderr",
          "text": [
            "27501it [48:54,  7.25it/s]"
          ]
        },
        {
          "output_type": "stream",
          "name": "stdout",
          "text": [
            "| epoch   4 | 27500/32580 batches | loss    1.330 \n",
            "money: work, even, question, result, just, do, idea, god, it, know\n",
            "lion: addition, write, say, least, length, pope, prevent, growth, opposed, size\n",
            "africa: europe, america, india, england, germany, west, east, asia, ireland, china\n",
            "musician: singer, writer, actor, composer, poet, actress, author, politician, famous, rome\n",
            "dance: music, country, traditional, popular, actor, culture, town, business, applied, singer\n",
            "\n",
            "\n"
          ]
        },
        {
          "output_type": "stream",
          "name": "stderr",
          "text": [
            "28001it [49:47,  7.30it/s]"
          ]
        },
        {
          "output_type": "stream",
          "name": "stdout",
          "text": [
            "| epoch   4 | 28000/32580 batches | loss    1.334 \n",
            "money: work, even, question, result, just, do, idea, god, it, know\n",
            "lion: addition, write, say, least, length, pope, prevent, growth, opposed, size\n",
            "africa: europe, america, india, england, germany, west, east, asia, ireland, china\n",
            "musician: singer, writer, actor, composer, poet, actress, author, politician, famous, rome\n",
            "dance: music, country, traditional, popular, actor, culture, town, business, applied, singer\n",
            "\n",
            "\n"
          ]
        },
        {
          "output_type": "stream",
          "name": "stderr",
          "text": [
            "28501it [50:40,  7.64it/s]"
          ]
        },
        {
          "output_type": "stream",
          "name": "stdout",
          "text": [
            "| epoch   4 | 28500/32580 batches | loss    1.328 \n",
            "money: work, even, question, result, just, do, idea, god, it, know\n",
            "lion: addition, write, say, least, length, pope, prevent, growth, opposed, size\n",
            "africa: europe, america, india, england, germany, west, east, asia, ireland, china\n",
            "musician: singer, writer, actor, composer, poet, actress, author, politician, famous, rome\n",
            "dance: music, country, traditional, popular, actor, culture, town, business, applied, singer\n",
            "\n",
            "\n"
          ]
        },
        {
          "output_type": "stream",
          "name": "stderr",
          "text": [
            "29001it [51:33,  7.80it/s]"
          ]
        },
        {
          "output_type": "stream",
          "name": "stdout",
          "text": [
            "| epoch   4 | 29000/32580 batches | loss    1.329 \n",
            "money: work, even, question, result, just, do, idea, god, it, know\n",
            "lion: addition, write, say, least, length, pope, prevent, growth, opposed, size\n",
            "africa: europe, america, india, england, germany, west, east, asia, ireland, china\n",
            "musician: singer, writer, actor, composer, poet, actress, author, politician, famous, rome\n",
            "dance: music, country, traditional, popular, actor, culture, town, business, applied, singer\n",
            "\n",
            "\n"
          ]
        },
        {
          "output_type": "stream",
          "name": "stderr",
          "text": [
            "29501it [52:30,  7.86it/s]"
          ]
        },
        {
          "output_type": "stream",
          "name": "stdout",
          "text": [
            "| epoch   4 | 29500/32580 batches | loss    1.329 \n",
            "money: work, even, question, result, just, do, idea, god, it, know\n",
            "lion: addition, write, say, least, length, pope, prevent, growth, opposed, size\n",
            "africa: europe, america, india, england, germany, west, east, asia, ireland, china\n",
            "musician: singer, writer, actor, composer, poet, actress, author, politician, famous, rome\n",
            "dance: music, country, traditional, popular, actor, culture, town, business, applied, singer\n",
            "\n",
            "\n"
          ]
        },
        {
          "output_type": "stream",
          "name": "stderr",
          "text": [
            "30001it [53:24,  7.77it/s]"
          ]
        },
        {
          "output_type": "stream",
          "name": "stdout",
          "text": [
            "| epoch   4 | 30000/32580 batches | loss    1.330 \n",
            "money: work, even, question, result, just, do, idea, god, it, know\n",
            "lion: addition, write, say, least, length, pope, prevent, growth, opposed, size\n",
            "africa: europe, america, india, england, germany, west, east, asia, ireland, china\n",
            "musician: singer, writer, actor, composer, poet, actress, author, politician, famous, rome\n",
            "dance: music, country, traditional, popular, actor, culture, town, business, applied, singer\n",
            "\n",
            "\n"
          ]
        },
        {
          "output_type": "stream",
          "name": "stderr",
          "text": [
            "30501it [54:18,  7.77it/s]"
          ]
        },
        {
          "output_type": "stream",
          "name": "stdout",
          "text": [
            "| epoch   4 | 30500/32580 batches | loss    1.333 \n",
            "money: work, even, question, result, just, do, idea, god, it, know\n",
            "lion: addition, write, say, least, length, pope, prevent, growth, opposed, size\n",
            "africa: europe, america, india, england, germany, west, east, asia, ireland, china\n",
            "musician: singer, writer, actor, composer, poet, actress, author, politician, famous, rome\n",
            "dance: music, country, traditional, popular, actor, culture, town, business, applied, singer\n",
            "\n",
            "\n"
          ]
        },
        {
          "output_type": "stream",
          "name": "stderr",
          "text": [
            "31001it [55:11,  7.83it/s]"
          ]
        },
        {
          "output_type": "stream",
          "name": "stdout",
          "text": [
            "| epoch   4 | 31000/32580 batches | loss    1.331 \n",
            "money: work, even, question, result, just, do, idea, god, it, know\n",
            "lion: addition, write, say, least, length, pope, prevent, growth, opposed, size\n",
            "africa: europe, america, india, england, germany, west, east, asia, ireland, china\n",
            "musician: singer, writer, actor, composer, poet, actress, author, politician, famous, rome\n",
            "dance: music, country, traditional, popular, actor, culture, town, business, applied, singer\n",
            "\n",
            "\n"
          ]
        },
        {
          "output_type": "stream",
          "name": "stderr",
          "text": [
            "31501it [56:04,  7.77it/s]"
          ]
        },
        {
          "output_type": "stream",
          "name": "stdout",
          "text": [
            "| epoch   4 | 31500/32580 batches | loss    1.330 \n",
            "money: work, even, question, result, just, do, idea, god, it, know\n",
            "lion: addition, write, say, least, length, pope, prevent, growth, opposed, size\n",
            "africa: europe, america, india, england, germany, west, east, asia, ireland, china\n",
            "musician: singer, writer, actor, composer, poet, actress, author, politician, famous, rome\n",
            "dance: music, country, traditional, popular, actor, culture, town, business, applied, singer\n",
            "\n",
            "\n"
          ]
        },
        {
          "output_type": "stream",
          "name": "stderr",
          "text": [
            "32001it [56:57,  7.47it/s]"
          ]
        },
        {
          "output_type": "stream",
          "name": "stdout",
          "text": [
            "| epoch   4 | 32000/32580 batches | loss    1.328 \n",
            "money: work, even, question, result, just, do, idea, god, it, know\n",
            "lion: addition, write, say, least, length, pope, prevent, growth, opposed, size\n",
            "africa: europe, america, india, england, germany, west, east, asia, ireland, china\n",
            "musician: singer, writer, actor, composer, poet, actress, author, politician, famous, rome\n",
            "dance: music, country, traditional, popular, actor, culture, town, business, applied, singer\n",
            "\n",
            "\n"
          ]
        },
        {
          "output_type": "stream",
          "name": "stderr",
          "text": [
            "32501it [57:50,  7.74it/s]"
          ]
        },
        {
          "output_type": "stream",
          "name": "stdout",
          "text": [
            "| epoch   4 | 32500/32580 batches | loss    1.331 \n",
            "money: work, even, question, result, just, do, idea, god, it, know\n",
            "lion: addition, write, say, least, length, pope, prevent, growth, opposed, size\n",
            "africa: europe, america, india, england, germany, west, east, asia, ireland, china\n",
            "musician: singer, writer, actor, composer, poet, actress, author, politician, famous, rome\n",
            "dance: music, country, traditional, popular, actor, culture, town, business, applied, singer\n",
            "\n",
            "\n"
          ]
        },
        {
          "output_type": "stream",
          "name": "stderr",
          "text": [
            "32580it [58:01,  9.36it/s]\n",
            "1it [00:02,  2.17s/it]"
          ]
        },
        {
          "output_type": "stream",
          "name": "stdout",
          "text": [
            "| epoch   5 |     0/32580 batches | loss    1.379 \n",
            "money: work, even, question, result, just, do, idea, god, it, know\n",
            "lion: addition, write, say, least, length, pope, prevent, growth, opposed, size\n",
            "africa: europe, america, india, england, germany, west, east, asia, ireland, china\n",
            "musician: singer, writer, actor, composer, poet, actress, author, politician, famous, rome\n",
            "dance: music, country, traditional, popular, actor, culture, town, business, applied, singer\n",
            "\n",
            "\n"
          ]
        },
        {
          "output_type": "stream",
          "name": "stderr",
          "text": [
            "501it [00:55,  7.79it/s]"
          ]
        },
        {
          "output_type": "stream",
          "name": "stdout",
          "text": [
            "| epoch   5 |   500/32580 batches | loss    1.326 \n",
            "money: work, even, question, result, just, do, idea, god, it, know\n",
            "lion: addition, write, say, least, length, pope, prevent, growth, opposed, size\n",
            "africa: europe, america, india, england, germany, west, east, asia, ireland, china\n",
            "musician: singer, writer, actor, composer, poet, actress, author, politician, famous, rome\n",
            "dance: music, country, traditional, popular, actor, culture, town, business, applied, singer\n",
            "\n",
            "\n"
          ]
        },
        {
          "output_type": "stream",
          "name": "stderr",
          "text": [
            "1001it [01:49,  7.79it/s]"
          ]
        },
        {
          "output_type": "stream",
          "name": "stdout",
          "text": [
            "| epoch   5 |  1000/32580 batches | loss    1.330 \n",
            "money: work, even, question, result, just, do, idea, god, it, know\n",
            "lion: addition, write, say, least, length, pope, prevent, growth, opposed, size\n",
            "africa: europe, america, india, england, germany, west, east, asia, ireland, china\n",
            "musician: singer, writer, actor, composer, poet, actress, author, politician, famous, rome\n",
            "dance: music, country, traditional, popular, actor, culture, town, business, applied, singer\n",
            "\n",
            "\n"
          ]
        },
        {
          "output_type": "stream",
          "name": "stderr",
          "text": [
            "1501it [02:42,  7.25it/s]"
          ]
        },
        {
          "output_type": "stream",
          "name": "stdout",
          "text": [
            "| epoch   5 |  1500/32580 batches | loss    1.328 \n",
            "money: work, even, question, result, just, do, idea, god, it, know\n",
            "lion: addition, write, say, least, length, pope, prevent, growth, opposed, size\n",
            "africa: europe, america, india, england, germany, west, east, asia, ireland, china\n",
            "musician: singer, writer, actor, composer, poet, actress, author, politician, famous, rome\n",
            "dance: music, country, traditional, popular, actor, culture, town, business, applied, singer\n",
            "\n",
            "\n"
          ]
        },
        {
          "output_type": "stream",
          "name": "stderr",
          "text": [
            "2001it [03:35,  7.63it/s]"
          ]
        },
        {
          "output_type": "stream",
          "name": "stdout",
          "text": [
            "| epoch   5 |  2000/32580 batches | loss    1.330 \n",
            "money: work, even, question, result, just, do, idea, god, it, know\n",
            "lion: addition, write, say, least, length, pope, prevent, growth, opposed, size\n",
            "africa: europe, america, india, england, germany, west, east, asia, ireland, china\n",
            "musician: singer, writer, actor, composer, poet, actress, author, politician, famous, rome\n",
            "dance: music, country, traditional, popular, actor, culture, town, business, applied, singer\n",
            "\n",
            "\n"
          ]
        },
        {
          "output_type": "stream",
          "name": "stderr",
          "text": [
            "2501it [04:29,  7.70it/s]"
          ]
        },
        {
          "output_type": "stream",
          "name": "stdout",
          "text": [
            "| epoch   5 |  2500/32580 batches | loss    1.330 \n",
            "money: work, even, question, result, just, do, idea, god, it, know\n",
            "lion: addition, write, say, least, length, pope, prevent, growth, opposed, size\n",
            "africa: europe, america, india, england, germany, west, east, asia, ireland, china\n",
            "musician: singer, writer, actor, composer, poet, actress, author, politician, famous, rome\n",
            "dance: music, country, traditional, popular, actor, culture, town, business, applied, singer\n",
            "\n",
            "\n"
          ]
        },
        {
          "output_type": "stream",
          "name": "stderr",
          "text": [
            "3001it [05:23,  7.41it/s]"
          ]
        },
        {
          "output_type": "stream",
          "name": "stdout",
          "text": [
            "| epoch   5 |  3000/32580 batches | loss    1.327 \n",
            "money: work, even, question, result, just, do, idea, god, it, know\n",
            "lion: addition, write, say, least, length, pope, prevent, growth, opposed, size\n",
            "africa: europe, america, india, england, germany, west, east, asia, ireland, china\n",
            "musician: singer, writer, actor, composer, poet, actress, author, politician, famous, rome\n",
            "dance: music, country, traditional, popular, actor, culture, town, business, applied, singer\n",
            "\n",
            "\n"
          ]
        },
        {
          "output_type": "stream",
          "name": "stderr",
          "text": [
            "3501it [06:17,  7.68it/s]"
          ]
        },
        {
          "output_type": "stream",
          "name": "stdout",
          "text": [
            "| epoch   5 |  3500/32580 batches | loss    1.331 \n",
            "money: work, even, question, result, just, do, idea, god, it, know\n",
            "lion: addition, write, say, least, length, pope, prevent, growth, opposed, size\n",
            "africa: europe, america, india, england, germany, west, east, asia, ireland, china\n",
            "musician: singer, writer, actor, composer, poet, actress, author, politician, famous, rome\n",
            "dance: music, country, traditional, popular, actor, culture, town, business, applied, singer\n",
            "\n",
            "\n"
          ]
        },
        {
          "output_type": "stream",
          "name": "stderr",
          "text": [
            "4001it [07:10,  7.43it/s]"
          ]
        },
        {
          "output_type": "stream",
          "name": "stdout",
          "text": [
            "| epoch   5 |  4000/32580 batches | loss    1.330 \n",
            "money: work, even, question, result, just, do, idea, god, it, know\n",
            "lion: addition, write, say, least, length, pope, prevent, growth, opposed, size\n",
            "africa: europe, america, india, england, germany, west, east, asia, ireland, china\n",
            "musician: singer, writer, actor, composer, poet, actress, author, politician, famous, rome\n",
            "dance: music, country, traditional, popular, actor, culture, town, business, applied, singer\n",
            "\n",
            "\n"
          ]
        },
        {
          "output_type": "stream",
          "name": "stderr",
          "text": [
            "4501it [08:03,  7.53it/s]"
          ]
        },
        {
          "output_type": "stream",
          "name": "stdout",
          "text": [
            "| epoch   5 |  4500/32580 batches | loss    1.331 \n",
            "money: work, even, question, result, just, do, idea, god, it, know\n",
            "lion: addition, write, say, least, length, pope, prevent, growth, opposed, size\n",
            "africa: europe, america, india, england, germany, west, east, asia, ireland, china\n",
            "musician: singer, writer, actor, composer, poet, actress, author, politician, famous, rome\n",
            "dance: music, country, traditional, popular, actor, culture, town, business, applied, singer\n",
            "\n",
            "\n"
          ]
        },
        {
          "output_type": "stream",
          "name": "stderr",
          "text": [
            "5001it [08:57,  7.31it/s]"
          ]
        },
        {
          "output_type": "stream",
          "name": "stdout",
          "text": [
            "| epoch   5 |  5000/32580 batches | loss    1.336 \n",
            "money: work, even, question, result, just, do, idea, god, it, know\n",
            "lion: addition, write, say, least, length, pope, prevent, growth, opposed, size\n",
            "africa: europe, america, india, england, germany, west, east, asia, ireland, china\n",
            "musician: singer, writer, actor, composer, poet, actress, author, politician, famous, rome\n",
            "dance: music, country, traditional, popular, actor, culture, town, business, applied, singer\n",
            "\n",
            "\n"
          ]
        },
        {
          "output_type": "stream",
          "name": "stderr",
          "text": [
            "5501it [09:51,  7.59it/s]"
          ]
        },
        {
          "output_type": "stream",
          "name": "stdout",
          "text": [
            "| epoch   5 |  5500/32580 batches | loss    1.332 \n",
            "money: work, even, question, result, just, do, idea, god, it, know\n",
            "lion: addition, write, say, least, length, pope, prevent, growth, opposed, size\n",
            "africa: europe, america, india, england, germany, west, east, asia, ireland, china\n",
            "musician: singer, writer, actor, composer, poet, actress, author, politician, famous, rome\n",
            "dance: music, country, traditional, popular, actor, culture, town, business, applied, singer\n",
            "\n",
            "\n"
          ]
        },
        {
          "output_type": "stream",
          "name": "stderr",
          "text": [
            "6001it [10:44,  7.69it/s]"
          ]
        },
        {
          "output_type": "stream",
          "name": "stdout",
          "text": [
            "| epoch   5 |  6000/32580 batches | loss    1.331 \n",
            "money: work, even, question, result, just, do, idea, god, it, know\n",
            "lion: addition, write, say, least, length, pope, prevent, growth, opposed, size\n",
            "africa: europe, america, india, england, germany, west, east, asia, ireland, china\n",
            "musician: singer, writer, actor, composer, poet, actress, author, politician, famous, rome\n",
            "dance: music, country, traditional, popular, actor, culture, town, business, applied, singer\n",
            "\n",
            "\n"
          ]
        },
        {
          "output_type": "stream",
          "name": "stderr",
          "text": [
            "6501it [11:38,  7.72it/s]"
          ]
        },
        {
          "output_type": "stream",
          "name": "stdout",
          "text": [
            "| epoch   5 |  6500/32580 batches | loss    1.330 \n",
            "money: work, even, question, result, just, do, idea, god, it, know\n",
            "lion: addition, write, say, least, length, pope, prevent, growth, opposed, size\n",
            "africa: europe, america, india, england, germany, west, east, asia, ireland, china\n",
            "musician: singer, writer, actor, composer, poet, actress, author, politician, famous, rome\n",
            "dance: music, country, traditional, popular, actor, culture, town, business, applied, singer\n",
            "\n",
            "\n"
          ]
        },
        {
          "output_type": "stream",
          "name": "stderr",
          "text": [
            "7001it [12:30,  7.75it/s]"
          ]
        },
        {
          "output_type": "stream",
          "name": "stdout",
          "text": [
            "| epoch   5 |  7000/32580 batches | loss    1.330 \n",
            "money: work, even, question, result, just, do, idea, god, it, know\n",
            "lion: addition, write, say, least, length, pope, prevent, growth, opposed, size\n",
            "africa: europe, america, india, england, germany, west, east, asia, ireland, china\n",
            "musician: singer, writer, actor, composer, poet, actress, author, politician, famous, rome\n",
            "dance: music, country, traditional, popular, actor, culture, town, business, applied, singer\n",
            "\n",
            "\n"
          ]
        },
        {
          "output_type": "stream",
          "name": "stderr",
          "text": [
            "7501it [13:23,  7.27it/s]"
          ]
        },
        {
          "output_type": "stream",
          "name": "stdout",
          "text": [
            "| epoch   5 |  7500/32580 batches | loss    1.329 \n",
            "money: work, even, question, result, just, do, idea, god, it, know\n",
            "lion: addition, write, say, least, length, pope, prevent, growth, opposed, size\n",
            "africa: europe, america, india, england, germany, west, east, asia, ireland, china\n",
            "musician: singer, writer, actor, composer, poet, actress, author, politician, famous, rome\n",
            "dance: music, country, traditional, popular, actor, culture, town, business, applied, singer\n",
            "\n",
            "\n"
          ]
        },
        {
          "output_type": "stream",
          "name": "stderr",
          "text": [
            "8001it [14:16,  7.58it/s]"
          ]
        },
        {
          "output_type": "stream",
          "name": "stdout",
          "text": [
            "| epoch   5 |  8000/32580 batches | loss    1.332 \n",
            "money: work, even, question, result, just, do, idea, god, it, know\n",
            "lion: addition, write, say, least, length, pope, prevent, growth, opposed, size\n",
            "africa: europe, america, india, england, germany, west, east, asia, ireland, china\n",
            "musician: singer, writer, actor, composer, poet, actress, author, politician, famous, rome\n",
            "dance: music, country, traditional, popular, actor, culture, town, business, applied, singer\n",
            "\n",
            "\n"
          ]
        },
        {
          "output_type": "stream",
          "name": "stderr",
          "text": [
            "8501it [15:11,  7.65it/s]"
          ]
        },
        {
          "output_type": "stream",
          "name": "stdout",
          "text": [
            "| epoch   5 |  8500/32580 batches | loss    1.330 \n",
            "money: work, even, question, result, just, do, idea, god, it, know\n",
            "lion: addition, write, say, least, length, pope, prevent, growth, opposed, size\n",
            "africa: europe, america, india, england, germany, west, east, asia, ireland, china\n",
            "musician: singer, writer, actor, composer, poet, actress, author, politician, famous, rome\n",
            "dance: music, country, traditional, popular, actor, culture, town, business, applied, singer\n",
            "\n",
            "\n"
          ]
        },
        {
          "output_type": "stream",
          "name": "stderr",
          "text": [
            "9001it [16:05,  7.35it/s]"
          ]
        },
        {
          "output_type": "stream",
          "name": "stdout",
          "text": [
            "| epoch   5 |  9000/32580 batches | loss    1.334 \n",
            "money: work, even, question, result, just, do, idea, god, it, know\n",
            "lion: addition, write, say, least, length, pope, prevent, growth, opposed, size\n",
            "africa: europe, america, india, england, germany, west, east, asia, ireland, china\n",
            "musician: singer, writer, actor, composer, poet, actress, author, politician, famous, rome\n",
            "dance: music, country, traditional, popular, actor, culture, town, business, applied, singer\n",
            "\n",
            "\n"
          ]
        },
        {
          "output_type": "stream",
          "name": "stderr",
          "text": [
            "9501it [16:58,  7.74it/s]"
          ]
        },
        {
          "output_type": "stream",
          "name": "stdout",
          "text": [
            "| epoch   5 |  9500/32580 batches | loss    1.335 \n",
            "money: work, even, question, result, just, do, idea, god, it, know\n",
            "lion: addition, write, say, least, length, pope, prevent, growth, opposed, size\n",
            "africa: europe, america, india, england, germany, west, east, asia, ireland, china\n",
            "musician: singer, writer, actor, composer, poet, actress, author, politician, famous, rome\n",
            "dance: music, country, traditional, popular, actor, culture, town, business, applied, singer\n",
            "\n",
            "\n"
          ]
        },
        {
          "output_type": "stream",
          "name": "stderr",
          "text": [
            "10001it [17:52,  7.67it/s]"
          ]
        },
        {
          "output_type": "stream",
          "name": "stdout",
          "text": [
            "| epoch   5 | 10000/32580 batches | loss    1.331 \n",
            "money: work, even, question, result, just, do, idea, god, it, know\n",
            "lion: addition, write, say, least, length, pope, prevent, growth, opposed, size\n",
            "africa: europe, america, india, england, germany, west, east, asia, ireland, china\n",
            "musician: singer, writer, actor, composer, poet, actress, author, politician, famous, rome\n",
            "dance: music, country, traditional, popular, actor, culture, town, business, applied, singer\n",
            "\n",
            "\n"
          ]
        },
        {
          "output_type": "stream",
          "name": "stderr",
          "text": [
            "10501it [18:45,  7.39it/s]"
          ]
        },
        {
          "output_type": "stream",
          "name": "stdout",
          "text": [
            "| epoch   5 | 10500/32580 batches | loss    1.330 \n",
            "money: work, even, question, result, just, do, idea, god, it, know\n",
            "lion: addition, write, say, least, length, pope, prevent, growth, opposed, size\n",
            "africa: europe, america, india, england, germany, west, east, asia, ireland, china\n",
            "musician: singer, writer, actor, composer, poet, actress, author, politician, famous, rome\n",
            "dance: music, country, traditional, popular, actor, culture, town, business, applied, singer\n",
            "\n",
            "\n"
          ]
        },
        {
          "output_type": "stream",
          "name": "stderr",
          "text": [
            "11001it [19:38,  7.17it/s]"
          ]
        },
        {
          "output_type": "stream",
          "name": "stdout",
          "text": [
            "| epoch   5 | 11000/32580 batches | loss    1.332 \n",
            "money: work, even, question, result, just, do, idea, god, it, know\n",
            "lion: addition, write, say, least, length, pope, prevent, growth, opposed, size\n",
            "africa: europe, america, india, england, germany, west, east, asia, ireland, china\n",
            "musician: singer, writer, actor, composer, poet, actress, author, politician, famous, rome\n",
            "dance: music, country, traditional, popular, actor, culture, town, business, applied, singer\n",
            "\n",
            "\n"
          ]
        },
        {
          "output_type": "stream",
          "name": "stderr",
          "text": [
            "11501it [20:32,  7.82it/s]"
          ]
        },
        {
          "output_type": "stream",
          "name": "stdout",
          "text": [
            "| epoch   5 | 11500/32580 batches | loss    1.330 \n",
            "money: work, even, question, result, just, do, idea, god, it, know\n",
            "lion: addition, write, say, least, length, pope, prevent, growth, opposed, size\n",
            "africa: europe, america, india, england, germany, west, east, asia, ireland, china\n",
            "musician: singer, writer, actor, composer, poet, actress, author, politician, famous, rome\n",
            "dance: music, country, traditional, popular, actor, culture, town, business, applied, singer\n",
            "\n",
            "\n"
          ]
        },
        {
          "output_type": "stream",
          "name": "stderr",
          "text": [
            "12001it [21:25,  7.83it/s]"
          ]
        },
        {
          "output_type": "stream",
          "name": "stdout",
          "text": [
            "| epoch   5 | 12000/32580 batches | loss    1.336 \n",
            "money: work, even, question, result, just, do, idea, god, it, know\n",
            "lion: addition, write, say, least, length, pope, prevent, growth, opposed, size\n",
            "africa: europe, america, india, england, germany, west, east, asia, ireland, china\n",
            "musician: singer, writer, actor, composer, poet, actress, author, politician, famous, rome\n",
            "dance: music, country, traditional, popular, actor, culture, town, business, applied, singer\n",
            "\n",
            "\n"
          ]
        },
        {
          "output_type": "stream",
          "name": "stderr",
          "text": [
            "12501it [22:20,  7.29it/s]"
          ]
        },
        {
          "output_type": "stream",
          "name": "stdout",
          "text": [
            "| epoch   5 | 12500/32580 batches | loss    1.334 \n",
            "money: work, even, question, result, just, do, idea, god, it, know\n",
            "lion: addition, write, say, least, length, pope, prevent, growth, opposed, size\n",
            "africa: europe, america, india, england, germany, west, east, asia, ireland, china\n",
            "musician: singer, writer, actor, composer, poet, actress, author, politician, famous, rome\n",
            "dance: music, country, traditional, popular, actor, culture, town, business, applied, singer\n",
            "\n",
            "\n"
          ]
        },
        {
          "output_type": "stream",
          "name": "stderr",
          "text": [
            "13001it [23:13,  7.27it/s]"
          ]
        },
        {
          "output_type": "stream",
          "name": "stdout",
          "text": [
            "| epoch   5 | 13000/32580 batches | loss    1.333 \n",
            "money: work, even, question, result, just, do, idea, god, it, know\n",
            "lion: addition, write, say, least, length, pope, prevent, growth, opposed, size\n",
            "africa: europe, america, india, england, germany, west, east, asia, ireland, china\n",
            "musician: singer, writer, actor, composer, poet, actress, author, politician, famous, rome\n",
            "dance: music, country, traditional, popular, actor, culture, town, business, applied, singer\n",
            "\n",
            "\n"
          ]
        },
        {
          "output_type": "stream",
          "name": "stderr",
          "text": [
            "13501it [24:07,  7.78it/s]"
          ]
        },
        {
          "output_type": "stream",
          "name": "stdout",
          "text": [
            "| epoch   5 | 13500/32580 batches | loss    1.333 \n",
            "money: work, even, question, result, just, do, idea, god, it, know\n",
            "lion: addition, write, say, least, length, pope, prevent, growth, opposed, size\n",
            "africa: europe, america, india, england, germany, west, east, asia, ireland, china\n",
            "musician: singer, writer, actor, composer, poet, actress, author, politician, famous, rome\n",
            "dance: music, country, traditional, popular, actor, culture, town, business, applied, singer\n",
            "\n",
            "\n"
          ]
        },
        {
          "output_type": "stream",
          "name": "stderr",
          "text": [
            "14001it [25:01,  7.39it/s]"
          ]
        },
        {
          "output_type": "stream",
          "name": "stdout",
          "text": [
            "| epoch   5 | 14000/32580 batches | loss    1.331 \n",
            "money: work, even, question, result, just, do, idea, god, it, know\n",
            "lion: addition, write, say, least, length, pope, prevent, growth, opposed, size\n",
            "africa: europe, america, india, england, germany, west, east, asia, ireland, china\n",
            "musician: singer, writer, actor, composer, poet, actress, author, politician, famous, rome\n",
            "dance: music, country, traditional, popular, actor, culture, town, business, applied, singer\n",
            "\n",
            "\n"
          ]
        },
        {
          "output_type": "stream",
          "name": "stderr",
          "text": [
            "14501it [25:54,  7.41it/s]"
          ]
        },
        {
          "output_type": "stream",
          "name": "stdout",
          "text": [
            "| epoch   5 | 14500/32580 batches | loss    1.331 \n",
            "money: work, even, question, result, just, do, idea, god, it, know\n",
            "lion: addition, write, say, least, length, pope, prevent, growth, opposed, size\n",
            "africa: europe, america, india, england, germany, west, east, asia, ireland, china\n",
            "musician: singer, writer, actor, composer, poet, actress, author, politician, famous, rome\n",
            "dance: music, country, traditional, popular, actor, culture, town, business, applied, singer\n",
            "\n",
            "\n"
          ]
        },
        {
          "output_type": "stream",
          "name": "stderr",
          "text": [
            "15001it [26:46,  7.84it/s]"
          ]
        },
        {
          "output_type": "stream",
          "name": "stdout",
          "text": [
            "| epoch   5 | 15000/32580 batches | loss    1.330 \n",
            "money: work, even, question, result, just, do, idea, god, it, know\n",
            "lion: addition, write, say, least, length, pope, prevent, growth, opposed, size\n",
            "africa: europe, america, india, england, germany, west, east, asia, ireland, china\n",
            "musician: singer, writer, actor, composer, poet, actress, author, politician, famous, rome\n",
            "dance: music, country, traditional, popular, actor, culture, town, business, applied, singer\n",
            "\n",
            "\n"
          ]
        },
        {
          "output_type": "stream",
          "name": "stderr",
          "text": [
            "15501it [27:39,  7.75it/s]"
          ]
        },
        {
          "output_type": "stream",
          "name": "stdout",
          "text": [
            "| epoch   5 | 15500/32580 batches | loss    1.326 \n",
            "money: work, even, question, result, just, do, idea, god, it, know\n",
            "lion: addition, write, say, least, length, pope, prevent, growth, opposed, size\n",
            "africa: europe, america, india, england, germany, west, east, asia, ireland, china\n",
            "musician: singer, writer, actor, composer, poet, actress, author, politician, famous, rome\n",
            "dance: music, country, traditional, popular, actor, culture, town, business, applied, singer\n",
            "\n",
            "\n"
          ]
        },
        {
          "output_type": "stream",
          "name": "stderr",
          "text": [
            "16001it [28:33,  7.41it/s]"
          ]
        },
        {
          "output_type": "stream",
          "name": "stdout",
          "text": [
            "| epoch   5 | 16000/32580 batches | loss    1.329 \n",
            "money: work, even, question, result, just, do, idea, god, it, know\n",
            "lion: addition, write, say, least, length, pope, prevent, growth, opposed, size\n",
            "africa: europe, america, india, england, germany, west, east, asia, ireland, china\n",
            "musician: singer, writer, actor, composer, poet, actress, author, politician, famous, rome\n",
            "dance: music, country, traditional, popular, actor, culture, town, business, applied, singer\n",
            "\n",
            "\n"
          ]
        },
        {
          "output_type": "stream",
          "name": "stderr",
          "text": [
            "16501it [29:26,  7.89it/s]"
          ]
        },
        {
          "output_type": "stream",
          "name": "stdout",
          "text": [
            "| epoch   5 | 16500/32580 batches | loss    1.328 \n",
            "money: work, even, question, result, just, do, idea, god, it, know\n",
            "lion: addition, write, say, least, length, pope, prevent, growth, opposed, size\n",
            "africa: europe, america, india, england, germany, west, east, asia, ireland, china\n",
            "musician: singer, writer, actor, composer, poet, actress, author, politician, famous, rome\n",
            "dance: music, country, traditional, popular, actor, culture, town, business, applied, singer\n",
            "\n",
            "\n"
          ]
        },
        {
          "output_type": "stream",
          "name": "stderr",
          "text": [
            "17001it [30:19,  7.96it/s]"
          ]
        },
        {
          "output_type": "stream",
          "name": "stdout",
          "text": [
            "| epoch   5 | 17000/32580 batches | loss    1.329 \n",
            "money: work, even, question, result, just, do, idea, god, it, know\n",
            "lion: addition, write, say, least, length, pope, prevent, growth, opposed, size\n",
            "africa: europe, america, india, england, germany, west, east, asia, ireland, china\n",
            "musician: singer, writer, actor, composer, poet, actress, author, politician, famous, rome\n",
            "dance: music, country, traditional, popular, actor, culture, town, business, applied, singer\n",
            "\n",
            "\n"
          ]
        },
        {
          "output_type": "stream",
          "name": "stderr",
          "text": [
            "17501it [31:12,  7.71it/s]"
          ]
        },
        {
          "output_type": "stream",
          "name": "stdout",
          "text": [
            "| epoch   5 | 17500/32580 batches | loss    1.331 \n",
            "money: work, even, question, result, just, do, idea, god, it, know\n",
            "lion: addition, write, say, least, length, pope, prevent, growth, opposed, size\n",
            "africa: europe, america, india, england, germany, west, east, asia, ireland, china\n",
            "musician: singer, writer, actor, composer, poet, actress, author, politician, famous, rome\n",
            "dance: music, country, traditional, popular, actor, culture, town, business, applied, singer\n",
            "\n",
            "\n"
          ]
        },
        {
          "output_type": "stream",
          "name": "stderr",
          "text": [
            "18001it [32:05,  7.94it/s]"
          ]
        },
        {
          "output_type": "stream",
          "name": "stdout",
          "text": [
            "| epoch   5 | 18000/32580 batches | loss    1.326 \n",
            "money: work, even, question, result, just, do, idea, god, it, know\n",
            "lion: addition, write, say, least, length, pope, prevent, growth, opposed, size\n",
            "africa: europe, america, india, england, germany, west, east, asia, ireland, china\n",
            "musician: singer, writer, actor, composer, poet, actress, author, politician, famous, rome\n",
            "dance: music, country, traditional, popular, actor, culture, town, business, applied, singer\n",
            "\n",
            "\n"
          ]
        },
        {
          "output_type": "stream",
          "name": "stderr",
          "text": [
            "18501it [32:59,  7.75it/s]"
          ]
        },
        {
          "output_type": "stream",
          "name": "stdout",
          "text": [
            "| epoch   5 | 18500/32580 batches | loss    1.327 \n",
            "money: work, even, question, result, just, do, idea, god, it, know\n",
            "lion: addition, write, say, least, length, pope, prevent, growth, opposed, size\n",
            "africa: europe, america, india, england, germany, west, east, asia, ireland, china\n",
            "musician: singer, writer, actor, composer, poet, actress, author, politician, famous, rome\n",
            "dance: music, country, traditional, popular, actor, culture, town, business, applied, singer\n",
            "\n",
            "\n"
          ]
        },
        {
          "output_type": "stream",
          "name": "stderr",
          "text": [
            "19001it [33:53,  7.47it/s]"
          ]
        },
        {
          "output_type": "stream",
          "name": "stdout",
          "text": [
            "| epoch   5 | 19000/32580 batches | loss    1.330 \n",
            "money: work, even, question, result, just, do, idea, god, it, know\n",
            "lion: addition, write, say, least, length, pope, prevent, growth, opposed, size\n",
            "africa: europe, america, india, england, germany, west, east, asia, ireland, china\n",
            "musician: singer, writer, actor, composer, poet, actress, author, politician, famous, rome\n",
            "dance: music, country, traditional, popular, actor, culture, town, business, applied, singer\n",
            "\n",
            "\n"
          ]
        },
        {
          "output_type": "stream",
          "name": "stderr",
          "text": [
            "19501it [34:47,  7.92it/s]"
          ]
        },
        {
          "output_type": "stream",
          "name": "stdout",
          "text": [
            "| epoch   5 | 19500/32580 batches | loss    1.329 \n",
            "money: work, even, question, result, just, do, idea, god, it, know\n",
            "lion: addition, write, say, least, length, pope, prevent, growth, opposed, size\n",
            "africa: europe, america, india, england, germany, west, east, asia, ireland, china\n",
            "musician: singer, writer, actor, composer, poet, actress, author, politician, famous, rome\n",
            "dance: music, country, traditional, popular, actor, culture, town, business, applied, singer\n",
            "\n",
            "\n"
          ]
        },
        {
          "output_type": "stream",
          "name": "stderr",
          "text": [
            "20001it [35:45,  7.25it/s]"
          ]
        },
        {
          "output_type": "stream",
          "name": "stdout",
          "text": [
            "| epoch   5 | 20000/32580 batches | loss    1.333 \n",
            "money: work, even, question, result, just, do, idea, god, it, know\n",
            "lion: addition, write, say, least, length, pope, prevent, growth, opposed, size\n",
            "africa: europe, america, india, england, germany, west, east, asia, ireland, china\n",
            "musician: singer, writer, actor, composer, poet, actress, author, politician, famous, rome\n",
            "dance: music, country, traditional, popular, actor, culture, town, business, applied, singer\n",
            "\n",
            "\n"
          ]
        },
        {
          "output_type": "stream",
          "name": "stderr",
          "text": [
            "20501it [36:37,  7.38it/s]"
          ]
        },
        {
          "output_type": "stream",
          "name": "stdout",
          "text": [
            "| epoch   5 | 20500/32580 batches | loss    1.332 \n",
            "money: work, even, question, result, just, do, idea, god, it, know\n",
            "lion: addition, write, say, least, length, pope, prevent, growth, opposed, size\n",
            "africa: europe, america, india, england, germany, west, east, asia, ireland, china\n",
            "musician: singer, writer, actor, composer, poet, actress, author, politician, famous, rome\n",
            "dance: music, country, traditional, popular, actor, culture, town, business, applied, singer\n",
            "\n",
            "\n"
          ]
        },
        {
          "output_type": "stream",
          "name": "stderr",
          "text": [
            "21001it [37:30,  7.83it/s]"
          ]
        },
        {
          "output_type": "stream",
          "name": "stdout",
          "text": [
            "| epoch   5 | 21000/32580 batches | loss    1.332 \n",
            "money: work, even, question, result, just, do, idea, god, it, know\n",
            "lion: addition, write, say, least, length, pope, prevent, growth, opposed, size\n",
            "africa: europe, america, india, england, germany, west, east, asia, ireland, china\n",
            "musician: singer, writer, actor, composer, poet, actress, author, politician, famous, rome\n",
            "dance: music, country, traditional, popular, actor, culture, town, business, applied, singer\n",
            "\n",
            "\n"
          ]
        },
        {
          "output_type": "stream",
          "name": "stderr",
          "text": [
            "21501it [38:24,  7.73it/s]"
          ]
        },
        {
          "output_type": "stream",
          "name": "stdout",
          "text": [
            "| epoch   5 | 21500/32580 batches | loss    1.330 \n",
            "money: work, even, question, result, just, do, idea, god, it, know\n",
            "lion: addition, write, say, least, length, pope, prevent, growth, opposed, size\n",
            "africa: europe, america, india, england, germany, west, east, asia, ireland, china\n",
            "musician: singer, writer, actor, composer, poet, actress, author, politician, famous, rome\n",
            "dance: music, country, traditional, popular, actor, culture, town, business, applied, singer\n",
            "\n",
            "\n"
          ]
        },
        {
          "output_type": "stream",
          "name": "stderr",
          "text": [
            "22001it [39:17,  7.79it/s]"
          ]
        },
        {
          "output_type": "stream",
          "name": "stdout",
          "text": [
            "| epoch   5 | 22000/32580 batches | loss    1.325 \n",
            "money: work, even, question, result, just, do, idea, god, it, know\n",
            "lion: addition, write, say, least, length, pope, prevent, growth, opposed, size\n",
            "africa: europe, america, india, england, germany, west, east, asia, ireland, china\n",
            "musician: singer, writer, actor, composer, poet, actress, author, politician, famous, rome\n",
            "dance: music, country, traditional, popular, actor, culture, town, business, applied, singer\n",
            "\n",
            "\n"
          ]
        },
        {
          "output_type": "stream",
          "name": "stderr",
          "text": [
            "22501it [40:10,  7.81it/s]"
          ]
        },
        {
          "output_type": "stream",
          "name": "stdout",
          "text": [
            "| epoch   5 | 22500/32580 batches | loss    1.324 \n",
            "money: work, even, question, result, just, do, idea, god, it, know\n",
            "lion: addition, write, say, least, length, pope, prevent, growth, opposed, size\n",
            "africa: europe, america, india, england, germany, west, east, asia, ireland, china\n",
            "musician: singer, writer, actor, composer, poet, actress, author, politician, famous, rome\n",
            "dance: music, country, traditional, popular, actor, culture, town, business, applied, singer\n",
            "\n",
            "\n"
          ]
        },
        {
          "output_type": "stream",
          "name": "stderr",
          "text": [
            "23001it [41:04,  7.57it/s]"
          ]
        },
        {
          "output_type": "stream",
          "name": "stdout",
          "text": [
            "| epoch   5 | 23000/32580 batches | loss    1.337 \n",
            "money: work, even, question, result, just, do, idea, god, it, know\n",
            "lion: addition, write, say, least, length, pope, prevent, growth, opposed, size\n",
            "africa: europe, america, india, england, germany, west, east, asia, ireland, china\n",
            "musician: singer, writer, actor, composer, poet, actress, author, politician, famous, rome\n",
            "dance: music, country, traditional, popular, actor, culture, town, business, applied, singer\n",
            "\n",
            "\n"
          ]
        },
        {
          "output_type": "stream",
          "name": "stderr",
          "text": [
            "23501it [41:57,  7.62it/s]"
          ]
        },
        {
          "output_type": "stream",
          "name": "stdout",
          "text": [
            "| epoch   5 | 23500/32580 batches | loss    1.332 \n",
            "money: work, even, question, result, just, do, idea, god, it, know\n",
            "lion: addition, write, say, least, length, pope, prevent, growth, opposed, size\n",
            "africa: europe, america, india, england, germany, west, east, asia, ireland, china\n",
            "musician: singer, writer, actor, composer, poet, actress, author, politician, famous, rome\n",
            "dance: music, country, traditional, popular, actor, culture, town, business, applied, singer\n",
            "\n",
            "\n"
          ]
        },
        {
          "output_type": "stream",
          "name": "stderr",
          "text": [
            "24001it [42:50,  7.32it/s]"
          ]
        },
        {
          "output_type": "stream",
          "name": "stdout",
          "text": [
            "| epoch   5 | 24000/32580 batches | loss    1.328 \n",
            "money: work, even, question, result, just, do, idea, god, it, know\n",
            "lion: addition, write, say, least, length, pope, prevent, growth, opposed, size\n",
            "africa: europe, america, india, england, germany, west, east, asia, ireland, china\n",
            "musician: singer, writer, actor, composer, poet, actress, author, politician, famous, rome\n",
            "dance: music, country, traditional, popular, actor, culture, town, business, applied, singer\n",
            "\n",
            "\n"
          ]
        },
        {
          "output_type": "stream",
          "name": "stderr",
          "text": [
            "24501it [43:44,  7.70it/s]"
          ]
        },
        {
          "output_type": "stream",
          "name": "stdout",
          "text": [
            "| epoch   5 | 24500/32580 batches | loss    1.334 \n",
            "money: work, even, question, result, just, do, idea, god, it, know\n",
            "lion: addition, write, say, least, length, pope, prevent, growth, opposed, size\n",
            "africa: europe, america, india, england, germany, west, east, asia, ireland, china\n",
            "musician: singer, writer, actor, composer, poet, actress, author, politician, famous, rome\n",
            "dance: music, country, traditional, popular, actor, culture, town, business, applied, singer\n",
            "\n",
            "\n"
          ]
        },
        {
          "output_type": "stream",
          "name": "stderr",
          "text": [
            "25001it [44:38,  7.72it/s]"
          ]
        },
        {
          "output_type": "stream",
          "name": "stdout",
          "text": [
            "| epoch   5 | 25000/32580 batches | loss    1.327 \n",
            "money: work, even, question, result, just, do, idea, god, it, know\n",
            "lion: addition, write, say, least, length, pope, prevent, growth, opposed, size\n",
            "africa: europe, america, india, england, germany, west, east, asia, ireland, china\n",
            "musician: singer, writer, actor, composer, poet, actress, author, politician, famous, rome\n",
            "dance: music, country, traditional, popular, actor, culture, town, business, applied, singer\n",
            "\n",
            "\n"
          ]
        },
        {
          "output_type": "stream",
          "name": "stderr",
          "text": [
            "25501it [45:33,  7.23it/s]"
          ]
        },
        {
          "output_type": "stream",
          "name": "stdout",
          "text": [
            "| epoch   5 | 25500/32580 batches | loss    1.332 \n",
            "money: work, even, question, result, just, do, idea, god, it, know\n",
            "lion: addition, write, say, least, length, pope, prevent, growth, opposed, size\n",
            "africa: europe, america, india, england, germany, west, east, asia, ireland, china\n",
            "musician: singer, writer, actor, composer, poet, actress, author, politician, famous, rome\n",
            "dance: music, country, traditional, popular, actor, culture, town, business, applied, singer\n",
            "\n",
            "\n"
          ]
        },
        {
          "output_type": "stream",
          "name": "stderr",
          "text": [
            "26001it [46:26,  7.68it/s]"
          ]
        },
        {
          "output_type": "stream",
          "name": "stdout",
          "text": [
            "| epoch   5 | 26000/32580 batches | loss    1.335 \n",
            "money: work, even, question, result, just, do, idea, god, it, know\n",
            "lion: addition, write, say, least, length, pope, prevent, growth, opposed, size\n",
            "africa: europe, america, india, england, germany, west, east, asia, ireland, china\n",
            "musician: singer, writer, actor, composer, poet, actress, author, politician, famous, rome\n",
            "dance: music, country, traditional, popular, actor, culture, town, business, applied, singer\n",
            "\n",
            "\n"
          ]
        },
        {
          "output_type": "stream",
          "name": "stderr",
          "text": [
            "26501it [47:20,  7.29it/s]"
          ]
        },
        {
          "output_type": "stream",
          "name": "stdout",
          "text": [
            "| epoch   5 | 26500/32580 batches | loss    1.329 \n",
            "money: work, even, question, result, just, do, idea, god, it, know\n",
            "lion: addition, write, say, least, length, pope, prevent, growth, opposed, size\n",
            "africa: europe, america, india, england, germany, west, east, asia, ireland, china\n",
            "musician: singer, writer, actor, composer, poet, actress, author, politician, famous, rome\n",
            "dance: music, country, traditional, popular, actor, culture, town, business, applied, singer\n",
            "\n",
            "\n"
          ]
        },
        {
          "output_type": "stream",
          "name": "stderr",
          "text": [
            "27001it [48:14,  7.60it/s]"
          ]
        },
        {
          "output_type": "stream",
          "name": "stdout",
          "text": [
            "| epoch   5 | 27000/32580 batches | loss    1.332 \n",
            "money: work, even, question, result, just, do, idea, god, it, know\n",
            "lion: addition, write, say, least, length, pope, prevent, growth, opposed, size\n",
            "africa: europe, america, india, england, germany, west, east, asia, ireland, china\n",
            "musician: singer, writer, actor, composer, poet, actress, author, politician, famous, rome\n",
            "dance: music, country, traditional, popular, actor, culture, town, business, applied, singer\n",
            "\n",
            "\n"
          ]
        },
        {
          "output_type": "stream",
          "name": "stderr",
          "text": [
            "27501it [49:08,  7.46it/s]"
          ]
        },
        {
          "output_type": "stream",
          "name": "stdout",
          "text": [
            "| epoch   5 | 27500/32580 batches | loss    1.332 \n",
            "money: work, even, question, result, just, do, idea, god, it, know\n",
            "lion: addition, write, say, least, length, pope, prevent, growth, opposed, size\n",
            "africa: europe, america, india, england, germany, west, east, asia, ireland, china\n",
            "musician: singer, writer, actor, composer, poet, actress, author, politician, famous, rome\n",
            "dance: music, country, traditional, popular, actor, culture, town, business, applied, singer\n",
            "\n",
            "\n"
          ]
        },
        {
          "output_type": "stream",
          "name": "stderr",
          "text": [
            "28001it [50:02,  7.48it/s]"
          ]
        },
        {
          "output_type": "stream",
          "name": "stdout",
          "text": [
            "| epoch   5 | 28000/32580 batches | loss    1.328 \n",
            "money: work, even, question, result, just, do, idea, god, it, know\n",
            "lion: addition, write, say, least, length, pope, prevent, growth, opposed, size\n",
            "africa: europe, america, india, england, germany, west, east, asia, ireland, china\n",
            "musician: singer, writer, actor, composer, poet, actress, author, politician, famous, rome\n",
            "dance: music, country, traditional, popular, actor, culture, town, business, applied, singer\n",
            "\n",
            "\n"
          ]
        },
        {
          "output_type": "stream",
          "name": "stderr",
          "text": [
            "28501it [50:55,  7.24it/s]"
          ]
        },
        {
          "output_type": "stream",
          "name": "stdout",
          "text": [
            "| epoch   5 | 28500/32580 batches | loss    1.331 \n",
            "money: work, even, question, result, just, do, idea, god, it, know\n",
            "lion: addition, write, say, least, length, pope, prevent, growth, opposed, size\n",
            "africa: europe, america, india, england, germany, west, east, asia, ireland, china\n",
            "musician: singer, writer, actor, composer, poet, actress, author, politician, famous, rome\n",
            "dance: music, country, traditional, popular, actor, culture, town, business, applied, singer\n",
            "\n",
            "\n"
          ]
        },
        {
          "output_type": "stream",
          "name": "stderr",
          "text": [
            "29001it [51:50,  7.60it/s]"
          ]
        },
        {
          "output_type": "stream",
          "name": "stdout",
          "text": [
            "| epoch   5 | 29000/32580 batches | loss    1.330 \n",
            "money: work, even, question, result, just, do, idea, god, it, know\n",
            "lion: addition, write, say, least, length, pope, prevent, growth, opposed, size\n",
            "africa: europe, america, india, england, germany, west, east, asia, ireland, china\n",
            "musician: singer, writer, actor, composer, poet, actress, author, politician, famous, rome\n",
            "dance: music, country, traditional, popular, actor, culture, town, business, applied, singer\n",
            "\n",
            "\n"
          ]
        },
        {
          "output_type": "stream",
          "name": "stderr",
          "text": [
            "29501it [52:43,  7.71it/s]"
          ]
        },
        {
          "output_type": "stream",
          "name": "stdout",
          "text": [
            "| epoch   5 | 29500/32580 batches | loss    1.335 \n",
            "money: work, even, question, result, just, do, idea, god, it, know\n",
            "lion: addition, write, say, least, length, pope, prevent, growth, opposed, size\n",
            "africa: europe, america, india, england, germany, west, east, asia, ireland, china\n",
            "musician: singer, writer, actor, composer, poet, actress, author, politician, famous, rome\n",
            "dance: music, country, traditional, popular, actor, culture, town, business, applied, singer\n",
            "\n",
            "\n"
          ]
        },
        {
          "output_type": "stream",
          "name": "stderr",
          "text": [
            "30001it [53:37,  7.77it/s]"
          ]
        },
        {
          "output_type": "stream",
          "name": "stdout",
          "text": [
            "| epoch   5 | 30000/32580 batches | loss    1.330 \n",
            "money: work, even, question, result, just, do, idea, god, it, know\n",
            "lion: addition, write, say, least, length, pope, prevent, growth, opposed, size\n",
            "africa: europe, america, india, england, germany, west, east, asia, ireland, china\n",
            "musician: singer, writer, actor, composer, poet, actress, author, politician, famous, rome\n",
            "dance: music, country, traditional, popular, actor, culture, town, business, applied, singer\n",
            "\n",
            "\n"
          ]
        },
        {
          "output_type": "stream",
          "name": "stderr",
          "text": [
            "30501it [54:30,  7.70it/s]"
          ]
        },
        {
          "output_type": "stream",
          "name": "stdout",
          "text": [
            "| epoch   5 | 30500/32580 batches | loss    1.330 \n",
            "money: work, even, question, result, just, do, idea, god, it, know\n",
            "lion: addition, write, say, least, length, pope, prevent, growth, opposed, size\n",
            "africa: europe, america, india, england, germany, west, east, asia, ireland, china\n",
            "musician: singer, writer, actor, composer, poet, actress, author, politician, famous, rome\n",
            "dance: music, country, traditional, popular, actor, culture, town, business, applied, singer\n",
            "\n",
            "\n"
          ]
        },
        {
          "output_type": "stream",
          "name": "stderr",
          "text": [
            "31001it [55:25,  7.24it/s]"
          ]
        },
        {
          "output_type": "stream",
          "name": "stdout",
          "text": [
            "| epoch   5 | 31000/32580 batches | loss    1.331 \n",
            "money: work, even, question, result, just, do, idea, god, it, know\n",
            "lion: addition, write, say, least, length, pope, prevent, growth, opposed, size\n",
            "africa: europe, america, india, england, germany, west, east, asia, ireland, china\n",
            "musician: singer, writer, actor, composer, poet, actress, author, politician, famous, rome\n",
            "dance: music, country, traditional, popular, actor, culture, town, business, applied, singer\n",
            "\n",
            "\n"
          ]
        },
        {
          "output_type": "stream",
          "name": "stderr",
          "text": [
            "31501it [56:18,  7.63it/s]"
          ]
        },
        {
          "output_type": "stream",
          "name": "stdout",
          "text": [
            "| epoch   5 | 31500/32580 batches | loss    1.330 \n",
            "money: work, even, question, result, just, do, idea, god, it, know\n",
            "lion: addition, write, say, least, length, pope, prevent, growth, opposed, size\n",
            "africa: europe, america, india, england, germany, west, east, asia, ireland, china\n",
            "musician: singer, writer, actor, composer, poet, actress, author, politician, famous, rome\n",
            "dance: music, country, traditional, popular, actor, culture, town, business, applied, singer\n",
            "\n",
            "\n"
          ]
        },
        {
          "output_type": "stream",
          "name": "stderr",
          "text": [
            "32001it [57:11,  7.66it/s]"
          ]
        },
        {
          "output_type": "stream",
          "name": "stdout",
          "text": [
            "| epoch   5 | 32000/32580 batches | loss    1.334 \n",
            "money: work, even, question, result, just, do, idea, god, it, know\n",
            "lion: addition, write, say, least, length, pope, prevent, growth, opposed, size\n",
            "africa: europe, america, india, england, germany, west, east, asia, ireland, china\n",
            "musician: singer, writer, actor, composer, poet, actress, author, politician, famous, rome\n",
            "dance: music, country, traditional, popular, actor, culture, town, business, applied, singer\n",
            "\n",
            "\n"
          ]
        },
        {
          "output_type": "stream",
          "name": "stderr",
          "text": [
            "32501it [58:04,  7.61it/s]"
          ]
        },
        {
          "output_type": "stream",
          "name": "stdout",
          "text": [
            "| epoch   5 | 32500/32580 batches | loss    1.330 \n",
            "money: work, even, question, result, just, do, idea, god, it, know\n",
            "lion: addition, write, say, least, length, pope, prevent, growth, opposed, size\n",
            "africa: europe, america, india, england, germany, west, east, asia, ireland, china\n",
            "musician: singer, writer, actor, composer, poet, actress, author, politician, famous, rome\n",
            "dance: music, country, traditional, popular, actor, culture, town, business, applied, singer\n",
            "\n",
            "\n"
          ]
        },
        {
          "output_type": "stream",
          "name": "stderr",
          "text": [
            "32580it [58:14,  9.32it/s]\n",
            "1it [00:02,  2.17s/it]"
          ]
        },
        {
          "output_type": "stream",
          "name": "stdout",
          "text": [
            "| epoch   6 |     0/32580 batches | loss    1.395 \n",
            "money: work, even, question, result, just, do, idea, god, it, know\n",
            "lion: addition, write, say, least, length, pope, prevent, growth, opposed, size\n",
            "africa: europe, america, india, england, germany, west, east, asia, ireland, china\n",
            "musician: singer, writer, actor, composer, poet, actress, author, politician, famous, rome\n",
            "dance: music, country, traditional, popular, actor, culture, town, business, applied, singer\n",
            "\n",
            "\n"
          ]
        },
        {
          "output_type": "stream",
          "name": "stderr",
          "text": [
            "501it [00:55,  7.23it/s]"
          ]
        },
        {
          "output_type": "stream",
          "name": "stdout",
          "text": [
            "| epoch   6 |   500/32580 batches | loss    1.328 \n",
            "money: work, even, question, result, just, do, idea, god, it, know\n",
            "lion: addition, write, say, least, length, pope, prevent, growth, opposed, size\n",
            "africa: europe, america, india, england, germany, west, east, asia, ireland, china\n",
            "musician: singer, writer, actor, composer, poet, actress, author, politician, famous, rome\n",
            "dance: music, country, traditional, popular, actor, culture, town, business, applied, singer\n",
            "\n",
            "\n"
          ]
        },
        {
          "output_type": "stream",
          "name": "stderr",
          "text": [
            "1001it [01:48,  7.67it/s]"
          ]
        },
        {
          "output_type": "stream",
          "name": "stdout",
          "text": [
            "| epoch   6 |  1000/32580 batches | loss    1.327 \n",
            "money: work, even, question, result, just, do, idea, god, it, know\n",
            "lion: addition, write, say, least, length, pope, prevent, growth, opposed, size\n",
            "africa: europe, america, india, england, germany, west, east, asia, ireland, china\n",
            "musician: singer, writer, actor, composer, poet, actress, author, politician, famous, rome\n",
            "dance: music, country, traditional, popular, actor, culture, town, business, applied, singer\n",
            "\n",
            "\n"
          ]
        },
        {
          "output_type": "stream",
          "name": "stderr",
          "text": [
            "1501it [02:42,  7.55it/s]"
          ]
        },
        {
          "output_type": "stream",
          "name": "stdout",
          "text": [
            "| epoch   6 |  1500/32580 batches | loss    1.329 \n",
            "money: work, even, question, result, just, do, idea, god, it, know\n",
            "lion: addition, write, say, least, length, pope, prevent, growth, opposed, size\n",
            "africa: europe, america, india, england, germany, west, east, asia, ireland, china\n",
            "musician: singer, writer, actor, composer, poet, actress, author, politician, famous, rome\n",
            "dance: music, country, traditional, popular, actor, culture, town, business, applied, singer\n",
            "\n",
            "\n"
          ]
        },
        {
          "output_type": "stream",
          "name": "stderr",
          "text": [
            "2001it [03:36,  7.74it/s]"
          ]
        },
        {
          "output_type": "stream",
          "name": "stdout",
          "text": [
            "| epoch   6 |  2000/32580 batches | loss    1.333 \n",
            "money: work, even, question, result, just, do, idea, god, it, know\n",
            "lion: addition, write, say, least, length, pope, prevent, growth, opposed, size\n",
            "africa: europe, america, india, england, germany, west, east, asia, ireland, china\n",
            "musician: singer, writer, actor, composer, poet, actress, author, politician, famous, rome\n",
            "dance: music, country, traditional, popular, actor, culture, town, business, applied, singer\n",
            "\n",
            "\n"
          ]
        },
        {
          "output_type": "stream",
          "name": "stderr",
          "text": [
            "2501it [04:30,  7.04it/s]"
          ]
        },
        {
          "output_type": "stream",
          "name": "stdout",
          "text": [
            "| epoch   6 |  2500/32580 batches | loss    1.326 \n",
            "money: work, even, question, result, just, do, idea, god, it, know\n",
            "lion: addition, write, say, least, length, pope, prevent, growth, opposed, size\n",
            "africa: europe, america, india, england, germany, west, east, asia, ireland, china\n",
            "musician: singer, writer, actor, composer, poet, actress, author, politician, famous, rome\n",
            "dance: music, country, traditional, popular, actor, culture, town, business, applied, singer\n",
            "\n",
            "\n"
          ]
        },
        {
          "output_type": "stream",
          "name": "stderr",
          "text": [
            "3001it [05:24,  7.53it/s]"
          ]
        },
        {
          "output_type": "stream",
          "name": "stdout",
          "text": [
            "| epoch   6 |  3000/32580 batches | loss    1.332 \n",
            "money: work, even, question, result, just, do, idea, god, it, know\n",
            "lion: addition, write, say, least, length, pope, prevent, growth, opposed, size\n",
            "africa: europe, america, india, england, germany, west, east, asia, ireland, china\n",
            "musician: singer, writer, actor, composer, poet, actress, author, politician, famous, rome\n",
            "dance: music, country, traditional, popular, actor, culture, town, business, applied, singer\n",
            "\n",
            "\n"
          ]
        },
        {
          "output_type": "stream",
          "name": "stderr",
          "text": [
            "3501it [06:18,  7.75it/s]"
          ]
        },
        {
          "output_type": "stream",
          "name": "stdout",
          "text": [
            "| epoch   6 |  3500/32580 batches | loss    1.328 \n",
            "money: work, even, question, result, just, do, idea, god, it, know\n",
            "lion: addition, write, say, least, length, pope, prevent, growth, opposed, size\n",
            "africa: europe, america, india, england, germany, west, east, asia, ireland, china\n",
            "musician: singer, writer, actor, composer, poet, actress, author, politician, famous, rome\n",
            "dance: music, country, traditional, popular, actor, culture, town, business, applied, singer\n",
            "\n",
            "\n"
          ]
        },
        {
          "output_type": "stream",
          "name": "stderr",
          "text": [
            "4001it [07:12,  7.83it/s]"
          ]
        },
        {
          "output_type": "stream",
          "name": "stdout",
          "text": [
            "| epoch   6 |  4000/32580 batches | loss    1.333 \n",
            "money: work, even, question, result, just, do, idea, god, it, know\n",
            "lion: addition, write, say, least, length, pope, prevent, growth, opposed, size\n",
            "africa: europe, america, india, england, germany, west, east, asia, ireland, china\n",
            "musician: singer, writer, actor, composer, poet, actress, author, politician, famous, rome\n",
            "dance: music, country, traditional, popular, actor, culture, town, business, applied, singer\n",
            "\n",
            "\n"
          ]
        },
        {
          "output_type": "stream",
          "name": "stderr",
          "text": [
            "4501it [08:05,  7.74it/s]"
          ]
        },
        {
          "output_type": "stream",
          "name": "stdout",
          "text": [
            "| epoch   6 |  4500/32580 batches | loss    1.329 \n",
            "money: work, even, question, result, just, do, idea, god, it, know\n",
            "lion: addition, write, say, least, length, pope, prevent, growth, opposed, size\n",
            "africa: europe, america, india, england, germany, west, east, asia, ireland, china\n",
            "musician: singer, writer, actor, composer, poet, actress, author, politician, famous, rome\n",
            "dance: music, country, traditional, popular, actor, culture, town, business, applied, singer\n",
            "\n",
            "\n"
          ]
        },
        {
          "output_type": "stream",
          "name": "stderr",
          "text": [
            "5001it [08:57,  7.43it/s]"
          ]
        },
        {
          "output_type": "stream",
          "name": "stdout",
          "text": [
            "| epoch   6 |  5000/32580 batches | loss    1.331 \n",
            "money: work, even, question, result, just, do, idea, god, it, know\n",
            "lion: addition, write, say, least, length, pope, prevent, growth, opposed, size\n",
            "africa: europe, america, india, england, germany, west, east, asia, ireland, china\n",
            "musician: singer, writer, actor, composer, poet, actress, author, politician, famous, rome\n",
            "dance: music, country, traditional, popular, actor, culture, town, business, applied, singer\n",
            "\n",
            "\n"
          ]
        },
        {
          "output_type": "stream",
          "name": "stderr",
          "text": [
            "5501it [09:51,  7.80it/s]"
          ]
        },
        {
          "output_type": "stream",
          "name": "stdout",
          "text": [
            "| epoch   6 |  5500/32580 batches | loss    1.325 \n",
            "money: work, even, question, result, just, do, idea, god, it, know\n",
            "lion: addition, write, say, least, length, pope, prevent, growth, opposed, size\n",
            "africa: europe, america, india, england, germany, west, east, asia, ireland, china\n",
            "musician: singer, writer, actor, composer, poet, actress, author, politician, famous, rome\n",
            "dance: music, country, traditional, popular, actor, culture, town, business, applied, singer\n",
            "\n",
            "\n"
          ]
        },
        {
          "output_type": "stream",
          "name": "stderr",
          "text": [
            "6001it [10:45,  7.79it/s]"
          ]
        },
        {
          "output_type": "stream",
          "name": "stdout",
          "text": [
            "| epoch   6 |  6000/32580 batches | loss    1.329 \n",
            "money: work, even, question, result, just, do, idea, god, it, know\n",
            "lion: addition, write, say, least, length, pope, prevent, growth, opposed, size\n",
            "africa: europe, america, india, england, germany, west, east, asia, ireland, china\n",
            "musician: singer, writer, actor, composer, poet, actress, author, politician, famous, rome\n",
            "dance: music, country, traditional, popular, actor, culture, town, business, applied, singer\n",
            "\n",
            "\n"
          ]
        },
        {
          "output_type": "stream",
          "name": "stderr",
          "text": [
            "6501it [11:39,  7.60it/s]"
          ]
        },
        {
          "output_type": "stream",
          "name": "stdout",
          "text": [
            "| epoch   6 |  6500/32580 batches | loss    1.333 \n",
            "money: work, even, question, result, just, do, idea, god, it, know\n",
            "lion: addition, write, say, least, length, pope, prevent, growth, opposed, size\n",
            "africa: europe, america, india, england, germany, west, east, asia, ireland, china\n",
            "musician: singer, writer, actor, composer, poet, actress, author, politician, famous, rome\n",
            "dance: music, country, traditional, popular, actor, culture, town, business, applied, singer\n",
            "\n",
            "\n"
          ]
        },
        {
          "output_type": "stream",
          "name": "stderr",
          "text": [
            "7001it [12:33,  7.22it/s]"
          ]
        },
        {
          "output_type": "stream",
          "name": "stdout",
          "text": [
            "| epoch   6 |  7000/32580 batches | loss    1.329 \n",
            "money: work, even, question, result, just, do, idea, god, it, know\n",
            "lion: addition, write, say, least, length, pope, prevent, growth, opposed, size\n",
            "africa: europe, america, india, england, germany, west, east, asia, ireland, china\n",
            "musician: singer, writer, actor, composer, poet, actress, author, politician, famous, rome\n",
            "dance: music, country, traditional, popular, actor, culture, town, business, applied, singer\n",
            "\n",
            "\n"
          ]
        },
        {
          "output_type": "stream",
          "name": "stderr",
          "text": [
            "7501it [13:27,  7.52it/s]"
          ]
        },
        {
          "output_type": "stream",
          "name": "stdout",
          "text": [
            "| epoch   6 |  7500/32580 batches | loss    1.329 \n",
            "money: work, even, question, result, just, do, idea, god, it, know\n",
            "lion: addition, write, say, least, length, pope, prevent, growth, opposed, size\n",
            "africa: europe, america, india, england, germany, west, east, asia, ireland, china\n",
            "musician: singer, writer, actor, composer, poet, actress, author, politician, famous, rome\n",
            "dance: music, country, traditional, popular, actor, culture, town, business, applied, singer\n",
            "\n",
            "\n"
          ]
        },
        {
          "output_type": "stream",
          "name": "stderr",
          "text": [
            "8001it [14:21,  7.70it/s]"
          ]
        },
        {
          "output_type": "stream",
          "name": "stdout",
          "text": [
            "| epoch   6 |  8000/32580 batches | loss    1.327 \n",
            "money: work, even, question, result, just, do, idea, god, it, know\n",
            "lion: addition, write, say, least, length, pope, prevent, growth, opposed, size\n",
            "africa: europe, america, india, england, germany, west, east, asia, ireland, china\n",
            "musician: singer, writer, actor, composer, poet, actress, author, politician, famous, rome\n",
            "dance: music, country, traditional, popular, actor, culture, town, business, applied, singer\n",
            "\n",
            "\n"
          ]
        },
        {
          "output_type": "stream",
          "name": "stderr",
          "text": [
            "8501it [15:16,  7.12it/s]"
          ]
        },
        {
          "output_type": "stream",
          "name": "stdout",
          "text": [
            "| epoch   6 |  8500/32580 batches | loss    1.330 \n",
            "money: work, even, question, result, just, do, idea, god, it, know\n",
            "lion: addition, write, say, least, length, pope, prevent, growth, opposed, size\n",
            "africa: europe, america, india, england, germany, west, east, asia, ireland, china\n",
            "musician: singer, writer, actor, composer, poet, actress, author, politician, famous, rome\n",
            "dance: music, country, traditional, popular, actor, culture, town, business, applied, singer\n",
            "\n",
            "\n"
          ]
        },
        {
          "output_type": "stream",
          "name": "stderr",
          "text": [
            "9001it [16:09,  7.11it/s]"
          ]
        },
        {
          "output_type": "stream",
          "name": "stdout",
          "text": [
            "| epoch   6 |  9000/32580 batches | loss    1.329 \n",
            "money: work, even, question, result, just, do, idea, god, it, know\n",
            "lion: addition, write, say, least, length, pope, prevent, growth, opposed, size\n",
            "africa: europe, america, india, england, germany, west, east, asia, ireland, china\n",
            "musician: singer, writer, actor, composer, poet, actress, author, politician, famous, rome\n",
            "dance: music, country, traditional, popular, actor, culture, town, business, applied, singer\n",
            "\n",
            "\n"
          ]
        },
        {
          "output_type": "stream",
          "name": "stderr",
          "text": [
            "9501it [17:02,  7.71it/s]"
          ]
        },
        {
          "output_type": "stream",
          "name": "stdout",
          "text": [
            "| epoch   6 |  9500/32580 batches | loss    1.330 \n",
            "money: work, even, question, result, just, do, idea, god, it, know\n",
            "lion: addition, write, say, least, length, pope, prevent, growth, opposed, size\n",
            "africa: europe, america, india, england, germany, west, east, asia, ireland, china\n",
            "musician: singer, writer, actor, composer, poet, actress, author, politician, famous, rome\n",
            "dance: music, country, traditional, popular, actor, culture, town, business, applied, singer\n",
            "\n",
            "\n"
          ]
        },
        {
          "output_type": "stream",
          "name": "stderr",
          "text": [
            "10001it [17:55,  7.71it/s]"
          ]
        },
        {
          "output_type": "stream",
          "name": "stdout",
          "text": [
            "| epoch   6 | 10000/32580 batches | loss    1.331 \n",
            "money: work, even, question, result, just, do, idea, god, it, know\n",
            "lion: addition, write, say, least, length, pope, prevent, growth, opposed, size\n",
            "africa: europe, america, india, england, germany, west, east, asia, ireland, china\n",
            "musician: singer, writer, actor, composer, poet, actress, author, politician, famous, rome\n",
            "dance: music, country, traditional, popular, actor, culture, town, business, applied, singer\n",
            "\n",
            "\n"
          ]
        },
        {
          "output_type": "stream",
          "name": "stderr",
          "text": [
            "10501it [18:52,  7.25it/s]"
          ]
        },
        {
          "output_type": "stream",
          "name": "stdout",
          "text": [
            "| epoch   6 | 10500/32580 batches | loss    1.334 \n",
            "money: work, even, question, result, just, do, idea, god, it, know\n",
            "lion: addition, write, say, least, length, pope, prevent, growth, opposed, size\n",
            "africa: europe, america, india, england, germany, west, east, asia, ireland, china\n",
            "musician: singer, writer, actor, composer, poet, actress, author, politician, famous, rome\n",
            "dance: music, country, traditional, popular, actor, culture, town, business, applied, singer\n",
            "\n",
            "\n"
          ]
        },
        {
          "output_type": "stream",
          "name": "stderr",
          "text": [
            "11001it [19:45,  7.82it/s]"
          ]
        },
        {
          "output_type": "stream",
          "name": "stdout",
          "text": [
            "| epoch   6 | 11000/32580 batches | loss    1.331 \n",
            "money: work, even, question, result, just, do, idea, god, it, know\n",
            "lion: addition, write, say, least, length, pope, prevent, growth, opposed, size\n",
            "africa: europe, america, india, england, germany, west, east, asia, ireland, china\n",
            "musician: singer, writer, actor, composer, poet, actress, author, politician, famous, rome\n",
            "dance: music, country, traditional, popular, actor, culture, town, business, applied, singer\n",
            "\n",
            "\n"
          ]
        },
        {
          "output_type": "stream",
          "name": "stderr",
          "text": [
            "11501it [20:39,  7.66it/s]"
          ]
        },
        {
          "output_type": "stream",
          "name": "stdout",
          "text": [
            "| epoch   6 | 11500/32580 batches | loss    1.327 \n",
            "money: work, even, question, result, just, do, idea, god, it, know\n",
            "lion: addition, write, say, least, length, pope, prevent, growth, opposed, size\n",
            "africa: europe, america, india, england, germany, west, east, asia, ireland, china\n",
            "musician: singer, writer, actor, composer, poet, actress, author, politician, famous, rome\n",
            "dance: music, country, traditional, popular, actor, culture, town, business, applied, singer\n",
            "\n",
            "\n"
          ]
        },
        {
          "output_type": "stream",
          "name": "stderr",
          "text": [
            "12001it [21:32,  7.71it/s]"
          ]
        },
        {
          "output_type": "stream",
          "name": "stdout",
          "text": [
            "| epoch   6 | 12000/32580 batches | loss    1.330 \n",
            "money: work, even, question, result, just, do, idea, god, it, know\n",
            "lion: addition, write, say, least, length, pope, prevent, growth, opposed, size\n",
            "africa: europe, america, india, england, germany, west, east, asia, ireland, china\n",
            "musician: singer, writer, actor, composer, poet, actress, author, politician, famous, rome\n",
            "dance: music, country, traditional, popular, actor, culture, town, business, applied, singer\n",
            "\n",
            "\n"
          ]
        },
        {
          "output_type": "stream",
          "name": "stderr",
          "text": [
            "12501it [22:26,  7.59it/s]"
          ]
        },
        {
          "output_type": "stream",
          "name": "stdout",
          "text": [
            "| epoch   6 | 12500/32580 batches | loss    1.333 \n",
            "money: work, even, question, result, just, do, idea, god, it, know\n",
            "lion: addition, write, say, least, length, pope, prevent, growth, opposed, size\n",
            "africa: europe, america, india, england, germany, west, east, asia, ireland, china\n",
            "musician: singer, writer, actor, composer, poet, actress, author, politician, famous, rome\n",
            "dance: music, country, traditional, popular, actor, culture, town, business, applied, singer\n",
            "\n",
            "\n"
          ]
        },
        {
          "output_type": "stream",
          "name": "stderr",
          "text": [
            "13001it [23:20,  7.64it/s]"
          ]
        },
        {
          "output_type": "stream",
          "name": "stdout",
          "text": [
            "| epoch   6 | 13000/32580 batches | loss    1.334 \n",
            "money: work, even, question, result, just, do, idea, god, it, know\n",
            "lion: addition, write, say, least, length, pope, prevent, growth, opposed, size\n",
            "africa: europe, america, india, england, germany, west, east, asia, ireland, china\n",
            "musician: singer, writer, actor, composer, poet, actress, author, politician, famous, rome\n",
            "dance: music, country, traditional, popular, actor, culture, town, business, applied, singer\n",
            "\n",
            "\n"
          ]
        },
        {
          "output_type": "stream",
          "name": "stderr",
          "text": [
            "13501it [24:14,  7.18it/s]"
          ]
        },
        {
          "output_type": "stream",
          "name": "stdout",
          "text": [
            "| epoch   6 | 13500/32580 batches | loss    1.333 \n",
            "money: work, even, question, result, just, do, idea, god, it, know\n",
            "lion: addition, write, say, least, length, pope, prevent, growth, opposed, size\n",
            "africa: europe, america, india, england, germany, west, east, asia, ireland, china\n",
            "musician: singer, writer, actor, composer, poet, actress, author, politician, famous, rome\n",
            "dance: music, country, traditional, popular, actor, culture, town, business, applied, singer\n",
            "\n",
            "\n"
          ]
        },
        {
          "output_type": "stream",
          "name": "stderr",
          "text": [
            "14001it [25:08,  7.75it/s]"
          ]
        },
        {
          "output_type": "stream",
          "name": "stdout",
          "text": [
            "| epoch   6 | 14000/32580 batches | loss    1.335 \n",
            "money: work, even, question, result, just, do, idea, god, it, know\n",
            "lion: addition, write, say, least, length, pope, prevent, growth, opposed, size\n",
            "africa: europe, america, india, england, germany, west, east, asia, ireland, china\n",
            "musician: singer, writer, actor, composer, poet, actress, author, politician, famous, rome\n",
            "dance: music, country, traditional, popular, actor, culture, town, business, applied, singer\n",
            "\n",
            "\n"
          ]
        },
        {
          "output_type": "stream",
          "name": "stderr",
          "text": [
            "14501it [26:01,  7.70it/s]"
          ]
        },
        {
          "output_type": "stream",
          "name": "stdout",
          "text": [
            "| epoch   6 | 14500/32580 batches | loss    1.335 \n",
            "money: work, even, question, result, just, do, idea, god, it, know\n",
            "lion: addition, write, say, least, length, pope, prevent, growth, opposed, size\n",
            "africa: europe, america, india, england, germany, west, east, asia, ireland, china\n",
            "musician: singer, writer, actor, composer, poet, actress, author, politician, famous, rome\n",
            "dance: music, country, traditional, popular, actor, culture, town, business, applied, singer\n",
            "\n",
            "\n"
          ]
        },
        {
          "output_type": "stream",
          "name": "stderr",
          "text": [
            "15001it [26:54,  7.64it/s]"
          ]
        },
        {
          "output_type": "stream",
          "name": "stdout",
          "text": [
            "| epoch   6 | 15000/32580 batches | loss    1.327 \n",
            "money: work, even, question, result, just, do, idea, god, it, know\n",
            "lion: addition, write, say, least, length, pope, prevent, growth, opposed, size\n",
            "africa: europe, america, india, england, germany, west, east, asia, ireland, china\n",
            "musician: singer, writer, actor, composer, poet, actress, author, politician, famous, rome\n",
            "dance: music, country, traditional, popular, actor, culture, town, business, applied, singer\n",
            "\n",
            "\n"
          ]
        },
        {
          "output_type": "stream",
          "name": "stderr",
          "text": [
            "15501it [27:47,  7.73it/s]"
          ]
        },
        {
          "output_type": "stream",
          "name": "stdout",
          "text": [
            "| epoch   6 | 15500/32580 batches | loss    1.329 \n",
            "money: work, even, question, result, just, do, idea, god, it, know\n",
            "lion: addition, write, say, least, length, pope, prevent, growth, opposed, size\n",
            "africa: europe, america, india, england, germany, west, east, asia, ireland, china\n",
            "musician: singer, writer, actor, composer, poet, actress, author, politician, famous, rome\n",
            "dance: music, country, traditional, popular, actor, culture, town, business, applied, singer\n",
            "\n",
            "\n"
          ]
        },
        {
          "output_type": "stream",
          "name": "stderr",
          "text": [
            "16001it [28:40,  7.27it/s]"
          ]
        },
        {
          "output_type": "stream",
          "name": "stdout",
          "text": [
            "| epoch   6 | 16000/32580 batches | loss    1.329 \n",
            "money: work, even, question, result, just, do, idea, god, it, know\n",
            "lion: addition, write, say, least, length, pope, prevent, growth, opposed, size\n",
            "africa: europe, america, india, england, germany, west, east, asia, ireland, china\n",
            "musician: singer, writer, actor, composer, poet, actress, author, politician, famous, rome\n",
            "dance: music, country, traditional, popular, actor, culture, town, business, applied, singer\n",
            "\n",
            "\n"
          ]
        },
        {
          "output_type": "stream",
          "name": "stderr",
          "text": [
            "16501it [29:33,  7.27it/s]"
          ]
        },
        {
          "output_type": "stream",
          "name": "stdout",
          "text": [
            "| epoch   6 | 16500/32580 batches | loss    1.336 \n",
            "money: work, even, question, result, just, do, idea, god, it, know\n",
            "lion: addition, write, say, least, length, pope, prevent, growth, opposed, size\n",
            "africa: europe, america, india, england, germany, west, east, asia, ireland, china\n",
            "musician: singer, writer, actor, composer, poet, actress, author, politician, famous, rome\n",
            "dance: music, country, traditional, popular, actor, culture, town, business, applied, singer\n",
            "\n",
            "\n"
          ]
        },
        {
          "output_type": "stream",
          "name": "stderr",
          "text": [
            "17001it [30:27,  7.87it/s]"
          ]
        },
        {
          "output_type": "stream",
          "name": "stdout",
          "text": [
            "| epoch   6 | 17000/32580 batches | loss    1.332 \n",
            "money: work, even, question, result, just, do, idea, god, it, know\n",
            "lion: addition, write, say, least, length, pope, prevent, growth, opposed, size\n",
            "africa: europe, america, india, england, germany, west, east, asia, ireland, china\n",
            "musician: singer, writer, actor, composer, poet, actress, author, politician, famous, rome\n",
            "dance: music, country, traditional, popular, actor, culture, town, business, applied, singer\n",
            "\n",
            "\n"
          ]
        },
        {
          "output_type": "stream",
          "name": "stderr",
          "text": [
            "17501it [31:21,  7.24it/s]"
          ]
        },
        {
          "output_type": "stream",
          "name": "stdout",
          "text": [
            "| epoch   6 | 17500/32580 batches | loss    1.330 \n",
            "money: work, even, question, result, just, do, idea, god, it, know\n",
            "lion: addition, write, say, least, length, pope, prevent, growth, opposed, size\n",
            "africa: europe, america, india, england, germany, west, east, asia, ireland, china\n",
            "musician: singer, writer, actor, composer, poet, actress, author, politician, famous, rome\n",
            "dance: music, country, traditional, popular, actor, culture, town, business, applied, singer\n",
            "\n",
            "\n"
          ]
        },
        {
          "output_type": "stream",
          "name": "stderr",
          "text": [
            "18001it [32:15,  7.73it/s]"
          ]
        },
        {
          "output_type": "stream",
          "name": "stdout",
          "text": [
            "| epoch   6 | 18000/32580 batches | loss    1.330 \n",
            "money: work, even, question, result, just, do, idea, god, it, know\n",
            "lion: addition, write, say, least, length, pope, prevent, growth, opposed, size\n",
            "africa: europe, america, india, england, germany, west, east, asia, ireland, china\n",
            "musician: singer, writer, actor, composer, poet, actress, author, politician, famous, rome\n",
            "dance: music, country, traditional, popular, actor, culture, town, business, applied, singer\n",
            "\n",
            "\n"
          ]
        },
        {
          "output_type": "stream",
          "name": "stderr",
          "text": [
            "18501it [33:09,  7.78it/s]"
          ]
        },
        {
          "output_type": "stream",
          "name": "stdout",
          "text": [
            "| epoch   6 | 18500/32580 batches | loss    1.328 \n",
            "money: work, even, question, result, just, do, idea, god, it, know\n",
            "lion: addition, write, say, least, length, pope, prevent, growth, opposed, size\n",
            "africa: europe, america, india, england, germany, west, east, asia, ireland, china\n",
            "musician: singer, writer, actor, composer, poet, actress, author, politician, famous, rome\n",
            "dance: music, country, traditional, popular, actor, culture, town, business, applied, singer\n",
            "\n",
            "\n"
          ]
        },
        {
          "output_type": "stream",
          "name": "stderr",
          "text": [
            "19001it [34:03,  7.78it/s]"
          ]
        },
        {
          "output_type": "stream",
          "name": "stdout",
          "text": [
            "| epoch   6 | 19000/32580 batches | loss    1.329 \n",
            "money: work, even, question, result, just, do, idea, god, it, know\n",
            "lion: addition, write, say, least, length, pope, prevent, growth, opposed, size\n",
            "africa: europe, america, india, england, germany, west, east, asia, ireland, china\n",
            "musician: singer, writer, actor, composer, poet, actress, author, politician, famous, rome\n",
            "dance: music, country, traditional, popular, actor, culture, town, business, applied, singer\n",
            "\n",
            "\n"
          ]
        },
        {
          "output_type": "stream",
          "name": "stderr",
          "text": [
            "19501it [34:56,  7.84it/s]"
          ]
        },
        {
          "output_type": "stream",
          "name": "stdout",
          "text": [
            "| epoch   6 | 19500/32580 batches | loss    1.334 \n",
            "money: work, even, question, result, just, do, idea, god, it, know\n",
            "lion: addition, write, say, least, length, pope, prevent, growth, opposed, size\n",
            "africa: europe, america, india, england, germany, west, east, asia, ireland, china\n",
            "musician: singer, writer, actor, composer, poet, actress, author, politician, famous, rome\n",
            "dance: music, country, traditional, popular, actor, culture, town, business, applied, singer\n",
            "\n",
            "\n"
          ]
        },
        {
          "output_type": "stream",
          "name": "stderr",
          "text": [
            "20001it [35:51,  7.72it/s]"
          ]
        },
        {
          "output_type": "stream",
          "name": "stdout",
          "text": [
            "| epoch   6 | 20000/32580 batches | loss    1.328 \n",
            "money: work, even, question, result, just, do, idea, god, it, know\n",
            "lion: addition, write, say, least, length, pope, prevent, growth, opposed, size\n",
            "africa: europe, america, india, england, germany, west, east, asia, ireland, china\n",
            "musician: singer, writer, actor, composer, poet, actress, author, politician, famous, rome\n",
            "dance: music, country, traditional, popular, actor, culture, town, business, applied, singer\n",
            "\n",
            "\n"
          ]
        },
        {
          "output_type": "stream",
          "name": "stderr",
          "text": [
            "20501it [36:45,  7.82it/s]"
          ]
        },
        {
          "output_type": "stream",
          "name": "stdout",
          "text": [
            "| epoch   6 | 20500/32580 batches | loss    1.332 \n",
            "money: work, even, question, result, just, do, idea, god, it, know\n",
            "lion: addition, write, say, least, length, pope, prevent, growth, opposed, size\n",
            "africa: europe, america, india, england, germany, west, east, asia, ireland, china\n",
            "musician: singer, writer, actor, composer, poet, actress, author, politician, famous, rome\n",
            "dance: music, country, traditional, popular, actor, culture, town, business, applied, singer\n",
            "\n",
            "\n"
          ]
        },
        {
          "output_type": "stream",
          "name": "stderr",
          "text": [
            "21001it [37:37,  7.77it/s]"
          ]
        },
        {
          "output_type": "stream",
          "name": "stdout",
          "text": [
            "| epoch   6 | 21000/32580 batches | loss    1.330 \n",
            "money: work, even, question, result, just, do, idea, god, it, know\n",
            "lion: addition, write, say, least, length, pope, prevent, growth, opposed, size\n",
            "africa: europe, america, india, england, germany, west, east, asia, ireland, china\n",
            "musician: singer, writer, actor, composer, poet, actress, author, politician, famous, rome\n",
            "dance: music, country, traditional, popular, actor, culture, town, business, applied, singer\n",
            "\n",
            "\n"
          ]
        },
        {
          "output_type": "stream",
          "name": "stderr",
          "text": [
            "21501it [38:31,  7.30it/s]"
          ]
        },
        {
          "output_type": "stream",
          "name": "stdout",
          "text": [
            "| epoch   6 | 21500/32580 batches | loss    1.333 \n",
            "money: work, even, question, result, just, do, idea, god, it, know\n",
            "lion: addition, write, say, least, length, pope, prevent, growth, opposed, size\n",
            "africa: europe, america, india, england, germany, west, east, asia, ireland, china\n",
            "musician: singer, writer, actor, composer, poet, actress, author, politician, famous, rome\n",
            "dance: music, country, traditional, popular, actor, culture, town, business, applied, singer\n",
            "\n",
            "\n"
          ]
        },
        {
          "output_type": "stream",
          "name": "stderr",
          "text": [
            "22001it [39:25,  7.82it/s]"
          ]
        },
        {
          "output_type": "stream",
          "name": "stdout",
          "text": [
            "| epoch   6 | 22000/32580 batches | loss    1.329 \n",
            "money: work, even, question, result, just, do, idea, god, it, know\n",
            "lion: addition, write, say, least, length, pope, prevent, growth, opposed, size\n",
            "africa: europe, america, india, england, germany, west, east, asia, ireland, china\n",
            "musician: singer, writer, actor, composer, poet, actress, author, politician, famous, rome\n",
            "dance: music, country, traditional, popular, actor, culture, town, business, applied, singer\n",
            "\n",
            "\n"
          ]
        },
        {
          "output_type": "stream",
          "name": "stderr",
          "text": [
            "22501it [40:24,  7.71it/s]"
          ]
        },
        {
          "output_type": "stream",
          "name": "stdout",
          "text": [
            "| epoch   6 | 22500/32580 batches | loss    1.335 \n",
            "money: work, even, question, result, just, do, idea, god, it, know\n",
            "lion: addition, write, say, least, length, pope, prevent, growth, opposed, size\n",
            "africa: europe, america, india, england, germany, west, east, asia, ireland, china\n",
            "musician: singer, writer, actor, composer, poet, actress, author, politician, famous, rome\n",
            "dance: music, country, traditional, popular, actor, culture, town, business, applied, singer\n",
            "\n",
            "\n"
          ]
        },
        {
          "output_type": "stream",
          "name": "stderr",
          "text": [
            "23001it [41:17,  7.58it/s]"
          ]
        },
        {
          "output_type": "stream",
          "name": "stdout",
          "text": [
            "| epoch   6 | 23000/32580 batches | loss    1.332 \n",
            "money: work, even, question, result, just, do, idea, god, it, know\n",
            "lion: addition, write, say, least, length, pope, prevent, growth, opposed, size\n",
            "africa: europe, america, india, england, germany, west, east, asia, ireland, china\n",
            "musician: singer, writer, actor, composer, poet, actress, author, politician, famous, rome\n",
            "dance: music, country, traditional, popular, actor, culture, town, business, applied, singer\n",
            "\n",
            "\n"
          ]
        },
        {
          "output_type": "stream",
          "name": "stderr",
          "text": [
            "23501it [42:11,  7.58it/s]"
          ]
        },
        {
          "output_type": "stream",
          "name": "stdout",
          "text": [
            "| epoch   6 | 23500/32580 batches | loss    1.334 \n",
            "money: work, even, question, result, just, do, idea, god, it, know\n",
            "lion: addition, write, say, least, length, pope, prevent, growth, opposed, size\n",
            "africa: europe, america, india, england, germany, west, east, asia, ireland, china\n",
            "musician: singer, writer, actor, composer, poet, actress, author, politician, famous, rome\n",
            "dance: music, country, traditional, popular, actor, culture, town, business, applied, singer\n",
            "\n",
            "\n"
          ]
        },
        {
          "output_type": "stream",
          "name": "stderr",
          "text": [
            "24001it [43:07,  7.11it/s]"
          ]
        },
        {
          "output_type": "stream",
          "name": "stdout",
          "text": [
            "| epoch   6 | 24000/32580 batches | loss    1.331 \n",
            "money: work, even, question, result, just, do, idea, god, it, know\n",
            "lion: addition, write, say, least, length, pope, prevent, growth, opposed, size\n",
            "africa: europe, america, india, england, germany, west, east, asia, ireland, china\n",
            "musician: singer, writer, actor, composer, poet, actress, author, politician, famous, rome\n",
            "dance: music, country, traditional, popular, actor, culture, town, business, applied, singer\n",
            "\n",
            "\n"
          ]
        },
        {
          "output_type": "stream",
          "name": "stderr",
          "text": [
            "24501it [44:02,  7.23it/s]"
          ]
        },
        {
          "output_type": "stream",
          "name": "stdout",
          "text": [
            "| epoch   6 | 24500/32580 batches | loss    1.331 \n",
            "money: work, even, question, result, just, do, idea, god, it, know\n",
            "lion: addition, write, say, least, length, pope, prevent, growth, opposed, size\n",
            "africa: europe, america, india, england, germany, west, east, asia, ireland, china\n",
            "musician: singer, writer, actor, composer, poet, actress, author, politician, famous, rome\n",
            "dance: music, country, traditional, popular, actor, culture, town, business, applied, singer\n",
            "\n",
            "\n"
          ]
        },
        {
          "output_type": "stream",
          "name": "stderr",
          "text": [
            "25001it [44:56,  7.09it/s]"
          ]
        },
        {
          "output_type": "stream",
          "name": "stdout",
          "text": [
            "| epoch   6 | 25000/32580 batches | loss    1.330 \n",
            "money: work, even, question, result, just, do, idea, god, it, know\n",
            "lion: addition, write, say, least, length, pope, prevent, growth, opposed, size\n",
            "africa: europe, america, india, england, germany, west, east, asia, ireland, china\n",
            "musician: singer, writer, actor, composer, poet, actress, author, politician, famous, rome\n",
            "dance: music, country, traditional, popular, actor, culture, town, business, applied, singer\n",
            "\n",
            "\n"
          ]
        },
        {
          "output_type": "stream",
          "name": "stderr",
          "text": [
            "25501it [45:49,  7.83it/s]"
          ]
        },
        {
          "output_type": "stream",
          "name": "stdout",
          "text": [
            "| epoch   6 | 25500/32580 batches | loss    1.330 \n",
            "money: work, even, question, result, just, do, idea, god, it, know\n",
            "lion: addition, write, say, least, length, pope, prevent, growth, opposed, size\n",
            "africa: europe, america, india, england, germany, west, east, asia, ireland, china\n",
            "musician: singer, writer, actor, composer, poet, actress, author, politician, famous, rome\n",
            "dance: music, country, traditional, popular, actor, culture, town, business, applied, singer\n",
            "\n",
            "\n"
          ]
        },
        {
          "output_type": "stream",
          "name": "stderr",
          "text": [
            "26001it [46:42,  7.82it/s]"
          ]
        },
        {
          "output_type": "stream",
          "name": "stdout",
          "text": [
            "| epoch   6 | 26000/32580 batches | loss    1.337 \n",
            "money: work, even, question, result, just, do, idea, god, it, know\n",
            "lion: addition, write, say, least, length, pope, prevent, growth, opposed, size\n",
            "africa: europe, america, india, england, germany, west, east, asia, ireland, china\n",
            "musician: singer, writer, actor, composer, poet, actress, author, politician, famous, rome\n",
            "dance: music, country, traditional, popular, actor, culture, town, business, applied, singer\n",
            "\n",
            "\n"
          ]
        },
        {
          "output_type": "stream",
          "name": "stderr",
          "text": [
            "26501it [47:36,  7.45it/s]"
          ]
        },
        {
          "output_type": "stream",
          "name": "stdout",
          "text": [
            "| epoch   6 | 26500/32580 batches | loss    1.327 \n",
            "money: work, even, question, result, just, do, idea, god, it, know\n",
            "lion: addition, write, say, least, length, pope, prevent, growth, opposed, size\n",
            "africa: europe, america, india, england, germany, west, east, asia, ireland, china\n",
            "musician: singer, writer, actor, composer, poet, actress, author, politician, famous, rome\n",
            "dance: music, country, traditional, popular, actor, culture, town, business, applied, singer\n",
            "\n",
            "\n"
          ]
        },
        {
          "output_type": "stream",
          "name": "stderr",
          "text": [
            "27001it [48:28,  7.47it/s]"
          ]
        },
        {
          "output_type": "stream",
          "name": "stdout",
          "text": [
            "| epoch   6 | 27000/32580 batches | loss    1.330 \n",
            "money: work, even, question, result, just, do, idea, god, it, know\n",
            "lion: addition, write, say, least, length, pope, prevent, growth, opposed, size\n",
            "africa: europe, america, india, england, germany, west, east, asia, ireland, china\n",
            "musician: singer, writer, actor, composer, poet, actress, author, politician, famous, rome\n",
            "dance: music, country, traditional, popular, actor, culture, town, business, applied, singer\n",
            "\n",
            "\n"
          ]
        },
        {
          "output_type": "stream",
          "name": "stderr",
          "text": [
            "27501it [49:20,  7.47it/s]"
          ]
        },
        {
          "output_type": "stream",
          "name": "stdout",
          "text": [
            "| epoch   6 | 27500/32580 batches | loss    1.332 \n",
            "money: work, even, question, result, just, do, idea, god, it, know\n",
            "lion: addition, write, say, least, length, pope, prevent, growth, opposed, size\n",
            "africa: europe, america, india, england, germany, west, east, asia, ireland, china\n",
            "musician: singer, writer, actor, composer, poet, actress, author, politician, famous, rome\n",
            "dance: music, country, traditional, popular, actor, culture, town, business, applied, singer\n",
            "\n",
            "\n"
          ]
        },
        {
          "output_type": "stream",
          "name": "stderr",
          "text": [
            "28001it [50:14,  7.79it/s]"
          ]
        },
        {
          "output_type": "stream",
          "name": "stdout",
          "text": [
            "| epoch   6 | 28000/32580 batches | loss    1.328 \n",
            "money: work, even, question, result, just, do, idea, god, it, know\n",
            "lion: addition, write, say, least, length, pope, prevent, growth, opposed, size\n",
            "africa: europe, america, india, england, germany, west, east, asia, ireland, china\n",
            "musician: singer, writer, actor, composer, poet, actress, author, politician, famous, rome\n",
            "dance: music, country, traditional, popular, actor, culture, town, business, applied, singer\n",
            "\n",
            "\n"
          ]
        },
        {
          "output_type": "stream",
          "name": "stderr",
          "text": [
            "28501it [51:07,  7.27it/s]"
          ]
        },
        {
          "output_type": "stream",
          "name": "stdout",
          "text": [
            "| epoch   6 | 28500/32580 batches | loss    1.330 \n",
            "money: work, even, question, result, just, do, idea, god, it, know\n",
            "lion: addition, write, say, least, length, pope, prevent, growth, opposed, size\n",
            "africa: europe, america, india, england, germany, west, east, asia, ireland, china\n",
            "musician: singer, writer, actor, composer, poet, actress, author, politician, famous, rome\n",
            "dance: music, country, traditional, popular, actor, culture, town, business, applied, singer\n",
            "\n",
            "\n"
          ]
        },
        {
          "output_type": "stream",
          "name": "stderr",
          "text": [
            "29001it [51:59,  7.84it/s]"
          ]
        },
        {
          "output_type": "stream",
          "name": "stdout",
          "text": [
            "| epoch   6 | 29000/32580 batches | loss    1.329 \n",
            "money: work, even, question, result, just, do, idea, god, it, know\n",
            "lion: addition, write, say, least, length, pope, prevent, growth, opposed, size\n",
            "africa: europe, america, india, england, germany, west, east, asia, ireland, china\n",
            "musician: singer, writer, actor, composer, poet, actress, author, politician, famous, rome\n",
            "dance: music, country, traditional, popular, actor, culture, town, business, applied, singer\n",
            "\n",
            "\n"
          ]
        },
        {
          "output_type": "stream",
          "name": "stderr",
          "text": [
            "29501it [52:52,  7.78it/s]"
          ]
        },
        {
          "output_type": "stream",
          "name": "stdout",
          "text": [
            "| epoch   6 | 29500/32580 batches | loss    1.328 \n",
            "money: work, even, question, result, just, do, idea, god, it, know\n",
            "lion: addition, write, say, least, length, pope, prevent, growth, opposed, size\n",
            "africa: europe, america, india, england, germany, west, east, asia, ireland, china\n",
            "musician: singer, writer, actor, composer, poet, actress, author, politician, famous, rome\n",
            "dance: music, country, traditional, popular, actor, culture, town, business, applied, singer\n",
            "\n",
            "\n"
          ]
        },
        {
          "output_type": "stream",
          "name": "stderr",
          "text": [
            "30001it [53:44,  7.77it/s]"
          ]
        },
        {
          "output_type": "stream",
          "name": "stdout",
          "text": [
            "| epoch   6 | 30000/32580 batches | loss    1.327 \n",
            "money: work, even, question, result, just, do, idea, god, it, know\n",
            "lion: addition, write, say, least, length, pope, prevent, growth, opposed, size\n",
            "africa: europe, america, india, england, germany, west, east, asia, ireland, china\n",
            "musician: singer, writer, actor, composer, poet, actress, author, politician, famous, rome\n",
            "dance: music, country, traditional, popular, actor, culture, town, business, applied, singer\n",
            "\n",
            "\n"
          ]
        },
        {
          "output_type": "stream",
          "name": "stderr",
          "text": [
            "30501it [54:37,  8.69it/s]"
          ]
        },
        {
          "output_type": "stream",
          "name": "stdout",
          "text": [
            "| epoch   6 | 30500/32580 batches | loss    1.327 \n",
            "money: work, even, question, result, just, do, idea, god, it, know\n",
            "lion: addition, write, say, least, length, pope, prevent, growth, opposed, size\n",
            "africa: europe, america, india, england, germany, west, east, asia, ireland, china\n",
            "musician: singer, writer, actor, composer, poet, actress, author, politician, famous, rome\n",
            "dance: music, country, traditional, popular, actor, culture, town, business, applied, singer\n",
            "\n",
            "\n"
          ]
        },
        {
          "output_type": "stream",
          "name": "stderr",
          "text": [
            "31001it [55:30,  7.98it/s]"
          ]
        },
        {
          "output_type": "stream",
          "name": "stdout",
          "text": [
            "| epoch   6 | 31000/32580 batches | loss    1.332 \n",
            "money: work, even, question, result, just, do, idea, god, it, know\n",
            "lion: addition, write, say, least, length, pope, prevent, growth, opposed, size\n",
            "africa: europe, america, india, england, germany, west, east, asia, ireland, china\n",
            "musician: singer, writer, actor, composer, poet, actress, author, politician, famous, rome\n",
            "dance: music, country, traditional, popular, actor, culture, town, business, applied, singer\n",
            "\n",
            "\n"
          ]
        },
        {
          "output_type": "stream",
          "name": "stderr",
          "text": [
            "31501it [56:21,  7.46it/s]"
          ]
        },
        {
          "output_type": "stream",
          "name": "stdout",
          "text": [
            "| epoch   6 | 31500/32580 batches | loss    1.329 \n",
            "money: work, even, question, result, just, do, idea, god, it, know\n",
            "lion: addition, write, say, least, length, pope, prevent, growth, opposed, size\n",
            "africa: europe, america, india, england, germany, west, east, asia, ireland, china\n",
            "musician: singer, writer, actor, composer, poet, actress, author, politician, famous, rome\n",
            "dance: music, country, traditional, popular, actor, culture, town, business, applied, singer\n",
            "\n",
            "\n"
          ]
        },
        {
          "output_type": "stream",
          "name": "stderr",
          "text": [
            "32001it [57:12,  8.26it/s]"
          ]
        },
        {
          "output_type": "stream",
          "name": "stdout",
          "text": [
            "| epoch   6 | 32000/32580 batches | loss    1.329 \n",
            "money: work, even, question, result, just, do, idea, god, it, know\n",
            "lion: addition, write, say, least, length, pope, prevent, growth, opposed, size\n",
            "africa: europe, america, india, england, germany, west, east, asia, ireland, china\n",
            "musician: singer, writer, actor, composer, poet, actress, author, politician, famous, rome\n",
            "dance: music, country, traditional, popular, actor, culture, town, business, applied, singer\n",
            "\n",
            "\n"
          ]
        },
        {
          "output_type": "stream",
          "name": "stderr",
          "text": [
            "32501it [58:04,  8.06it/s]"
          ]
        },
        {
          "output_type": "stream",
          "name": "stdout",
          "text": [
            "| epoch   6 | 32500/32580 batches | loss    1.332 \n",
            "money: work, even, question, result, just, do, idea, god, it, know\n",
            "lion: addition, write, say, least, length, pope, prevent, growth, opposed, size\n",
            "africa: europe, america, india, england, germany, west, east, asia, ireland, china\n",
            "musician: singer, writer, actor, composer, poet, actress, author, politician, famous, rome\n",
            "dance: music, country, traditional, popular, actor, culture, town, business, applied, singer\n",
            "\n",
            "\n"
          ]
        },
        {
          "output_type": "stream",
          "name": "stderr",
          "text": [
            "32580it [58:15,  9.32it/s]\n",
            "1it [00:02,  2.07s/it]"
          ]
        },
        {
          "output_type": "stream",
          "name": "stdout",
          "text": [
            "| epoch   7 |     0/32580 batches | loss    1.304 \n",
            "money: work, even, question, result, just, do, idea, god, it, know\n",
            "lion: addition, write, say, least, length, pope, prevent, growth, opposed, size\n",
            "africa: europe, america, india, england, germany, west, east, asia, ireland, china\n",
            "musician: singer, writer, actor, composer, poet, actress, author, politician, famous, rome\n",
            "dance: music, country, traditional, popular, actor, culture, town, business, applied, singer\n",
            "\n",
            "\n"
          ]
        },
        {
          "output_type": "stream",
          "name": "stderr",
          "text": [
            "501it [00:54,  7.25it/s]"
          ]
        },
        {
          "output_type": "stream",
          "name": "stdout",
          "text": [
            "| epoch   7 |   500/32580 batches | loss    1.333 \n",
            "money: work, even, question, result, just, do, idea, god, it, know\n",
            "lion: addition, write, say, least, length, pope, prevent, growth, opposed, size\n",
            "africa: europe, america, india, england, germany, west, east, asia, ireland, china\n",
            "musician: singer, writer, actor, composer, poet, actress, author, politician, famous, rome\n",
            "dance: music, country, traditional, popular, actor, culture, town, business, applied, singer\n",
            "\n",
            "\n"
          ]
        },
        {
          "output_type": "stream",
          "name": "stderr",
          "text": [
            "1001it [01:48,  7.78it/s]"
          ]
        },
        {
          "output_type": "stream",
          "name": "stdout",
          "text": [
            "| epoch   7 |  1000/32580 batches | loss    1.331 \n",
            "money: work, even, question, result, just, do, idea, god, it, know\n",
            "lion: addition, write, say, least, length, pope, prevent, growth, opposed, size\n",
            "africa: europe, america, india, england, germany, west, east, asia, ireland, china\n",
            "musician: singer, writer, actor, composer, poet, actress, author, politician, famous, rome\n",
            "dance: music, country, traditional, popular, actor, culture, town, business, applied, singer\n",
            "\n",
            "\n"
          ]
        },
        {
          "output_type": "stream",
          "name": "stderr",
          "text": [
            "1501it [02:41,  7.77it/s]"
          ]
        },
        {
          "output_type": "stream",
          "name": "stdout",
          "text": [
            "| epoch   7 |  1500/32580 batches | loss    1.332 \n",
            "money: work, even, question, result, just, do, idea, god, it, know\n",
            "lion: addition, write, say, least, length, pope, prevent, growth, opposed, size\n",
            "africa: europe, america, india, england, germany, west, east, asia, ireland, china\n",
            "musician: singer, writer, actor, composer, poet, actress, author, politician, famous, rome\n",
            "dance: music, country, traditional, popular, actor, culture, town, business, applied, singer\n",
            "\n",
            "\n"
          ]
        },
        {
          "output_type": "stream",
          "name": "stderr",
          "text": [
            "2001it [03:35,  7.79it/s]"
          ]
        },
        {
          "output_type": "stream",
          "name": "stdout",
          "text": [
            "| epoch   7 |  2000/32580 batches | loss    1.326 \n",
            "money: work, even, question, result, just, do, idea, god, it, know\n",
            "lion: addition, write, say, least, length, pope, prevent, growth, opposed, size\n",
            "africa: europe, america, india, england, germany, west, east, asia, ireland, china\n",
            "musician: singer, writer, actor, composer, poet, actress, author, politician, famous, rome\n",
            "dance: music, country, traditional, popular, actor, culture, town, business, applied, singer\n",
            "\n",
            "\n"
          ]
        },
        {
          "output_type": "stream",
          "name": "stderr",
          "text": [
            "2501it [04:29,  7.65it/s]"
          ]
        },
        {
          "output_type": "stream",
          "name": "stdout",
          "text": [
            "| epoch   7 |  2500/32580 batches | loss    1.327 \n",
            "money: work, even, question, result, just, do, idea, god, it, know\n",
            "lion: addition, write, say, least, length, pope, prevent, growth, opposed, size\n",
            "africa: europe, america, india, england, germany, west, east, asia, ireland, china\n",
            "musician: singer, writer, actor, composer, poet, actress, author, politician, famous, rome\n",
            "dance: music, country, traditional, popular, actor, culture, town, business, applied, singer\n",
            "\n",
            "\n"
          ]
        },
        {
          "output_type": "stream",
          "name": "stderr",
          "text": [
            "3001it [05:23,  7.36it/s]"
          ]
        },
        {
          "output_type": "stream",
          "name": "stdout",
          "text": [
            "| epoch   7 |  3000/32580 batches | loss    1.330 \n",
            "money: work, even, question, result, just, do, idea, god, it, know\n",
            "lion: addition, write, say, least, length, pope, prevent, growth, opposed, size\n",
            "africa: europe, america, india, england, germany, west, east, asia, ireland, china\n",
            "musician: singer, writer, actor, composer, poet, actress, author, politician, famous, rome\n",
            "dance: music, country, traditional, popular, actor, culture, town, business, applied, singer\n",
            "\n",
            "\n"
          ]
        },
        {
          "output_type": "stream",
          "name": "stderr",
          "text": [
            "3501it [06:15,  7.57it/s]"
          ]
        },
        {
          "output_type": "stream",
          "name": "stdout",
          "text": [
            "| epoch   7 |  3500/32580 batches | loss    1.328 \n",
            "money: work, even, question, result, just, do, idea, god, it, know\n",
            "lion: addition, write, say, least, length, pope, prevent, growth, opposed, size\n",
            "africa: europe, america, india, england, germany, west, east, asia, ireland, china\n",
            "musician: singer, writer, actor, composer, poet, actress, author, politician, famous, rome\n",
            "dance: music, country, traditional, popular, actor, culture, town, business, applied, singer\n",
            "\n",
            "\n"
          ]
        },
        {
          "output_type": "stream",
          "name": "stderr",
          "text": [
            "4001it [07:08,  7.91it/s]"
          ]
        },
        {
          "output_type": "stream",
          "name": "stdout",
          "text": [
            "| epoch   7 |  4000/32580 batches | loss    1.329 \n",
            "money: work, even, question, result, just, do, idea, god, it, know\n",
            "lion: addition, write, say, least, length, pope, prevent, growth, opposed, size\n",
            "africa: europe, america, india, england, germany, west, east, asia, ireland, china\n",
            "musician: singer, writer, actor, composer, poet, actress, author, politician, famous, rome\n",
            "dance: music, country, traditional, popular, actor, culture, town, business, applied, singer\n",
            "\n",
            "\n"
          ]
        },
        {
          "output_type": "stream",
          "name": "stderr",
          "text": [
            "4501it [08:02,  7.52it/s]"
          ]
        },
        {
          "output_type": "stream",
          "name": "stdout",
          "text": [
            "| epoch   7 |  4500/32580 batches | loss    1.330 \n",
            "money: work, even, question, result, just, do, idea, god, it, know\n",
            "lion: addition, write, say, least, length, pope, prevent, growth, opposed, size\n",
            "africa: europe, america, india, england, germany, west, east, asia, ireland, china\n",
            "musician: singer, writer, actor, composer, poet, actress, author, politician, famous, rome\n",
            "dance: music, country, traditional, popular, actor, culture, town, business, applied, singer\n",
            "\n",
            "\n"
          ]
        },
        {
          "output_type": "stream",
          "name": "stderr",
          "text": [
            "5001it [08:55,  7.29it/s]"
          ]
        },
        {
          "output_type": "stream",
          "name": "stdout",
          "text": [
            "| epoch   7 |  5000/32580 batches | loss    1.329 \n",
            "money: work, even, question, result, just, do, idea, god, it, know\n",
            "lion: addition, write, say, least, length, pope, prevent, growth, opposed, size\n",
            "africa: europe, america, india, england, germany, west, east, asia, ireland, china\n",
            "musician: singer, writer, actor, composer, poet, actress, author, politician, famous, rome\n",
            "dance: music, country, traditional, popular, actor, culture, town, business, applied, singer\n",
            "\n",
            "\n"
          ]
        },
        {
          "output_type": "stream",
          "name": "stderr",
          "text": [
            "5501it [09:47,  7.81it/s]"
          ]
        },
        {
          "output_type": "stream",
          "name": "stdout",
          "text": [
            "| epoch   7 |  5500/32580 batches | loss    1.330 \n",
            "money: work, even, question, result, just, do, idea, god, it, know\n",
            "lion: addition, write, say, least, length, pope, prevent, growth, opposed, size\n",
            "africa: europe, america, india, england, germany, west, east, asia, ireland, china\n",
            "musician: singer, writer, actor, composer, poet, actress, author, politician, famous, rome\n",
            "dance: music, country, traditional, popular, actor, culture, town, business, applied, singer\n",
            "\n",
            "\n"
          ]
        },
        {
          "output_type": "stream",
          "name": "stderr",
          "text": [
            "6001it [10:41,  7.59it/s]"
          ]
        },
        {
          "output_type": "stream",
          "name": "stdout",
          "text": [
            "| epoch   7 |  6000/32580 batches | loss    1.329 \n",
            "money: work, even, question, result, just, do, idea, god, it, know\n",
            "lion: addition, write, say, least, length, pope, prevent, growth, opposed, size\n",
            "africa: europe, america, india, england, germany, west, east, asia, ireland, china\n",
            "musician: singer, writer, actor, composer, poet, actress, author, politician, famous, rome\n",
            "dance: music, country, traditional, popular, actor, culture, town, business, applied, singer\n",
            "\n",
            "\n"
          ]
        },
        {
          "output_type": "stream",
          "name": "stderr",
          "text": [
            "6501it [11:34,  7.65it/s]"
          ]
        },
        {
          "output_type": "stream",
          "name": "stdout",
          "text": [
            "| epoch   7 |  6500/32580 batches | loss    1.330 \n",
            "money: work, even, question, result, just, do, idea, god, it, know\n",
            "lion: addition, write, say, least, length, pope, prevent, growth, opposed, size\n",
            "africa: europe, america, india, england, germany, west, east, asia, ireland, china\n",
            "musician: singer, writer, actor, composer, poet, actress, author, politician, famous, rome\n",
            "dance: music, country, traditional, popular, actor, culture, town, business, applied, singer\n",
            "\n",
            "\n"
          ]
        },
        {
          "output_type": "stream",
          "name": "stderr",
          "text": [
            "7001it [12:28,  7.71it/s]"
          ]
        },
        {
          "output_type": "stream",
          "name": "stdout",
          "text": [
            "| epoch   7 |  7000/32580 batches | loss    1.331 \n",
            "money: work, even, question, result, just, do, idea, god, it, know\n",
            "lion: addition, write, say, least, length, pope, prevent, growth, opposed, size\n",
            "africa: europe, america, india, england, germany, west, east, asia, ireland, china\n",
            "musician: singer, writer, actor, composer, poet, actress, author, politician, famous, rome\n",
            "dance: music, country, traditional, popular, actor, culture, town, business, applied, singer\n",
            "\n",
            "\n"
          ]
        },
        {
          "output_type": "stream",
          "name": "stderr",
          "text": [
            "7501it [13:21,  7.70it/s]"
          ]
        },
        {
          "output_type": "stream",
          "name": "stdout",
          "text": [
            "| epoch   7 |  7500/32580 batches | loss    1.331 \n",
            "money: work, even, question, result, just, do, idea, god, it, know\n",
            "lion: addition, write, say, least, length, pope, prevent, growth, opposed, size\n",
            "africa: europe, america, india, england, germany, west, east, asia, ireland, china\n",
            "musician: singer, writer, actor, composer, poet, actress, author, politician, famous, rome\n",
            "dance: music, country, traditional, popular, actor, culture, town, business, applied, singer\n",
            "\n",
            "\n"
          ]
        },
        {
          "output_type": "stream",
          "name": "stderr",
          "text": [
            "8001it [14:14,  7.69it/s]"
          ]
        },
        {
          "output_type": "stream",
          "name": "stdout",
          "text": [
            "| epoch   7 |  8000/32580 batches | loss    1.330 \n",
            "money: work, even, question, result, just, do, idea, god, it, know\n",
            "lion: addition, write, say, least, length, pope, prevent, growth, opposed, size\n",
            "africa: europe, america, india, england, germany, west, east, asia, ireland, china\n",
            "musician: singer, writer, actor, composer, poet, actress, author, politician, famous, rome\n",
            "dance: music, country, traditional, popular, actor, culture, town, business, applied, singer\n",
            "\n",
            "\n"
          ]
        },
        {
          "output_type": "stream",
          "name": "stderr",
          "text": [
            "8501it [15:07,  7.75it/s]"
          ]
        },
        {
          "output_type": "stream",
          "name": "stdout",
          "text": [
            "| epoch   7 |  8500/32580 batches | loss    1.331 \n",
            "money: work, even, question, result, just, do, idea, god, it, know\n",
            "lion: addition, write, say, least, length, pope, prevent, growth, opposed, size\n",
            "africa: europe, america, india, england, germany, west, east, asia, ireland, china\n",
            "musician: singer, writer, actor, composer, poet, actress, author, politician, famous, rome\n",
            "dance: music, country, traditional, popular, actor, culture, town, business, applied, singer\n",
            "\n",
            "\n"
          ]
        },
        {
          "output_type": "stream",
          "name": "stderr",
          "text": [
            "9001it [16:00,  7.41it/s]"
          ]
        },
        {
          "output_type": "stream",
          "name": "stdout",
          "text": [
            "| epoch   7 |  9000/32580 batches | loss    1.331 \n",
            "money: work, even, question, result, just, do, idea, god, it, know\n",
            "lion: addition, write, say, least, length, pope, prevent, growth, opposed, size\n",
            "africa: europe, america, india, england, germany, west, east, asia, ireland, china\n",
            "musician: singer, writer, actor, composer, poet, actress, author, politician, famous, rome\n",
            "dance: music, country, traditional, popular, actor, culture, town, business, applied, singer\n",
            "\n",
            "\n"
          ]
        },
        {
          "output_type": "stream",
          "name": "stderr",
          "text": [
            "9501it [16:54,  7.84it/s]"
          ]
        },
        {
          "output_type": "stream",
          "name": "stdout",
          "text": [
            "| epoch   7 |  9500/32580 batches | loss    1.329 \n",
            "money: work, even, question, result, just, do, idea, god, it, know\n",
            "lion: addition, write, say, least, length, pope, prevent, growth, opposed, size\n",
            "africa: europe, america, india, england, germany, west, east, asia, ireland, china\n",
            "musician: singer, writer, actor, composer, poet, actress, author, politician, famous, rome\n",
            "dance: music, country, traditional, popular, actor, culture, town, business, applied, singer\n",
            "\n",
            "\n"
          ]
        },
        {
          "output_type": "stream",
          "name": "stderr",
          "text": [
            "10001it [17:48,  7.66it/s]"
          ]
        },
        {
          "output_type": "stream",
          "name": "stdout",
          "text": [
            "| epoch   7 | 10000/32580 batches | loss    1.329 \n",
            "money: work, even, question, result, just, do, idea, god, it, know\n",
            "lion: addition, write, say, least, length, pope, prevent, growth, opposed, size\n",
            "africa: europe, america, india, england, germany, west, east, asia, ireland, china\n",
            "musician: singer, writer, actor, composer, poet, actress, author, politician, famous, rome\n",
            "dance: music, country, traditional, popular, actor, culture, town, business, applied, singer\n",
            "\n",
            "\n"
          ]
        },
        {
          "output_type": "stream",
          "name": "stderr",
          "text": [
            "10501it [18:41,  7.41it/s]"
          ]
        },
        {
          "output_type": "stream",
          "name": "stdout",
          "text": [
            "| epoch   7 | 10500/32580 batches | loss    1.335 \n",
            "money: work, even, question, result, just, do, idea, god, it, know\n",
            "lion: addition, write, say, least, length, pope, prevent, growth, opposed, size\n",
            "africa: europe, america, india, england, germany, west, east, asia, ireland, china\n",
            "musician: singer, writer, actor, composer, poet, actress, author, politician, famous, rome\n",
            "dance: music, country, traditional, popular, actor, culture, town, business, applied, singer\n",
            "\n",
            "\n"
          ]
        },
        {
          "output_type": "stream",
          "name": "stderr",
          "text": [
            "11001it [19:34,  7.03it/s]"
          ]
        },
        {
          "output_type": "stream",
          "name": "stdout",
          "text": [
            "| epoch   7 | 11000/32580 batches | loss    1.330 \n",
            "money: work, even, question, result, just, do, idea, god, it, know\n",
            "lion: addition, write, say, least, length, pope, prevent, growth, opposed, size\n",
            "africa: europe, america, india, england, germany, west, east, asia, ireland, china\n",
            "musician: singer, writer, actor, composer, poet, actress, author, politician, famous, rome\n",
            "dance: music, country, traditional, popular, actor, culture, town, business, applied, singer\n",
            "\n",
            "\n"
          ]
        },
        {
          "output_type": "stream",
          "name": "stderr",
          "text": [
            "11501it [20:27,  7.64it/s]"
          ]
        },
        {
          "output_type": "stream",
          "name": "stdout",
          "text": [
            "| epoch   7 | 11500/32580 batches | loss    1.330 \n",
            "money: work, even, question, result, just, do, idea, god, it, know\n",
            "lion: addition, write, say, least, length, pope, prevent, growth, opposed, size\n",
            "africa: europe, america, india, england, germany, west, east, asia, ireland, china\n",
            "musician: singer, writer, actor, composer, poet, actress, author, politician, famous, rome\n",
            "dance: music, country, traditional, popular, actor, culture, town, business, applied, singer\n",
            "\n",
            "\n"
          ]
        },
        {
          "output_type": "stream",
          "name": "stderr",
          "text": [
            "12001it [21:21,  7.22it/s]"
          ]
        },
        {
          "output_type": "stream",
          "name": "stdout",
          "text": [
            "| epoch   7 | 12000/32580 batches | loss    1.331 \n",
            "money: work, even, question, result, just, do, idea, god, it, know\n",
            "lion: addition, write, say, least, length, pope, prevent, growth, opposed, size\n",
            "africa: europe, america, india, england, germany, west, east, asia, ireland, china\n",
            "musician: singer, writer, actor, composer, poet, actress, author, politician, famous, rome\n",
            "dance: music, country, traditional, popular, actor, culture, town, business, applied, singer\n",
            "\n",
            "\n"
          ]
        },
        {
          "output_type": "stream",
          "name": "stderr",
          "text": [
            "12501it [22:15,  7.67it/s]"
          ]
        },
        {
          "output_type": "stream",
          "name": "stdout",
          "text": [
            "| epoch   7 | 12500/32580 batches | loss    1.329 \n",
            "money: work, even, question, result, just, do, idea, god, it, know\n",
            "lion: addition, write, say, least, length, pope, prevent, growth, opposed, size\n",
            "africa: europe, america, india, england, germany, west, east, asia, ireland, china\n",
            "musician: singer, writer, actor, composer, poet, actress, author, politician, famous, rome\n",
            "dance: music, country, traditional, popular, actor, culture, town, business, applied, singer\n",
            "\n",
            "\n"
          ]
        },
        {
          "output_type": "stream",
          "name": "stderr",
          "text": [
            "13001it [23:11,  7.84it/s]"
          ]
        },
        {
          "output_type": "stream",
          "name": "stdout",
          "text": [
            "| epoch   7 | 13000/32580 batches | loss    1.330 \n",
            "money: work, even, question, result, just, do, idea, god, it, know\n",
            "lion: addition, write, say, least, length, pope, prevent, growth, opposed, size\n",
            "africa: europe, america, india, england, germany, west, east, asia, ireland, china\n",
            "musician: singer, writer, actor, composer, poet, actress, author, politician, famous, rome\n",
            "dance: music, country, traditional, popular, actor, culture, town, business, applied, singer\n",
            "\n",
            "\n"
          ]
        },
        {
          "output_type": "stream",
          "name": "stderr",
          "text": [
            "13501it [24:04,  7.41it/s]"
          ]
        },
        {
          "output_type": "stream",
          "name": "stdout",
          "text": [
            "| epoch   7 | 13500/32580 batches | loss    1.324 \n",
            "money: work, even, question, result, just, do, idea, god, it, know\n",
            "lion: addition, write, say, least, length, pope, prevent, growth, opposed, size\n",
            "africa: europe, america, india, england, germany, west, east, asia, ireland, china\n",
            "musician: singer, writer, actor, composer, poet, actress, author, politician, famous, rome\n",
            "dance: music, country, traditional, popular, actor, culture, town, business, applied, singer\n",
            "\n",
            "\n"
          ]
        },
        {
          "output_type": "stream",
          "name": "stderr",
          "text": [
            "14001it [24:58,  7.58it/s]"
          ]
        },
        {
          "output_type": "stream",
          "name": "stdout",
          "text": [
            "| epoch   7 | 14000/32580 batches | loss    1.327 \n",
            "money: work, even, question, result, just, do, idea, god, it, know\n",
            "lion: addition, write, say, least, length, pope, prevent, growth, opposed, size\n",
            "africa: europe, america, india, england, germany, west, east, asia, ireland, china\n",
            "musician: singer, writer, actor, composer, poet, actress, author, politician, famous, rome\n",
            "dance: music, country, traditional, popular, actor, culture, town, business, applied, singer\n",
            "\n",
            "\n"
          ]
        },
        {
          "output_type": "stream",
          "name": "stderr",
          "text": [
            "14501it [25:51,  7.29it/s]"
          ]
        },
        {
          "output_type": "stream",
          "name": "stdout",
          "text": [
            "| epoch   7 | 14500/32580 batches | loss    1.330 \n",
            "money: work, even, question, result, just, do, idea, god, it, know\n",
            "lion: addition, write, say, least, length, pope, prevent, growth, opposed, size\n",
            "africa: europe, america, india, england, germany, west, east, asia, ireland, china\n",
            "musician: singer, writer, actor, composer, poet, actress, author, politician, famous, rome\n",
            "dance: music, country, traditional, popular, actor, culture, town, business, applied, singer\n",
            "\n",
            "\n"
          ]
        },
        {
          "output_type": "stream",
          "name": "stderr",
          "text": [
            "15001it [26:44,  7.67it/s]"
          ]
        },
        {
          "output_type": "stream",
          "name": "stdout",
          "text": [
            "| epoch   7 | 15000/32580 batches | loss    1.332 \n",
            "money: work, even, question, result, just, do, idea, god, it, know\n",
            "lion: addition, write, say, least, length, pope, prevent, growth, opposed, size\n",
            "africa: europe, america, india, england, germany, west, east, asia, ireland, china\n",
            "musician: singer, writer, actor, composer, poet, actress, author, politician, famous, rome\n",
            "dance: music, country, traditional, popular, actor, culture, town, business, applied, singer\n",
            "\n",
            "\n"
          ]
        },
        {
          "output_type": "stream",
          "name": "stderr",
          "text": [
            "15501it [27:37,  7.36it/s]"
          ]
        },
        {
          "output_type": "stream",
          "name": "stdout",
          "text": [
            "| epoch   7 | 15500/32580 batches | loss    1.331 \n",
            "money: work, even, question, result, just, do, idea, god, it, know\n",
            "lion: addition, write, say, least, length, pope, prevent, growth, opposed, size\n",
            "africa: europe, america, india, england, germany, west, east, asia, ireland, china\n",
            "musician: singer, writer, actor, composer, poet, actress, author, politician, famous, rome\n",
            "dance: music, country, traditional, popular, actor, culture, town, business, applied, singer\n",
            "\n",
            "\n"
          ]
        },
        {
          "output_type": "stream",
          "name": "stderr",
          "text": [
            "16001it [28:30,  7.30it/s]"
          ]
        },
        {
          "output_type": "stream",
          "name": "stdout",
          "text": [
            "| epoch   7 | 16000/32580 batches | loss    1.332 \n",
            "money: work, even, question, result, just, do, idea, god, it, know\n",
            "lion: addition, write, say, least, length, pope, prevent, growth, opposed, size\n",
            "africa: europe, america, india, england, germany, west, east, asia, ireland, china\n",
            "musician: singer, writer, actor, composer, poet, actress, author, politician, famous, rome\n",
            "dance: music, country, traditional, popular, actor, culture, town, business, applied, singer\n",
            "\n",
            "\n"
          ]
        },
        {
          "output_type": "stream",
          "name": "stderr",
          "text": [
            "16501it [29:24,  7.75it/s]"
          ]
        },
        {
          "output_type": "stream",
          "name": "stdout",
          "text": [
            "| epoch   7 | 16500/32580 batches | loss    1.326 \n",
            "money: work, even, question, result, just, do, idea, god, it, know\n",
            "lion: addition, write, say, least, length, pope, prevent, growth, opposed, size\n",
            "africa: europe, america, india, england, germany, west, east, asia, ireland, china\n",
            "musician: singer, writer, actor, composer, poet, actress, author, politician, famous, rome\n",
            "dance: music, country, traditional, popular, actor, culture, town, business, applied, singer\n",
            "\n",
            "\n"
          ]
        },
        {
          "output_type": "stream",
          "name": "stderr",
          "text": [
            "17001it [30:18,  7.71it/s]"
          ]
        },
        {
          "output_type": "stream",
          "name": "stdout",
          "text": [
            "| epoch   7 | 17000/32580 batches | loss    1.332 \n",
            "money: work, even, question, result, just, do, idea, god, it, know\n",
            "lion: addition, write, say, least, length, pope, prevent, growth, opposed, size\n",
            "africa: europe, america, india, england, germany, west, east, asia, ireland, china\n",
            "musician: singer, writer, actor, composer, poet, actress, author, politician, famous, rome\n",
            "dance: music, country, traditional, popular, actor, culture, town, business, applied, singer\n",
            "\n",
            "\n"
          ]
        },
        {
          "output_type": "stream",
          "name": "stderr",
          "text": [
            "17501it [31:12,  7.43it/s]"
          ]
        },
        {
          "output_type": "stream",
          "name": "stdout",
          "text": [
            "| epoch   7 | 17500/32580 batches | loss    1.332 \n",
            "money: work, even, question, result, just, do, idea, god, it, know\n",
            "lion: addition, write, say, least, length, pope, prevent, growth, opposed, size\n",
            "africa: europe, america, india, england, germany, west, east, asia, ireland, china\n",
            "musician: singer, writer, actor, composer, poet, actress, author, politician, famous, rome\n",
            "dance: music, country, traditional, popular, actor, culture, town, business, applied, singer\n",
            "\n",
            "\n"
          ]
        },
        {
          "output_type": "stream",
          "name": "stderr",
          "text": [
            "18001it [32:06,  7.76it/s]"
          ]
        },
        {
          "output_type": "stream",
          "name": "stdout",
          "text": [
            "| epoch   7 | 18000/32580 batches | loss    1.330 \n",
            "money: work, even, question, result, just, do, idea, god, it, know\n",
            "lion: addition, write, say, least, length, pope, prevent, growth, opposed, size\n",
            "africa: europe, america, india, england, germany, west, east, asia, ireland, china\n",
            "musician: singer, writer, actor, composer, poet, actress, author, politician, famous, rome\n",
            "dance: music, country, traditional, popular, actor, culture, town, business, applied, singer\n",
            "\n",
            "\n"
          ]
        },
        {
          "output_type": "stream",
          "name": "stderr",
          "text": [
            "18501it [33:01,  7.85it/s]"
          ]
        },
        {
          "output_type": "stream",
          "name": "stdout",
          "text": [
            "| epoch   7 | 18500/32580 batches | loss    1.331 \n",
            "money: work, even, question, result, just, do, idea, god, it, know\n",
            "lion: addition, write, say, least, length, pope, prevent, growth, opposed, size\n",
            "africa: europe, america, india, england, germany, west, east, asia, ireland, china\n",
            "musician: singer, writer, actor, composer, poet, actress, author, politician, famous, rome\n",
            "dance: music, country, traditional, popular, actor, culture, town, business, applied, singer\n",
            "\n",
            "\n"
          ]
        },
        {
          "output_type": "stream",
          "name": "stderr",
          "text": [
            "19001it [33:54,  7.43it/s]"
          ]
        },
        {
          "output_type": "stream",
          "name": "stdout",
          "text": [
            "| epoch   7 | 19000/32580 batches | loss    1.332 \n",
            "money: work, even, question, result, just, do, idea, god, it, know\n",
            "lion: addition, write, say, least, length, pope, prevent, growth, opposed, size\n",
            "africa: europe, america, india, england, germany, west, east, asia, ireland, china\n",
            "musician: singer, writer, actor, composer, poet, actress, author, politician, famous, rome\n",
            "dance: music, country, traditional, popular, actor, culture, town, business, applied, singer\n",
            "\n",
            "\n"
          ]
        },
        {
          "output_type": "stream",
          "name": "stderr",
          "text": [
            "19501it [34:47,  7.72it/s]"
          ]
        },
        {
          "output_type": "stream",
          "name": "stdout",
          "text": [
            "| epoch   7 | 19500/32580 batches | loss    1.329 \n",
            "money: work, even, question, result, just, do, idea, god, it, know\n",
            "lion: addition, write, say, least, length, pope, prevent, growth, opposed, size\n",
            "africa: europe, america, india, england, germany, west, east, asia, ireland, china\n",
            "musician: singer, writer, actor, composer, poet, actress, author, politician, famous, rome\n",
            "dance: music, country, traditional, popular, actor, culture, town, business, applied, singer\n",
            "\n",
            "\n"
          ]
        },
        {
          "output_type": "stream",
          "name": "stderr",
          "text": [
            "20001it [35:42,  7.85it/s]"
          ]
        },
        {
          "output_type": "stream",
          "name": "stdout",
          "text": [
            "| epoch   7 | 20000/32580 batches | loss    1.333 \n",
            "money: work, even, question, result, just, do, idea, god, it, know\n",
            "lion: addition, write, say, least, length, pope, prevent, growth, opposed, size\n",
            "africa: europe, america, india, england, germany, west, east, asia, ireland, china\n",
            "musician: singer, writer, actor, composer, poet, actress, author, politician, famous, rome\n",
            "dance: music, country, traditional, popular, actor, culture, town, business, applied, singer\n",
            "\n",
            "\n"
          ]
        },
        {
          "output_type": "stream",
          "name": "stderr",
          "text": [
            "20501it [36:35,  7.67it/s]"
          ]
        },
        {
          "output_type": "stream",
          "name": "stdout",
          "text": [
            "| epoch   7 | 20500/32580 batches | loss    1.331 \n",
            "money: work, even, question, result, just, do, idea, god, it, know\n",
            "lion: addition, write, say, least, length, pope, prevent, growth, opposed, size\n",
            "africa: europe, america, india, england, germany, west, east, asia, ireland, china\n",
            "musician: singer, writer, actor, composer, poet, actress, author, politician, famous, rome\n",
            "dance: music, country, traditional, popular, actor, culture, town, business, applied, singer\n",
            "\n",
            "\n"
          ]
        },
        {
          "output_type": "stream",
          "name": "stderr",
          "text": [
            "21001it [37:29,  7.29it/s]"
          ]
        },
        {
          "output_type": "stream",
          "name": "stdout",
          "text": [
            "| epoch   7 | 21000/32580 batches | loss    1.334 \n",
            "money: work, even, question, result, just, do, idea, god, it, know\n",
            "lion: addition, write, say, least, length, pope, prevent, growth, opposed, size\n",
            "africa: europe, america, india, england, germany, west, east, asia, ireland, china\n",
            "musician: singer, writer, actor, composer, poet, actress, author, politician, famous, rome\n",
            "dance: music, country, traditional, popular, actor, culture, town, business, applied, singer\n",
            "\n",
            "\n"
          ]
        },
        {
          "output_type": "stream",
          "name": "stderr",
          "text": [
            "21501it [38:22,  7.15it/s]"
          ]
        },
        {
          "output_type": "stream",
          "name": "stdout",
          "text": [
            "| epoch   7 | 21500/32580 batches | loss    1.333 \n",
            "money: work, even, question, result, just, do, idea, god, it, know\n",
            "lion: addition, write, say, least, length, pope, prevent, growth, opposed, size\n",
            "africa: europe, america, india, england, germany, west, east, asia, ireland, china\n",
            "musician: singer, writer, actor, composer, poet, actress, author, politician, famous, rome\n",
            "dance: music, country, traditional, popular, actor, culture, town, business, applied, singer\n",
            "\n",
            "\n"
          ]
        },
        {
          "output_type": "stream",
          "name": "stderr",
          "text": [
            "22001it [39:15,  7.77it/s]"
          ]
        },
        {
          "output_type": "stream",
          "name": "stdout",
          "text": [
            "| epoch   7 | 22000/32580 batches | loss    1.329 \n",
            "money: work, even, question, result, just, do, idea, god, it, know\n",
            "lion: addition, write, say, least, length, pope, prevent, growth, opposed, size\n",
            "africa: europe, america, india, england, germany, west, east, asia, ireland, china\n",
            "musician: singer, writer, actor, composer, poet, actress, author, politician, famous, rome\n",
            "dance: music, country, traditional, popular, actor, culture, town, business, applied, singer\n",
            "\n",
            "\n"
          ]
        },
        {
          "output_type": "stream",
          "name": "stderr",
          "text": [
            "22501it [40:09,  7.20it/s]"
          ]
        },
        {
          "output_type": "stream",
          "name": "stdout",
          "text": [
            "| epoch   7 | 22500/32580 batches | loss    1.333 \n",
            "money: work, even, question, result, just, do, idea, god, it, know\n",
            "lion: addition, write, say, least, length, pope, prevent, growth, opposed, size\n",
            "africa: europe, america, india, england, germany, west, east, asia, ireland, china\n",
            "musician: singer, writer, actor, composer, poet, actress, author, politician, famous, rome\n",
            "dance: music, country, traditional, popular, actor, culture, town, business, applied, singer\n",
            "\n",
            "\n"
          ]
        },
        {
          "output_type": "stream",
          "name": "stderr",
          "text": [
            "23001it [41:02,  7.63it/s]"
          ]
        },
        {
          "output_type": "stream",
          "name": "stdout",
          "text": [
            "| epoch   7 | 23000/32580 batches | loss    1.326 \n",
            "money: work, even, question, result, just, do, idea, god, it, know\n",
            "lion: addition, write, say, least, length, pope, prevent, growth, opposed, size\n",
            "africa: europe, america, india, england, germany, west, east, asia, ireland, china\n",
            "musician: singer, writer, actor, composer, poet, actress, author, politician, famous, rome\n",
            "dance: music, country, traditional, popular, actor, culture, town, business, applied, singer\n",
            "\n",
            "\n"
          ]
        },
        {
          "output_type": "stream",
          "name": "stderr",
          "text": [
            "23501it [41:57,  7.63it/s]"
          ]
        },
        {
          "output_type": "stream",
          "name": "stdout",
          "text": [
            "| epoch   7 | 23500/32580 batches | loss    1.332 \n",
            "money: work, even, question, result, just, do, idea, god, it, know\n",
            "lion: addition, write, say, least, length, pope, prevent, growth, opposed, size\n",
            "africa: europe, america, india, england, germany, west, east, asia, ireland, china\n",
            "musician: singer, writer, actor, composer, poet, actress, author, politician, famous, rome\n",
            "dance: music, country, traditional, popular, actor, culture, town, business, applied, singer\n",
            "\n",
            "\n"
          ]
        },
        {
          "output_type": "stream",
          "name": "stderr",
          "text": [
            "24001it [42:50,  7.77it/s]"
          ]
        },
        {
          "output_type": "stream",
          "name": "stdout",
          "text": [
            "| epoch   7 | 24000/32580 batches | loss    1.331 \n",
            "money: work, even, question, result, just, do, idea, god, it, know\n",
            "lion: addition, write, say, least, length, pope, prevent, growth, opposed, size\n",
            "africa: europe, america, india, england, germany, west, east, asia, ireland, china\n",
            "musician: singer, writer, actor, composer, poet, actress, author, politician, famous, rome\n",
            "dance: music, country, traditional, popular, actor, culture, town, business, applied, singer\n",
            "\n",
            "\n"
          ]
        },
        {
          "output_type": "stream",
          "name": "stderr",
          "text": [
            "24501it [43:43,  7.20it/s]"
          ]
        },
        {
          "output_type": "stream",
          "name": "stdout",
          "text": [
            "| epoch   7 | 24500/32580 batches | loss    1.329 \n",
            "money: work, even, question, result, just, do, idea, god, it, know\n",
            "lion: addition, write, say, least, length, pope, prevent, growth, opposed, size\n",
            "africa: europe, america, india, england, germany, west, east, asia, ireland, china\n",
            "musician: singer, writer, actor, composer, poet, actress, author, politician, famous, rome\n",
            "dance: music, country, traditional, popular, actor, culture, town, business, applied, singer\n",
            "\n",
            "\n"
          ]
        },
        {
          "output_type": "stream",
          "name": "stderr",
          "text": [
            "25001it [44:37,  7.78it/s]"
          ]
        },
        {
          "output_type": "stream",
          "name": "stdout",
          "text": [
            "| epoch   7 | 25000/32580 batches | loss    1.333 \n",
            "money: work, even, question, result, just, do, idea, god, it, know\n",
            "lion: addition, write, say, least, length, pope, prevent, growth, opposed, size\n",
            "africa: europe, america, india, england, germany, west, east, asia, ireland, china\n",
            "musician: singer, writer, actor, composer, poet, actress, author, politician, famous, rome\n",
            "dance: music, country, traditional, popular, actor, culture, town, business, applied, singer\n",
            "\n",
            "\n"
          ]
        },
        {
          "output_type": "stream",
          "name": "stderr",
          "text": [
            "25501it [45:31,  7.59it/s]"
          ]
        },
        {
          "output_type": "stream",
          "name": "stdout",
          "text": [
            "| epoch   7 | 25500/32580 batches | loss    1.329 \n",
            "money: work, even, question, result, just, do, idea, god, it, know\n",
            "lion: addition, write, say, least, length, pope, prevent, growth, opposed, size\n",
            "africa: europe, america, india, england, germany, west, east, asia, ireland, china\n",
            "musician: singer, writer, actor, composer, poet, actress, author, politician, famous, rome\n",
            "dance: music, country, traditional, popular, actor, culture, town, business, applied, singer\n",
            "\n",
            "\n"
          ]
        },
        {
          "output_type": "stream",
          "name": "stderr",
          "text": [
            "26001it [46:25,  7.13it/s]"
          ]
        },
        {
          "output_type": "stream",
          "name": "stdout",
          "text": [
            "| epoch   7 | 26000/32580 batches | loss    1.332 \n",
            "money: work, even, question, result, just, do, idea, god, it, know\n",
            "lion: addition, write, say, least, length, pope, prevent, growth, opposed, size\n",
            "africa: europe, america, india, england, germany, west, east, asia, ireland, china\n",
            "musician: singer, writer, actor, composer, poet, actress, author, politician, famous, rome\n",
            "dance: music, country, traditional, popular, actor, culture, town, business, applied, singer\n",
            "\n",
            "\n"
          ]
        },
        {
          "output_type": "stream",
          "name": "stderr",
          "text": [
            "26501it [47:19,  7.60it/s]"
          ]
        },
        {
          "output_type": "stream",
          "name": "stdout",
          "text": [
            "| epoch   7 | 26500/32580 batches | loss    1.335 \n",
            "money: work, even, question, result, just, do, idea, god, it, know\n",
            "lion: addition, write, say, least, length, pope, prevent, growth, opposed, size\n",
            "africa: europe, america, india, england, germany, west, east, asia, ireland, china\n",
            "musician: singer, writer, actor, composer, poet, actress, author, politician, famous, rome\n",
            "dance: music, country, traditional, popular, actor, culture, town, business, applied, singer\n",
            "\n",
            "\n"
          ]
        },
        {
          "output_type": "stream",
          "name": "stderr",
          "text": [
            "27001it [48:12,  7.74it/s]"
          ]
        },
        {
          "output_type": "stream",
          "name": "stdout",
          "text": [
            "| epoch   7 | 27000/32580 batches | loss    1.324 \n",
            "money: work, even, question, result, just, do, idea, god, it, know\n",
            "lion: addition, write, say, least, length, pope, prevent, growth, opposed, size\n",
            "africa: europe, america, india, england, germany, west, east, asia, ireland, china\n",
            "musician: singer, writer, actor, composer, poet, actress, author, politician, famous, rome\n",
            "dance: music, country, traditional, popular, actor, culture, town, business, applied, singer\n",
            "\n",
            "\n"
          ]
        },
        {
          "output_type": "stream",
          "name": "stderr",
          "text": [
            "27501it [49:05,  7.79it/s]"
          ]
        },
        {
          "output_type": "stream",
          "name": "stdout",
          "text": [
            "| epoch   7 | 27500/32580 batches | loss    1.329 \n",
            "money: work, even, question, result, just, do, idea, god, it, know\n",
            "lion: addition, write, say, least, length, pope, prevent, growth, opposed, size\n",
            "africa: europe, america, india, england, germany, west, east, asia, ireland, china\n",
            "musician: singer, writer, actor, composer, poet, actress, author, politician, famous, rome\n",
            "dance: music, country, traditional, popular, actor, culture, town, business, applied, singer\n",
            "\n",
            "\n"
          ]
        },
        {
          "output_type": "stream",
          "name": "stderr",
          "text": [
            "28001it [49:59,  7.79it/s]"
          ]
        },
        {
          "output_type": "stream",
          "name": "stdout",
          "text": [
            "| epoch   7 | 28000/32580 batches | loss    1.334 \n",
            "money: work, even, question, result, just, do, idea, god, it, know\n",
            "lion: addition, write, say, least, length, pope, prevent, growth, opposed, size\n",
            "africa: europe, america, india, england, germany, west, east, asia, ireland, china\n",
            "musician: singer, writer, actor, composer, poet, actress, author, politician, famous, rome\n",
            "dance: music, country, traditional, popular, actor, culture, town, business, applied, singer\n",
            "\n",
            "\n"
          ]
        },
        {
          "output_type": "stream",
          "name": "stderr",
          "text": [
            "28501it [50:53,  7.25it/s]"
          ]
        },
        {
          "output_type": "stream",
          "name": "stdout",
          "text": [
            "| epoch   7 | 28500/32580 batches | loss    1.328 \n",
            "money: work, even, question, result, just, do, idea, god, it, know\n",
            "lion: addition, write, say, least, length, pope, prevent, growth, opposed, size\n",
            "africa: europe, america, india, england, germany, west, east, asia, ireland, china\n",
            "musician: singer, writer, actor, composer, poet, actress, author, politician, famous, rome\n",
            "dance: music, country, traditional, popular, actor, culture, town, business, applied, singer\n",
            "\n",
            "\n"
          ]
        },
        {
          "output_type": "stream",
          "name": "stderr",
          "text": [
            "29001it [51:47,  7.74it/s]"
          ]
        },
        {
          "output_type": "stream",
          "name": "stdout",
          "text": [
            "| epoch   7 | 29000/32580 batches | loss    1.332 \n",
            "money: work, even, question, result, just, do, idea, god, it, know\n",
            "lion: addition, write, say, least, length, pope, prevent, growth, opposed, size\n",
            "africa: europe, america, india, england, germany, west, east, asia, ireland, china\n",
            "musician: singer, writer, actor, composer, poet, actress, author, politician, famous, rome\n",
            "dance: music, country, traditional, popular, actor, culture, town, business, applied, singer\n",
            "\n",
            "\n"
          ]
        },
        {
          "output_type": "stream",
          "name": "stderr",
          "text": [
            "29501it [52:41,  7.67it/s]"
          ]
        },
        {
          "output_type": "stream",
          "name": "stdout",
          "text": [
            "| epoch   7 | 29500/32580 batches | loss    1.330 \n",
            "money: work, even, question, result, just, do, idea, god, it, know\n",
            "lion: addition, write, say, least, length, pope, prevent, growth, opposed, size\n",
            "africa: europe, america, india, england, germany, west, east, asia, ireland, china\n",
            "musician: singer, writer, actor, composer, poet, actress, author, politician, famous, rome\n",
            "dance: music, country, traditional, popular, actor, culture, town, business, applied, singer\n",
            "\n",
            "\n"
          ]
        },
        {
          "output_type": "stream",
          "name": "stderr",
          "text": [
            "30001it [53:35,  7.79it/s]"
          ]
        },
        {
          "output_type": "stream",
          "name": "stdout",
          "text": [
            "| epoch   7 | 30000/32580 batches | loss    1.324 \n",
            "money: work, even, question, result, just, do, idea, god, it, know\n",
            "lion: addition, write, say, least, length, pope, prevent, growth, opposed, size\n",
            "africa: europe, america, india, england, germany, west, east, asia, ireland, china\n",
            "musician: singer, writer, actor, composer, poet, actress, author, politician, famous, rome\n",
            "dance: music, country, traditional, popular, actor, culture, town, business, applied, singer\n",
            "\n",
            "\n"
          ]
        },
        {
          "output_type": "stream",
          "name": "stderr",
          "text": [
            "30501it [54:28,  7.83it/s]"
          ]
        },
        {
          "output_type": "stream",
          "name": "stdout",
          "text": [
            "| epoch   7 | 30500/32580 batches | loss    1.333 \n",
            "money: work, even, question, result, just, do, idea, god, it, know\n",
            "lion: addition, write, say, least, length, pope, prevent, growth, opposed, size\n",
            "africa: europe, america, india, england, germany, west, east, asia, ireland, china\n",
            "musician: singer, writer, actor, composer, poet, actress, author, politician, famous, rome\n",
            "dance: music, country, traditional, popular, actor, culture, town, business, applied, singer\n",
            "\n",
            "\n"
          ]
        },
        {
          "output_type": "stream",
          "name": "stderr",
          "text": [
            "31001it [55:22,  7.69it/s]"
          ]
        },
        {
          "output_type": "stream",
          "name": "stdout",
          "text": [
            "| epoch   7 | 31000/32580 batches | loss    1.331 \n",
            "money: work, even, question, result, just, do, idea, god, it, know\n",
            "lion: addition, write, say, least, length, pope, prevent, growth, opposed, size\n",
            "africa: europe, america, india, england, germany, west, east, asia, ireland, china\n",
            "musician: singer, writer, actor, composer, poet, actress, author, politician, famous, rome\n",
            "dance: music, country, traditional, popular, actor, culture, town, business, applied, singer\n",
            "\n",
            "\n"
          ]
        },
        {
          "output_type": "stream",
          "name": "stderr",
          "text": [
            "31501it [56:15,  7.40it/s]"
          ]
        },
        {
          "output_type": "stream",
          "name": "stdout",
          "text": [
            "| epoch   7 | 31500/32580 batches | loss    1.331 \n",
            "money: work, even, question, result, just, do, idea, god, it, know\n",
            "lion: addition, write, say, least, length, pope, prevent, growth, opposed, size\n",
            "africa: europe, america, india, england, germany, west, east, asia, ireland, china\n",
            "musician: singer, writer, actor, composer, poet, actress, author, politician, famous, rome\n",
            "dance: music, country, traditional, popular, actor, culture, town, business, applied, singer\n",
            "\n",
            "\n"
          ]
        },
        {
          "output_type": "stream",
          "name": "stderr",
          "text": [
            "32001it [57:09,  7.77it/s]"
          ]
        },
        {
          "output_type": "stream",
          "name": "stdout",
          "text": [
            "| epoch   7 | 32000/32580 batches | loss    1.334 \n",
            "money: work, even, question, result, just, do, idea, god, it, know\n",
            "lion: addition, write, say, least, length, pope, prevent, growth, opposed, size\n",
            "africa: europe, america, india, england, germany, west, east, asia, ireland, china\n",
            "musician: singer, writer, actor, composer, poet, actress, author, politician, famous, rome\n",
            "dance: music, country, traditional, popular, actor, culture, town, business, applied, singer\n",
            "\n",
            "\n"
          ]
        },
        {
          "output_type": "stream",
          "name": "stderr",
          "text": [
            "32501it [58:03,  7.22it/s]"
          ]
        },
        {
          "output_type": "stream",
          "name": "stdout",
          "text": [
            "| epoch   7 | 32500/32580 batches | loss    1.330 \n",
            "money: work, even, question, result, just, do, idea, god, it, know\n",
            "lion: addition, write, say, least, length, pope, prevent, growth, opposed, size\n",
            "africa: europe, america, india, england, germany, west, east, asia, ireland, china\n",
            "musician: singer, writer, actor, composer, poet, actress, author, politician, famous, rome\n",
            "dance: music, country, traditional, popular, actor, culture, town, business, applied, singer\n",
            "\n",
            "\n"
          ]
        },
        {
          "output_type": "stream",
          "name": "stderr",
          "text": [
            "32580it [58:14,  9.32it/s]\n",
            "1it [00:02,  2.02s/it]"
          ]
        },
        {
          "output_type": "stream",
          "name": "stdout",
          "text": [
            "| epoch   8 |     0/32580 batches | loss    1.370 \n",
            "money: work, even, question, result, just, do, idea, god, it, know\n",
            "lion: addition, write, say, least, length, pope, prevent, growth, opposed, size\n",
            "africa: europe, america, india, england, germany, west, east, asia, ireland, china\n",
            "musician: singer, writer, actor, composer, poet, actress, author, politician, famous, rome\n",
            "dance: music, country, traditional, popular, actor, culture, town, business, applied, singer\n",
            "\n",
            "\n"
          ]
        },
        {
          "output_type": "stream",
          "name": "stderr",
          "text": [
            "501it [00:55,  7.72it/s]"
          ]
        },
        {
          "output_type": "stream",
          "name": "stdout",
          "text": [
            "| epoch   8 |   500/32580 batches | loss    1.330 \n",
            "money: work, even, question, result, just, do, idea, god, it, know\n",
            "lion: addition, write, say, least, length, pope, prevent, growth, opposed, size\n",
            "africa: europe, america, india, england, germany, west, east, asia, ireland, china\n",
            "musician: singer, writer, actor, composer, poet, actress, author, politician, famous, rome\n",
            "dance: music, country, traditional, popular, actor, culture, town, business, applied, singer\n",
            "\n",
            "\n"
          ]
        },
        {
          "output_type": "stream",
          "name": "stderr",
          "text": [
            "1001it [01:49,  7.57it/s]"
          ]
        },
        {
          "output_type": "stream",
          "name": "stdout",
          "text": [
            "| epoch   8 |  1000/32580 batches | loss    1.328 \n",
            "money: work, even, question, result, just, do, idea, god, it, know\n",
            "lion: addition, write, say, least, length, pope, prevent, growth, opposed, size\n",
            "africa: europe, america, india, england, germany, west, east, asia, ireland, china\n",
            "musician: singer, writer, actor, composer, poet, actress, author, politician, famous, rome\n",
            "dance: music, country, traditional, popular, actor, culture, town, business, applied, singer\n",
            "\n",
            "\n"
          ]
        },
        {
          "output_type": "stream",
          "name": "stderr",
          "text": [
            "1501it [02:43,  7.76it/s]"
          ]
        },
        {
          "output_type": "stream",
          "name": "stdout",
          "text": [
            "| epoch   8 |  1500/32580 batches | loss    1.332 \n",
            "money: work, even, question, result, just, do, idea, god, it, know\n",
            "lion: addition, write, say, least, length, pope, prevent, growth, opposed, size\n",
            "africa: europe, america, india, england, germany, west, east, asia, ireland, china\n",
            "musician: singer, writer, actor, composer, poet, actress, author, politician, famous, rome\n",
            "dance: music, country, traditional, popular, actor, culture, town, business, applied, singer\n",
            "\n",
            "\n"
          ]
        },
        {
          "output_type": "stream",
          "name": "stderr",
          "text": [
            "2001it [03:36,  7.77it/s]"
          ]
        },
        {
          "output_type": "stream",
          "name": "stdout",
          "text": [
            "| epoch   8 |  2000/32580 batches | loss    1.330 \n",
            "money: work, even, question, result, just, do, idea, god, it, know\n",
            "lion: addition, write, say, least, length, pope, prevent, growth, opposed, size\n",
            "africa: europe, america, india, england, germany, west, east, asia, ireland, china\n",
            "musician: singer, writer, actor, composer, poet, actress, author, politician, famous, rome\n",
            "dance: music, country, traditional, popular, actor, culture, town, business, applied, singer\n",
            "\n",
            "\n"
          ]
        },
        {
          "output_type": "stream",
          "name": "stderr",
          "text": [
            "2501it [04:28,  7.65it/s]"
          ]
        },
        {
          "output_type": "stream",
          "name": "stdout",
          "text": [
            "| epoch   8 |  2500/32580 batches | loss    1.332 \n",
            "money: work, even, question, result, just, do, idea, god, it, know\n",
            "lion: addition, write, say, least, length, pope, prevent, growth, opposed, size\n",
            "africa: europe, america, india, england, germany, west, east, asia, ireland, china\n",
            "musician: singer, writer, actor, composer, poet, actress, author, politician, famous, rome\n",
            "dance: music, country, traditional, popular, actor, culture, town, business, applied, singer\n",
            "\n",
            "\n"
          ]
        },
        {
          "output_type": "stream",
          "name": "stderr",
          "text": [
            "3001it [05:22,  7.41it/s]"
          ]
        },
        {
          "output_type": "stream",
          "name": "stdout",
          "text": [
            "| epoch   8 |  3000/32580 batches | loss    1.332 \n",
            "money: work, even, question, result, just, do, idea, god, it, know\n",
            "lion: addition, write, say, least, length, pope, prevent, growth, opposed, size\n",
            "africa: europe, america, india, england, germany, west, east, asia, ireland, china\n",
            "musician: singer, writer, actor, composer, poet, actress, author, politician, famous, rome\n",
            "dance: music, country, traditional, popular, actor, culture, town, business, applied, singer\n",
            "\n",
            "\n"
          ]
        },
        {
          "output_type": "stream",
          "name": "stderr",
          "text": [
            "3501it [06:20,  7.68it/s]"
          ]
        },
        {
          "output_type": "stream",
          "name": "stdout",
          "text": [
            "| epoch   8 |  3500/32580 batches | loss    1.330 \n",
            "money: work, even, question, result, just, do, idea, god, it, know\n",
            "lion: addition, write, say, least, length, pope, prevent, growth, opposed, size\n",
            "africa: europe, america, india, england, germany, west, east, asia, ireland, china\n",
            "musician: singer, writer, actor, composer, poet, actress, author, politician, famous, rome\n",
            "dance: music, country, traditional, popular, actor, culture, town, business, applied, singer\n",
            "\n",
            "\n"
          ]
        },
        {
          "output_type": "stream",
          "name": "stderr",
          "text": [
            "4001it [07:13,  7.26it/s]"
          ]
        },
        {
          "output_type": "stream",
          "name": "stdout",
          "text": [
            "| epoch   8 |  4000/32580 batches | loss    1.330 \n",
            "money: work, even, question, result, just, do, idea, god, it, know\n",
            "lion: addition, write, say, least, length, pope, prevent, growth, opposed, size\n",
            "africa: europe, america, india, england, germany, west, east, asia, ireland, china\n",
            "musician: singer, writer, actor, composer, poet, actress, author, politician, famous, rome\n",
            "dance: music, country, traditional, popular, actor, culture, town, business, applied, singer\n",
            "\n",
            "\n"
          ]
        },
        {
          "output_type": "stream",
          "name": "stderr",
          "text": [
            "4501it [08:06,  7.69it/s]"
          ]
        },
        {
          "output_type": "stream",
          "name": "stdout",
          "text": [
            "| epoch   8 |  4500/32580 batches | loss    1.332 \n",
            "money: work, even, question, result, just, do, idea, god, it, know\n",
            "lion: addition, write, say, least, length, pope, prevent, growth, opposed, size\n",
            "africa: europe, america, india, england, germany, west, east, asia, ireland, china\n",
            "musician: singer, writer, actor, composer, poet, actress, author, politician, famous, rome\n",
            "dance: music, country, traditional, popular, actor, culture, town, business, applied, singer\n",
            "\n",
            "\n"
          ]
        },
        {
          "output_type": "stream",
          "name": "stderr",
          "text": [
            "5001it [09:00,  7.79it/s]"
          ]
        },
        {
          "output_type": "stream",
          "name": "stdout",
          "text": [
            "| epoch   8 |  5000/32580 batches | loss    1.327 \n",
            "money: work, even, question, result, just, do, idea, god, it, know\n",
            "lion: addition, write, say, least, length, pope, prevent, growth, opposed, size\n",
            "africa: europe, america, india, england, germany, west, east, asia, ireland, china\n",
            "musician: singer, writer, actor, composer, poet, actress, author, politician, famous, rome\n",
            "dance: music, country, traditional, popular, actor, culture, town, business, applied, singer\n",
            "\n",
            "\n"
          ]
        },
        {
          "output_type": "stream",
          "name": "stderr",
          "text": [
            "5501it [09:54,  7.86it/s]"
          ]
        },
        {
          "output_type": "stream",
          "name": "stdout",
          "text": [
            "| epoch   8 |  5500/32580 batches | loss    1.333 \n",
            "money: work, even, question, result, just, do, idea, god, it, know\n",
            "lion: addition, write, say, least, length, pope, prevent, growth, opposed, size\n",
            "africa: europe, america, india, england, germany, west, east, asia, ireland, china\n",
            "musician: singer, writer, actor, composer, poet, actress, author, politician, famous, rome\n",
            "dance: music, country, traditional, popular, actor, culture, town, business, applied, singer\n",
            "\n",
            "\n"
          ]
        },
        {
          "output_type": "stream",
          "name": "stderr",
          "text": [
            "6001it [10:48,  7.69it/s]"
          ]
        },
        {
          "output_type": "stream",
          "name": "stdout",
          "text": [
            "| epoch   8 |  6000/32580 batches | loss    1.332 \n",
            "money: work, even, question, result, just, do, idea, god, it, know\n",
            "lion: addition, write, say, least, length, pope, prevent, growth, opposed, size\n",
            "africa: europe, america, india, england, germany, west, east, asia, ireland, china\n",
            "musician: singer, writer, actor, composer, poet, actress, author, politician, famous, rome\n",
            "dance: music, country, traditional, popular, actor, culture, town, business, applied, singer\n",
            "\n",
            "\n"
          ]
        },
        {
          "output_type": "stream",
          "name": "stderr",
          "text": [
            "6501it [11:42,  7.62it/s]"
          ]
        },
        {
          "output_type": "stream",
          "name": "stdout",
          "text": [
            "| epoch   8 |  6500/32580 batches | loss    1.328 \n",
            "money: work, even, question, result, just, do, idea, god, it, know\n",
            "lion: addition, write, say, least, length, pope, prevent, growth, opposed, size\n",
            "africa: europe, america, india, england, germany, west, east, asia, ireland, china\n",
            "musician: singer, writer, actor, composer, poet, actress, author, politician, famous, rome\n",
            "dance: music, country, traditional, popular, actor, culture, town, business, applied, singer\n",
            "\n",
            "\n"
          ]
        },
        {
          "output_type": "stream",
          "name": "stderr",
          "text": [
            "7001it [12:36,  7.69it/s]"
          ]
        },
        {
          "output_type": "stream",
          "name": "stdout",
          "text": [
            "| epoch   8 |  7000/32580 batches | loss    1.327 \n",
            "money: work, even, question, result, just, do, idea, god, it, know\n",
            "lion: addition, write, say, least, length, pope, prevent, growth, opposed, size\n",
            "africa: europe, america, india, england, germany, west, east, asia, ireland, china\n",
            "musician: singer, writer, actor, composer, poet, actress, author, politician, famous, rome\n",
            "dance: music, country, traditional, popular, actor, culture, town, business, applied, singer\n",
            "\n",
            "\n"
          ]
        },
        {
          "output_type": "stream",
          "name": "stderr",
          "text": [
            "7501it [13:29,  7.83it/s]"
          ]
        },
        {
          "output_type": "stream",
          "name": "stdout",
          "text": [
            "| epoch   8 |  7500/32580 batches | loss    1.327 \n",
            "money: work, even, question, result, just, do, idea, god, it, know\n",
            "lion: addition, write, say, least, length, pope, prevent, growth, opposed, size\n",
            "africa: europe, america, india, england, germany, west, east, asia, ireland, china\n",
            "musician: singer, writer, actor, composer, poet, actress, author, politician, famous, rome\n",
            "dance: music, country, traditional, popular, actor, culture, town, business, applied, singer\n",
            "\n",
            "\n"
          ]
        },
        {
          "output_type": "stream",
          "name": "stderr",
          "text": [
            "8001it [14:22,  7.48it/s]"
          ]
        },
        {
          "output_type": "stream",
          "name": "stdout",
          "text": [
            "| epoch   8 |  8000/32580 batches | loss    1.327 \n",
            "money: work, even, question, result, just, do, idea, god, it, know\n",
            "lion: addition, write, say, least, length, pope, prevent, growth, opposed, size\n",
            "africa: europe, america, india, england, germany, west, east, asia, ireland, china\n",
            "musician: singer, writer, actor, composer, poet, actress, author, politician, famous, rome\n",
            "dance: music, country, traditional, popular, actor, culture, town, business, applied, singer\n",
            "\n",
            "\n"
          ]
        },
        {
          "output_type": "stream",
          "name": "stderr",
          "text": [
            "8501it [15:15,  7.73it/s]"
          ]
        },
        {
          "output_type": "stream",
          "name": "stdout",
          "text": [
            "| epoch   8 |  8500/32580 batches | loss    1.331 \n",
            "money: work, even, question, result, just, do, idea, god, it, know\n",
            "lion: addition, write, say, least, length, pope, prevent, growth, opposed, size\n",
            "africa: europe, america, india, england, germany, west, east, asia, ireland, china\n",
            "musician: singer, writer, actor, composer, poet, actress, author, politician, famous, rome\n",
            "dance: music, country, traditional, popular, actor, culture, town, business, applied, singer\n",
            "\n",
            "\n"
          ]
        },
        {
          "output_type": "stream",
          "name": "stderr",
          "text": [
            "9001it [16:08,  7.76it/s]"
          ]
        },
        {
          "output_type": "stream",
          "name": "stdout",
          "text": [
            "| epoch   8 |  9000/32580 batches | loss    1.329 \n",
            "money: work, even, question, result, just, do, idea, god, it, know\n",
            "lion: addition, write, say, least, length, pope, prevent, growth, opposed, size\n",
            "africa: europe, america, india, england, germany, west, east, asia, ireland, china\n",
            "musician: singer, writer, actor, composer, poet, actress, author, politician, famous, rome\n",
            "dance: music, country, traditional, popular, actor, culture, town, business, applied, singer\n",
            "\n",
            "\n"
          ]
        },
        {
          "output_type": "stream",
          "name": "stderr",
          "text": [
            "9501it [17:01,  7.89it/s]"
          ]
        },
        {
          "output_type": "stream",
          "name": "stdout",
          "text": [
            "| epoch   8 |  9500/32580 batches | loss    1.331 \n",
            "money: work, even, question, result, just, do, idea, god, it, know\n",
            "lion: addition, write, say, least, length, pope, prevent, growth, opposed, size\n",
            "africa: europe, america, india, england, germany, west, east, asia, ireland, china\n",
            "musician: singer, writer, actor, composer, poet, actress, author, politician, famous, rome\n",
            "dance: music, country, traditional, popular, actor, culture, town, business, applied, singer\n",
            "\n",
            "\n"
          ]
        },
        {
          "output_type": "stream",
          "name": "stderr",
          "text": [
            "10001it [17:54,  7.78it/s]"
          ]
        },
        {
          "output_type": "stream",
          "name": "stdout",
          "text": [
            "| epoch   8 | 10000/32580 batches | loss    1.328 \n",
            "money: work, even, question, result, just, do, idea, god, it, know\n",
            "lion: addition, write, say, least, length, pope, prevent, growth, opposed, size\n",
            "africa: europe, america, india, england, germany, west, east, asia, ireland, china\n",
            "musician: singer, writer, actor, composer, poet, actress, author, politician, famous, rome\n",
            "dance: music, country, traditional, popular, actor, culture, town, business, applied, singer\n",
            "\n",
            "\n"
          ]
        },
        {
          "output_type": "stream",
          "name": "stderr",
          "text": [
            "10501it [18:48,  7.59it/s]"
          ]
        },
        {
          "output_type": "stream",
          "name": "stdout",
          "text": [
            "| epoch   8 | 10500/32580 batches | loss    1.336 \n",
            "money: work, even, question, result, just, do, idea, god, it, know\n",
            "lion: addition, write, say, least, length, pope, prevent, growth, opposed, size\n",
            "africa: europe, america, india, england, germany, west, east, asia, ireland, china\n",
            "musician: singer, writer, actor, composer, poet, actress, author, politician, famous, rome\n",
            "dance: music, country, traditional, popular, actor, culture, town, business, applied, singer\n",
            "\n",
            "\n"
          ]
        },
        {
          "output_type": "stream",
          "name": "stderr",
          "text": [
            "11001it [19:42,  7.72it/s]"
          ]
        },
        {
          "output_type": "stream",
          "name": "stdout",
          "text": [
            "| epoch   8 | 11000/32580 batches | loss    1.332 \n",
            "money: work, even, question, result, just, do, idea, god, it, know\n",
            "lion: addition, write, say, least, length, pope, prevent, growth, opposed, size\n",
            "africa: europe, america, india, england, germany, west, east, asia, ireland, china\n",
            "musician: singer, writer, actor, composer, poet, actress, author, politician, famous, rome\n",
            "dance: music, country, traditional, popular, actor, culture, town, business, applied, singer\n",
            "\n",
            "\n"
          ]
        },
        {
          "output_type": "stream",
          "name": "stderr",
          "text": [
            "11501it [20:37,  7.43it/s]"
          ]
        },
        {
          "output_type": "stream",
          "name": "stdout",
          "text": [
            "| epoch   8 | 11500/32580 batches | loss    1.335 \n",
            "money: work, even, question, result, just, do, idea, god, it, know\n",
            "lion: addition, write, say, least, length, pope, prevent, growth, opposed, size\n",
            "africa: europe, america, india, england, germany, west, east, asia, ireland, china\n",
            "musician: singer, writer, actor, composer, poet, actress, author, politician, famous, rome\n",
            "dance: music, country, traditional, popular, actor, culture, town, business, applied, singer\n",
            "\n",
            "\n"
          ]
        },
        {
          "output_type": "stream",
          "name": "stderr",
          "text": [
            "12001it [21:31,  7.36it/s]"
          ]
        },
        {
          "output_type": "stream",
          "name": "stdout",
          "text": [
            "| epoch   8 | 12000/32580 batches | loss    1.328 \n",
            "money: work, even, question, result, just, do, idea, god, it, know\n",
            "lion: addition, write, say, least, length, pope, prevent, growth, opposed, size\n",
            "africa: europe, america, india, england, germany, west, east, asia, ireland, china\n",
            "musician: singer, writer, actor, composer, poet, actress, author, politician, famous, rome\n",
            "dance: music, country, traditional, popular, actor, culture, town, business, applied, singer\n",
            "\n",
            "\n"
          ]
        },
        {
          "output_type": "stream",
          "name": "stderr",
          "text": [
            "12501it [22:24,  7.46it/s]"
          ]
        },
        {
          "output_type": "stream",
          "name": "stdout",
          "text": [
            "| epoch   8 | 12500/32580 batches | loss    1.327 \n",
            "money: work, even, question, result, just, do, idea, god, it, know\n",
            "lion: addition, write, say, least, length, pope, prevent, growth, opposed, size\n",
            "africa: europe, america, india, england, germany, west, east, asia, ireland, china\n",
            "musician: singer, writer, actor, composer, poet, actress, author, politician, famous, rome\n",
            "dance: music, country, traditional, popular, actor, culture, town, business, applied, singer\n",
            "\n",
            "\n"
          ]
        },
        {
          "output_type": "stream",
          "name": "stderr",
          "text": [
            "13001it [23:19,  7.29it/s]"
          ]
        },
        {
          "output_type": "stream",
          "name": "stdout",
          "text": [
            "| epoch   8 | 13000/32580 batches | loss    1.329 \n",
            "money: work, even, question, result, just, do, idea, god, it, know\n",
            "lion: addition, write, say, least, length, pope, prevent, growth, opposed, size\n",
            "africa: europe, america, india, england, germany, west, east, asia, ireland, china\n",
            "musician: singer, writer, actor, composer, poet, actress, author, politician, famous, rome\n",
            "dance: music, country, traditional, popular, actor, culture, town, business, applied, singer\n",
            "\n",
            "\n"
          ]
        },
        {
          "output_type": "stream",
          "name": "stderr",
          "text": [
            "13501it [24:13,  7.64it/s]"
          ]
        },
        {
          "output_type": "stream",
          "name": "stdout",
          "text": [
            "| epoch   8 | 13500/32580 batches | loss    1.334 \n",
            "money: work, even, question, result, just, do, idea, god, it, know\n",
            "lion: addition, write, say, least, length, pope, prevent, growth, opposed, size\n",
            "africa: europe, america, india, england, germany, west, east, asia, ireland, china\n",
            "musician: singer, writer, actor, composer, poet, actress, author, politician, famous, rome\n",
            "dance: music, country, traditional, popular, actor, culture, town, business, applied, singer\n",
            "\n",
            "\n"
          ]
        },
        {
          "output_type": "stream",
          "name": "stderr",
          "text": [
            "14001it [25:06,  7.89it/s]"
          ]
        },
        {
          "output_type": "stream",
          "name": "stdout",
          "text": [
            "| epoch   8 | 14000/32580 batches | loss    1.332 \n",
            "money: work, even, question, result, just, do, idea, god, it, know\n",
            "lion: addition, write, say, least, length, pope, prevent, growth, opposed, size\n",
            "africa: europe, america, india, england, germany, west, east, asia, ireland, china\n",
            "musician: singer, writer, actor, composer, poet, actress, author, politician, famous, rome\n",
            "dance: music, country, traditional, popular, actor, culture, town, business, applied, singer\n",
            "\n",
            "\n"
          ]
        },
        {
          "output_type": "stream",
          "name": "stderr",
          "text": [
            "14501it [26:00,  7.42it/s]"
          ]
        },
        {
          "output_type": "stream",
          "name": "stdout",
          "text": [
            "| epoch   8 | 14500/32580 batches | loss    1.333 \n",
            "money: work, even, question, result, just, do, idea, god, it, know\n",
            "lion: addition, write, say, least, length, pope, prevent, growth, opposed, size\n",
            "africa: europe, america, india, england, germany, west, east, asia, ireland, china\n",
            "musician: singer, writer, actor, composer, poet, actress, author, politician, famous, rome\n",
            "dance: music, country, traditional, popular, actor, culture, town, business, applied, singer\n",
            "\n",
            "\n"
          ]
        },
        {
          "output_type": "stream",
          "name": "stderr",
          "text": [
            "15001it [26:54,  7.38it/s]"
          ]
        },
        {
          "output_type": "stream",
          "name": "stdout",
          "text": [
            "| epoch   8 | 15000/32580 batches | loss    1.332 \n",
            "money: work, even, question, result, just, do, idea, god, it, know\n",
            "lion: addition, write, say, least, length, pope, prevent, growth, opposed, size\n",
            "africa: europe, america, india, england, germany, west, east, asia, ireland, china\n",
            "musician: singer, writer, actor, composer, poet, actress, author, politician, famous, rome\n",
            "dance: music, country, traditional, popular, actor, culture, town, business, applied, singer\n",
            "\n",
            "\n"
          ]
        },
        {
          "output_type": "stream",
          "name": "stderr",
          "text": [
            "15501it [27:52,  7.05it/s]"
          ]
        },
        {
          "output_type": "stream",
          "name": "stdout",
          "text": [
            "| epoch   8 | 15500/32580 batches | loss    1.332 \n",
            "money: work, even, question, result, just, do, idea, god, it, know\n",
            "lion: addition, write, say, least, length, pope, prevent, growth, opposed, size\n",
            "africa: europe, america, india, england, germany, west, east, asia, ireland, china\n",
            "musician: singer, writer, actor, composer, poet, actress, author, politician, famous, rome\n",
            "dance: music, country, traditional, popular, actor, culture, town, business, applied, singer\n",
            "\n",
            "\n"
          ]
        },
        {
          "output_type": "stream",
          "name": "stderr",
          "text": [
            "16001it [28:46,  7.54it/s]"
          ]
        },
        {
          "output_type": "stream",
          "name": "stdout",
          "text": [
            "| epoch   8 | 16000/32580 batches | loss    1.332 \n",
            "money: work, even, question, result, just, do, idea, god, it, know\n",
            "lion: addition, write, say, least, length, pope, prevent, growth, opposed, size\n",
            "africa: europe, america, india, england, germany, west, east, asia, ireland, china\n",
            "musician: singer, writer, actor, composer, poet, actress, author, politician, famous, rome\n",
            "dance: music, country, traditional, popular, actor, culture, town, business, applied, singer\n",
            "\n",
            "\n"
          ]
        },
        {
          "output_type": "stream",
          "name": "stderr",
          "text": [
            "16501it [29:40,  7.32it/s]"
          ]
        },
        {
          "output_type": "stream",
          "name": "stdout",
          "text": [
            "| epoch   8 | 16500/32580 batches | loss    1.332 \n",
            "money: work, even, question, result, just, do, idea, god, it, know\n",
            "lion: addition, write, say, least, length, pope, prevent, growth, opposed, size\n",
            "africa: europe, america, india, england, germany, west, east, asia, ireland, china\n",
            "musician: singer, writer, actor, composer, poet, actress, author, politician, famous, rome\n",
            "dance: music, country, traditional, popular, actor, culture, town, business, applied, singer\n",
            "\n",
            "\n"
          ]
        },
        {
          "output_type": "stream",
          "name": "stderr",
          "text": [
            "17001it [30:35,  7.81it/s]"
          ]
        },
        {
          "output_type": "stream",
          "name": "stdout",
          "text": [
            "| epoch   8 | 17000/32580 batches | loss    1.329 \n",
            "money: work, even, question, result, just, do, idea, god, it, know\n",
            "lion: addition, write, say, least, length, pope, prevent, growth, opposed, size\n",
            "africa: europe, america, india, england, germany, west, east, asia, ireland, china\n",
            "musician: singer, writer, actor, composer, poet, actress, author, politician, famous, rome\n",
            "dance: music, country, traditional, popular, actor, culture, town, business, applied, singer\n",
            "\n",
            "\n"
          ]
        },
        {
          "output_type": "stream",
          "name": "stderr",
          "text": [
            "17501it [31:29,  7.34it/s]"
          ]
        },
        {
          "output_type": "stream",
          "name": "stdout",
          "text": [
            "| epoch   8 | 17500/32580 batches | loss    1.331 \n",
            "money: work, even, question, result, just, do, idea, god, it, know\n",
            "lion: addition, write, say, least, length, pope, prevent, growth, opposed, size\n",
            "africa: europe, america, india, england, germany, west, east, asia, ireland, china\n",
            "musician: singer, writer, actor, composer, poet, actress, author, politician, famous, rome\n",
            "dance: music, country, traditional, popular, actor, culture, town, business, applied, singer\n",
            "\n",
            "\n"
          ]
        },
        {
          "output_type": "stream",
          "name": "stderr",
          "text": [
            "18001it [32:22,  7.48it/s]"
          ]
        },
        {
          "output_type": "stream",
          "name": "stdout",
          "text": [
            "| epoch   8 | 18000/32580 batches | loss    1.328 \n",
            "money: work, even, question, result, just, do, idea, god, it, know\n",
            "lion: addition, write, say, least, length, pope, prevent, growth, opposed, size\n",
            "africa: europe, america, india, england, germany, west, east, asia, ireland, china\n",
            "musician: singer, writer, actor, composer, poet, actress, author, politician, famous, rome\n",
            "dance: music, country, traditional, popular, actor, culture, town, business, applied, singer\n",
            "\n",
            "\n"
          ]
        },
        {
          "output_type": "stream",
          "name": "stderr",
          "text": [
            "18501it [33:16,  7.71it/s]"
          ]
        },
        {
          "output_type": "stream",
          "name": "stdout",
          "text": [
            "| epoch   8 | 18500/32580 batches | loss    1.331 \n",
            "money: work, even, question, result, just, do, idea, god, it, know\n",
            "lion: addition, write, say, least, length, pope, prevent, growth, opposed, size\n",
            "africa: europe, america, india, england, germany, west, east, asia, ireland, china\n",
            "musician: singer, writer, actor, composer, poet, actress, author, politician, famous, rome\n",
            "dance: music, country, traditional, popular, actor, culture, town, business, applied, singer\n",
            "\n",
            "\n"
          ]
        },
        {
          "output_type": "stream",
          "name": "stderr",
          "text": [
            "19001it [34:09,  7.27it/s]"
          ]
        },
        {
          "output_type": "stream",
          "name": "stdout",
          "text": [
            "| epoch   8 | 19000/32580 batches | loss    1.334 \n",
            "money: work, even, question, result, just, do, idea, god, it, know\n",
            "lion: addition, write, say, least, length, pope, prevent, growth, opposed, size\n",
            "africa: europe, america, india, england, germany, west, east, asia, ireland, china\n",
            "musician: singer, writer, actor, composer, poet, actress, author, politician, famous, rome\n",
            "dance: music, country, traditional, popular, actor, culture, town, business, applied, singer\n",
            "\n",
            "\n"
          ]
        },
        {
          "output_type": "stream",
          "name": "stderr",
          "text": [
            "19501it [35:03,  7.20it/s]"
          ]
        },
        {
          "output_type": "stream",
          "name": "stdout",
          "text": [
            "| epoch   8 | 19500/32580 batches | loss    1.332 \n",
            "money: work, even, question, result, just, do, idea, god, it, know\n",
            "lion: addition, write, say, least, length, pope, prevent, growth, opposed, size\n",
            "africa: europe, america, india, england, germany, west, east, asia, ireland, china\n",
            "musician: singer, writer, actor, composer, poet, actress, author, politician, famous, rome\n",
            "dance: music, country, traditional, popular, actor, culture, town, business, applied, singer\n",
            "\n",
            "\n"
          ]
        },
        {
          "output_type": "stream",
          "name": "stderr",
          "text": [
            "20001it [35:56,  7.82it/s]"
          ]
        },
        {
          "output_type": "stream",
          "name": "stdout",
          "text": [
            "| epoch   8 | 20000/32580 batches | loss    1.329 \n",
            "money: work, even, question, result, just, do, idea, god, it, know\n",
            "lion: addition, write, say, least, length, pope, prevent, growth, opposed, size\n",
            "africa: europe, america, india, england, germany, west, east, asia, ireland, china\n",
            "musician: singer, writer, actor, composer, poet, actress, author, politician, famous, rome\n",
            "dance: music, country, traditional, popular, actor, culture, town, business, applied, singer\n",
            "\n",
            "\n"
          ]
        },
        {
          "output_type": "stream",
          "name": "stderr",
          "text": [
            "20501it [36:50,  7.37it/s]"
          ]
        },
        {
          "output_type": "stream",
          "name": "stdout",
          "text": [
            "| epoch   8 | 20500/32580 batches | loss    1.334 \n",
            "money: work, even, question, result, just, do, idea, god, it, know\n",
            "lion: addition, write, say, least, length, pope, prevent, growth, opposed, size\n",
            "africa: europe, america, india, england, germany, west, east, asia, ireland, china\n",
            "musician: singer, writer, actor, composer, poet, actress, author, politician, famous, rome\n",
            "dance: music, country, traditional, popular, actor, culture, town, business, applied, singer\n",
            "\n",
            "\n"
          ]
        },
        {
          "output_type": "stream",
          "name": "stderr",
          "text": [
            "21001it [37:45,  7.47it/s]"
          ]
        },
        {
          "output_type": "stream",
          "name": "stdout",
          "text": [
            "| epoch   8 | 21000/32580 batches | loss    1.331 \n",
            "money: work, even, question, result, just, do, idea, god, it, know\n",
            "lion: addition, write, say, least, length, pope, prevent, growth, opposed, size\n",
            "africa: europe, america, india, england, germany, west, east, asia, ireland, china\n",
            "musician: singer, writer, actor, composer, poet, actress, author, politician, famous, rome\n",
            "dance: music, country, traditional, popular, actor, culture, town, business, applied, singer\n",
            "\n",
            "\n"
          ]
        },
        {
          "output_type": "stream",
          "name": "stderr",
          "text": [
            "21501it [38:38,  7.80it/s]"
          ]
        },
        {
          "output_type": "stream",
          "name": "stdout",
          "text": [
            "| epoch   8 | 21500/32580 batches | loss    1.328 \n",
            "money: work, even, question, result, just, do, idea, god, it, know\n",
            "lion: addition, write, say, least, length, pope, prevent, growth, opposed, size\n",
            "africa: europe, america, india, england, germany, west, east, asia, ireland, china\n",
            "musician: singer, writer, actor, composer, poet, actress, author, politician, famous, rome\n",
            "dance: music, country, traditional, popular, actor, culture, town, business, applied, singer\n",
            "\n",
            "\n"
          ]
        },
        {
          "output_type": "stream",
          "name": "stderr",
          "text": [
            "22001it [39:32,  7.96it/s]"
          ]
        },
        {
          "output_type": "stream",
          "name": "stdout",
          "text": [
            "| epoch   8 | 22000/32580 batches | loss    1.335 \n",
            "money: work, even, question, result, just, do, idea, god, it, know\n",
            "lion: addition, write, say, least, length, pope, prevent, growth, opposed, size\n",
            "africa: europe, america, india, england, germany, west, east, asia, ireland, china\n",
            "musician: singer, writer, actor, composer, poet, actress, author, politician, famous, rome\n",
            "dance: music, country, traditional, popular, actor, culture, town, business, applied, singer\n",
            "\n",
            "\n"
          ]
        },
        {
          "output_type": "stream",
          "name": "stderr",
          "text": [
            "22501it [40:26,  7.62it/s]"
          ]
        },
        {
          "output_type": "stream",
          "name": "stdout",
          "text": [
            "| epoch   8 | 22500/32580 batches | loss    1.332 \n",
            "money: work, even, question, result, just, do, idea, god, it, know\n",
            "lion: addition, write, say, least, length, pope, prevent, growth, opposed, size\n",
            "africa: europe, america, india, england, germany, west, east, asia, ireland, china\n",
            "musician: singer, writer, actor, composer, poet, actress, author, politician, famous, rome\n",
            "dance: music, country, traditional, popular, actor, culture, town, business, applied, singer\n",
            "\n",
            "\n"
          ]
        },
        {
          "output_type": "stream",
          "name": "stderr",
          "text": [
            "23001it [41:20,  7.87it/s]"
          ]
        },
        {
          "output_type": "stream",
          "name": "stdout",
          "text": [
            "| epoch   8 | 23000/32580 batches | loss    1.328 \n",
            "money: work, even, question, result, just, do, idea, god, it, know\n",
            "lion: addition, write, say, least, length, pope, prevent, growth, opposed, size\n",
            "africa: europe, america, india, england, germany, west, east, asia, ireland, china\n",
            "musician: singer, writer, actor, composer, poet, actress, author, politician, famous, rome\n",
            "dance: music, country, traditional, popular, actor, culture, town, business, applied, singer\n",
            "\n",
            "\n"
          ]
        },
        {
          "output_type": "stream",
          "name": "stderr",
          "text": [
            "23501it [42:13,  7.16it/s]"
          ]
        },
        {
          "output_type": "stream",
          "name": "stdout",
          "text": [
            "| epoch   8 | 23500/32580 batches | loss    1.333 \n",
            "money: work, even, question, result, just, do, idea, god, it, know\n",
            "lion: addition, write, say, least, length, pope, prevent, growth, opposed, size\n",
            "africa: europe, america, india, england, germany, west, east, asia, ireland, china\n",
            "musician: singer, writer, actor, composer, poet, actress, author, politician, famous, rome\n",
            "dance: music, country, traditional, popular, actor, culture, town, business, applied, singer\n",
            "\n",
            "\n"
          ]
        },
        {
          "output_type": "stream",
          "name": "stderr",
          "text": [
            "24001it [43:07,  7.70it/s]"
          ]
        },
        {
          "output_type": "stream",
          "name": "stdout",
          "text": [
            "| epoch   8 | 24000/32580 batches | loss    1.327 \n",
            "money: work, even, question, result, just, do, idea, god, it, know\n",
            "lion: addition, write, say, least, length, pope, prevent, growth, opposed, size\n",
            "africa: europe, america, india, england, germany, west, east, asia, ireland, china\n",
            "musician: singer, writer, actor, composer, poet, actress, author, politician, famous, rome\n",
            "dance: music, country, traditional, popular, actor, culture, town, business, applied, singer\n",
            "\n",
            "\n"
          ]
        },
        {
          "output_type": "stream",
          "name": "stderr",
          "text": [
            "24501it [44:02,  7.66it/s]"
          ]
        },
        {
          "output_type": "stream",
          "name": "stdout",
          "text": [
            "| epoch   8 | 24500/32580 batches | loss    1.333 \n",
            "money: work, even, question, result, just, do, idea, god, it, know\n",
            "lion: addition, write, say, least, length, pope, prevent, growth, opposed, size\n",
            "africa: europe, america, india, england, germany, west, east, asia, ireland, china\n",
            "musician: singer, writer, actor, composer, poet, actress, author, politician, famous, rome\n",
            "dance: music, country, traditional, popular, actor, culture, town, business, applied, singer\n",
            "\n",
            "\n"
          ]
        },
        {
          "output_type": "stream",
          "name": "stderr",
          "text": [
            "25001it [44:55,  7.69it/s]"
          ]
        },
        {
          "output_type": "stream",
          "name": "stdout",
          "text": [
            "| epoch   8 | 25000/32580 batches | loss    1.333 \n",
            "money: work, even, question, result, just, do, idea, god, it, know\n",
            "lion: addition, write, say, least, length, pope, prevent, growth, opposed, size\n",
            "africa: europe, america, india, england, germany, west, east, asia, ireland, china\n",
            "musician: singer, writer, actor, composer, poet, actress, author, politician, famous, rome\n",
            "dance: music, country, traditional, popular, actor, culture, town, business, applied, singer\n",
            "\n",
            "\n"
          ]
        },
        {
          "output_type": "stream",
          "name": "stderr",
          "text": [
            "25501it [45:49,  7.80it/s]"
          ]
        },
        {
          "output_type": "stream",
          "name": "stdout",
          "text": [
            "| epoch   8 | 25500/32580 batches | loss    1.328 \n",
            "money: work, even, question, result, just, do, idea, god, it, know\n",
            "lion: addition, write, say, least, length, pope, prevent, growth, opposed, size\n",
            "africa: europe, america, india, england, germany, west, east, asia, ireland, china\n",
            "musician: singer, writer, actor, composer, poet, actress, author, politician, famous, rome\n",
            "dance: music, country, traditional, popular, actor, culture, town, business, applied, singer\n",
            "\n",
            "\n"
          ]
        },
        {
          "output_type": "stream",
          "name": "stderr",
          "text": [
            "26001it [46:43,  7.60it/s]"
          ]
        },
        {
          "output_type": "stream",
          "name": "stdout",
          "text": [
            "| epoch   8 | 26000/32580 batches | loss    1.325 \n",
            "money: work, even, question, result, just, do, idea, god, it, know\n",
            "lion: addition, write, say, least, length, pope, prevent, growth, opposed, size\n",
            "africa: europe, america, india, england, germany, west, east, asia, ireland, china\n",
            "musician: singer, writer, actor, composer, poet, actress, author, politician, famous, rome\n",
            "dance: music, country, traditional, popular, actor, culture, town, business, applied, singer\n",
            "\n",
            "\n"
          ]
        },
        {
          "output_type": "stream",
          "name": "stderr",
          "text": [
            "26501it [47:36,  7.61it/s]"
          ]
        },
        {
          "output_type": "stream",
          "name": "stdout",
          "text": [
            "| epoch   8 | 26500/32580 batches | loss    1.334 \n",
            "money: work, even, question, result, just, do, idea, god, it, know\n",
            "lion: addition, write, say, least, length, pope, prevent, growth, opposed, size\n",
            "africa: europe, america, india, england, germany, west, east, asia, ireland, china\n",
            "musician: singer, writer, actor, composer, poet, actress, author, politician, famous, rome\n",
            "dance: music, country, traditional, popular, actor, culture, town, business, applied, singer\n",
            "\n",
            "\n"
          ]
        },
        {
          "output_type": "stream",
          "name": "stderr",
          "text": [
            "27001it [48:30,  7.69it/s]"
          ]
        },
        {
          "output_type": "stream",
          "name": "stdout",
          "text": [
            "| epoch   8 | 27000/32580 batches | loss    1.334 \n",
            "money: work, even, question, result, just, do, idea, god, it, know\n",
            "lion: addition, write, say, least, length, pope, prevent, growth, opposed, size\n",
            "africa: europe, america, india, england, germany, west, east, asia, ireland, china\n",
            "musician: singer, writer, actor, composer, poet, actress, author, politician, famous, rome\n",
            "dance: music, country, traditional, popular, actor, culture, town, business, applied, singer\n",
            "\n",
            "\n"
          ]
        },
        {
          "output_type": "stream",
          "name": "stderr",
          "text": [
            "27501it [49:24,  7.74it/s]"
          ]
        },
        {
          "output_type": "stream",
          "name": "stdout",
          "text": [
            "| epoch   8 | 27500/32580 batches | loss    1.330 \n",
            "money: work, even, question, result, just, do, idea, god, it, know\n",
            "lion: addition, write, say, least, length, pope, prevent, growth, opposed, size\n",
            "africa: europe, america, india, england, germany, west, east, asia, ireland, china\n",
            "musician: singer, writer, actor, composer, poet, actress, author, politician, famous, rome\n",
            "dance: music, country, traditional, popular, actor, culture, town, business, applied, singer\n",
            "\n",
            "\n"
          ]
        },
        {
          "output_type": "stream",
          "name": "stderr",
          "text": [
            "28001it [50:17,  7.82it/s]"
          ]
        },
        {
          "output_type": "stream",
          "name": "stdout",
          "text": [
            "| epoch   8 | 28000/32580 batches | loss    1.328 \n",
            "money: work, even, question, result, just, do, idea, god, it, know\n",
            "lion: addition, write, say, least, length, pope, prevent, growth, opposed, size\n",
            "africa: europe, america, india, england, germany, west, east, asia, ireland, china\n",
            "musician: singer, writer, actor, composer, poet, actress, author, politician, famous, rome\n",
            "dance: music, country, traditional, popular, actor, culture, town, business, applied, singer\n",
            "\n",
            "\n"
          ]
        },
        {
          "output_type": "stream",
          "name": "stderr",
          "text": [
            "28501it [51:11,  7.60it/s]"
          ]
        },
        {
          "output_type": "stream",
          "name": "stdout",
          "text": [
            "| epoch   8 | 28500/32580 batches | loss    1.334 \n",
            "money: work, even, question, result, just, do, idea, god, it, know\n",
            "lion: addition, write, say, least, length, pope, prevent, growth, opposed, size\n",
            "africa: europe, america, india, england, germany, west, east, asia, ireland, china\n",
            "musician: singer, writer, actor, composer, poet, actress, author, politician, famous, rome\n",
            "dance: music, country, traditional, popular, actor, culture, town, business, applied, singer\n",
            "\n",
            "\n"
          ]
        },
        {
          "output_type": "stream",
          "name": "stderr",
          "text": [
            "29001it [52:05,  7.60it/s]"
          ]
        },
        {
          "output_type": "stream",
          "name": "stdout",
          "text": [
            "| epoch   8 | 29000/32580 batches | loss    1.328 \n",
            "money: work, even, question, result, just, do, idea, god, it, know\n",
            "lion: addition, write, say, least, length, pope, prevent, growth, opposed, size\n",
            "africa: europe, america, india, england, germany, west, east, asia, ireland, china\n",
            "musician: singer, writer, actor, composer, poet, actress, author, politician, famous, rome\n",
            "dance: music, country, traditional, popular, actor, culture, town, business, applied, singer\n",
            "\n",
            "\n"
          ]
        },
        {
          "output_type": "stream",
          "name": "stderr",
          "text": [
            "29501it [52:58,  7.36it/s]"
          ]
        },
        {
          "output_type": "stream",
          "name": "stdout",
          "text": [
            "| epoch   8 | 29500/32580 batches | loss    1.331 \n",
            "money: work, even, question, result, just, do, idea, god, it, know\n",
            "lion: addition, write, say, least, length, pope, prevent, growth, opposed, size\n",
            "africa: europe, america, india, england, germany, west, east, asia, ireland, china\n",
            "musician: singer, writer, actor, composer, poet, actress, author, politician, famous, rome\n",
            "dance: music, country, traditional, popular, actor, culture, town, business, applied, singer\n",
            "\n",
            "\n"
          ]
        },
        {
          "output_type": "stream",
          "name": "stderr",
          "text": [
            "30001it [53:52,  7.90it/s]"
          ]
        },
        {
          "output_type": "stream",
          "name": "stdout",
          "text": [
            "| epoch   8 | 30000/32580 batches | loss    1.334 \n",
            "money: work, even, question, result, just, do, idea, god, it, know\n",
            "lion: addition, write, say, least, length, pope, prevent, growth, opposed, size\n",
            "africa: europe, america, india, england, germany, west, east, asia, ireland, china\n",
            "musician: singer, writer, actor, composer, poet, actress, author, politician, famous, rome\n",
            "dance: music, country, traditional, popular, actor, culture, town, business, applied, singer\n",
            "\n",
            "\n"
          ]
        },
        {
          "output_type": "stream",
          "name": "stderr",
          "text": [
            "30501it [54:46,  7.83it/s]"
          ]
        },
        {
          "output_type": "stream",
          "name": "stdout",
          "text": [
            "| epoch   8 | 30500/32580 batches | loss    1.324 \n",
            "money: work, even, question, result, just, do, idea, god, it, know\n",
            "lion: addition, write, say, least, length, pope, prevent, growth, opposed, size\n",
            "africa: europe, america, india, england, germany, west, east, asia, ireland, china\n",
            "musician: singer, writer, actor, composer, poet, actress, author, politician, famous, rome\n",
            "dance: music, country, traditional, popular, actor, culture, town, business, applied, singer\n",
            "\n",
            "\n"
          ]
        },
        {
          "output_type": "stream",
          "name": "stderr",
          "text": [
            "31001it [55:39,  7.67it/s]"
          ]
        },
        {
          "output_type": "stream",
          "name": "stdout",
          "text": [
            "| epoch   8 | 31000/32580 batches | loss    1.332 \n",
            "money: work, even, question, result, just, do, idea, god, it, know\n",
            "lion: addition, write, say, least, length, pope, prevent, growth, opposed, size\n",
            "africa: europe, america, india, england, germany, west, east, asia, ireland, china\n",
            "musician: singer, writer, actor, composer, poet, actress, author, politician, famous, rome\n",
            "dance: music, country, traditional, popular, actor, culture, town, business, applied, singer\n",
            "\n",
            "\n"
          ]
        },
        {
          "output_type": "stream",
          "name": "stderr",
          "text": [
            "31501it [56:34,  7.26it/s]"
          ]
        },
        {
          "output_type": "stream",
          "name": "stdout",
          "text": [
            "| epoch   8 | 31500/32580 batches | loss    1.327 \n",
            "money: work, even, question, result, just, do, idea, god, it, know\n",
            "lion: addition, write, say, least, length, pope, prevent, growth, opposed, size\n",
            "africa: europe, america, india, england, germany, west, east, asia, ireland, china\n",
            "musician: singer, writer, actor, composer, poet, actress, author, politician, famous, rome\n",
            "dance: music, country, traditional, popular, actor, culture, town, business, applied, singer\n",
            "\n",
            "\n"
          ]
        },
        {
          "output_type": "stream",
          "name": "stderr",
          "text": [
            "32001it [57:28,  7.40it/s]"
          ]
        },
        {
          "output_type": "stream",
          "name": "stdout",
          "text": [
            "| epoch   8 | 32000/32580 batches | loss    1.330 \n",
            "money: work, even, question, result, just, do, idea, god, it, know\n",
            "lion: addition, write, say, least, length, pope, prevent, growth, opposed, size\n",
            "africa: europe, america, india, england, germany, west, east, asia, ireland, china\n",
            "musician: singer, writer, actor, composer, poet, actress, author, politician, famous, rome\n",
            "dance: music, country, traditional, popular, actor, culture, town, business, applied, singer\n",
            "\n",
            "\n"
          ]
        },
        {
          "output_type": "stream",
          "name": "stderr",
          "text": [
            "32501it [58:21,  7.72it/s]"
          ]
        },
        {
          "output_type": "stream",
          "name": "stdout",
          "text": [
            "| epoch   8 | 32500/32580 batches | loss    1.333 \n",
            "money: work, even, question, result, just, do, idea, god, it, know\n",
            "lion: addition, write, say, least, length, pope, prevent, growth, opposed, size\n",
            "africa: europe, america, india, england, germany, west, east, asia, ireland, china\n",
            "musician: singer, writer, actor, composer, poet, actress, author, politician, famous, rome\n",
            "dance: music, country, traditional, popular, actor, culture, town, business, applied, singer\n",
            "\n",
            "\n"
          ]
        },
        {
          "output_type": "stream",
          "name": "stderr",
          "text": [
            "32580it [58:32,  9.28it/s]\n",
            "1it [00:02,  2.16s/it]"
          ]
        },
        {
          "output_type": "stream",
          "name": "stdout",
          "text": [
            "| epoch   9 |     0/32580 batches | loss    1.292 \n",
            "money: work, even, question, result, just, do, idea, god, it, know\n",
            "lion: addition, write, say, least, length, pope, prevent, growth, opposed, size\n",
            "africa: europe, america, india, england, germany, west, east, asia, ireland, china\n",
            "musician: singer, writer, actor, composer, poet, actress, author, politician, famous, rome\n",
            "dance: music, country, traditional, popular, actor, culture, town, business, applied, singer\n",
            "\n",
            "\n"
          ]
        },
        {
          "output_type": "stream",
          "name": "stderr",
          "text": [
            "501it [00:55,  7.53it/s]"
          ]
        },
        {
          "output_type": "stream",
          "name": "stdout",
          "text": [
            "| epoch   9 |   500/32580 batches | loss    1.328 \n",
            "money: work, even, question, result, just, do, idea, god, it, know\n",
            "lion: addition, write, say, least, length, pope, prevent, growth, opposed, size\n",
            "africa: europe, america, india, england, germany, west, east, asia, ireland, china\n",
            "musician: singer, writer, actor, composer, poet, actress, author, politician, famous, rome\n",
            "dance: music, country, traditional, popular, actor, culture, town, business, applied, singer\n",
            "\n",
            "\n"
          ]
        },
        {
          "output_type": "stream",
          "name": "stderr",
          "text": [
            "1001it [01:48,  7.49it/s]"
          ]
        },
        {
          "output_type": "stream",
          "name": "stdout",
          "text": [
            "| epoch   9 |  1000/32580 batches | loss    1.335 \n",
            "money: work, even, question, result, just, do, idea, god, it, know\n",
            "lion: addition, write, say, least, length, pope, prevent, growth, opposed, size\n",
            "africa: europe, america, india, england, germany, west, east, asia, ireland, china\n",
            "musician: singer, writer, actor, composer, poet, actress, author, politician, famous, rome\n",
            "dance: music, country, traditional, popular, actor, culture, town, business, applied, singer\n",
            "\n",
            "\n"
          ]
        },
        {
          "output_type": "stream",
          "name": "stderr",
          "text": [
            "1501it [02:42,  7.21it/s]"
          ]
        },
        {
          "output_type": "stream",
          "name": "stdout",
          "text": [
            "| epoch   9 |  1500/32580 batches | loss    1.332 \n",
            "money: work, even, question, result, just, do, idea, god, it, know\n",
            "lion: addition, write, say, least, length, pope, prevent, growth, opposed, size\n",
            "africa: europe, america, india, england, germany, west, east, asia, ireland, china\n",
            "musician: singer, writer, actor, composer, poet, actress, author, politician, famous, rome\n",
            "dance: music, country, traditional, popular, actor, culture, town, business, applied, singer\n",
            "\n",
            "\n"
          ]
        },
        {
          "output_type": "stream",
          "name": "stderr",
          "text": [
            "2001it [03:35,  7.17it/s]"
          ]
        },
        {
          "output_type": "stream",
          "name": "stdout",
          "text": [
            "| epoch   9 |  2000/32580 batches | loss    1.328 \n",
            "money: work, even, question, result, just, do, idea, god, it, know\n",
            "lion: addition, write, say, least, length, pope, prevent, growth, opposed, size\n",
            "africa: europe, america, india, england, germany, west, east, asia, ireland, china\n",
            "musician: singer, writer, actor, composer, poet, actress, author, politician, famous, rome\n",
            "dance: music, country, traditional, popular, actor, culture, town, business, applied, singer\n",
            "\n",
            "\n"
          ]
        },
        {
          "output_type": "stream",
          "name": "stderr",
          "text": [
            "2501it [04:28,  7.36it/s]"
          ]
        },
        {
          "output_type": "stream",
          "name": "stdout",
          "text": [
            "| epoch   9 |  2500/32580 batches | loss    1.330 \n",
            "money: work, even, question, result, just, do, idea, god, it, know\n",
            "lion: addition, write, say, least, length, pope, prevent, growth, opposed, size\n",
            "africa: europe, america, india, england, germany, west, east, asia, ireland, china\n",
            "musician: singer, writer, actor, composer, poet, actress, author, politician, famous, rome\n",
            "dance: music, country, traditional, popular, actor, culture, town, business, applied, singer\n",
            "\n",
            "\n"
          ]
        },
        {
          "output_type": "stream",
          "name": "stderr",
          "text": [
            "3001it [05:21,  7.61it/s]"
          ]
        },
        {
          "output_type": "stream",
          "name": "stdout",
          "text": [
            "| epoch   9 |  3000/32580 batches | loss    1.331 \n",
            "money: work, even, question, result, just, do, idea, god, it, know\n",
            "lion: addition, write, say, least, length, pope, prevent, growth, opposed, size\n",
            "africa: europe, america, india, england, germany, west, east, asia, ireland, china\n",
            "musician: singer, writer, actor, composer, poet, actress, author, politician, famous, rome\n",
            "dance: music, country, traditional, popular, actor, culture, town, business, applied, singer\n",
            "\n",
            "\n"
          ]
        },
        {
          "output_type": "stream",
          "name": "stderr",
          "text": [
            "3501it [06:15,  7.77it/s]"
          ]
        },
        {
          "output_type": "stream",
          "name": "stdout",
          "text": [
            "| epoch   9 |  3500/32580 batches | loss    1.332 \n",
            "money: work, even, question, result, just, do, idea, god, it, know\n",
            "lion: addition, write, say, least, length, pope, prevent, growth, opposed, size\n",
            "africa: europe, america, india, england, germany, west, east, asia, ireland, china\n",
            "musician: singer, writer, actor, composer, poet, actress, author, politician, famous, rome\n",
            "dance: music, country, traditional, popular, actor, culture, town, business, applied, singer\n",
            "\n",
            "\n"
          ]
        },
        {
          "output_type": "stream",
          "name": "stderr",
          "text": [
            "4001it [07:09,  7.76it/s]"
          ]
        },
        {
          "output_type": "stream",
          "name": "stdout",
          "text": [
            "| epoch   9 |  4000/32580 batches | loss    1.329 \n",
            "money: work, even, question, result, just, do, idea, god, it, know\n",
            "lion: addition, write, say, least, length, pope, prevent, growth, opposed, size\n",
            "africa: europe, america, india, england, germany, west, east, asia, ireland, china\n",
            "musician: singer, writer, actor, composer, poet, actress, author, politician, famous, rome\n",
            "dance: music, country, traditional, popular, actor, culture, town, business, applied, singer\n",
            "\n",
            "\n"
          ]
        },
        {
          "output_type": "stream",
          "name": "stderr",
          "text": [
            "4501it [08:04,  7.71it/s]"
          ]
        },
        {
          "output_type": "stream",
          "name": "stdout",
          "text": [
            "| epoch   9 |  4500/32580 batches | loss    1.328 \n",
            "money: work, even, question, result, just, do, idea, god, it, know\n",
            "lion: addition, write, say, least, length, pope, prevent, growth, opposed, size\n",
            "africa: europe, america, india, england, germany, west, east, asia, ireland, china\n",
            "musician: singer, writer, actor, composer, poet, actress, author, politician, famous, rome\n",
            "dance: music, country, traditional, popular, actor, culture, town, business, applied, singer\n",
            "\n",
            "\n"
          ]
        },
        {
          "output_type": "stream",
          "name": "stderr",
          "text": [
            "5001it [08:57,  7.60it/s]"
          ]
        },
        {
          "output_type": "stream",
          "name": "stdout",
          "text": [
            "| epoch   9 |  5000/32580 batches | loss    1.335 \n",
            "money: work, even, question, result, just, do, idea, god, it, know\n",
            "lion: addition, write, say, least, length, pope, prevent, growth, opposed, size\n",
            "africa: europe, america, india, england, germany, west, east, asia, ireland, china\n",
            "musician: singer, writer, actor, composer, poet, actress, author, politician, famous, rome\n",
            "dance: music, country, traditional, popular, actor, culture, town, business, applied, singer\n",
            "\n",
            "\n"
          ]
        },
        {
          "output_type": "stream",
          "name": "stderr",
          "text": [
            "5501it [09:51,  7.71it/s]"
          ]
        },
        {
          "output_type": "stream",
          "name": "stdout",
          "text": [
            "| epoch   9 |  5500/32580 batches | loss    1.329 \n",
            "money: work, even, question, result, just, do, idea, god, it, know\n",
            "lion: addition, write, say, least, length, pope, prevent, growth, opposed, size\n",
            "africa: europe, america, india, england, germany, west, east, asia, ireland, china\n",
            "musician: singer, writer, actor, composer, poet, actress, author, politician, famous, rome\n",
            "dance: music, country, traditional, popular, actor, culture, town, business, applied, singer\n",
            "\n",
            "\n"
          ]
        },
        {
          "output_type": "stream",
          "name": "stderr",
          "text": [
            "6001it [10:45,  7.00it/s]"
          ]
        },
        {
          "output_type": "stream",
          "name": "stdout",
          "text": [
            "| epoch   9 |  6000/32580 batches | loss    1.336 \n",
            "money: work, even, question, result, just, do, idea, god, it, know\n",
            "lion: addition, write, say, least, length, pope, prevent, growth, opposed, size\n",
            "africa: europe, america, india, england, germany, west, east, asia, ireland, china\n",
            "musician: singer, writer, actor, composer, poet, actress, author, politician, famous, rome\n",
            "dance: music, country, traditional, popular, actor, culture, town, business, applied, singer\n",
            "\n",
            "\n"
          ]
        },
        {
          "output_type": "stream",
          "name": "stderr",
          "text": [
            "6501it [11:43,  7.13it/s]"
          ]
        },
        {
          "output_type": "stream",
          "name": "stdout",
          "text": [
            "| epoch   9 |  6500/32580 batches | loss    1.333 \n",
            "money: work, even, question, result, just, do, idea, god, it, know\n",
            "lion: addition, write, say, least, length, pope, prevent, growth, opposed, size\n",
            "africa: europe, america, india, england, germany, west, east, asia, ireland, china\n",
            "musician: singer, writer, actor, composer, poet, actress, author, politician, famous, rome\n",
            "dance: music, country, traditional, popular, actor, culture, town, business, applied, singer\n",
            "\n",
            "\n"
          ]
        },
        {
          "output_type": "stream",
          "name": "stderr",
          "text": [
            "7001it [12:36,  7.77it/s]"
          ]
        },
        {
          "output_type": "stream",
          "name": "stdout",
          "text": [
            "| epoch   9 |  7000/32580 batches | loss    1.327 \n",
            "money: work, even, question, result, just, do, idea, god, it, know\n",
            "lion: addition, write, say, least, length, pope, prevent, growth, opposed, size\n",
            "africa: europe, america, india, england, germany, west, east, asia, ireland, china\n",
            "musician: singer, writer, actor, composer, poet, actress, author, politician, famous, rome\n",
            "dance: music, country, traditional, popular, actor, culture, town, business, applied, singer\n",
            "\n",
            "\n"
          ]
        },
        {
          "output_type": "stream",
          "name": "stderr",
          "text": [
            "7501it [13:29,  7.68it/s]"
          ]
        },
        {
          "output_type": "stream",
          "name": "stdout",
          "text": [
            "| epoch   9 |  7500/32580 batches | loss    1.325 \n",
            "money: work, even, question, result, just, do, idea, god, it, know\n",
            "lion: addition, write, say, least, length, pope, prevent, growth, opposed, size\n",
            "africa: europe, america, india, england, germany, west, east, asia, ireland, china\n",
            "musician: singer, writer, actor, composer, poet, actress, author, politician, famous, rome\n",
            "dance: music, country, traditional, popular, actor, culture, town, business, applied, singer\n",
            "\n",
            "\n"
          ]
        },
        {
          "output_type": "stream",
          "name": "stderr",
          "text": [
            "8001it [14:23,  7.34it/s]"
          ]
        },
        {
          "output_type": "stream",
          "name": "stdout",
          "text": [
            "| epoch   9 |  8000/32580 batches | loss    1.329 \n",
            "money: work, even, question, result, just, do, idea, god, it, know\n",
            "lion: addition, write, say, least, length, pope, prevent, growth, opposed, size\n",
            "africa: europe, america, india, england, germany, west, east, asia, ireland, china\n",
            "musician: singer, writer, actor, composer, poet, actress, author, politician, famous, rome\n",
            "dance: music, country, traditional, popular, actor, culture, town, business, applied, singer\n",
            "\n",
            "\n"
          ]
        },
        {
          "output_type": "stream",
          "name": "stderr",
          "text": [
            "8501it [15:17,  7.95it/s]"
          ]
        },
        {
          "output_type": "stream",
          "name": "stdout",
          "text": [
            "| epoch   9 |  8500/32580 batches | loss    1.330 \n",
            "money: work, even, question, result, just, do, idea, god, it, know\n",
            "lion: addition, write, say, least, length, pope, prevent, growth, opposed, size\n",
            "africa: europe, america, india, england, germany, west, east, asia, ireland, china\n",
            "musician: singer, writer, actor, composer, poet, actress, author, politician, famous, rome\n",
            "dance: music, country, traditional, popular, actor, culture, town, business, applied, singer\n",
            "\n",
            "\n"
          ]
        },
        {
          "output_type": "stream",
          "name": "stderr",
          "text": [
            "9001it [16:10,  7.81it/s]"
          ]
        },
        {
          "output_type": "stream",
          "name": "stdout",
          "text": [
            "| epoch   9 |  9000/32580 batches | loss    1.330 \n",
            "money: work, even, question, result, just, do, idea, god, it, know\n",
            "lion: addition, write, say, least, length, pope, prevent, growth, opposed, size\n",
            "africa: europe, america, india, england, germany, west, east, asia, ireland, china\n",
            "musician: singer, writer, actor, composer, poet, actress, author, politician, famous, rome\n",
            "dance: music, country, traditional, popular, actor, culture, town, business, applied, singer\n",
            "\n",
            "\n"
          ]
        },
        {
          "output_type": "stream",
          "name": "stderr",
          "text": [
            "9501it [17:03,  7.14it/s]"
          ]
        },
        {
          "output_type": "stream",
          "name": "stdout",
          "text": [
            "| epoch   9 |  9500/32580 batches | loss    1.329 \n",
            "money: work, even, question, result, just, do, idea, god, it, know\n",
            "lion: addition, write, say, least, length, pope, prevent, growth, opposed, size\n",
            "africa: europe, america, india, england, germany, west, east, asia, ireland, china\n",
            "musician: singer, writer, actor, composer, poet, actress, author, politician, famous, rome\n",
            "dance: music, country, traditional, popular, actor, culture, town, business, applied, singer\n",
            "\n",
            "\n"
          ]
        },
        {
          "output_type": "stream",
          "name": "stderr",
          "text": [
            "10001it [17:57,  7.55it/s]"
          ]
        },
        {
          "output_type": "stream",
          "name": "stdout",
          "text": [
            "| epoch   9 | 10000/32580 batches | loss    1.328 \n",
            "money: work, even, question, result, just, do, idea, god, it, know\n",
            "lion: addition, write, say, least, length, pope, prevent, growth, opposed, size\n",
            "africa: europe, america, india, england, germany, west, east, asia, ireland, china\n",
            "musician: singer, writer, actor, composer, poet, actress, author, politician, famous, rome\n",
            "dance: music, country, traditional, popular, actor, culture, town, business, applied, singer\n",
            "\n",
            "\n"
          ]
        },
        {
          "output_type": "stream",
          "name": "stderr",
          "text": [
            "10501it [18:52,  7.81it/s]"
          ]
        },
        {
          "output_type": "stream",
          "name": "stdout",
          "text": [
            "| epoch   9 | 10500/32580 batches | loss    1.329 \n",
            "money: work, even, question, result, just, do, idea, god, it, know\n",
            "lion: addition, write, say, least, length, pope, prevent, growth, opposed, size\n",
            "africa: europe, america, india, england, germany, west, east, asia, ireland, china\n",
            "musician: singer, writer, actor, composer, poet, actress, author, politician, famous, rome\n",
            "dance: music, country, traditional, popular, actor, culture, town, business, applied, singer\n",
            "\n",
            "\n"
          ]
        },
        {
          "output_type": "stream",
          "name": "stderr",
          "text": [
            "11001it [19:46,  7.43it/s]"
          ]
        },
        {
          "output_type": "stream",
          "name": "stdout",
          "text": [
            "| epoch   9 | 11000/32580 batches | loss    1.336 \n",
            "money: work, even, question, result, just, do, idea, god, it, know\n",
            "lion: addition, write, say, least, length, pope, prevent, growth, opposed, size\n",
            "africa: europe, america, india, england, germany, west, east, asia, ireland, china\n",
            "musician: singer, writer, actor, composer, poet, actress, author, politician, famous, rome\n",
            "dance: music, country, traditional, popular, actor, culture, town, business, applied, singer\n",
            "\n",
            "\n"
          ]
        },
        {
          "output_type": "stream",
          "name": "stderr",
          "text": [
            "11501it [20:40,  7.35it/s]"
          ]
        },
        {
          "output_type": "stream",
          "name": "stdout",
          "text": [
            "| epoch   9 | 11500/32580 batches | loss    1.336 \n",
            "money: work, even, question, result, just, do, idea, god, it, know\n",
            "lion: addition, write, say, least, length, pope, prevent, growth, opposed, size\n",
            "africa: europe, america, india, england, germany, west, east, asia, ireland, china\n",
            "musician: singer, writer, actor, composer, poet, actress, author, politician, famous, rome\n",
            "dance: music, country, traditional, popular, actor, culture, town, business, applied, singer\n",
            "\n",
            "\n"
          ]
        },
        {
          "output_type": "stream",
          "name": "stderr",
          "text": [
            "12001it [21:33,  7.85it/s]"
          ]
        },
        {
          "output_type": "stream",
          "name": "stdout",
          "text": [
            "| epoch   9 | 12000/32580 batches | loss    1.329 \n",
            "money: work, even, question, result, just, do, idea, god, it, know\n",
            "lion: addition, write, say, least, length, pope, prevent, growth, opposed, size\n",
            "africa: europe, america, india, england, germany, west, east, asia, ireland, china\n",
            "musician: singer, writer, actor, composer, poet, actress, author, politician, famous, rome\n",
            "dance: music, country, traditional, popular, actor, culture, town, business, applied, singer\n",
            "\n",
            "\n"
          ]
        },
        {
          "output_type": "stream",
          "name": "stderr",
          "text": [
            "12501it [22:26,  7.29it/s]"
          ]
        },
        {
          "output_type": "stream",
          "name": "stdout",
          "text": [
            "| epoch   9 | 12500/32580 batches | loss    1.326 \n",
            "money: work, even, question, result, just, do, idea, god, it, know\n",
            "lion: addition, write, say, least, length, pope, prevent, growth, opposed, size\n",
            "africa: europe, america, india, england, germany, west, east, asia, ireland, china\n",
            "musician: singer, writer, actor, composer, poet, actress, author, politician, famous, rome\n",
            "dance: music, country, traditional, popular, actor, culture, town, business, applied, singer\n",
            "\n",
            "\n"
          ]
        },
        {
          "output_type": "stream",
          "name": "stderr",
          "text": [
            "13001it [23:20,  7.84it/s]"
          ]
        },
        {
          "output_type": "stream",
          "name": "stdout",
          "text": [
            "| epoch   9 | 13000/32580 batches | loss    1.339 \n",
            "money: work, even, question, result, just, do, idea, god, it, know\n",
            "lion: addition, write, say, least, length, pope, prevent, growth, opposed, size\n",
            "africa: europe, america, india, england, germany, west, east, asia, ireland, china\n",
            "musician: singer, writer, actor, composer, poet, actress, author, politician, famous, rome\n",
            "dance: music, country, traditional, popular, actor, culture, town, business, applied, singer\n",
            "\n",
            "\n"
          ]
        },
        {
          "output_type": "stream",
          "name": "stderr",
          "text": [
            "13501it [24:13,  7.85it/s]"
          ]
        },
        {
          "output_type": "stream",
          "name": "stdout",
          "text": [
            "| epoch   9 | 13500/32580 batches | loss    1.332 \n",
            "money: work, even, question, result, just, do, idea, god, it, know\n",
            "lion: addition, write, say, least, length, pope, prevent, growth, opposed, size\n",
            "africa: europe, america, india, england, germany, west, east, asia, ireland, china\n",
            "musician: singer, writer, actor, composer, poet, actress, author, politician, famous, rome\n",
            "dance: music, country, traditional, popular, actor, culture, town, business, applied, singer\n",
            "\n",
            "\n"
          ]
        },
        {
          "output_type": "stream",
          "name": "stderr",
          "text": [
            "14001it [25:06,  7.31it/s]"
          ]
        },
        {
          "output_type": "stream",
          "name": "stdout",
          "text": [
            "| epoch   9 | 14000/32580 batches | loss    1.335 \n",
            "money: work, even, question, result, just, do, idea, god, it, know\n",
            "lion: addition, write, say, least, length, pope, prevent, growth, opposed, size\n",
            "africa: europe, america, india, england, germany, west, east, asia, ireland, china\n",
            "musician: singer, writer, actor, composer, poet, actress, author, politician, famous, rome\n",
            "dance: music, country, traditional, popular, actor, culture, town, business, applied, singer\n",
            "\n",
            "\n"
          ]
        },
        {
          "output_type": "stream",
          "name": "stderr",
          "text": [
            "14501it [26:01,  7.09it/s]"
          ]
        },
        {
          "output_type": "stream",
          "name": "stdout",
          "text": [
            "| epoch   9 | 14500/32580 batches | loss    1.333 \n",
            "money: work, even, question, result, just, do, idea, god, it, know\n",
            "lion: addition, write, say, least, length, pope, prevent, growth, opposed, size\n",
            "africa: europe, america, india, england, germany, west, east, asia, ireland, china\n",
            "musician: singer, writer, actor, composer, poet, actress, author, politician, famous, rome\n",
            "dance: music, country, traditional, popular, actor, culture, town, business, applied, singer\n",
            "\n",
            "\n"
          ]
        },
        {
          "output_type": "stream",
          "name": "stderr",
          "text": [
            "15001it [26:56,  7.54it/s]"
          ]
        },
        {
          "output_type": "stream",
          "name": "stdout",
          "text": [
            "| epoch   9 | 15000/32580 batches | loss    1.329 \n",
            "money: work, even, question, result, just, do, idea, god, it, know\n",
            "lion: addition, write, say, least, length, pope, prevent, growth, opposed, size\n",
            "africa: europe, america, india, england, germany, west, east, asia, ireland, china\n",
            "musician: singer, writer, actor, composer, poet, actress, author, politician, famous, rome\n",
            "dance: music, country, traditional, popular, actor, culture, town, business, applied, singer\n",
            "\n",
            "\n"
          ]
        },
        {
          "output_type": "stream",
          "name": "stderr",
          "text": [
            "15501it [27:49,  7.84it/s]"
          ]
        },
        {
          "output_type": "stream",
          "name": "stdout",
          "text": [
            "| epoch   9 | 15500/32580 batches | loss    1.329 \n",
            "money: work, even, question, result, just, do, idea, god, it, know\n",
            "lion: addition, write, say, least, length, pope, prevent, growth, opposed, size\n",
            "africa: europe, america, india, england, germany, west, east, asia, ireland, china\n",
            "musician: singer, writer, actor, composer, poet, actress, author, politician, famous, rome\n",
            "dance: music, country, traditional, popular, actor, culture, town, business, applied, singer\n",
            "\n",
            "\n"
          ]
        },
        {
          "output_type": "stream",
          "name": "stderr",
          "text": [
            "16001it [28:43,  7.56it/s]"
          ]
        },
        {
          "output_type": "stream",
          "name": "stdout",
          "text": [
            "| epoch   9 | 16000/32580 batches | loss    1.327 \n",
            "money: work, even, question, result, just, do, idea, god, it, know\n",
            "lion: addition, write, say, least, length, pope, prevent, growth, opposed, size\n",
            "africa: europe, america, india, england, germany, west, east, asia, ireland, china\n",
            "musician: singer, writer, actor, composer, poet, actress, author, politician, famous, rome\n",
            "dance: music, country, traditional, popular, actor, culture, town, business, applied, singer\n",
            "\n",
            "\n"
          ]
        },
        {
          "output_type": "stream",
          "name": "stderr",
          "text": [
            "16501it [29:37,  7.68it/s]"
          ]
        },
        {
          "output_type": "stream",
          "name": "stdout",
          "text": [
            "| epoch   9 | 16500/32580 batches | loss    1.333 \n",
            "money: work, even, question, result, just, do, idea, god, it, know\n",
            "lion: addition, write, say, least, length, pope, prevent, growth, opposed, size\n",
            "africa: europe, america, india, england, germany, west, east, asia, ireland, china\n",
            "musician: singer, writer, actor, composer, poet, actress, author, politician, famous, rome\n",
            "dance: music, country, traditional, popular, actor, culture, town, business, applied, singer\n",
            "\n",
            "\n"
          ]
        },
        {
          "output_type": "stream",
          "name": "stderr",
          "text": [
            "17001it [30:30,  7.70it/s]"
          ]
        },
        {
          "output_type": "stream",
          "name": "stdout",
          "text": [
            "| epoch   9 | 17000/32580 batches | loss    1.331 \n",
            "money: work, even, question, result, just, do, idea, god, it, know\n",
            "lion: addition, write, say, least, length, pope, prevent, growth, opposed, size\n",
            "africa: europe, america, india, england, germany, west, east, asia, ireland, china\n",
            "musician: singer, writer, actor, composer, poet, actress, author, politician, famous, rome\n",
            "dance: music, country, traditional, popular, actor, culture, town, business, applied, singer\n",
            "\n",
            "\n"
          ]
        },
        {
          "output_type": "stream",
          "name": "stderr",
          "text": [
            "17501it [31:24,  7.74it/s]"
          ]
        },
        {
          "output_type": "stream",
          "name": "stdout",
          "text": [
            "| epoch   9 | 17500/32580 batches | loss    1.332 \n",
            "money: work, even, question, result, just, do, idea, god, it, know\n",
            "lion: addition, write, say, least, length, pope, prevent, growth, opposed, size\n",
            "africa: europe, america, india, england, germany, west, east, asia, ireland, china\n",
            "musician: singer, writer, actor, composer, poet, actress, author, politician, famous, rome\n",
            "dance: music, country, traditional, popular, actor, culture, town, business, applied, singer\n",
            "\n",
            "\n"
          ]
        },
        {
          "output_type": "stream",
          "name": "stderr",
          "text": [
            "18001it [32:18,  7.15it/s]"
          ]
        },
        {
          "output_type": "stream",
          "name": "stdout",
          "text": [
            "| epoch   9 | 18000/32580 batches | loss    1.330 \n",
            "money: work, even, question, result, just, do, idea, god, it, know\n",
            "lion: addition, write, say, least, length, pope, prevent, growth, opposed, size\n",
            "africa: europe, america, india, england, germany, west, east, asia, ireland, china\n",
            "musician: singer, writer, actor, composer, poet, actress, author, politician, famous, rome\n",
            "dance: music, country, traditional, popular, actor, culture, town, business, applied, singer\n",
            "\n",
            "\n"
          ]
        },
        {
          "output_type": "stream",
          "name": "stderr",
          "text": [
            "18501it [33:12,  7.74it/s]"
          ]
        },
        {
          "output_type": "stream",
          "name": "stdout",
          "text": [
            "| epoch   9 | 18500/32580 batches | loss    1.332 \n",
            "money: work, even, question, result, just, do, idea, god, it, know\n",
            "lion: addition, write, say, least, length, pope, prevent, growth, opposed, size\n",
            "africa: europe, america, india, england, germany, west, east, asia, ireland, china\n",
            "musician: singer, writer, actor, composer, poet, actress, author, politician, famous, rome\n",
            "dance: music, country, traditional, popular, actor, culture, town, business, applied, singer\n",
            "\n",
            "\n"
          ]
        },
        {
          "output_type": "stream",
          "name": "stderr",
          "text": [
            "19001it [34:05,  7.86it/s]"
          ]
        },
        {
          "output_type": "stream",
          "name": "stdout",
          "text": [
            "| epoch   9 | 19000/32580 batches | loss    1.326 \n",
            "money: work, even, question, result, just, do, idea, god, it, know\n",
            "lion: addition, write, say, least, length, pope, prevent, growth, opposed, size\n",
            "africa: europe, america, india, england, germany, west, east, asia, ireland, china\n",
            "musician: singer, writer, actor, composer, poet, actress, author, politician, famous, rome\n",
            "dance: music, country, traditional, popular, actor, culture, town, business, applied, singer\n",
            "\n",
            "\n"
          ]
        },
        {
          "output_type": "stream",
          "name": "stderr",
          "text": [
            "19501it [34:58,  7.09it/s]"
          ]
        },
        {
          "output_type": "stream",
          "name": "stdout",
          "text": [
            "| epoch   9 | 19500/32580 batches | loss    1.332 \n",
            "money: work, even, question, result, just, do, idea, god, it, know\n",
            "lion: addition, write, say, least, length, pope, prevent, growth, opposed, size\n",
            "africa: europe, america, india, england, germany, west, east, asia, ireland, china\n",
            "musician: singer, writer, actor, composer, poet, actress, author, politician, famous, rome\n",
            "dance: music, country, traditional, popular, actor, culture, town, business, applied, singer\n",
            "\n",
            "\n"
          ]
        },
        {
          "output_type": "stream",
          "name": "stderr",
          "text": [
            "20001it [35:52,  7.73it/s]"
          ]
        },
        {
          "output_type": "stream",
          "name": "stdout",
          "text": [
            "| epoch   9 | 20000/32580 batches | loss    1.330 \n",
            "money: work, even, question, result, just, do, idea, god, it, know\n",
            "lion: addition, write, say, least, length, pope, prevent, growth, opposed, size\n",
            "africa: europe, america, india, england, germany, west, east, asia, ireland, china\n",
            "musician: singer, writer, actor, composer, poet, actress, author, politician, famous, rome\n",
            "dance: music, country, traditional, popular, actor, culture, town, business, applied, singer\n",
            "\n",
            "\n"
          ]
        },
        {
          "output_type": "stream",
          "name": "stderr",
          "text": [
            "20501it [36:46,  7.71it/s]"
          ]
        },
        {
          "output_type": "stream",
          "name": "stdout",
          "text": [
            "| epoch   9 | 20500/32580 batches | loss    1.329 \n",
            "money: work, even, question, result, just, do, idea, god, it, know\n",
            "lion: addition, write, say, least, length, pope, prevent, growth, opposed, size\n",
            "africa: europe, america, india, england, germany, west, east, asia, ireland, china\n",
            "musician: singer, writer, actor, composer, poet, actress, author, politician, famous, rome\n",
            "dance: music, country, traditional, popular, actor, culture, town, business, applied, singer\n",
            "\n",
            "\n"
          ]
        },
        {
          "output_type": "stream",
          "name": "stderr",
          "text": [
            "21001it [37:39,  7.92it/s]"
          ]
        },
        {
          "output_type": "stream",
          "name": "stdout",
          "text": [
            "| epoch   9 | 21000/32580 batches | loss    1.327 \n",
            "money: work, even, question, result, just, do, idea, god, it, know\n",
            "lion: addition, write, say, least, length, pope, prevent, growth, opposed, size\n",
            "africa: europe, america, india, england, germany, west, east, asia, ireland, china\n",
            "musician: singer, writer, actor, composer, poet, actress, author, politician, famous, rome\n",
            "dance: music, country, traditional, popular, actor, culture, town, business, applied, singer\n",
            "\n",
            "\n"
          ]
        },
        {
          "output_type": "stream",
          "name": "stderr",
          "text": [
            "21501it [38:33,  7.26it/s]"
          ]
        },
        {
          "output_type": "stream",
          "name": "stdout",
          "text": [
            "| epoch   9 | 21500/32580 batches | loss    1.327 \n",
            "money: work, even, question, result, just, do, idea, god, it, know\n",
            "lion: addition, write, say, least, length, pope, prevent, growth, opposed, size\n",
            "africa: europe, america, india, england, germany, west, east, asia, ireland, china\n",
            "musician: singer, writer, actor, composer, poet, actress, author, politician, famous, rome\n",
            "dance: music, country, traditional, popular, actor, culture, town, business, applied, singer\n",
            "\n",
            "\n"
          ]
        },
        {
          "output_type": "stream",
          "name": "stderr",
          "text": [
            "22001it [39:26,  7.26it/s]"
          ]
        },
        {
          "output_type": "stream",
          "name": "stdout",
          "text": [
            "| epoch   9 | 22000/32580 batches | loss    1.329 \n",
            "money: work, even, question, result, just, do, idea, god, it, know\n",
            "lion: addition, write, say, least, length, pope, prevent, growth, opposed, size\n",
            "africa: europe, america, india, england, germany, west, east, asia, ireland, china\n",
            "musician: singer, writer, actor, composer, poet, actress, author, politician, famous, rome\n",
            "dance: music, country, traditional, popular, actor, culture, town, business, applied, singer\n",
            "\n",
            "\n"
          ]
        },
        {
          "output_type": "stream",
          "name": "stderr",
          "text": [
            "22501it [40:21,  7.63it/s]"
          ]
        },
        {
          "output_type": "stream",
          "name": "stdout",
          "text": [
            "| epoch   9 | 22500/32580 batches | loss    1.328 \n",
            "money: work, even, question, result, just, do, idea, god, it, know\n",
            "lion: addition, write, say, least, length, pope, prevent, growth, opposed, size\n",
            "africa: europe, america, india, england, germany, west, east, asia, ireland, china\n",
            "musician: singer, writer, actor, composer, poet, actress, author, politician, famous, rome\n",
            "dance: music, country, traditional, popular, actor, culture, town, business, applied, singer\n",
            "\n",
            "\n"
          ]
        },
        {
          "output_type": "stream",
          "name": "stderr",
          "text": [
            "23001it [41:14,  7.58it/s]"
          ]
        },
        {
          "output_type": "stream",
          "name": "stdout",
          "text": [
            "| epoch   9 | 23000/32580 batches | loss    1.329 \n",
            "money: work, even, question, result, just, do, idea, god, it, know\n",
            "lion: addition, write, say, least, length, pope, prevent, growth, opposed, size\n",
            "africa: europe, america, india, england, germany, west, east, asia, ireland, china\n",
            "musician: singer, writer, actor, composer, poet, actress, author, politician, famous, rome\n",
            "dance: music, country, traditional, popular, actor, culture, town, business, applied, singer\n",
            "\n",
            "\n"
          ]
        },
        {
          "output_type": "stream",
          "name": "stderr",
          "text": [
            "23501it [42:07,  7.36it/s]"
          ]
        },
        {
          "output_type": "stream",
          "name": "stdout",
          "text": [
            "| epoch   9 | 23500/32580 batches | loss    1.331 \n",
            "money: work, even, question, result, just, do, idea, god, it, know\n",
            "lion: addition, write, say, least, length, pope, prevent, growth, opposed, size\n",
            "africa: europe, america, india, england, germany, west, east, asia, ireland, china\n",
            "musician: singer, writer, actor, composer, poet, actress, author, politician, famous, rome\n",
            "dance: music, country, traditional, popular, actor, culture, town, business, applied, singer\n",
            "\n",
            "\n"
          ]
        },
        {
          "output_type": "stream",
          "name": "stderr",
          "text": [
            "24001it [43:01,  7.23it/s]"
          ]
        },
        {
          "output_type": "stream",
          "name": "stdout",
          "text": [
            "| epoch   9 | 24000/32580 batches | loss    1.328 \n",
            "money: work, even, question, result, just, do, idea, god, it, know\n",
            "lion: addition, write, say, least, length, pope, prevent, growth, opposed, size\n",
            "africa: europe, america, india, england, germany, west, east, asia, ireland, china\n",
            "musician: singer, writer, actor, composer, poet, actress, author, politician, famous, rome\n",
            "dance: music, country, traditional, popular, actor, culture, town, business, applied, singer\n",
            "\n",
            "\n"
          ]
        },
        {
          "output_type": "stream",
          "name": "stderr",
          "text": [
            "24501it [43:54,  7.46it/s]"
          ]
        },
        {
          "output_type": "stream",
          "name": "stdout",
          "text": [
            "| epoch   9 | 24500/32580 batches | loss    1.330 \n",
            "money: work, even, question, result, just, do, idea, god, it, know\n",
            "lion: addition, write, say, least, length, pope, prevent, growth, opposed, size\n",
            "africa: europe, america, india, england, germany, west, east, asia, ireland, china\n",
            "musician: singer, writer, actor, composer, poet, actress, author, politician, famous, rome\n",
            "dance: music, country, traditional, popular, actor, culture, town, business, applied, singer\n",
            "\n",
            "\n"
          ]
        },
        {
          "output_type": "stream",
          "name": "stderr",
          "text": [
            "25001it [44:48,  7.66it/s]"
          ]
        },
        {
          "output_type": "stream",
          "name": "stdout",
          "text": [
            "| epoch   9 | 25000/32580 batches | loss    1.334 \n",
            "money: work, even, question, result, just, do, idea, god, it, know\n",
            "lion: addition, write, say, least, length, pope, prevent, growth, opposed, size\n",
            "africa: europe, america, india, england, germany, west, east, asia, ireland, china\n",
            "musician: singer, writer, actor, composer, poet, actress, author, politician, famous, rome\n",
            "dance: music, country, traditional, popular, actor, culture, town, business, applied, singer\n",
            "\n",
            "\n"
          ]
        },
        {
          "output_type": "stream",
          "name": "stderr",
          "text": [
            "25501it [45:43,  7.71it/s]"
          ]
        },
        {
          "output_type": "stream",
          "name": "stdout",
          "text": [
            "| epoch   9 | 25500/32580 batches | loss    1.329 \n",
            "money: work, even, question, result, just, do, idea, god, it, know\n",
            "lion: addition, write, say, least, length, pope, prevent, growth, opposed, size\n",
            "africa: europe, america, india, england, germany, west, east, asia, ireland, china\n",
            "musician: singer, writer, actor, composer, poet, actress, author, politician, famous, rome\n",
            "dance: music, country, traditional, popular, actor, culture, town, business, applied, singer\n",
            "\n",
            "\n"
          ]
        },
        {
          "output_type": "stream",
          "name": "stderr",
          "text": [
            "26001it [46:36,  7.55it/s]"
          ]
        },
        {
          "output_type": "stream",
          "name": "stdout",
          "text": [
            "| epoch   9 | 26000/32580 batches | loss    1.333 \n",
            "money: work, even, question, result, just, do, idea, god, it, know\n",
            "lion: addition, write, say, least, length, pope, prevent, growth, opposed, size\n",
            "africa: europe, america, india, england, germany, west, east, asia, ireland, china\n",
            "musician: singer, writer, actor, composer, poet, actress, author, politician, famous, rome\n",
            "dance: music, country, traditional, popular, actor, culture, town, business, applied, singer\n",
            "\n",
            "\n"
          ]
        },
        {
          "output_type": "stream",
          "name": "stderr",
          "text": [
            "26501it [47:30,  7.26it/s]"
          ]
        },
        {
          "output_type": "stream",
          "name": "stdout",
          "text": [
            "| epoch   9 | 26500/32580 batches | loss    1.331 \n",
            "money: work, even, question, result, just, do, idea, god, it, know\n",
            "lion: addition, write, say, least, length, pope, prevent, growth, opposed, size\n",
            "africa: europe, america, india, england, germany, west, east, asia, ireland, china\n",
            "musician: singer, writer, actor, composer, poet, actress, author, politician, famous, rome\n",
            "dance: music, country, traditional, popular, actor, culture, town, business, applied, singer\n",
            "\n",
            "\n"
          ]
        },
        {
          "output_type": "stream",
          "name": "stderr",
          "text": [
            "27001it [48:24,  7.20it/s]"
          ]
        },
        {
          "output_type": "stream",
          "name": "stdout",
          "text": [
            "| epoch   9 | 27000/32580 batches | loss    1.332 \n",
            "money: work, even, question, result, just, do, idea, god, it, know\n",
            "lion: addition, write, say, least, length, pope, prevent, growth, opposed, size\n",
            "africa: europe, america, india, england, germany, west, east, asia, ireland, china\n",
            "musician: singer, writer, actor, composer, poet, actress, author, politician, famous, rome\n",
            "dance: music, country, traditional, popular, actor, culture, town, business, applied, singer\n",
            "\n",
            "\n"
          ]
        },
        {
          "output_type": "stream",
          "name": "stderr",
          "text": [
            "27501it [49:18,  7.69it/s]"
          ]
        },
        {
          "output_type": "stream",
          "name": "stdout",
          "text": [
            "| epoch   9 | 27500/32580 batches | loss    1.332 \n",
            "money: work, even, question, result, just, do, idea, god, it, know\n",
            "lion: addition, write, say, least, length, pope, prevent, growth, opposed, size\n",
            "africa: europe, america, india, england, germany, west, east, asia, ireland, china\n",
            "musician: singer, writer, actor, composer, poet, actress, author, politician, famous, rome\n",
            "dance: music, country, traditional, popular, actor, culture, town, business, applied, singer\n",
            "\n",
            "\n"
          ]
        },
        {
          "output_type": "stream",
          "name": "stderr",
          "text": [
            "28001it [50:11,  7.64it/s]"
          ]
        },
        {
          "output_type": "stream",
          "name": "stdout",
          "text": [
            "| epoch   9 | 28000/32580 batches | loss    1.331 \n",
            "money: work, even, question, result, just, do, idea, god, it, know\n",
            "lion: addition, write, say, least, length, pope, prevent, growth, opposed, size\n",
            "africa: europe, america, india, england, germany, west, east, asia, ireland, china\n",
            "musician: singer, writer, actor, composer, poet, actress, author, politician, famous, rome\n",
            "dance: music, country, traditional, popular, actor, culture, town, business, applied, singer\n",
            "\n",
            "\n"
          ]
        },
        {
          "output_type": "stream",
          "name": "stderr",
          "text": [
            "28501it [51:05,  7.69it/s]"
          ]
        },
        {
          "output_type": "stream",
          "name": "stdout",
          "text": [
            "| epoch   9 | 28500/32580 batches | loss    1.328 \n",
            "money: work, even, question, result, just, do, idea, god, it, know\n",
            "lion: addition, write, say, least, length, pope, prevent, growth, opposed, size\n",
            "africa: europe, america, india, england, germany, west, east, asia, ireland, china\n",
            "musician: singer, writer, actor, composer, poet, actress, author, politician, famous, rome\n",
            "dance: music, country, traditional, popular, actor, culture, town, business, applied, singer\n",
            "\n",
            "\n"
          ]
        },
        {
          "output_type": "stream",
          "name": "stderr",
          "text": [
            "29001it [51:58,  7.33it/s]"
          ]
        },
        {
          "output_type": "stream",
          "name": "stdout",
          "text": [
            "| epoch   9 | 29000/32580 batches | loss    1.332 \n",
            "money: work, even, question, result, just, do, idea, god, it, know\n",
            "lion: addition, write, say, least, length, pope, prevent, growth, opposed, size\n",
            "africa: europe, america, india, england, germany, west, east, asia, ireland, china\n",
            "musician: singer, writer, actor, composer, poet, actress, author, politician, famous, rome\n",
            "dance: music, country, traditional, popular, actor, culture, town, business, applied, singer\n",
            "\n",
            "\n"
          ]
        },
        {
          "output_type": "stream",
          "name": "stderr",
          "text": [
            "29501it [52:54,  7.73it/s]"
          ]
        },
        {
          "output_type": "stream",
          "name": "stdout",
          "text": [
            "| epoch   9 | 29500/32580 batches | loss    1.328 \n",
            "money: work, even, question, result, just, do, idea, god, it, know\n",
            "lion: addition, write, say, least, length, pope, prevent, growth, opposed, size\n",
            "africa: europe, america, india, england, germany, west, east, asia, ireland, china\n",
            "musician: singer, writer, actor, composer, poet, actress, author, politician, famous, rome\n",
            "dance: music, country, traditional, popular, actor, culture, town, business, applied, singer\n",
            "\n",
            "\n"
          ]
        },
        {
          "output_type": "stream",
          "name": "stderr",
          "text": [
            "30001it [53:49,  7.57it/s]"
          ]
        },
        {
          "output_type": "stream",
          "name": "stdout",
          "text": [
            "| epoch   9 | 30000/32580 batches | loss    1.328 \n",
            "money: work, even, question, result, just, do, idea, god, it, know\n",
            "lion: addition, write, say, least, length, pope, prevent, growth, opposed, size\n",
            "africa: europe, america, india, england, germany, west, east, asia, ireland, china\n",
            "musician: singer, writer, actor, composer, poet, actress, author, politician, famous, rome\n",
            "dance: music, country, traditional, popular, actor, culture, town, business, applied, singer\n",
            "\n",
            "\n"
          ]
        },
        {
          "output_type": "stream",
          "name": "stderr",
          "text": [
            "30501it [54:43,  7.07it/s]"
          ]
        },
        {
          "output_type": "stream",
          "name": "stdout",
          "text": [
            "| epoch   9 | 30500/32580 batches | loss    1.332 \n",
            "money: work, even, question, result, just, do, idea, god, it, know\n",
            "lion: addition, write, say, least, length, pope, prevent, growth, opposed, size\n",
            "africa: europe, america, india, england, germany, west, east, asia, ireland, china\n",
            "musician: singer, writer, actor, composer, poet, actress, author, politician, famous, rome\n",
            "dance: music, country, traditional, popular, actor, culture, town, business, applied, singer\n",
            "\n",
            "\n"
          ]
        },
        {
          "output_type": "stream",
          "name": "stderr",
          "text": [
            "31001it [55:37,  7.56it/s]"
          ]
        },
        {
          "output_type": "stream",
          "name": "stdout",
          "text": [
            "| epoch   9 | 31000/32580 batches | loss    1.333 \n",
            "money: work, even, question, result, just, do, idea, god, it, know\n",
            "lion: addition, write, say, least, length, pope, prevent, growth, opposed, size\n",
            "africa: europe, america, india, england, germany, west, east, asia, ireland, china\n",
            "musician: singer, writer, actor, composer, poet, actress, author, politician, famous, rome\n",
            "dance: music, country, traditional, popular, actor, culture, town, business, applied, singer\n",
            "\n",
            "\n"
          ]
        },
        {
          "output_type": "stream",
          "name": "stderr",
          "text": [
            "31501it [56:31,  7.55it/s]"
          ]
        },
        {
          "output_type": "stream",
          "name": "stdout",
          "text": [
            "| epoch   9 | 31500/32580 batches | loss    1.330 \n",
            "money: work, even, question, result, just, do, idea, god, it, know\n",
            "lion: addition, write, say, least, length, pope, prevent, growth, opposed, size\n",
            "africa: europe, america, india, england, germany, west, east, asia, ireland, china\n",
            "musician: singer, writer, actor, composer, poet, actress, author, politician, famous, rome\n",
            "dance: music, country, traditional, popular, actor, culture, town, business, applied, singer\n",
            "\n",
            "\n"
          ]
        },
        {
          "output_type": "stream",
          "name": "stderr",
          "text": [
            "32001it [57:25,  7.78it/s]"
          ]
        },
        {
          "output_type": "stream",
          "name": "stdout",
          "text": [
            "| epoch   9 | 32000/32580 batches | loss    1.333 \n",
            "money: work, even, question, result, just, do, idea, god, it, know\n",
            "lion: addition, write, say, least, length, pope, prevent, growth, opposed, size\n",
            "africa: europe, america, india, england, germany, west, east, asia, ireland, china\n",
            "musician: singer, writer, actor, composer, poet, actress, author, politician, famous, rome\n",
            "dance: music, country, traditional, popular, actor, culture, town, business, applied, singer\n",
            "\n",
            "\n"
          ]
        },
        {
          "output_type": "stream",
          "name": "stderr",
          "text": [
            "32501it [58:20,  7.89it/s]"
          ]
        },
        {
          "output_type": "stream",
          "name": "stdout",
          "text": [
            "| epoch   9 | 32500/32580 batches | loss    1.329 \n",
            "money: work, even, question, result, just, do, idea, god, it, know\n",
            "lion: addition, write, say, least, length, pope, prevent, growth, opposed, size\n",
            "africa: europe, america, india, england, germany, west, east, asia, ireland, china\n",
            "musician: singer, writer, actor, composer, poet, actress, author, politician, famous, rome\n",
            "dance: music, country, traditional, popular, actor, culture, town, business, applied, singer\n",
            "\n",
            "\n"
          ]
        },
        {
          "output_type": "stream",
          "name": "stderr",
          "text": [
            "32580it [58:31,  9.28it/s]\n",
            "1it [00:01,  1.92s/it]"
          ]
        },
        {
          "output_type": "stream",
          "name": "stdout",
          "text": [
            "| epoch  10 |     0/32580 batches | loss    1.304 \n",
            "money: work, even, question, result, just, do, idea, god, it, know\n",
            "lion: addition, write, say, least, length, pope, prevent, growth, opposed, size\n",
            "africa: europe, america, india, england, germany, west, east, asia, ireland, china\n",
            "musician: singer, writer, actor, composer, poet, actress, author, politician, famous, rome\n",
            "dance: music, country, traditional, popular, actor, culture, town, business, applied, singer\n",
            "\n",
            "\n"
          ]
        },
        {
          "output_type": "stream",
          "name": "stderr",
          "text": [
            "501it [00:55,  7.55it/s]"
          ]
        },
        {
          "output_type": "stream",
          "name": "stdout",
          "text": [
            "| epoch  10 |   500/32580 batches | loss    1.334 \n",
            "money: work, even, question, result, just, do, idea, god, it, know\n",
            "lion: addition, write, say, least, length, pope, prevent, growth, opposed, size\n",
            "africa: europe, america, india, england, germany, west, east, asia, ireland, china\n",
            "musician: singer, writer, actor, composer, poet, actress, author, politician, famous, rome\n",
            "dance: music, country, traditional, popular, actor, culture, town, business, applied, singer\n",
            "\n",
            "\n"
          ]
        },
        {
          "output_type": "stream",
          "name": "stderr",
          "text": [
            "1001it [01:50,  7.85it/s]"
          ]
        },
        {
          "output_type": "stream",
          "name": "stdout",
          "text": [
            "| epoch  10 |  1000/32580 batches | loss    1.332 \n",
            "money: work, even, question, result, just, do, idea, god, it, know\n",
            "lion: addition, write, say, least, length, pope, prevent, growth, opposed, size\n",
            "africa: europe, america, india, england, germany, west, east, asia, ireland, china\n",
            "musician: singer, writer, actor, composer, poet, actress, author, politician, famous, rome\n",
            "dance: music, country, traditional, popular, actor, culture, town, business, applied, singer\n",
            "\n",
            "\n"
          ]
        },
        {
          "output_type": "stream",
          "name": "stderr",
          "text": [
            "1501it [02:43,  7.64it/s]"
          ]
        },
        {
          "output_type": "stream",
          "name": "stdout",
          "text": [
            "| epoch  10 |  1500/32580 batches | loss    1.329 \n",
            "money: work, even, question, result, just, do, idea, god, it, know\n",
            "lion: addition, write, say, least, length, pope, prevent, growth, opposed, size\n",
            "africa: europe, america, india, england, germany, west, east, asia, ireland, china\n",
            "musician: singer, writer, actor, composer, poet, actress, author, politician, famous, rome\n",
            "dance: music, country, traditional, popular, actor, culture, town, business, applied, singer\n",
            "\n",
            "\n"
          ]
        },
        {
          "output_type": "stream",
          "name": "stderr",
          "text": [
            "2001it [03:37,  7.45it/s]"
          ]
        },
        {
          "output_type": "stream",
          "name": "stdout",
          "text": [
            "| epoch  10 |  2000/32580 batches | loss    1.331 \n",
            "money: work, even, question, result, just, do, idea, god, it, know\n",
            "lion: addition, write, say, least, length, pope, prevent, growth, opposed, size\n",
            "africa: europe, america, india, england, germany, west, east, asia, ireland, china\n",
            "musician: singer, writer, actor, composer, poet, actress, author, politician, famous, rome\n",
            "dance: music, country, traditional, popular, actor, culture, town, business, applied, singer\n",
            "\n",
            "\n"
          ]
        },
        {
          "output_type": "stream",
          "name": "stderr",
          "text": [
            "2501it [04:30,  7.18it/s]"
          ]
        },
        {
          "output_type": "stream",
          "name": "stdout",
          "text": [
            "| epoch  10 |  2500/32580 batches | loss    1.332 \n",
            "money: work, even, question, result, just, do, idea, god, it, know\n",
            "lion: addition, write, say, least, length, pope, prevent, growth, opposed, size\n",
            "africa: europe, america, india, england, germany, west, east, asia, ireland, china\n",
            "musician: singer, writer, actor, composer, poet, actress, author, politician, famous, rome\n",
            "dance: music, country, traditional, popular, actor, culture, town, business, applied, singer\n",
            "\n",
            "\n"
          ]
        },
        {
          "output_type": "stream",
          "name": "stderr",
          "text": [
            "3001it [05:24,  7.85it/s]"
          ]
        },
        {
          "output_type": "stream",
          "name": "stdout",
          "text": [
            "| epoch  10 |  3000/32580 batches | loss    1.331 \n",
            "money: work, even, question, result, just, do, idea, god, it, know\n",
            "lion: addition, write, say, least, length, pope, prevent, growth, opposed, size\n",
            "africa: europe, america, india, england, germany, west, east, asia, ireland, china\n",
            "musician: singer, writer, actor, composer, poet, actress, author, politician, famous, rome\n",
            "dance: music, country, traditional, popular, actor, culture, town, business, applied, singer\n",
            "\n",
            "\n"
          ]
        },
        {
          "output_type": "stream",
          "name": "stderr",
          "text": [
            "3501it [06:18,  7.30it/s]"
          ]
        },
        {
          "output_type": "stream",
          "name": "stdout",
          "text": [
            "| epoch  10 |  3500/32580 batches | loss    1.332 \n",
            "money: work, even, question, result, just, do, idea, god, it, know\n",
            "lion: addition, write, say, least, length, pope, prevent, growth, opposed, size\n",
            "africa: europe, america, india, england, germany, west, east, asia, ireland, china\n",
            "musician: singer, writer, actor, composer, poet, actress, author, politician, famous, rome\n",
            "dance: music, country, traditional, popular, actor, culture, town, business, applied, singer\n",
            "\n",
            "\n"
          ]
        },
        {
          "output_type": "stream",
          "name": "stderr",
          "text": [
            "4001it [07:12,  7.52it/s]"
          ]
        },
        {
          "output_type": "stream",
          "name": "stdout",
          "text": [
            "| epoch  10 |  4000/32580 batches | loss    1.327 \n",
            "money: work, even, question, result, just, do, idea, god, it, know\n",
            "lion: addition, write, say, least, length, pope, prevent, growth, opposed, size\n",
            "africa: europe, america, india, england, germany, west, east, asia, ireland, china\n",
            "musician: singer, writer, actor, composer, poet, actress, author, politician, famous, rome\n",
            "dance: music, country, traditional, popular, actor, culture, town, business, applied, singer\n",
            "\n",
            "\n"
          ]
        },
        {
          "output_type": "stream",
          "name": "stderr",
          "text": [
            "4501it [08:06,  7.16it/s]"
          ]
        },
        {
          "output_type": "stream",
          "name": "stdout",
          "text": [
            "| epoch  10 |  4500/32580 batches | loss    1.329 \n",
            "money: work, even, question, result, just, do, idea, god, it, know\n",
            "lion: addition, write, say, least, length, pope, prevent, growth, opposed, size\n",
            "africa: europe, america, india, england, germany, west, east, asia, ireland, china\n",
            "musician: singer, writer, actor, composer, poet, actress, author, politician, famous, rome\n",
            "dance: music, country, traditional, popular, actor, culture, town, business, applied, singer\n",
            "\n",
            "\n"
          ]
        },
        {
          "output_type": "stream",
          "name": "stderr",
          "text": [
            "5001it [09:01,  7.50it/s]"
          ]
        },
        {
          "output_type": "stream",
          "name": "stdout",
          "text": [
            "| epoch  10 |  5000/32580 batches | loss    1.330 \n",
            "money: work, even, question, result, just, do, idea, god, it, know\n",
            "lion: addition, write, say, least, length, pope, prevent, growth, opposed, size\n",
            "africa: europe, america, india, england, germany, west, east, asia, ireland, china\n",
            "musician: singer, writer, actor, composer, poet, actress, author, politician, famous, rome\n",
            "dance: music, country, traditional, popular, actor, culture, town, business, applied, singer\n",
            "\n",
            "\n"
          ]
        },
        {
          "output_type": "stream",
          "name": "stderr",
          "text": [
            "5501it [09:54,  7.57it/s]"
          ]
        },
        {
          "output_type": "stream",
          "name": "stdout",
          "text": [
            "| epoch  10 |  5500/32580 batches | loss    1.330 \n",
            "money: work, even, question, result, just, do, idea, god, it, know\n",
            "lion: addition, write, say, least, length, pope, prevent, growth, opposed, size\n",
            "africa: europe, america, india, england, germany, west, east, asia, ireland, china\n",
            "musician: singer, writer, actor, composer, poet, actress, author, politician, famous, rome\n",
            "dance: music, country, traditional, popular, actor, culture, town, business, applied, singer\n",
            "\n",
            "\n"
          ]
        },
        {
          "output_type": "stream",
          "name": "stderr",
          "text": [
            "6001it [10:47,  7.77it/s]"
          ]
        },
        {
          "output_type": "stream",
          "name": "stdout",
          "text": [
            "| epoch  10 |  6000/32580 batches | loss    1.334 \n",
            "money: work, even, question, result, just, do, idea, god, it, know\n",
            "lion: addition, write, say, least, length, pope, prevent, growth, opposed, size\n",
            "africa: europe, america, india, england, germany, west, east, asia, ireland, china\n",
            "musician: singer, writer, actor, composer, poet, actress, author, politician, famous, rome\n",
            "dance: music, country, traditional, popular, actor, culture, town, business, applied, singer\n",
            "\n",
            "\n"
          ]
        },
        {
          "output_type": "stream",
          "name": "stderr",
          "text": [
            "6501it [11:41,  7.97it/s]"
          ]
        },
        {
          "output_type": "stream",
          "name": "stdout",
          "text": [
            "| epoch  10 |  6500/32580 batches | loss    1.333 \n",
            "money: work, even, question, result, just, do, idea, god, it, know\n",
            "lion: addition, write, say, least, length, pope, prevent, growth, opposed, size\n",
            "africa: europe, america, india, england, germany, west, east, asia, ireland, china\n",
            "musician: singer, writer, actor, composer, poet, actress, author, politician, famous, rome\n",
            "dance: music, country, traditional, popular, actor, culture, town, business, applied, singer\n",
            "\n",
            "\n"
          ]
        },
        {
          "output_type": "stream",
          "name": "stderr",
          "text": [
            "7001it [12:35,  7.38it/s]"
          ]
        },
        {
          "output_type": "stream",
          "name": "stdout",
          "text": [
            "| epoch  10 |  7000/32580 batches | loss    1.333 \n",
            "money: work, even, question, result, just, do, idea, god, it, know\n",
            "lion: addition, write, say, least, length, pope, prevent, growth, opposed, size\n",
            "africa: europe, america, india, england, germany, west, east, asia, ireland, china\n",
            "musician: singer, writer, actor, composer, poet, actress, author, politician, famous, rome\n",
            "dance: music, country, traditional, popular, actor, culture, town, business, applied, singer\n",
            "\n",
            "\n"
          ]
        },
        {
          "output_type": "stream",
          "name": "stderr",
          "text": [
            "7501it [13:28,  7.10it/s]"
          ]
        },
        {
          "output_type": "stream",
          "name": "stdout",
          "text": [
            "| epoch  10 |  7500/32580 batches | loss    1.333 \n",
            "money: work, even, question, result, just, do, idea, god, it, know\n",
            "lion: addition, write, say, least, length, pope, prevent, growth, opposed, size\n",
            "africa: europe, america, india, england, germany, west, east, asia, ireland, china\n",
            "musician: singer, writer, actor, composer, poet, actress, author, politician, famous, rome\n",
            "dance: music, country, traditional, popular, actor, culture, town, business, applied, singer\n",
            "\n",
            "\n"
          ]
        },
        {
          "output_type": "stream",
          "name": "stderr",
          "text": [
            "8001it [14:22,  7.60it/s]"
          ]
        },
        {
          "output_type": "stream",
          "name": "stdout",
          "text": [
            "| epoch  10 |  8000/32580 batches | loss    1.334 \n",
            "money: work, even, question, result, just, do, idea, god, it, know\n",
            "lion: addition, write, say, least, length, pope, prevent, growth, opposed, size\n",
            "africa: europe, america, india, england, germany, west, east, asia, ireland, china\n",
            "musician: singer, writer, actor, composer, poet, actress, author, politician, famous, rome\n",
            "dance: music, country, traditional, popular, actor, culture, town, business, applied, singer\n",
            "\n",
            "\n"
          ]
        },
        {
          "output_type": "stream",
          "name": "stderr",
          "text": [
            "8501it [15:16,  7.72it/s]"
          ]
        },
        {
          "output_type": "stream",
          "name": "stdout",
          "text": [
            "| epoch  10 |  8500/32580 batches | loss    1.331 \n",
            "money: work, even, question, result, just, do, idea, god, it, know\n",
            "lion: addition, write, say, least, length, pope, prevent, growth, opposed, size\n",
            "africa: europe, america, india, england, germany, west, east, asia, ireland, china\n",
            "musician: singer, writer, actor, composer, poet, actress, author, politician, famous, rome\n",
            "dance: music, country, traditional, popular, actor, culture, town, business, applied, singer\n",
            "\n",
            "\n"
          ]
        },
        {
          "output_type": "stream",
          "name": "stderr",
          "text": [
            "9001it [16:14,  7.79it/s]"
          ]
        },
        {
          "output_type": "stream",
          "name": "stdout",
          "text": [
            "| epoch  10 |  9000/32580 batches | loss    1.326 \n",
            "money: work, even, question, result, just, do, idea, god, it, know\n",
            "lion: addition, write, say, least, length, pope, prevent, growth, opposed, size\n",
            "africa: europe, america, india, england, germany, west, east, asia, ireland, china\n",
            "musician: singer, writer, actor, composer, poet, actress, author, politician, famous, rome\n",
            "dance: music, country, traditional, popular, actor, culture, town, business, applied, singer\n",
            "\n",
            "\n"
          ]
        },
        {
          "output_type": "stream",
          "name": "stderr",
          "text": [
            "9501it [17:08,  7.77it/s]"
          ]
        },
        {
          "output_type": "stream",
          "name": "stdout",
          "text": [
            "| epoch  10 |  9500/32580 batches | loss    1.333 \n",
            "money: work, even, question, result, just, do, idea, god, it, know\n",
            "lion: addition, write, say, least, length, pope, prevent, growth, opposed, size\n",
            "africa: europe, america, india, england, germany, west, east, asia, ireland, china\n",
            "musician: singer, writer, actor, composer, poet, actress, author, politician, famous, rome\n",
            "dance: music, country, traditional, popular, actor, culture, town, business, applied, singer\n",
            "\n",
            "\n"
          ]
        },
        {
          "output_type": "stream",
          "name": "stderr",
          "text": [
            "10001it [18:02,  7.63it/s]"
          ]
        },
        {
          "output_type": "stream",
          "name": "stdout",
          "text": [
            "| epoch  10 | 10000/32580 batches | loss    1.329 \n",
            "money: work, even, question, result, just, do, idea, god, it, know\n",
            "lion: addition, write, say, least, length, pope, prevent, growth, opposed, size\n",
            "africa: europe, america, india, england, germany, west, east, asia, ireland, china\n",
            "musician: singer, writer, actor, composer, poet, actress, author, politician, famous, rome\n",
            "dance: music, country, traditional, popular, actor, culture, town, business, applied, singer\n",
            "\n",
            "\n"
          ]
        },
        {
          "output_type": "stream",
          "name": "stderr",
          "text": [
            "10501it [18:56,  7.76it/s]"
          ]
        },
        {
          "output_type": "stream",
          "name": "stdout",
          "text": [
            "| epoch  10 | 10500/32580 batches | loss    1.331 \n",
            "money: work, even, question, result, just, do, idea, god, it, know\n",
            "lion: addition, write, say, least, length, pope, prevent, growth, opposed, size\n",
            "africa: europe, america, india, england, germany, west, east, asia, ireland, china\n",
            "musician: singer, writer, actor, composer, poet, actress, author, politician, famous, rome\n",
            "dance: music, country, traditional, popular, actor, culture, town, business, applied, singer\n",
            "\n",
            "\n"
          ]
        },
        {
          "output_type": "stream",
          "name": "stderr",
          "text": [
            "11001it [19:50,  7.63it/s]"
          ]
        },
        {
          "output_type": "stream",
          "name": "stdout",
          "text": [
            "| epoch  10 | 11000/32580 batches | loss    1.331 \n",
            "money: work, even, question, result, just, do, idea, god, it, know\n",
            "lion: addition, write, say, least, length, pope, prevent, growth, opposed, size\n",
            "africa: europe, america, india, england, germany, west, east, asia, ireland, china\n",
            "musician: singer, writer, actor, composer, poet, actress, author, politician, famous, rome\n",
            "dance: music, country, traditional, popular, actor, culture, town, business, applied, singer\n",
            "\n",
            "\n"
          ]
        },
        {
          "output_type": "stream",
          "name": "stderr",
          "text": [
            "11501it [20:44,  7.32it/s]"
          ]
        },
        {
          "output_type": "stream",
          "name": "stdout",
          "text": [
            "| epoch  10 | 11500/32580 batches | loss    1.330 \n",
            "money: work, even, question, result, just, do, idea, god, it, know\n",
            "lion: addition, write, say, least, length, pope, prevent, growth, opposed, size\n",
            "africa: europe, america, india, england, germany, west, east, asia, ireland, china\n",
            "musician: singer, writer, actor, composer, poet, actress, author, politician, famous, rome\n",
            "dance: music, country, traditional, popular, actor, culture, town, business, applied, singer\n",
            "\n",
            "\n"
          ]
        },
        {
          "output_type": "stream",
          "name": "stderr",
          "text": [
            "12001it [21:37,  7.65it/s]"
          ]
        },
        {
          "output_type": "stream",
          "name": "stdout",
          "text": [
            "| epoch  10 | 12000/32580 batches | loss    1.330 \n",
            "money: work, even, question, result, just, do, idea, god, it, know\n",
            "lion: addition, write, say, least, length, pope, prevent, growth, opposed, size\n",
            "africa: europe, america, india, england, germany, west, east, asia, ireland, china\n",
            "musician: singer, writer, actor, composer, poet, actress, author, politician, famous, rome\n",
            "dance: music, country, traditional, popular, actor, culture, town, business, applied, singer\n",
            "\n",
            "\n"
          ]
        },
        {
          "output_type": "stream",
          "name": "stderr",
          "text": [
            "12501it [22:31,  7.55it/s]"
          ]
        },
        {
          "output_type": "stream",
          "name": "stdout",
          "text": [
            "| epoch  10 | 12500/32580 batches | loss    1.324 \n",
            "money: work, even, question, result, just, do, idea, god, it, know\n",
            "lion: addition, write, say, least, length, pope, prevent, growth, opposed, size\n",
            "africa: europe, america, india, england, germany, west, east, asia, ireland, china\n",
            "musician: singer, writer, actor, composer, poet, actress, author, politician, famous, rome\n",
            "dance: music, country, traditional, popular, actor, culture, town, business, applied, singer\n",
            "\n",
            "\n"
          ]
        },
        {
          "output_type": "stream",
          "name": "stderr",
          "text": [
            "13001it [23:26,  7.33it/s]"
          ]
        },
        {
          "output_type": "stream",
          "name": "stdout",
          "text": [
            "| epoch  10 | 13000/32580 batches | loss    1.332 \n",
            "money: work, even, question, result, just, do, idea, god, it, know\n",
            "lion: addition, write, say, least, length, pope, prevent, growth, opposed, size\n",
            "africa: europe, america, india, england, germany, west, east, asia, ireland, china\n",
            "musician: singer, writer, actor, composer, poet, actress, author, politician, famous, rome\n",
            "dance: music, country, traditional, popular, actor, culture, town, business, applied, singer\n",
            "\n",
            "\n"
          ]
        },
        {
          "output_type": "stream",
          "name": "stderr",
          "text": [
            "13501it [24:20,  7.66it/s]"
          ]
        },
        {
          "output_type": "stream",
          "name": "stdout",
          "text": [
            "| epoch  10 | 13500/32580 batches | loss    1.328 \n",
            "money: work, even, question, result, just, do, idea, god, it, know\n",
            "lion: addition, write, say, least, length, pope, prevent, growth, opposed, size\n",
            "africa: europe, america, india, england, germany, west, east, asia, ireland, china\n",
            "musician: singer, writer, actor, composer, poet, actress, author, politician, famous, rome\n",
            "dance: music, country, traditional, popular, actor, culture, town, business, applied, singer\n",
            "\n",
            "\n"
          ]
        },
        {
          "output_type": "stream",
          "name": "stderr",
          "text": [
            "14001it [25:14,  7.70it/s]"
          ]
        },
        {
          "output_type": "stream",
          "name": "stdout",
          "text": [
            "| epoch  10 | 14000/32580 batches | loss    1.329 \n",
            "money: work, even, question, result, just, do, idea, god, it, know\n",
            "lion: addition, write, say, least, length, pope, prevent, growth, opposed, size\n",
            "africa: europe, america, india, england, germany, west, east, asia, ireland, china\n",
            "musician: singer, writer, actor, composer, poet, actress, author, politician, famous, rome\n",
            "dance: music, country, traditional, popular, actor, culture, town, business, applied, singer\n",
            "\n",
            "\n"
          ]
        },
        {
          "output_type": "stream",
          "name": "stderr",
          "text": [
            "14501it [26:09,  7.88it/s]"
          ]
        },
        {
          "output_type": "stream",
          "name": "stdout",
          "text": [
            "| epoch  10 | 14500/32580 batches | loss    1.330 \n",
            "money: work, even, question, result, just, do, idea, god, it, know\n",
            "lion: addition, write, say, least, length, pope, prevent, growth, opposed, size\n",
            "africa: europe, america, india, england, germany, west, east, asia, ireland, china\n",
            "musician: singer, writer, actor, composer, poet, actress, author, politician, famous, rome\n",
            "dance: music, country, traditional, popular, actor, culture, town, business, applied, singer\n",
            "\n",
            "\n"
          ]
        },
        {
          "output_type": "stream",
          "name": "stderr",
          "text": [
            "15001it [27:03,  7.62it/s]"
          ]
        },
        {
          "output_type": "stream",
          "name": "stdout",
          "text": [
            "| epoch  10 | 15000/32580 batches | loss    1.328 \n",
            "money: work, even, question, result, just, do, idea, god, it, know\n",
            "lion: addition, write, say, least, length, pope, prevent, growth, opposed, size\n",
            "africa: europe, america, india, england, germany, west, east, asia, ireland, china\n",
            "musician: singer, writer, actor, composer, poet, actress, author, politician, famous, rome\n",
            "dance: music, country, traditional, popular, actor, culture, town, business, applied, singer\n",
            "\n",
            "\n"
          ]
        },
        {
          "output_type": "stream",
          "name": "stderr",
          "text": [
            "15501it [27:56,  7.69it/s]"
          ]
        },
        {
          "output_type": "stream",
          "name": "stdout",
          "text": [
            "| epoch  10 | 15500/32580 batches | loss    1.329 \n",
            "money: work, even, question, result, just, do, idea, god, it, know\n",
            "lion: addition, write, say, least, length, pope, prevent, growth, opposed, size\n",
            "africa: europe, america, india, england, germany, west, east, asia, ireland, china\n",
            "musician: singer, writer, actor, composer, poet, actress, author, politician, famous, rome\n",
            "dance: music, country, traditional, popular, actor, culture, town, business, applied, singer\n",
            "\n",
            "\n"
          ]
        },
        {
          "output_type": "stream",
          "name": "stderr",
          "text": [
            "16001it [28:50,  7.69it/s]"
          ]
        },
        {
          "output_type": "stream",
          "name": "stdout",
          "text": [
            "| epoch  10 | 16000/32580 batches | loss    1.333 \n",
            "money: work, even, question, result, just, do, idea, god, it, know\n",
            "lion: addition, write, say, least, length, pope, prevent, growth, opposed, size\n",
            "africa: europe, america, india, england, germany, west, east, asia, ireland, china\n",
            "musician: singer, writer, actor, composer, poet, actress, author, politician, famous, rome\n",
            "dance: music, country, traditional, popular, actor, culture, town, business, applied, singer\n",
            "\n",
            "\n"
          ]
        },
        {
          "output_type": "stream",
          "name": "stderr",
          "text": [
            "16501it [29:44,  7.38it/s]"
          ]
        },
        {
          "output_type": "stream",
          "name": "stdout",
          "text": [
            "| epoch  10 | 16500/32580 batches | loss    1.333 \n",
            "money: work, even, question, result, just, do, idea, god, it, know\n",
            "lion: addition, write, say, least, length, pope, prevent, growth, opposed, size\n",
            "africa: europe, america, india, england, germany, west, east, asia, ireland, china\n",
            "musician: singer, writer, actor, composer, poet, actress, author, politician, famous, rome\n",
            "dance: music, country, traditional, popular, actor, culture, town, business, applied, singer\n",
            "\n",
            "\n"
          ]
        },
        {
          "output_type": "stream",
          "name": "stderr",
          "text": [
            "17001it [30:38,  7.70it/s]"
          ]
        },
        {
          "output_type": "stream",
          "name": "stdout",
          "text": [
            "| epoch  10 | 17000/32580 batches | loss    1.333 \n",
            "money: work, even, question, result, just, do, idea, god, it, know\n",
            "lion: addition, write, say, least, length, pope, prevent, growth, opposed, size\n",
            "africa: europe, america, india, england, germany, west, east, asia, ireland, china\n",
            "musician: singer, writer, actor, composer, poet, actress, author, politician, famous, rome\n",
            "dance: music, country, traditional, popular, actor, culture, town, business, applied, singer\n",
            "\n",
            "\n"
          ]
        },
        {
          "output_type": "stream",
          "name": "stderr",
          "text": [
            "17501it [31:31,  7.88it/s]"
          ]
        },
        {
          "output_type": "stream",
          "name": "stdout",
          "text": [
            "| epoch  10 | 17500/32580 batches | loss    1.334 \n",
            "money: work, even, question, result, just, do, idea, god, it, know\n",
            "lion: addition, write, say, least, length, pope, prevent, growth, opposed, size\n",
            "africa: europe, america, india, england, germany, west, east, asia, ireland, china\n",
            "musician: singer, writer, actor, composer, poet, actress, author, politician, famous, rome\n",
            "dance: music, country, traditional, popular, actor, culture, town, business, applied, singer\n",
            "\n",
            "\n"
          ]
        },
        {
          "output_type": "stream",
          "name": "stderr",
          "text": [
            "18001it [32:25,  7.25it/s]"
          ]
        },
        {
          "output_type": "stream",
          "name": "stdout",
          "text": [
            "| epoch  10 | 18000/32580 batches | loss    1.328 \n",
            "money: work, even, question, result, just, do, idea, god, it, know\n",
            "lion: addition, write, say, least, length, pope, prevent, growth, opposed, size\n",
            "africa: europe, america, india, england, germany, west, east, asia, ireland, china\n",
            "musician: singer, writer, actor, composer, poet, actress, author, politician, famous, rome\n",
            "dance: music, country, traditional, popular, actor, culture, town, business, applied, singer\n",
            "\n",
            "\n"
          ]
        },
        {
          "output_type": "stream",
          "name": "stderr",
          "text": [
            "18501it [33:19,  7.31it/s]"
          ]
        },
        {
          "output_type": "stream",
          "name": "stdout",
          "text": [
            "| epoch  10 | 18500/32580 batches | loss    1.331 \n",
            "money: work, even, question, result, just, do, idea, god, it, know\n",
            "lion: addition, write, say, least, length, pope, prevent, growth, opposed, size\n",
            "africa: europe, america, india, england, germany, west, east, asia, ireland, china\n",
            "musician: singer, writer, actor, composer, poet, actress, author, politician, famous, rome\n",
            "dance: music, country, traditional, popular, actor, culture, town, business, applied, singer\n",
            "\n",
            "\n"
          ]
        },
        {
          "output_type": "stream",
          "name": "stderr",
          "text": [
            "19001it [34:12,  7.68it/s]"
          ]
        },
        {
          "output_type": "stream",
          "name": "stdout",
          "text": [
            "| epoch  10 | 19000/32580 batches | loss    1.331 \n",
            "money: work, even, question, result, just, do, idea, god, it, know\n",
            "lion: addition, write, say, least, length, pope, prevent, growth, opposed, size\n",
            "africa: europe, america, india, england, germany, west, east, asia, ireland, china\n",
            "musician: singer, writer, actor, composer, poet, actress, author, politician, famous, rome\n",
            "dance: music, country, traditional, popular, actor, culture, town, business, applied, singer\n",
            "\n",
            "\n"
          ]
        },
        {
          "output_type": "stream",
          "name": "stderr",
          "text": [
            "19501it [35:06,  7.81it/s]"
          ]
        },
        {
          "output_type": "stream",
          "name": "stdout",
          "text": [
            "| epoch  10 | 19500/32580 batches | loss    1.328 \n",
            "money: work, even, question, result, just, do, idea, god, it, know\n",
            "lion: addition, write, say, least, length, pope, prevent, growth, opposed, size\n",
            "africa: europe, america, india, england, germany, west, east, asia, ireland, china\n",
            "musician: singer, writer, actor, composer, poet, actress, author, politician, famous, rome\n",
            "dance: music, country, traditional, popular, actor, culture, town, business, applied, singer\n",
            "\n",
            "\n"
          ]
        },
        {
          "output_type": "stream",
          "name": "stderr",
          "text": [
            "20001it [35:59,  7.65it/s]"
          ]
        },
        {
          "output_type": "stream",
          "name": "stdout",
          "text": [
            "| epoch  10 | 20000/32580 batches | loss    1.333 \n",
            "money: work, even, question, result, just, do, idea, god, it, know\n",
            "lion: addition, write, say, least, length, pope, prevent, growth, opposed, size\n",
            "africa: europe, america, india, england, germany, west, east, asia, ireland, china\n",
            "musician: singer, writer, actor, composer, poet, actress, author, politician, famous, rome\n",
            "dance: music, country, traditional, popular, actor, culture, town, business, applied, singer\n",
            "\n",
            "\n"
          ]
        },
        {
          "output_type": "stream",
          "name": "stderr",
          "text": [
            "20501it [36:53,  7.69it/s]"
          ]
        },
        {
          "output_type": "stream",
          "name": "stdout",
          "text": [
            "| epoch  10 | 20500/32580 batches | loss    1.328 \n",
            "money: work, even, question, result, just, do, idea, god, it, know\n",
            "lion: addition, write, say, least, length, pope, prevent, growth, opposed, size\n",
            "africa: europe, america, india, england, germany, west, east, asia, ireland, china\n",
            "musician: singer, writer, actor, composer, poet, actress, author, politician, famous, rome\n",
            "dance: music, country, traditional, popular, actor, culture, town, business, applied, singer\n",
            "\n",
            "\n"
          ]
        },
        {
          "output_type": "stream",
          "name": "stderr",
          "text": [
            "21001it [37:47,  7.68it/s]"
          ]
        },
        {
          "output_type": "stream",
          "name": "stdout",
          "text": [
            "| epoch  10 | 21000/32580 batches | loss    1.328 \n",
            "money: work, even, question, result, just, do, idea, god, it, know\n",
            "lion: addition, write, say, least, length, pope, prevent, growth, opposed, size\n",
            "africa: europe, america, india, england, germany, west, east, asia, ireland, china\n",
            "musician: singer, writer, actor, composer, poet, actress, author, politician, famous, rome\n",
            "dance: music, country, traditional, popular, actor, culture, town, business, applied, singer\n",
            "\n",
            "\n"
          ]
        },
        {
          "output_type": "stream",
          "name": "stderr",
          "text": [
            "21501it [38:40,  7.40it/s]"
          ]
        },
        {
          "output_type": "stream",
          "name": "stdout",
          "text": [
            "| epoch  10 | 21500/32580 batches | loss    1.331 \n",
            "money: work, even, question, result, just, do, idea, god, it, know\n",
            "lion: addition, write, say, least, length, pope, prevent, growth, opposed, size\n",
            "africa: europe, america, india, england, germany, west, east, asia, ireland, china\n",
            "musician: singer, writer, actor, composer, poet, actress, author, politician, famous, rome\n",
            "dance: music, country, traditional, popular, actor, culture, town, business, applied, singer\n",
            "\n",
            "\n"
          ]
        },
        {
          "output_type": "stream",
          "name": "stderr",
          "text": [
            "22001it [39:35,  7.12it/s]"
          ]
        },
        {
          "output_type": "stream",
          "name": "stdout",
          "text": [
            "| epoch  10 | 22000/32580 batches | loss    1.332 \n",
            "money: work, even, question, result, just, do, idea, god, it, know\n",
            "lion: addition, write, say, least, length, pope, prevent, growth, opposed, size\n",
            "africa: europe, america, india, england, germany, west, east, asia, ireland, china\n",
            "musician: singer, writer, actor, composer, poet, actress, author, politician, famous, rome\n",
            "dance: music, country, traditional, popular, actor, culture, town, business, applied, singer\n",
            "\n",
            "\n"
          ]
        },
        {
          "output_type": "stream",
          "name": "stderr",
          "text": [
            "22501it [40:29,  7.68it/s]"
          ]
        },
        {
          "output_type": "stream",
          "name": "stdout",
          "text": [
            "| epoch  10 | 22500/32580 batches | loss    1.330 \n",
            "money: work, even, question, result, just, do, idea, god, it, know\n",
            "lion: addition, write, say, least, length, pope, prevent, growth, opposed, size\n",
            "africa: europe, america, india, england, germany, west, east, asia, ireland, china\n",
            "musician: singer, writer, actor, composer, poet, actress, author, politician, famous, rome\n",
            "dance: music, country, traditional, popular, actor, culture, town, business, applied, singer\n",
            "\n",
            "\n"
          ]
        },
        {
          "output_type": "stream",
          "name": "stderr",
          "text": [
            "23001it [41:21,  7.70it/s]"
          ]
        },
        {
          "output_type": "stream",
          "name": "stdout",
          "text": [
            "| epoch  10 | 23000/32580 batches | loss    1.332 \n",
            "money: work, even, question, result, just, do, idea, god, it, know\n",
            "lion: addition, write, say, least, length, pope, prevent, growth, opposed, size\n",
            "africa: europe, america, india, england, germany, west, east, asia, ireland, china\n",
            "musician: singer, writer, actor, composer, poet, actress, author, politician, famous, rome\n",
            "dance: music, country, traditional, popular, actor, culture, town, business, applied, singer\n",
            "\n",
            "\n"
          ]
        },
        {
          "output_type": "stream",
          "name": "stderr",
          "text": [
            "23501it [42:15,  7.14it/s]"
          ]
        },
        {
          "output_type": "stream",
          "name": "stdout",
          "text": [
            "| epoch  10 | 23500/32580 batches | loss    1.329 \n",
            "money: work, even, question, result, just, do, idea, god, it, know\n",
            "lion: addition, write, say, least, length, pope, prevent, growth, opposed, size\n",
            "africa: europe, america, india, england, germany, west, east, asia, ireland, china\n",
            "musician: singer, writer, actor, composer, poet, actress, author, politician, famous, rome\n",
            "dance: music, country, traditional, popular, actor, culture, town, business, applied, singer\n",
            "\n",
            "\n"
          ]
        },
        {
          "output_type": "stream",
          "name": "stderr",
          "text": [
            "24001it [43:09,  7.57it/s]"
          ]
        },
        {
          "output_type": "stream",
          "name": "stdout",
          "text": [
            "| epoch  10 | 24000/32580 batches | loss    1.328 \n",
            "money: work, even, question, result, just, do, idea, god, it, know\n",
            "lion: addition, write, say, least, length, pope, prevent, growth, opposed, size\n",
            "africa: europe, america, india, england, germany, west, east, asia, ireland, china\n",
            "musician: singer, writer, actor, composer, poet, actress, author, politician, famous, rome\n",
            "dance: music, country, traditional, popular, actor, culture, town, business, applied, singer\n",
            "\n",
            "\n"
          ]
        },
        {
          "output_type": "stream",
          "name": "stderr",
          "text": [
            "24501it [44:04,  7.77it/s]"
          ]
        },
        {
          "output_type": "stream",
          "name": "stdout",
          "text": [
            "| epoch  10 | 24500/32580 batches | loss    1.330 \n",
            "money: work, even, question, result, just, do, idea, god, it, know\n",
            "lion: addition, write, say, least, length, pope, prevent, growth, opposed, size\n",
            "africa: europe, america, india, england, germany, west, east, asia, ireland, china\n",
            "musician: singer, writer, actor, composer, poet, actress, author, politician, famous, rome\n",
            "dance: music, country, traditional, popular, actor, culture, town, business, applied, singer\n",
            "\n",
            "\n"
          ]
        },
        {
          "output_type": "stream",
          "name": "stderr",
          "text": [
            "25001it [44:58,  7.83it/s]"
          ]
        },
        {
          "output_type": "stream",
          "name": "stdout",
          "text": [
            "| epoch  10 | 25000/32580 batches | loss    1.329 \n",
            "money: work, even, question, result, just, do, idea, god, it, know\n",
            "lion: addition, write, say, least, length, pope, prevent, growth, opposed, size\n",
            "africa: europe, america, india, england, germany, west, east, asia, ireland, china\n",
            "musician: singer, writer, actor, composer, poet, actress, author, politician, famous, rome\n",
            "dance: music, country, traditional, popular, actor, culture, town, business, applied, singer\n",
            "\n",
            "\n"
          ]
        },
        {
          "output_type": "stream",
          "name": "stderr",
          "text": [
            "25501it [45:51,  7.78it/s]"
          ]
        },
        {
          "output_type": "stream",
          "name": "stdout",
          "text": [
            "| epoch  10 | 25500/32580 batches | loss    1.330 \n",
            "money: work, even, question, result, just, do, idea, god, it, know\n",
            "lion: addition, write, say, least, length, pope, prevent, growth, opposed, size\n",
            "africa: europe, america, india, england, germany, west, east, asia, ireland, china\n",
            "musician: singer, writer, actor, composer, poet, actress, author, politician, famous, rome\n",
            "dance: music, country, traditional, popular, actor, culture, town, business, applied, singer\n",
            "\n",
            "\n"
          ]
        },
        {
          "output_type": "stream",
          "name": "stderr",
          "text": [
            "26001it [46:45,  7.71it/s]"
          ]
        },
        {
          "output_type": "stream",
          "name": "stdout",
          "text": [
            "| epoch  10 | 26000/32580 batches | loss    1.328 \n",
            "money: work, even, question, result, just, do, idea, god, it, know\n",
            "lion: addition, write, say, least, length, pope, prevent, growth, opposed, size\n",
            "africa: europe, america, india, england, germany, west, east, asia, ireland, china\n",
            "musician: singer, writer, actor, composer, poet, actress, author, politician, famous, rome\n",
            "dance: music, country, traditional, popular, actor, culture, town, business, applied, singer\n",
            "\n",
            "\n"
          ]
        },
        {
          "output_type": "stream",
          "name": "stderr",
          "text": [
            "26501it [47:38,  7.48it/s]"
          ]
        },
        {
          "output_type": "stream",
          "name": "stdout",
          "text": [
            "| epoch  10 | 26500/32580 batches | loss    1.329 \n",
            "money: work, even, question, result, just, do, idea, god, it, know\n",
            "lion: addition, write, say, least, length, pope, prevent, growth, opposed, size\n",
            "africa: europe, america, india, england, germany, west, east, asia, ireland, china\n",
            "musician: singer, writer, actor, composer, poet, actress, author, politician, famous, rome\n",
            "dance: music, country, traditional, popular, actor, culture, town, business, applied, singer\n",
            "\n",
            "\n"
          ]
        },
        {
          "output_type": "stream",
          "name": "stderr",
          "text": [
            "27001it [48:33,  7.87it/s]"
          ]
        },
        {
          "output_type": "stream",
          "name": "stdout",
          "text": [
            "| epoch  10 | 27000/32580 batches | loss    1.333 \n",
            "money: work, even, question, result, just, do, idea, god, it, know\n",
            "lion: addition, write, say, least, length, pope, prevent, growth, opposed, size\n",
            "africa: europe, america, india, england, germany, west, east, asia, ireland, china\n",
            "musician: singer, writer, actor, composer, poet, actress, author, politician, famous, rome\n",
            "dance: music, country, traditional, popular, actor, culture, town, business, applied, singer\n",
            "\n",
            "\n"
          ]
        },
        {
          "output_type": "stream",
          "name": "stderr",
          "text": [
            "27501it [49:26,  7.79it/s]"
          ]
        },
        {
          "output_type": "stream",
          "name": "stdout",
          "text": [
            "| epoch  10 | 27500/32580 batches | loss    1.331 \n",
            "money: work, even, question, result, just, do, idea, god, it, know\n",
            "lion: addition, write, say, least, length, pope, prevent, growth, opposed, size\n",
            "africa: europe, america, india, england, germany, west, east, asia, ireland, china\n",
            "musician: singer, writer, actor, composer, poet, actress, author, politician, famous, rome\n",
            "dance: music, country, traditional, popular, actor, culture, town, business, applied, singer\n",
            "\n",
            "\n"
          ]
        },
        {
          "output_type": "stream",
          "name": "stderr",
          "text": [
            "28001it [50:20,  7.56it/s]"
          ]
        },
        {
          "output_type": "stream",
          "name": "stdout",
          "text": [
            "| epoch  10 | 28000/32580 batches | loss    1.331 \n",
            "money: work, even, question, result, just, do, idea, god, it, know\n",
            "lion: addition, write, say, least, length, pope, prevent, growth, opposed, size\n",
            "africa: europe, america, india, england, germany, west, east, asia, ireland, china\n",
            "musician: singer, writer, actor, composer, poet, actress, author, politician, famous, rome\n",
            "dance: music, country, traditional, popular, actor, culture, town, business, applied, singer\n",
            "\n",
            "\n"
          ]
        },
        {
          "output_type": "stream",
          "name": "stderr",
          "text": [
            "28501it [51:14,  6.41it/s]"
          ]
        },
        {
          "output_type": "stream",
          "name": "stdout",
          "text": [
            "| epoch  10 | 28500/32580 batches | loss    1.329 \n",
            "money: work, even, question, result, just, do, idea, god, it, know\n",
            "lion: addition, write, say, least, length, pope, prevent, growth, opposed, size\n",
            "africa: europe, america, india, england, germany, west, east, asia, ireland, china\n",
            "musician: singer, writer, actor, composer, poet, actress, author, politician, famous, rome\n",
            "dance: music, country, traditional, popular, actor, culture, town, business, applied, singer\n",
            "\n",
            "\n"
          ]
        },
        {
          "output_type": "stream",
          "name": "stderr",
          "text": [
            "29001it [52:08,  7.74it/s]"
          ]
        },
        {
          "output_type": "stream",
          "name": "stdout",
          "text": [
            "| epoch  10 | 29000/32580 batches | loss    1.330 \n",
            "money: work, even, question, result, just, do, idea, god, it, know\n",
            "lion: addition, write, say, least, length, pope, prevent, growth, opposed, size\n",
            "africa: europe, america, india, england, germany, west, east, asia, ireland, china\n",
            "musician: singer, writer, actor, composer, poet, actress, author, politician, famous, rome\n",
            "dance: music, country, traditional, popular, actor, culture, town, business, applied, singer\n",
            "\n",
            "\n"
          ]
        },
        {
          "output_type": "stream",
          "name": "stderr",
          "text": [
            "29501it [53:02,  7.69it/s]"
          ]
        },
        {
          "output_type": "stream",
          "name": "stdout",
          "text": [
            "| epoch  10 | 29500/32580 batches | loss    1.327 \n",
            "money: work, even, question, result, just, do, idea, god, it, know\n",
            "lion: addition, write, say, least, length, pope, prevent, growth, opposed, size\n",
            "africa: europe, america, india, england, germany, west, east, asia, ireland, china\n",
            "musician: singer, writer, actor, composer, poet, actress, author, politician, famous, rome\n",
            "dance: music, country, traditional, popular, actor, culture, town, business, applied, singer\n",
            "\n",
            "\n"
          ]
        },
        {
          "output_type": "stream",
          "name": "stderr",
          "text": [
            "30001it [53:56,  7.17it/s]"
          ]
        },
        {
          "output_type": "stream",
          "name": "stdout",
          "text": [
            "| epoch  10 | 30000/32580 batches | loss    1.332 \n",
            "money: work, even, question, result, just, do, idea, god, it, know\n",
            "lion: addition, write, say, least, length, pope, prevent, growth, opposed, size\n",
            "africa: europe, america, india, england, germany, west, east, asia, ireland, china\n",
            "musician: singer, writer, actor, composer, poet, actress, author, politician, famous, rome\n",
            "dance: music, country, traditional, popular, actor, culture, town, business, applied, singer\n",
            "\n",
            "\n"
          ]
        },
        {
          "output_type": "stream",
          "name": "stderr",
          "text": [
            "30501it [54:49,  7.74it/s]"
          ]
        },
        {
          "output_type": "stream",
          "name": "stdout",
          "text": [
            "| epoch  10 | 30500/32580 batches | loss    1.335 \n",
            "money: work, even, question, result, just, do, idea, god, it, know\n",
            "lion: addition, write, say, least, length, pope, prevent, growth, opposed, size\n",
            "africa: europe, america, india, england, germany, west, east, asia, ireland, china\n",
            "musician: singer, writer, actor, composer, poet, actress, author, politician, famous, rome\n",
            "dance: music, country, traditional, popular, actor, culture, town, business, applied, singer\n",
            "\n",
            "\n"
          ]
        },
        {
          "output_type": "stream",
          "name": "stderr",
          "text": [
            "31001it [55:43,  7.36it/s]"
          ]
        },
        {
          "output_type": "stream",
          "name": "stdout",
          "text": [
            "| epoch  10 | 31000/32580 batches | loss    1.333 \n",
            "money: work, even, question, result, just, do, idea, god, it, know\n",
            "lion: addition, write, say, least, length, pope, prevent, growth, opposed, size\n",
            "africa: europe, america, india, england, germany, west, east, asia, ireland, china\n",
            "musician: singer, writer, actor, composer, poet, actress, author, politician, famous, rome\n",
            "dance: music, country, traditional, popular, actor, culture, town, business, applied, singer\n",
            "\n",
            "\n"
          ]
        },
        {
          "output_type": "stream",
          "name": "stderr",
          "text": [
            "31501it [56:36,  7.92it/s]"
          ]
        },
        {
          "output_type": "stream",
          "name": "stdout",
          "text": [
            "| epoch  10 | 31500/32580 batches | loss    1.335 \n",
            "money: work, even, question, result, just, do, idea, god, it, know\n",
            "lion: addition, write, say, least, length, pope, prevent, growth, opposed, size\n",
            "africa: europe, america, india, england, germany, west, east, asia, ireland, china\n",
            "musician: singer, writer, actor, composer, poet, actress, author, politician, famous, rome\n",
            "dance: music, country, traditional, popular, actor, culture, town, business, applied, singer\n",
            "\n",
            "\n"
          ]
        },
        {
          "output_type": "stream",
          "name": "stderr",
          "text": [
            "32001it [57:31,  7.21it/s]"
          ]
        },
        {
          "output_type": "stream",
          "name": "stdout",
          "text": [
            "| epoch  10 | 32000/32580 batches | loss    1.329 \n",
            "money: work, even, question, result, just, do, idea, god, it, know\n",
            "lion: addition, write, say, least, length, pope, prevent, growth, opposed, size\n",
            "africa: europe, america, india, england, germany, west, east, asia, ireland, china\n",
            "musician: singer, writer, actor, composer, poet, actress, author, politician, famous, rome\n",
            "dance: music, country, traditional, popular, actor, culture, town, business, applied, singer\n",
            "\n",
            "\n"
          ]
        },
        {
          "output_type": "stream",
          "name": "stderr",
          "text": [
            "32501it [58:28,  7.93it/s]"
          ]
        },
        {
          "output_type": "stream",
          "name": "stdout",
          "text": [
            "| epoch  10 | 32500/32580 batches | loss    1.328 \n",
            "money: work, even, question, result, just, do, idea, god, it, know\n",
            "lion: addition, write, say, least, length, pope, prevent, growth, opposed, size\n",
            "africa: europe, america, india, england, germany, west, east, asia, ireland, china\n",
            "musician: singer, writer, actor, composer, poet, actress, author, politician, famous, rome\n",
            "dance: music, country, traditional, popular, actor, culture, town, business, applied, singer\n",
            "\n",
            "\n"
          ]
        },
        {
          "output_type": "stream",
          "name": "stderr",
          "text": [
            "32580it [58:38,  9.26it/s]\n"
          ]
        }
      ],
      "source": [
        "for epoch in range(1, NUM_EPOCHS + 1):\n",
        "    epoch_start_time = time.time()\n",
        "\n",
        "    train(train_dl, model, optimizer, epoch)\n",
        "    # We have a learning rate scheduler here\n",
        "\n",
        "    # Basically, given the state of the optimizer, this lowers the learning rate in a smart way\n",
        "    scheduler.step()"
      ]
    },
    {
      "cell_type": "code",
      "source": [
        "# 32501it [58:28,  7.93it/s]| epoch  10 | 32500/32580 batches | loss    1.328\n",
        "# money: work, even, question, result, just, do, idea, god, it, know\n",
        "# lion: addition, write, say, least, length, pope, prevent, growth, opposed, size\n",
        "# africa: europe, america, india, england, germany, west, east, asia, ireland, china\n",
        "# musician: singer, writer, actor, composer, poet, actress, author, politician, famous, rome\n",
        "# dance: music, country, traditional, popular, actor, culture, town, business, applied, singer"
      ],
      "metadata": {
        "id": "f5gmMtyjjnoh"
      },
      "id": "f5gmMtyjjnoh",
      "execution_count": null,
      "outputs": []
    }
  ],
  "metadata": {
    "colab": {
      "provenance": [],
      "machine_shape": "hm",
      "gpuType": "V28"
    },
    "kernelspec": {
      "display_name": "Python 3",
      "name": "python3"
    },
    "language_info": {
      "codemirror_mode": {
        "name": "ipython",
        "version": 3
      },
      "file_extension": ".py",
      "mimetype": "text/x-python",
      "name": "python",
      "nbconvert_exporter": "python",
      "pygments_lexer": "ipython3",
      "version": "3.8.15"
    },
    "accelerator": "TPU"
  },
  "nbformat": 4,
  "nbformat_minor": 5
}