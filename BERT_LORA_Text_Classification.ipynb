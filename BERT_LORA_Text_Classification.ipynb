{
  "cells": [
    {
      "cell_type": "code",
      "execution_count": 92,
      "id": "85c15f62",
      "metadata": {
        "colab": {
          "base_uri": "https://localhost:8080/"
        },
        "id": "85c15f62",
        "outputId": "e5e1a044-5b4b-4c6a-f89a-8c7c31a5eb1e"
      },
      "outputs": [
        {
          "output_type": "stream",
          "name": "stdout",
          "text": [
            "Requirement already satisfied: torchmetrics in /usr/local/lib/python3.10/dist-packages (1.6.0)\n",
            "Requirement already satisfied: numpy>1.20.0 in /usr/local/lib/python3.10/dist-packages (from torchmetrics) (1.26.4)\n",
            "Requirement already satisfied: packaging>17.1 in /usr/local/lib/python3.10/dist-packages (from torchmetrics) (24.2)\n",
            "Requirement already satisfied: torch>=2.0.0 in /usr/local/lib/python3.10/dist-packages (from torchmetrics) (2.5.1+cu121)\n",
            "Requirement already satisfied: lightning-utilities>=0.8.0 in /usr/local/lib/python3.10/dist-packages (from torchmetrics) (0.11.9)\n",
            "Requirement already satisfied: setuptools in /usr/local/lib/python3.10/dist-packages (from lightning-utilities>=0.8.0->torchmetrics) (75.1.0)\n",
            "Requirement already satisfied: typing-extensions in /usr/local/lib/python3.10/dist-packages (from lightning-utilities>=0.8.0->torchmetrics) (4.12.2)\n",
            "Requirement already satisfied: filelock in /usr/local/lib/python3.10/dist-packages (from torch>=2.0.0->torchmetrics) (3.16.1)\n",
            "Requirement already satisfied: networkx in /usr/local/lib/python3.10/dist-packages (from torch>=2.0.0->torchmetrics) (3.4.2)\n",
            "Requirement already satisfied: jinja2 in /usr/local/lib/python3.10/dist-packages (from torch>=2.0.0->torchmetrics) (3.1.4)\n",
            "Requirement already satisfied: fsspec in /usr/local/lib/python3.10/dist-packages (from torch>=2.0.0->torchmetrics) (2024.10.0)\n",
            "Requirement already satisfied: sympy==1.13.1 in /usr/local/lib/python3.10/dist-packages (from torch>=2.0.0->torchmetrics) (1.13.1)\n",
            "Requirement already satisfied: mpmath<1.4,>=1.1.0 in /usr/local/lib/python3.10/dist-packages (from sympy==1.13.1->torch>=2.0.0->torchmetrics) (1.3.0)\n",
            "Requirement already satisfied: MarkupSafe>=2.0 in /usr/local/lib/python3.10/dist-packages (from jinja2->torch>=2.0.0->torchmetrics) (3.0.2)\n"
          ]
        }
      ],
      "source": [
        "!pip install torchmetrics"
      ]
    },
    {
      "cell_type": "code",
      "source": [
        "import torch\n",
        "from torch.utils.data import TensorDataset, DataLoader, RandomSampler, SequentialSampler\n",
        "from transformers import BertTokenizer, BertForSequenceClassification\n",
        "from sklearn.model_selection import train_test_split\n",
        "\n",
        "import pandas as pd\n",
        "import numpy as np\n",
        "import math\n",
        "\n",
        "from tabulate import tabulate\n",
        "from tqdm import trange\n",
        "import random\n",
        "from torchmetrics.classification import Recall, Accuracy, AUROC, Precision"
      ],
      "metadata": {
        "id": "6GisTlddPg5T"
      },
      "id": "6GisTlddPg5T",
      "execution_count": 93,
      "outputs": []
    },
    {
      "cell_type": "code",
      "source": [
        "FILL_IN = \"FILL_IN\""
      ],
      "metadata": {
        "id": "4ed8K7sR8Flv"
      },
      "id": "4ed8K7sR8Flv",
      "execution_count": 94,
      "outputs": []
    },
    {
      "cell_type": "code",
      "execution_count": 95,
      "id": "3678adfa",
      "metadata": {
        "colab": {
          "base_uri": "https://localhost:8080/"
        },
        "id": "3678adfa",
        "outputId": "4819aa19-0a5c-4f65-f68d-145f84799a87"
      },
      "outputs": [
        {
          "output_type": "stream",
          "name": "stdout",
          "text": [
            "--2024-12-04 04:07:30--  https://archive.ics.uci.edu/ml/machine-learning-databases/00228/smsspamcollection.zip\n",
            "Resolving archive.ics.uci.edu (archive.ics.uci.edu)... 128.195.10.252\n",
            "Connecting to archive.ics.uci.edu (archive.ics.uci.edu)|128.195.10.252|:443... connected.\n",
            "HTTP request sent, awaiting response... 200 OK\n",
            "Length: unspecified\n",
            "Saving to: ‘smsspamcollection.zip.8’\n",
            "\n",
            "smsspamcollection.z     [   <=>              ] 198.65K   309KB/s    in 0.6s    \n",
            "\n",
            "2024-12-04 04:07:31 (309 KB/s) - ‘smsspamcollection.zip.8’ saved [203415]\n",
            "\n",
            "Archive:  smsspamcollection.zip\n",
            "  inflating: SMSSpamCollection       \n",
            "  inflating: readme                  \n"
          ]
        }
      ],
      "source": [
        "!wget 'https://archive.ics.uci.edu/ml/machine-learning-databases/00228/smsspamcollection.zip'\n",
        "!unzip -o smsspamcollection.zip"
      ]
    },
    {
      "cell_type": "code",
      "execution_count": 96,
      "id": "d892553d",
      "metadata": {
        "colab": {
          "base_uri": "https://localhost:8080/"
        },
        "id": "d892553d",
        "outputId": "d285f6c1-c404-40b5-f9aa-b0c890e00216"
      },
      "outputs": [
        {
          "output_type": "stream",
          "name": "stdout",
          "text": [
            "Archive:  smsspamcollection.zip\n",
            "  inflating: SMSSpamCollection       \n",
            "  inflating: readme                  \n"
          ]
        }
      ],
      "source": [
        "!unzip -o smsspamcollection.zip"
      ]
    },
    {
      "cell_type": "code",
      "execution_count": 97,
      "id": "dd3d5e84",
      "metadata": {
        "colab": {
          "base_uri": "https://localhost:8080/"
        },
        "id": "dd3d5e84",
        "outputId": "84b05567-cc44-46b7-bc0f-e6bcbbdde944"
      },
      "outputs": [
        {
          "output_type": "stream",
          "name": "stdout",
          "text": [
            "ham\tGo until jurong point, crazy.. Available only in bugis n great world la e buffet... Cine there got amore wat...\n",
            "ham\tOk lar... Joking wif u oni...\n",
            "spam\tFree entry in 2 a wkly comp to win FA Cup final tkts 21st May 2005. Text FA to 87121 to receive entry question(std txt rate)T&C's apply 08452810075over18's\n",
            "ham\tU dun say so early hor... U c already then say...\n",
            "ham\tNah I don't think he goes to usf, he lives around here though\n",
            "spam\tFreeMsg Hey there darling it's been 3 week's now and no word back! I'd like some fun you up for it still? Tb ok! XxX std chgs to send, £1.50 to rcv\n",
            "ham\tEven my brother is not like to speak with me. They treat me like aids patent.\n",
            "ham\tAs per your request 'Melle Melle (Oru Minnaminunginte Nurungu Vettam)' has been set as your callertune for all Callers. Press *9 to copy your friends Callertune\n",
            "spam\tWINNER!! As a valued network customer you have been selected to receivea £900 prize reward! To claim call 09061701461. Claim code KL341. Valid 12 hours only.\n",
            "spam\tHad your mobile 11 months or more? U R entitled to Update to the latest colour mobiles with camera for Free! Call The Mobile Update Co FREE on 08002986030\n"
          ]
        }
      ],
      "source": [
        "!head -10 SMSSpamCollection"
      ]
    },
    {
      "cell_type": "code",
      "execution_count": 98,
      "id": "9b12150d",
      "metadata": {
        "colab": {
          "base_uri": "https://localhost:8080/"
        },
        "id": "9b12150d",
        "outputId": "83089380-bcf5-4f2a-a81d-0f22e9df5574"
      },
      "outputs": [
        {
          "output_type": "stream",
          "name": "stdout",
          "text": [
            "--2024-12-04 04:07:32--  https://archive.ics.uci.edu/ml/machine-learning-databases/00228/smsspamcollection.zip\n",
            "Resolving archive.ics.uci.edu (archive.ics.uci.edu)... 128.195.10.252\n",
            "Connecting to archive.ics.uci.edu (archive.ics.uci.edu)|128.195.10.252|:443... connected.\n",
            "HTTP request sent, awaiting response... 200 OK\n",
            "Length: unspecified\n",
            "Saving to: ‘smsspamcollection.zip.9’\n",
            "\n",
            "smsspamcollection.z     [   <=>              ] 198.65K   311KB/s    in 0.6s    \n",
            "\n",
            "2024-12-04 04:07:33 (311 KB/s) - ‘smsspamcollection.zip.9’ saved [203415]\n",
            "\n",
            "Archive:  smsspamcollection.zip\n",
            "  inflating: SMSSpamCollection       \n",
            "  inflating: readme                  \n"
          ]
        }
      ],
      "source": [
        "!wget 'https://archive.ics.uci.edu/ml/machine-learning-databases/00228/smsspamcollection.zip'\n",
        "!unzip -o smsspamcollection.zip"
      ]
    },
    {
      "cell_type": "code",
      "execution_count": 99,
      "id": "98a736a1",
      "metadata": {
        "colab": {
          "base_uri": "https://localhost:8080/",
          "height": 206
        },
        "id": "98a736a1",
        "outputId": "4db1aecc-6640-4995-a2c0-ed969ae1c9b7"
      },
      "outputs": [
        {
          "output_type": "execute_result",
          "data": {
            "text/plain": [
              "   label                                               text\n",
              "0      0  Go until jurong point, crazy.. Available only ...\n",
              "1      0                    Ok lar... Joking wif u oni...\\n\n",
              "2      1  Free entry in 2 a wkly comp to win FA Cup fina...\n",
              "3      0  U dun say so early hor... U c already then say...\n",
              "4      0  Nah I don't think he goes to usf, he lives aro..."
            ],
            "text/html": [
              "\n",
              "  <div id=\"df-a092ccb9-7685-43ca-8eb9-c22857bcfc3f\" class=\"colab-df-container\">\n",
              "    <div>\n",
              "<style scoped>\n",
              "    .dataframe tbody tr th:only-of-type {\n",
              "        vertical-align: middle;\n",
              "    }\n",
              "\n",
              "    .dataframe tbody tr th {\n",
              "        vertical-align: top;\n",
              "    }\n",
              "\n",
              "    .dataframe thead th {\n",
              "        text-align: right;\n",
              "    }\n",
              "</style>\n",
              "<table border=\"1\" class=\"dataframe\">\n",
              "  <thead>\n",
              "    <tr style=\"text-align: right;\">\n",
              "      <th></th>\n",
              "      <th>label</th>\n",
              "      <th>text</th>\n",
              "    </tr>\n",
              "  </thead>\n",
              "  <tbody>\n",
              "    <tr>\n",
              "      <th>0</th>\n",
              "      <td>0</td>\n",
              "      <td>Go until jurong point, crazy.. Available only ...</td>\n",
              "    </tr>\n",
              "    <tr>\n",
              "      <th>1</th>\n",
              "      <td>0</td>\n",
              "      <td>Ok lar... Joking wif u oni...\\n</td>\n",
              "    </tr>\n",
              "    <tr>\n",
              "      <th>2</th>\n",
              "      <td>1</td>\n",
              "      <td>Free entry in 2 a wkly comp to win FA Cup fina...</td>\n",
              "    </tr>\n",
              "    <tr>\n",
              "      <th>3</th>\n",
              "      <td>0</td>\n",
              "      <td>U dun say so early hor... U c already then say...</td>\n",
              "    </tr>\n",
              "    <tr>\n",
              "      <th>4</th>\n",
              "      <td>0</td>\n",
              "      <td>Nah I don't think he goes to usf, he lives aro...</td>\n",
              "    </tr>\n",
              "  </tbody>\n",
              "</table>\n",
              "</div>\n",
              "    <div class=\"colab-df-buttons\">\n",
              "\n",
              "  <div class=\"colab-df-container\">\n",
              "    <button class=\"colab-df-convert\" onclick=\"convertToInteractive('df-a092ccb9-7685-43ca-8eb9-c22857bcfc3f')\"\n",
              "            title=\"Convert this dataframe to an interactive table.\"\n",
              "            style=\"display:none;\">\n",
              "\n",
              "  <svg xmlns=\"http://www.w3.org/2000/svg\" height=\"24px\" viewBox=\"0 -960 960 960\">\n",
              "    <path d=\"M120-120v-720h720v720H120Zm60-500h600v-160H180v160Zm220 220h160v-160H400v160Zm0 220h160v-160H400v160ZM180-400h160v-160H180v160Zm440 0h160v-160H620v160ZM180-180h160v-160H180v160Zm440 0h160v-160H620v160Z\"/>\n",
              "  </svg>\n",
              "    </button>\n",
              "\n",
              "  <style>\n",
              "    .colab-df-container {\n",
              "      display:flex;\n",
              "      gap: 12px;\n",
              "    }\n",
              "\n",
              "    .colab-df-convert {\n",
              "      background-color: #E8F0FE;\n",
              "      border: none;\n",
              "      border-radius: 50%;\n",
              "      cursor: pointer;\n",
              "      display: none;\n",
              "      fill: #1967D2;\n",
              "      height: 32px;\n",
              "      padding: 0 0 0 0;\n",
              "      width: 32px;\n",
              "    }\n",
              "\n",
              "    .colab-df-convert:hover {\n",
              "      background-color: #E2EBFA;\n",
              "      box-shadow: 0px 1px 2px rgba(60, 64, 67, 0.3), 0px 1px 3px 1px rgba(60, 64, 67, 0.15);\n",
              "      fill: #174EA6;\n",
              "    }\n",
              "\n",
              "    .colab-df-buttons div {\n",
              "      margin-bottom: 4px;\n",
              "    }\n",
              "\n",
              "    [theme=dark] .colab-df-convert {\n",
              "      background-color: #3B4455;\n",
              "      fill: #D2E3FC;\n",
              "    }\n",
              "\n",
              "    [theme=dark] .colab-df-convert:hover {\n",
              "      background-color: #434B5C;\n",
              "      box-shadow: 0px 1px 3px 1px rgba(0, 0, 0, 0.15);\n",
              "      filter: drop-shadow(0px 1px 2px rgba(0, 0, 0, 0.3));\n",
              "      fill: #FFFFFF;\n",
              "    }\n",
              "  </style>\n",
              "\n",
              "    <script>\n",
              "      const buttonEl =\n",
              "        document.querySelector('#df-a092ccb9-7685-43ca-8eb9-c22857bcfc3f button.colab-df-convert');\n",
              "      buttonEl.style.display =\n",
              "        google.colab.kernel.accessAllowed ? 'block' : 'none';\n",
              "\n",
              "      async function convertToInteractive(key) {\n",
              "        const element = document.querySelector('#df-a092ccb9-7685-43ca-8eb9-c22857bcfc3f');\n",
              "        const dataTable =\n",
              "          await google.colab.kernel.invokeFunction('convertToInteractive',\n",
              "                                                    [key], {});\n",
              "        if (!dataTable) return;\n",
              "\n",
              "        const docLinkHtml = 'Like what you see? Visit the ' +\n",
              "          '<a target=\"_blank\" href=https://colab.research.google.com/notebooks/data_table.ipynb>data table notebook</a>'\n",
              "          + ' to learn more about interactive tables.';\n",
              "        element.innerHTML = '';\n",
              "        dataTable['output_type'] = 'display_data';\n",
              "        await google.colab.output.renderOutput(dataTable, element);\n",
              "        const docLink = document.createElement('div');\n",
              "        docLink.innerHTML = docLinkHtml;\n",
              "        element.appendChild(docLink);\n",
              "      }\n",
              "    </script>\n",
              "  </div>\n",
              "\n",
              "\n",
              "<div id=\"df-ef7b25b6-5338-4f47-b304-1b3c15a3e9d2\">\n",
              "  <button class=\"colab-df-quickchart\" onclick=\"quickchart('df-ef7b25b6-5338-4f47-b304-1b3c15a3e9d2')\"\n",
              "            title=\"Suggest charts\"\n",
              "            style=\"display:none;\">\n",
              "\n",
              "<svg xmlns=\"http://www.w3.org/2000/svg\" height=\"24px\"viewBox=\"0 0 24 24\"\n",
              "     width=\"24px\">\n",
              "    <g>\n",
              "        <path d=\"M19 3H5c-1.1 0-2 .9-2 2v14c0 1.1.9 2 2 2h14c1.1 0 2-.9 2-2V5c0-1.1-.9-2-2-2zM9 17H7v-7h2v7zm4 0h-2V7h2v10zm4 0h-2v-4h2v4z\"/>\n",
              "    </g>\n",
              "</svg>\n",
              "  </button>\n",
              "\n",
              "<style>\n",
              "  .colab-df-quickchart {\n",
              "      --bg-color: #E8F0FE;\n",
              "      --fill-color: #1967D2;\n",
              "      --hover-bg-color: #E2EBFA;\n",
              "      --hover-fill-color: #174EA6;\n",
              "      --disabled-fill-color: #AAA;\n",
              "      --disabled-bg-color: #DDD;\n",
              "  }\n",
              "\n",
              "  [theme=dark] .colab-df-quickchart {\n",
              "      --bg-color: #3B4455;\n",
              "      --fill-color: #D2E3FC;\n",
              "      --hover-bg-color: #434B5C;\n",
              "      --hover-fill-color: #FFFFFF;\n",
              "      --disabled-bg-color: #3B4455;\n",
              "      --disabled-fill-color: #666;\n",
              "  }\n",
              "\n",
              "  .colab-df-quickchart {\n",
              "    background-color: var(--bg-color);\n",
              "    border: none;\n",
              "    border-radius: 50%;\n",
              "    cursor: pointer;\n",
              "    display: none;\n",
              "    fill: var(--fill-color);\n",
              "    height: 32px;\n",
              "    padding: 0;\n",
              "    width: 32px;\n",
              "  }\n",
              "\n",
              "  .colab-df-quickchart:hover {\n",
              "    background-color: var(--hover-bg-color);\n",
              "    box-shadow: 0 1px 2px rgba(60, 64, 67, 0.3), 0 1px 3px 1px rgba(60, 64, 67, 0.15);\n",
              "    fill: var(--button-hover-fill-color);\n",
              "  }\n",
              "\n",
              "  .colab-df-quickchart-complete:disabled,\n",
              "  .colab-df-quickchart-complete:disabled:hover {\n",
              "    background-color: var(--disabled-bg-color);\n",
              "    fill: var(--disabled-fill-color);\n",
              "    box-shadow: none;\n",
              "  }\n",
              "\n",
              "  .colab-df-spinner {\n",
              "    border: 2px solid var(--fill-color);\n",
              "    border-color: transparent;\n",
              "    border-bottom-color: var(--fill-color);\n",
              "    animation:\n",
              "      spin 1s steps(1) infinite;\n",
              "  }\n",
              "\n",
              "  @keyframes spin {\n",
              "    0% {\n",
              "      border-color: transparent;\n",
              "      border-bottom-color: var(--fill-color);\n",
              "      border-left-color: var(--fill-color);\n",
              "    }\n",
              "    20% {\n",
              "      border-color: transparent;\n",
              "      border-left-color: var(--fill-color);\n",
              "      border-top-color: var(--fill-color);\n",
              "    }\n",
              "    30% {\n",
              "      border-color: transparent;\n",
              "      border-left-color: var(--fill-color);\n",
              "      border-top-color: var(--fill-color);\n",
              "      border-right-color: var(--fill-color);\n",
              "    }\n",
              "    40% {\n",
              "      border-color: transparent;\n",
              "      border-right-color: var(--fill-color);\n",
              "      border-top-color: var(--fill-color);\n",
              "    }\n",
              "    60% {\n",
              "      border-color: transparent;\n",
              "      border-right-color: var(--fill-color);\n",
              "    }\n",
              "    80% {\n",
              "      border-color: transparent;\n",
              "      border-right-color: var(--fill-color);\n",
              "      border-bottom-color: var(--fill-color);\n",
              "    }\n",
              "    90% {\n",
              "      border-color: transparent;\n",
              "      border-bottom-color: var(--fill-color);\n",
              "    }\n",
              "  }\n",
              "</style>\n",
              "\n",
              "  <script>\n",
              "    async function quickchart(key) {\n",
              "      const quickchartButtonEl =\n",
              "        document.querySelector('#' + key + ' button');\n",
              "      quickchartButtonEl.disabled = true;  // To prevent multiple clicks.\n",
              "      quickchartButtonEl.classList.add('colab-df-spinner');\n",
              "      try {\n",
              "        const charts = await google.colab.kernel.invokeFunction(\n",
              "            'suggestCharts', [key], {});\n",
              "      } catch (error) {\n",
              "        console.error('Error during call to suggestCharts:', error);\n",
              "      }\n",
              "      quickchartButtonEl.classList.remove('colab-df-spinner');\n",
              "      quickchartButtonEl.classList.add('colab-df-quickchart-complete');\n",
              "    }\n",
              "    (() => {\n",
              "      let quickchartButtonEl =\n",
              "        document.querySelector('#df-ef7b25b6-5338-4f47-b304-1b3c15a3e9d2 button');\n",
              "      quickchartButtonEl.style.display =\n",
              "        google.colab.kernel.accessAllowed ? 'block' : 'none';\n",
              "    })();\n",
              "  </script>\n",
              "</div>\n",
              "\n",
              "    </div>\n",
              "  </div>\n"
            ],
            "application/vnd.google.colaboratory.intrinsic+json": {
              "type": "dataframe",
              "variable_name": "df",
              "summary": "{\n  \"name\": \"df\",\n  \"rows\": 5574,\n  \"fields\": [\n    {\n      \"column\": \"label\",\n      \"properties\": {\n        \"dtype\": \"number\",\n        \"std\": 0,\n        \"min\": 0,\n        \"max\": 1,\n        \"num_unique_values\": 2,\n        \"samples\": [\n          1,\n          0\n        ],\n        \"semantic_type\": \"\",\n        \"description\": \"\"\n      }\n    },\n    {\n      \"column\": \"text\",\n      \"properties\": {\n        \"dtype\": \"string\",\n        \"num_unique_values\": 5171,\n        \"samples\": [\n          \"K, makes sense, btw carlos is being difficult so you guys are gonna smoke while I go pick up the second batch and get gas\\n\",\n          \"URGENT! Your mobile No *********** WON a \\u00a32,000 Bonus Caller Prize on 02/06/03! This is the 2nd attempt to reach YOU! Call 09066362220 ASAP! BOX97N7QP, 150ppm\\n\"\n        ],\n        \"semantic_type\": \"\",\n        \"description\": \"\"\n      }\n    }\n  ]\n}"
            }
          },
          "metadata": {},
          "execution_count": 99
        }
      ],
      "source": [
        "file_path = 'SMSSpamCollection'\n",
        "df = pd.DataFrame({'label':int(), 'text':str()}, index = [])\n",
        "with open(file_path) as f:\n",
        "    for line in f.readlines():\n",
        "        split = line.split('\\t')\n",
        "        df = pd.concat([\n",
        "                df,\n",
        "                pd.DataFrame.from_dict({\n",
        "                    'label': [1 if split[0] == 'spam' else 0],\n",
        "                    'text': [split[1]]\n",
        "                })\n",
        "            ],\n",
        "            ignore_index=True\n",
        "        )\n",
        "df.head()"
      ]
    },
    {
      "cell_type": "code",
      "execution_count": 100,
      "id": "79a5cb02",
      "metadata": {
        "id": "79a5cb02"
      },
      "outputs": [],
      "source": [
        "text = df.text.values\n",
        "labels = df.label.values"
      ]
    },
    {
      "cell_type": "code",
      "execution_count": 101,
      "id": "dce193a4",
      "metadata": {
        "id": "dce193a4"
      },
      "outputs": [],
      "source": [
        "# Get the bert-base-uncased tokenizer and set lower case to True\n",
        "tokenizer = BertTokenizer.from_pretrained('bert-base-uncased', do_lower_case=True)"
      ]
    },
    {
      "cell_type": "code",
      "execution_count": 102,
      "id": "c00a3e7e",
      "metadata": {
        "colab": {
          "base_uri": "https://localhost:8080/"
        },
        "id": "c00a3e7e",
        "outputId": "34d2b66f-ab4f-4087-e13a-47cd6005a3dd"
      },
      "outputs": [
        {
          "output_type": "stream",
          "name": "stdout",
          "text": [
            "╒══════════╤═════════════╕\n",
            "│ Tokens   │   Token IDs │\n",
            "╞══════════╪═════════════╡\n",
            "│ yes      │        2748 │\n",
            "├──────────┼─────────────┤\n",
            "│ baby     │        3336 │\n",
            "├──────────┼─────────────┤\n",
            "│ !        │         999 │\n",
            "├──────────┼─────────────┤\n",
            "│ i        │        1045 │\n",
            "├──────────┼─────────────┤\n",
            "│ need     │        2342 │\n",
            "├──────────┼─────────────┤\n",
            "│ to       │        2000 │\n",
            "├──────────┼─────────────┤\n",
            "│ stretch  │        7683 │\n",
            "├──────────┼─────────────┤\n",
            "│ open     │        2330 │\n",
            "├──────────┼─────────────┤\n",
            "│ your     │        2115 │\n",
            "├──────────┼─────────────┤\n",
            "│ pussy    │       22418 │\n",
            "├──────────┼─────────────┤\n",
            "│ !        │         999 │\n",
            "╘══════════╧═════════════╛\n"
          ]
        }
      ],
      "source": [
        "def print_rand_sentence():\n",
        "    '''Displays the tokens and respective IDs of a random text sample'''\n",
        "    index = random.randint(0, len(text)-1)\n",
        "    table = np.array([tokenizer.tokenize(text[index]),\n",
        "                    tokenizer.convert_tokens_to_ids(tokenizer.tokenize(text[index]))]).T\n",
        "    print(tabulate(table,\n",
        "                 headers = ['Tokens', 'Token IDs'],\n",
        "                 tablefmt = 'fancy_grid'))\n",
        "\n",
        "print_rand_sentence()"
      ]
    },
    {
      "cell_type": "code",
      "execution_count": 103,
      "id": "e85d0895",
      "metadata": {
        "colab": {
          "base_uri": "https://localhost:8080/"
        },
        "id": "e85d0895",
        "outputId": "067e55f6-585c-4570-d10d-7d7d624e00ff"
      },
      "outputs": [
        {
          "output_type": "stream",
          "name": "stderr",
          "text": [
            "Truncation was not explicitly activated but `max_length` is provided a specific value, please use `truncation=True` to explicitly truncate examples to max length. Defaulting to 'longest_first' truncation strategy. If you encode pairs of sequences (GLUE-style) with the tokenizer you can select this strategy more precisely by providing a specific strategy to `truncation`.\n",
            "/usr/local/lib/python3.10/dist-packages/transformers/tokenization_utils_base.py:2834: FutureWarning: The `pad_to_max_length` argument is deprecated and will be removed in a future version, use `padding=True` or `padding='longest'` to pad to the longest sequence in the batch, or use `padding='max_length'` to pad to a max length. In this case, you can give a specific length with `max_length` (e.g. `max_length=45`) or leave max_length to None to pad to the maximal input size of the model (e.g. 512 for Bert).\n",
            "  warnings.warn(\n"
          ]
        }
      ],
      "source": [
        "token_id = []\n",
        "attention_masks = []\n",
        "\n",
        "def preprocessing(input_text, tokenizer):\n",
        "  '''\n",
        "  Returns <class transformers.tokenization_utils_base.BatchEncoding> with the following fields:\n",
        "    - input_ids: list of token ids\n",
        "    - token_type_ids: list of token type ids\n",
        "    - attention_mask: list of indices (0,1) specifying which tokens should considered by the model (return_attention_mask = True).\n",
        "  '''\n",
        "  return tokenizer.encode_plus(input_text, add_special_tokens=True,\n",
        "                               max_length=32, pad_to_max_length = True,\n",
        "                               return_attention_mask=True, return_tensors='pt')\n",
        "\n",
        "for sample in text:\n",
        "    encoding_dict = preprocessing(sample, tokenizer)\n",
        "    token_id.append(encoding_dict['input_ids'])\n",
        "    attention_masks.append(encoding_dict['attention_mask'])\n",
        "\n",
        "\n",
        "token_id = torch.cat(token_id, dim=0)\n",
        "attention_masks = torch.cat(attention_masks, dim=0)\n",
        "labels = torch.tensor(labels)"
      ]
    },
    {
      "cell_type": "code",
      "execution_count": 104,
      "id": "222e06a7",
      "metadata": {
        "colab": {
          "base_uri": "https://localhost:8080/"
        },
        "id": "222e06a7",
        "outputId": "5c4c45c3-9472-4f79-92c3-525ee28e657b"
      },
      "outputs": [
        {
          "output_type": "stream",
          "name": "stdout",
          "text": [
            "╒══════════╤═════════════╤══════════════════╕\n",
            "│ Tokens   │   Token IDs │   Attention Mask │\n",
            "╞══════════╪═════════════╪══════════════════╡\n",
            "│ [CLS]    │         101 │                1 │\n",
            "├──────────┼─────────────┼──────────────────┤\n",
            "│ tired    │        5458 │                1 │\n",
            "├──────────┼─────────────┼──────────────────┤\n",
            "│ .        │        1012 │                1 │\n",
            "├──────────┼─────────────┼──────────────────┤\n",
            "│ i        │        1045 │                1 │\n",
            "├──────────┼─────────────┼──────────────────┤\n",
            "│ haven    │        4033 │                1 │\n",
            "├──────────┼─────────────┼──────────────────┤\n",
            "│ '        │        1005 │                1 │\n",
            "├──────────┼─────────────┼──────────────────┤\n",
            "│ t        │        1056 │                1 │\n",
            "├──────────┼─────────────┼──────────────────┤\n",
            "│ slept    │        7771 │                1 │\n",
            "├──────────┼─────────────┼──────────────────┤\n",
            "│ well     │        2092 │                1 │\n",
            "├──────────┼─────────────┼──────────────────┤\n",
            "│ the      │        1996 │                1 │\n",
            "├──────────┼─────────────┼──────────────────┤\n",
            "│ past     │        2627 │                1 │\n",
            "├──────────┼─────────────┼──────────────────┤\n",
            "│ few      │        2261 │                1 │\n",
            "├──────────┼─────────────┼──────────────────┤\n",
            "│ nights   │        6385 │                1 │\n",
            "├──────────┼─────────────┼──────────────────┤\n",
            "│ .        │        1012 │                1 │\n",
            "├──────────┼─────────────┼──────────────────┤\n",
            "│ [SEP]    │         102 │                1 │\n",
            "├──────────┼─────────────┼──────────────────┤\n",
            "│ [PAD]    │           0 │                0 │\n",
            "├──────────┼─────────────┼──────────────────┤\n",
            "│ [PAD]    │           0 │                0 │\n",
            "├──────────┼─────────────┼──────────────────┤\n",
            "│ [PAD]    │           0 │                0 │\n",
            "├──────────┼─────────────┼──────────────────┤\n",
            "│ [PAD]    │           0 │                0 │\n",
            "├──────────┼─────────────┼──────────────────┤\n",
            "│ [PAD]    │           0 │                0 │\n",
            "├──────────┼─────────────┼──────────────────┤\n",
            "│ [PAD]    │           0 │                0 │\n",
            "├──────────┼─────────────┼──────────────────┤\n",
            "│ [PAD]    │           0 │                0 │\n",
            "├──────────┼─────────────┼──────────────────┤\n",
            "│ [PAD]    │           0 │                0 │\n",
            "├──────────┼─────────────┼──────────────────┤\n",
            "│ [PAD]    │           0 │                0 │\n",
            "├──────────┼─────────────┼──────────────────┤\n",
            "│ [PAD]    │           0 │                0 │\n",
            "├──────────┼─────────────┼──────────────────┤\n",
            "│ [PAD]    │           0 │                0 │\n",
            "├──────────┼─────────────┼──────────────────┤\n",
            "│ [PAD]    │           0 │                0 │\n",
            "├──────────┼─────────────┼──────────────────┤\n",
            "│ [PAD]    │           0 │                0 │\n",
            "├──────────┼─────────────┼──────────────────┤\n",
            "│ [PAD]    │           0 │                0 │\n",
            "├──────────┼─────────────┼──────────────────┤\n",
            "│ [PAD]    │           0 │                0 │\n",
            "├──────────┼─────────────┼──────────────────┤\n",
            "│ [PAD]    │           0 │                0 │\n",
            "├──────────┼─────────────┼──────────────────┤\n",
            "│ [PAD]    │           0 │                0 │\n",
            "╘══════════╧═════════════╧══════════════════╛\n"
          ]
        }
      ],
      "source": [
        "def print_rand_sentence_encoding():\n",
        "    '''Displays tokens, token IDs and attention mask of a random text sample'''\n",
        "    index = random.randint(0, len(text) - 1)\n",
        "    tokens = tokenizer.tokenize(tokenizer.decode(token_id[index]))\n",
        "    token_ids = [i.numpy() for i in token_id[index]]\n",
        "    attention = [i.numpy() for i in attention_masks[index]]\n",
        "    table = np.array([tokens, token_ids, attention]).T\n",
        "    print(\n",
        "        tabulate(\n",
        "            table,\n",
        "            headers = ['Tokens', 'Token IDs', 'Attention Mask'],\n",
        "            tablefmt = 'fancy_grid')\n",
        "    )\n",
        "\n",
        "print_rand_sentence_encoding()"
      ]
    },
    {
      "cell_type": "code",
      "execution_count": 105,
      "id": "e1c2c10b",
      "metadata": {
        "id": "e1c2c10b"
      },
      "outputs": [],
      "source": [
        "val_ratio = 0.2\n",
        "# Recommended batch size: 16, 32. See: https://arxiv.org/pdf/1810.04805.pdf\n",
        "batch_size = 16\n",
        "\n",
        "# Indices of the train and validation splits stratified by labels\n",
        "train_idx, val_idx = train_test_split(np.arange(len(labels)),\n",
        "                                      test_size=val_ratio,\n",
        "                                      stratify=labels,\n",
        "                                      shuffle=True,\n",
        "                                      random_state=42)\n",
        "\n",
        "# Train and validation sets\n",
        "train_set = train_set = TensorDataset(token_id[train_idx], attention_masks[train_idx], labels[train_idx])\n",
        "\n",
        "val_set = TensorDataset(token_id[val_idx], attention_masks[val_idx], labels[val_idx])\n",
        "\n",
        "# Prepare DataLoader\n",
        "train_dataloader = DataLoader(train_set, sampler=RandomSampler(train_set), batch_size=batch_size)\n",
        "validation_dataloader = DataLoader(val_set, sampler=SequentialSampler(val_set), batch_size=batch_size)"
      ]
    },
    {
      "cell_type": "markdown",
      "source": [
        "Define the LoRA specific layers."
      ],
      "metadata": {
        "id": "zqd2vdeT1Ywe"
      },
      "id": "zqd2vdeT1Ywe"
    },
    {
      "cell_type": "code",
      "execution_count": 106,
      "id": "0de762ca",
      "metadata": {
        "id": "0de762ca"
      },
      "outputs": [],
      "source": [
        "# Define a LoRA Layer which has A, B and alpha parameters\n",
        "class LoRALayer(torch.nn.Module):\n",
        "  def __init__(self, in_dim, out_dim, rank, alpha):\n",
        "    super().__init__()\n",
        "    # Initialize A to be a parameter matrix of dimension in_dim by rank\n",
        "    self.A = torch.nn.Parameter(torch.empty(in_dim, rank))\n",
        "    # Initialize all the elements of A via kaiming_uniform with a equal to sqrt(5)\n",
        "    torch.nn.init.kaiming_uniform_(self.A, a=math.sqrt(5))\n",
        "    # Initialize B to be a zero parameter matrix of the appropriate dimensions\n",
        "    self.B = torch.nn.Parameter(torch.zeros(rank, out_dim))\n",
        "    self.alpha = alpha\n",
        "\n",
        "  def forward(self, x):\n",
        "    # Pass x through the LoRA layer and return the new x\n",
        "    x = self.alpha * torch.matmul(torch.matmul(x, self.A), self.B)\n",
        "    return x\n",
        "\n",
        "# Define a class LoRALinear which has a linear layer and a LoRA layer on top\n",
        "class LoRALinear(torch.nn.Module):\n",
        "  def __init__(self, linear, rank, alpha):\n",
        "    super().__init__()\n",
        "    self.linear = linear\n",
        "    self.lora = LoRALayer(linear.in_features, linear.out_features, rank, alpha)\n",
        "\n",
        "  def forward(self, x):\n",
        "    # Pass x through the linear layer and also the lora layer\n",
        "    return self.linear(x) + self.lora(x)\n",
        "\n",
        "def lora_linear_replace(model, rank, alpha):\n",
        "  # Use model.named_children to go through all layers and if the layer is Linear replace that layer with LoRALinear\n",
        "  for name, module in model.named_children():\n",
        "    # If the module is linear, replace the module in the model with a LoRA layer\n",
        "    if isinstance(module, torch.nn.Linear):\n",
        "      # Replace the Linear layer with LoRALinear\n",
        "      setattr(model, name, LoRALinear(module, rank, alpha))\n",
        "    else:\n",
        "      # Alterntively, recursively apply the same function to child modules so that other Linear layers get replaced\n",
        "      lora_linear_replace(module, rank, alpha)"
      ]
    },
    {
      "cell_type": "markdown",
      "id": "40bcf8c4",
      "metadata": {
        "id": "40bcf8c4"
      },
      "source": [
        "### Load specific versions of the model"
      ]
    },
    {
      "cell_type": "code",
      "execution_count": 107,
      "id": "f85fc88e",
      "metadata": {
        "colab": {
          "base_uri": "https://localhost:8080/"
        },
        "id": "f85fc88e",
        "outputId": "d608af77-25da-4e4c-be59-a5a76ab56b20"
      },
      "outputs": [
        {
          "output_type": "stream",
          "name": "stderr",
          "text": [
            "Some weights of BertForSequenceClassification were not initialized from the model checkpoint at bert-base-uncased and are newly initialized: ['classifier.bias', 'classifier.weight']\n",
            "You should probably TRAIN this model on a down-stream task to be able to use it for predictions and inference.\n"
          ]
        },
        {
          "output_type": "stream",
          "name": "stdout",
          "text": [
            "1345552\n"
          ]
        }
      ],
      "source": [
        "# Load the BertForSequenceClassification model\n",
        "# Do not ouput the attentions and all hidden states\n",
        "model = BertForSequenceClassification.from_pretrained(\n",
        "    \"bert-base-uncased\",\n",
        "    output_attentions=False,\n",
        "    output_hidden_states=False\n",
        ")\n",
        "\n",
        "# Turn off all gradients of the model to start\n",
        "for param in model.parameters():\n",
        "    param.requires_grad = False\n",
        "\n",
        "# Set to True if LORA is used; if False, fine_tune flag will be used to decide if you fine tune the entire model or just parts\n",
        "use_lora  = True\n",
        "# If this is False, turn off gradients\n",
        "fine_tune = False\n",
        "# Set total_parameters to 0; this will count the number of parameters in each case\n",
        "total_parameters = 0\n",
        "\n",
        "if use_lora:\n",
        "  # Use the lora_linear to attach a LoRA layer to each linear later of the original BERT model\n",
        "  lora_linear_replace(model, rank=8, alpha=16)\n",
        "  # Get the total number of parameters with gradients\n",
        "  for param in model.parameters():\n",
        "        if param.requires_grad:\n",
        "            total_parameters += param.numel()\n",
        "else:\n",
        "  # If fine_tune is off, turn off gradients for all layers other than classifier\n",
        "  if not fine_tune:\n",
        "    # Turn off all gradients; count just the 'classifier' layer which is the only one that has gradients\n",
        "    for name, param in model.named_parameters():\n",
        "        if \"classifier\" in name:\n",
        "            param.requires_grad = True\n",
        "            total_parameters += param.numel()\n",
        "        else:\n",
        "            param.requires_grad = False\n",
        "  else:\n",
        "    # Turn off all gradients except for classifier\n",
        "    for param in model.parameters():\n",
        "        param.requires_grad = True\n",
        "        total_parameters += param.numel()\n",
        "\n",
        "print(total_parameters)\n",
        "\n",
        "if use_lora:\n",
        "  assert(total_parameters == 1345552)\n",
        "else:\n",
        "  if fine_tune:\n",
        "    assert(total_parameters == 109483778)\n",
        "  else:\n",
        "    assert(total_parameters == 1538)"
      ]
    },
    {
      "cell_type": "markdown",
      "id": "a36b60bf",
      "metadata": {
        "id": "a36b60bf"
      },
      "source": [
        "### Set the model to the right device"
      ]
    },
    {
      "cell_type": "code",
      "execution_count": 108,
      "id": "071b1a84",
      "metadata": {
        "id": "071b1a84",
        "colab": {
          "base_uri": "https://localhost:8080/"
        },
        "outputId": "620d1676-bfc4-41a2-bd74-747ffa3b8527"
      },
      "outputs": [
        {
          "output_type": "stream",
          "name": "stdout",
          "text": [
            "cuda\n"
          ]
        }
      ],
      "source": [
        "import platform\n",
        "\n",
        "# Pick the system you have and select GPU if you can\n",
        "if platform.system() == 'Darwin':\n",
        "    device = torch.device('mps') if torch.backends.mps.is_available() else torch.device('cpu')\n",
        "elif platform.system() == 'Linux':\n",
        "    device = torch.device('cuda') if torch.cuda.is_available() else torch.device('cpu')\n",
        "else:\n",
        "    device = torch.device('cpu')\n",
        "print(device)"
      ]
    },
    {
      "cell_type": "code",
      "execution_count": 109,
      "id": "4811b9f5",
      "metadata": {
        "id": "4811b9f5"
      },
      "outputs": [],
      "source": [
        "_ = model.to(device)\n",
        "\n",
        "# Recommended number of epochs: See: https://arxiv.org/pdf/1810.04805.pdf\n",
        "epochs = 2"
      ]
    },
    {
      "cell_type": "code",
      "source": [
        "# Recommended learning rates (Adam): 5e-5, 3e-5, 2e-5\n",
        "# See: https://arxiv.org/pdf/1810.04805.pdf\n",
        "optimizer = torch.optim.AdamW(\n",
        "    model.parameters(),\n",
        "    lr = 5e-5,\n",
        "    eps = 1e-08\n",
        ")"
      ],
      "metadata": {
        "id": "nJ9A9Q6Zo9z8"
      },
      "id": "nJ9A9Q6Zo9z8",
      "execution_count": 110,
      "outputs": []
    },
    {
      "cell_type": "markdown",
      "id": "765fc3a1",
      "metadata": {
        "id": "765fc3a1"
      },
      "source": [
        "### Train the model"
      ]
    },
    {
      "cell_type": "code",
      "execution_count": 111,
      "id": "bf0b712e",
      "metadata": {
        "id": "bf0b712e"
      },
      "outputs": [],
      "source": [
        "# Use torchmetrics to set up accuracy, recall, precision, and auroc\n",
        "accuracy = Accuracy(task='binary', num_classes=2).to(device)\n",
        "recall = Recall(task='binary', num_classes=2).to(device)\n",
        "precision = Precision(task='binary', num_classes=2).to(device)\n",
        "auroc = AUROC(task=\"binary\").to('cpu')"
      ]
    },
    {
      "cell_type": "code",
      "source": [
        "model.device"
      ],
      "metadata": {
        "colab": {
          "base_uri": "https://localhost:8080/"
        },
        "id": "Zw_zk3ZPpZXK",
        "outputId": "f2acfec1-369f-4f41-8304-8d6fa171255a"
      },
      "id": "Zw_zk3ZPpZXK",
      "execution_count": 112,
      "outputs": [
        {
          "output_type": "execute_result",
          "data": {
            "text/plain": [
              "device(type='cuda', index=0)"
            ]
          },
          "metadata": {},
          "execution_count": 112
        }
      ]
    },
    {
      "cell_type": "code",
      "execution_count": null,
      "id": "084519f5",
      "metadata": {
        "id": "084519f5"
      },
      "outputs": [],
      "source": [
        "# Main training / validation loop\n",
        "import tqdm\n",
        "for _ in tqdm.tqdm(trange(epochs, desc = 'Epoch')):\n",
        "\n",
        "    # ========== Training ==========\n",
        "\n",
        "    # Set model to training mode\n",
        "    model.train()\n",
        "\n",
        "    # Tracking variables\n",
        "    tr_loss = 0\n",
        "    nb_tr_examples, nb_tr_steps = 0, 0\n",
        "\n",
        "    for step, batch in tqdm.tqdm(enumerate(train_dataloader)):\n",
        "        batch = tuple(t.to(device) for t in batch)\n",
        "        # Unpack the batch\n",
        "        b_input_ids, b_input_mask, b_labels = batch\n",
        "\n",
        "        # Set the gradients to zero\n",
        "        optimizer.zero_grad()\n",
        "\n",
        "        # Forward pass\n",
        "        train_output = model(b_input_ids, attention_mask=b_input_mask, labels=b_labels)\n",
        "\n",
        "        # Backward pass\n",
        "        loss = train_output.loss\n",
        "        loss.backward()\n",
        "        optimizer.step()\n",
        "\n",
        "        # Update tracking variables\n",
        "        tr_loss += loss.item()\n",
        "        nb_tr_examples += b_input_ids.size(0)\n",
        "        nb_tr_steps += 1\n",
        "\n",
        "    # ========== Validation ==========\n",
        "\n",
        "    # Set model to evaluation mode\n",
        "    model.eval()\n",
        "\n",
        "    # Tracking variables\n",
        "    val_accuracy = []\n",
        "    val_precision = []\n",
        "    val_recall = []\n",
        "    val_auroc = []\n",
        "\n",
        "    for batch in validation_dataloader:\n",
        "        batch = tuple(t.to(device) for t in batch)\n",
        "        b_input_ids, b_input_mask, b_labels = batch\n",
        "        with torch.no_grad():\n",
        "          # Forward pass\n",
        "            eval_output = model(b_input_ids, attention_mask=b_input_mask)\n",
        "\n",
        "        # Calculate validation metrics\n",
        "        labels = b_labels.to('cpu')\n",
        "        predicted_labels = torch.argmax(eval_output.logits.to('cpu'), dim=-1)\n",
        "\n",
        "        val_accuracy.append(accuracy(predicted_labels, labels).item())\n",
        "        val_recall.append(recall(predicted_labels, labels).item())\n",
        "        val_precision.append(precision(predicted_labels, labels).item())\n",
        "        val_auroc.append(auroc(predicted_labels.to('cpu'), labels.to('cpu')).item())\n",
        "\n",
        "    print('\\n\\t - Train loss: {:.4f}'.format(tr_loss / nb_tr_steps))\n",
        "    print('\\t - Validation Accuracy: {:.4f}'.format(sum(val_accuracy)/len(val_accuracy)))\n",
        "    print('\\t - Validation Precision: {:.4f}'.format(sum(val_precision)/len(val_precision)))\n",
        "    print('\\t - Validation Recall: {:.4f}'.format(sum(val_recall)/len(val_recall)))\n",
        "    print('\\t - Validation AUROC: {:.4f}\\n'.format(sum(val_auroc)/len(val_auroc)))"
      ]
    },
    {
      "cell_type": "markdown",
      "id": "13d64bc6",
      "metadata": {
        "id": "13d64bc6"
      },
      "source": [
        "### Test on a specific sentence, see the outcome"
      ]
    },
    {
      "cell_type": "code",
      "execution_count": null,
      "id": "6dfcd9e7",
      "metadata": {
        "id": "6dfcd9e7"
      },
      "outputs": [],
      "source": [
        "new_sentence = 'WINNER!! As a valued network customer you have been selected to receivea £900 prize reward! To claim call 09061701461. Claim code KL341. Valid 12 hours only.'\n",
        "\n",
        "# We need Token IDs and Attention Mask for inference on the new sentence\n",
        "test_ids = []\n",
        "test_attention_mask = []\n",
        "\n",
        "# Apply the tokenizer\n",
        "encoding = preprocessing(new_sentence, tokenizer)\n",
        "\n",
        "# Extract IDs and Attention Mask\n",
        "test_ids.append(encoding['input_ids'])\n",
        "test_attention_mask.append(encoding['attention_mask'])\n",
        "test_ids = torch.cat(test_ids, dim = 0)\n",
        "test_attention_mask = torch.cat(test_attention_mask, dim = 0)\n",
        "\n",
        "# Forward pass, calculate logit predictions\n",
        "with torch.no_grad():\n",
        "    output = model(test_ids.to(device), token_type_ids = None, attention_mask = test_attention_mask.to(device))\n",
        "\n",
        "prediction = 'Spam' if np.argmax(output.logits.cpu().numpy()).flatten().item() == 1 else 'Ham'\n",
        "\n",
        "print('Input Sentence: ', new_sentence)\n",
        "print('Predicted Class: ', prediction)"
      ]
    },
    {
      "cell_type": "markdown",
      "id": "5f27c29b",
      "metadata": {
        "id": "5f27c29b"
      },
      "source": [
        "### Questions"
      ]
    },
    {
      "cell_type": "markdown",
      "id": "8c82ced0",
      "metadata": {
        "id": "8c82ced0"
      },
      "source": [
        "Question 1: Run the above by fine tuning bert and the classfier head and by not doing this (using BERT as a feature encoder). What is the gap between this?"
      ]
    },
    {
      "cell_type": "markdown",
      "source": [
        "**Metrics**: Fine-tuning BERT and Classifier Head (`fine_tune = True`):\n",
        "\n",
        "- Epoch 1:\n",
        "  - Validation Accuracy: 0.9821\n",
        "  - Validation Precision: 0.8714\n",
        "  - Validation Recall: 0.7745\n",
        "  - Validation AUROC: 0.8444\n",
        "- Epoch 2:\n",
        "  - Validation Accuracy: 0.9884\n",
        "  - Validation Precision: 0.8828\n",
        "  - Validation Recall: 0.8674\n",
        "  - Validation AUROC: 0.8880\n",
        "- Predicted Class: Spam\n",
        "\n",
        "**Metrics**: Using BERT as a Feature Encoder (`fine_tune = False`):\n",
        "\n",
        "- Epoch 1:\n",
        "  - Validation Accuracy: 0.8666\n",
        "  - Validation Precision: 0.0000\n",
        "  - Validation Recall: 0.0000\n",
        "  - Validation AUROC: 0.4571\n",
        "- Epoch 2:\n",
        "  - Validation Accuracy: 0.8657\n",
        "  - Validation Precision: 0.0000\n",
        "  - Validation Recall: 0.0000\n",
        "  - Validation AUROC: 0.4566\n",
        "- Predicted Class: Ham\n",
        "\n",
        "**Metrics**: Fine-tuning LoRA weights (`use_lora = True`):\n",
        "\n",
        "- Epoch 1:\n",
        "  - Validation Accuracy: 0.9830\n",
        "  - Validation Precision: 0.8488\n",
        "  - Validation Recall: 0.8126\n",
        "  - Validation AUROC: 0.8607\n",
        "- Epoch 2:\n",
        "  - Validation Accuracy: 0.9875\n",
        "  - Validation Precision: 0.8667\n",
        "  - Validation Recall: 0.8464\n",
        "  - Validation AUROC: 0.8783\n",
        "- Predicted Class: Spam\n",
        "\n",
        "**Gap Analysis (Case 1 vs Case 2)**:\n",
        "- Accuracy Gap: 0.1227\n",
        "- Precision Gap: 0.8828\n",
        "- Recall Gap: 0.8674\n",
        "- AUROC Gap: 0.4314\n",
        "- Predicted Class: Spam (Case 1) vs Ham (Case 2)\n",
        "\n",
        "**Gap Analysis (Case 1 vs Case 3)**:\n",
        "- Accuracy Gap: 0.0009\n",
        "- Precision Gap: 0.0161\n",
        "- Recall Gap: 0.0210\n",
        "- AUROC Gap: 0.0097\n",
        "- Predicted Class: Spam (Case 1) vs Spam (Case 3)\n",
        "\n",
        "**Observations**:\n",
        "1. Performance Gap:\n",
        "  - Case 1 (`fine_tune = True`) vs Case 2 (`fine_tune = False`): Fine-tuning the entire model (Case 1) significantly outperforms using BERT as a frozen feature encoder (Case 2) across all metrics. Case 2 struggles to learn meaningful task-specific representations because it relies entirely on the frozen BERT embeddings, which are not adapted to the spam detection task. This results in almost no learning, as evidenced by `0.0` precision and recall across epochs.\n",
        "\n",
        "   - Case 1 (`fine_tune = True`) vs Case 3 (`use_lora = True`): Fine-tuning LoRA weights (Case 3) achieves metrics close to those of case 1, with a marginal performance gap. LoRA shows only a slight reduction in validation metrics (e.g., AUROC gap of 0.0097) while maintaining computational efficiency.\n",
        "\n",
        "2. Both case 1 and case 3 correctly predict the input as Spam, aligning well with typical spam characteristics (e.g., urgency, monetary rewards, and excessive capitalization). However, case 2 incorrectly predicts the input as Ham, highlighting the limitations of using a frozen BERT for tasks requiring deeper contextual understanding and adaptation.\n",
        "\n",
        "3. Training Efficiency: Fine-tuning the entire model (`fine_tune = True`, Case 1) took approximately 40 seconds per epoch. Fine-tuning LoRA weights (`use_lora = True`, Case 3) took approximately 28 seconds per epoch, showing improved efficiency while achieving similar performance to Case 1. Using BERT as a feature encoder (`fine_tune = False`, Case 2) was the fastest, taking only 11 seconds per epoch, but this speed came at the cost of severely degraded performance, making it unsuitable for meaningful tasks.\n",
        "\n",
        "4. LoRA Efficiency and Effectiveness (Case 3): LoRA achieves a strong balance between efficiency and performance. Compared to case 1, it reduces training time by about 30% while maintaining nearly the same metrics across validation accuracy, precision, recall, and AUROC. This makes LoRA a compelling alternative to full fine-tuning, particularly for tasks where computational resources are limited.\n",
        "\n",
        "**Conclusion**: Fine-tuning entire model offers the best performance by fully adapting the BERT model to the spam detection task but requires the most training time, while using BERT as a feature encoder is computationally efficient but fails to adapt to the task, making it unsuitable for meaningful downstream tasks like spam detection. For tasks requiring both high performance and computational efficiency, LoRA emerges as the best choice, striking a balance between accuracy and resource usage."
      ],
      "metadata": {
        "id": "8sG4pukerLes"
      },
      "id": "8sG4pukerLes"
    }
  ],
  "metadata": {
    "kernelspec": {
      "display_name": "Python 3",
      "name": "python3"
    },
    "language_info": {
      "codemirror_mode": {
        "name": "ipython",
        "version": 3
      },
      "file_extension": ".py",
      "mimetype": "text/x-python",
      "name": "python",
      "nbconvert_exporter": "python",
      "pygments_lexer": "ipython3",
      "version": "3.8.15"
    },
    "colab": {
      "provenance": [],
      "machine_shape": "hm",
      "gpuType": "T4"
    },
    "accelerator": "GPU"
  },
  "nbformat": 4,
  "nbformat_minor": 5
}