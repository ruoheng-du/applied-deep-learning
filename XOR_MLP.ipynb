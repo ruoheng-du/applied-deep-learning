{
  "cells": [
    {
      "cell_type": "markdown",
      "metadata": {
        "id": "brSvbGreHfjk"
      },
      "source": [
        "# ADL HW1\n",
        "# Ruoheng Du (rd3165)"
      ]
    },
    {
      "cell_type": "markdown",
      "metadata": {
        "id": "jy2dfnFPVSZT"
      },
      "source": [
        "### Imports\n",
        "\n"
      ]
    },
    {
      "cell_type": "code",
      "source": [
        "!pip install torchviz"
      ],
      "metadata": {
        "colab": {
          "base_uri": "https://localhost:8080/"
        },
        "id": "nQY_OdcIKRAt",
        "outputId": "e7f48ef9-1add-4aa5-8584-266fbc4b4dbd"
      },
      "execution_count": 7,
      "outputs": [
        {
          "output_type": "stream",
          "name": "stdout",
          "text": [
            "Requirement already satisfied: torchviz in /usr/local/lib/python3.10/dist-packages (0.0.2)\n",
            "Requirement already satisfied: torch in /usr/local/lib/python3.10/dist-packages (from torchviz) (2.4.0+cu121)\n",
            "Requirement already satisfied: graphviz in /usr/local/lib/python3.10/dist-packages (from torchviz) (0.20.3)\n",
            "Requirement already satisfied: filelock in /usr/local/lib/python3.10/dist-packages (from torch->torchviz) (3.16.0)\n",
            "Requirement already satisfied: typing-extensions>=4.8.0 in /usr/local/lib/python3.10/dist-packages (from torch->torchviz) (4.12.2)\n",
            "Requirement already satisfied: sympy in /usr/local/lib/python3.10/dist-packages (from torch->torchviz) (1.13.2)\n",
            "Requirement already satisfied: networkx in /usr/local/lib/python3.10/dist-packages (from torch->torchviz) (3.3)\n",
            "Requirement already satisfied: jinja2 in /usr/local/lib/python3.10/dist-packages (from torch->torchviz) (3.1.4)\n",
            "Requirement already satisfied: fsspec in /usr/local/lib/python3.10/dist-packages (from torch->torchviz) (2024.6.1)\n",
            "Requirement already satisfied: MarkupSafe>=2.0 in /usr/local/lib/python3.10/dist-packages (from jinja2->torch->torchviz) (2.1.5)\n",
            "Requirement already satisfied: mpmath<1.4,>=1.1.0 in /usr/local/lib/python3.10/dist-packages (from sympy->torch->torchviz) (1.3.0)\n"
          ]
        }
      ]
    },
    {
      "cell_type": "code",
      "execution_count": 8,
      "metadata": {
        "id": "FdczmFmi6Ne_"
      },
      "outputs": [],
      "source": [
        "import torch\n",
        "import numpy as np\n",
        "import string\n",
        "import matplotlib.pyplot as plt\n",
        "from torchviz import make_dot\n",
        "from torch.utils.data import Dataset, DataLoader, TensorDataset\n",
        "import torch.nn as nn\n",
        "seed = 1\n",
        "def set_seed(seed):\n",
        "  np.random.seed(seed)\n",
        "  torch.manual_seed(seed)\n",
        "  torch.cuda.manual_seed(seed)\n",
        "  torch.backends.cudnn.deterministic = True\n",
        "  torch.backends.cudnn.benchmark = False\n",
        "set_seed(1)"
      ]
    },
    {
      "cell_type": "code",
      "execution_count": 13,
      "metadata": {
        "id": "mSe26uWLKIFj"
      },
      "outputs": [],
      "source": [
        "#Change your runtime type to a GPU to activate \"cuda\" as a device - will make your code so much faster\n",
        "device = \"cuda\" if torch.cuda.is_available() else \"cpu\""
      ]
    },
    {
      "cell_type": "markdown",
      "metadata": {
        "id": "l3SrUIZFP-1l"
      },
      "source": [
        "## The XOR Problem in PyTorch"
      ]
    },
    {
      "cell_type": "markdown",
      "metadata": {
        "id": "__OdlKhESNux"
      },
      "source": [
        "In lecture, we talked about a barrier to the development of neural networks - **the XOR problem**.\n",
        "\n",
        "We are now going to show how to solve this in PyTorch! Let's first generate the data."
      ]
    },
    {
      "cell_type": "code",
      "execution_count": 9,
      "metadata": {
        "id": "WDfAx3z1QGSv"
      },
      "outputs": [],
      "source": [
        "# Setting a seed to make reproducible results\n",
        "np.random.seed(seed)\n",
        "torch.manual_seed(seed)\n",
        "\n",
        "# Generate two random features as 0/1 (indicator variables)\n",
        "x1 = (np.random.uniform(size=200) < 0.5).astype(int)\n",
        "x2 = (np.random.uniform(size=200) < 0.5).astype(int)\n",
        "\n",
        "# Creating the dataset from the features\n",
        "x = np.array([x1, x2]).T\n",
        "\n",
        "# Setting up XOR formula\n",
        "y = x1 + x2 - 2 * x1 * x2\n",
        "\n",
        "# Train and test split - use some of the data to train the neural network and\n",
        "# the rest to validate our results\n",
        "n_train = 100\n",
        "x_train = torch.tensor(x[:n_train, :], dtype=torch.float32)\n",
        "y_train = torch.tensor(y[:n_train], dtype=torch.long)\n",
        "x_test = torch.tensor(x[n_train:, :], dtype=torch.float32)\n",
        "y_test = torch.tensor(y[n_train:], dtype=torch.long)\n",
        "\n",
        "# Visualizing our data (adding some jitter)\n",
        "# fig = plt.figure(figsize=(6, 6))\n",
        "# x_jittered = x + np.random.normal(scale=0.009, size=x.shape)\n",
        "# plt.plot(x_jittered[y==0, 0],\n",
        "#          x_jittered[y==0, 1], 'o', alpha=0.5, markersize=10, c='#8b0000')\n",
        "# plt.plot(x_jittered[y==1, 0],\n",
        "#          x_jittered[y==1, 1], '<', alpha=0.5, markersize=10, c='#234f1e')\n",
        "# plt.xlabel(r'$x_1$', size=15)\n",
        "# plt.ylabel(r'$x_2$', size=15)\n",
        "\n",
        "# plt.show()"
      ]
    },
    {
      "cell_type": "markdown",
      "metadata": {
        "id": "gyCQegmvTSWN"
      },
      "source": [
        "Now, let's start creating some models to test their ability to solve the XOR problem.\n",
        "\n",
        "We need to set some hyperparameters first..."
      ]
    },
    {
      "cell_type": "code",
      "execution_count": 21,
      "metadata": {
        "id": "gPF2OCHdS7CR"
      },
      "outputs": [],
      "source": [
        "# Hyperparameters\n",
        "input_size = 2 # How many features do we have?\n",
        "output_size = 2 # 2 signifies binary classification\n",
        "lr = 0.05 # Factor we will multiply our gradients by in SGD, how much we want to let what we learn change our model parameters\n",
        "batch_size = 2 # How many examples do you want look at on each update?"
      ]
    },
    {
      "cell_type": "code",
      "execution_count": 22,
      "metadata": {
        "id": "rfHBczl9QS4E"
      },
      "outputs": [],
      "source": [
        "# Creating TensorDataset and DataLoader objects from our data\n",
        "train_ds = TensorDataset(x_train, y_train)\n",
        "test_ds = TensorDataset(x_test, y_test)\n",
        "\n",
        "# DataLoader allows efficient iteration over data in batches\n",
        "# - train_dl shuffles the training data to prevent any overfitting\n",
        "# - test_dl does not shuffle the test data so it is in its original order\n",
        "train_dl = DataLoader(train_ds, batch_size, shuffle=True)\n",
        "test_dl = DataLoader(test_ds, batch_size, shuffle=False)"
      ]
    },
    {
      "cell_type": "markdown",
      "metadata": {
        "id": "q_0GQWfMYnRB"
      },
      "source": [
        "### Adding Non-Linearity to our Model\n",
        "\n",
        "Let us use a **multilayer perceptron with non-linearity** to see how this does!"
      ]
    },
    {
      "cell_type": "code",
      "execution_count": 23,
      "metadata": {
        "colab": {
          "base_uri": "https://localhost:8080/"
        },
        "id": "9yWQmneSWiwZ",
        "outputId": "5f90f3d6-6023-4781-fc0a-d8d002169e69"
      },
      "outputs": [
        {
          "output_type": "execute_result",
          "data": {
            "text/plain": [
              "MultiLayerPerceptron(\n",
              "  (module_list): ModuleList(\n",
              "    (0): Linear(in_features=2, out_features=2, bias=True)\n",
              "    (1): ReLU()\n",
              "    (2): Linear(in_features=2, out_features=2, bias=True)\n",
              "    (3): GELU(approximate='none')\n",
              "    (4): Linear(in_features=2, out_features=2, bias=True)\n",
              "    (5): LogSoftmax(dim=1)\n",
              "  )\n",
              ")"
            ]
          },
          "metadata": {},
          "execution_count": 23
        }
      ],
      "source": [
        "# Creating our MLP\n",
        "class MultiLayerPerceptron(nn.Module):\n",
        "    def __init__(self, input_size, output_size, hidden_size):\n",
        "        super(MultiLayerPerceptron, self).__init__()\n",
        "        self.module_list = nn.ModuleList([ # Accomplishes the same thing but less code\n",
        "            nn.Linear(input_size, hidden_size),\n",
        "            nn.ReLU(),\n",
        "            nn.Linear(hidden_size, hidden_size),\n",
        "            nn.GELU(),\n",
        "            nn.Linear(hidden_size, output_size),\n",
        "            nn.LogSoftmax(dim=1)\n",
        "        ])\n",
        "\n",
        "    def forward(self, x):\n",
        "        for layer in self.module_list: # Accomplishes the same thing but less code\n",
        "            x = layer(x)\n",
        "        return x\n",
        "\n",
        "MLP = MultiLayerPerceptron(input_size, output_size, 2).to(device)\n",
        "MLP"
      ]
    },
    {
      "cell_type": "code",
      "execution_count": 24,
      "metadata": {
        "colab": {
          "base_uri": "https://localhost:8080/"
        },
        "id": "30TiRCH1dtqo",
        "outputId": "6fe3b24a-4ca4-4393-852c-e39f2d55bebf"
      },
      "outputs": [
        {
          "output_type": "stream",
          "name": "stdout",
          "text": [
            "Epoch 0, Loss: 0.3489470785856247, Zero Gradients: 3.8\n",
            "Epoch 10, Loss: 0.34402575105428695, Zero Gradients: 5.6\n",
            "Epoch 20, Loss: 0.27592690885066984, Zero Gradients: 5.5\n",
            "Epoch 30, Loss: 0.024150825068354607, Zero Gradients: 5.54\n",
            "Epoch 40, Loss: 0.009141817316412925, Zero Gradients: 5.72\n",
            "Epoch 50, Loss: 0.005446247169747949, Zero Gradients: 5.76\n",
            "Epoch 60, Loss: 0.003833148975390941, Zero Gradients: 5.7\n",
            "Epoch 70, Loss: 0.002941601846832782, Zero Gradients: 5.86\n",
            "Epoch 80, Loss: 0.0023783823440317064, Zero Gradients: 5.5\n",
            "Epoch 90, Loss: 0.001991626841481775, Zero Gradients: 5.66\n",
            "--------------\n",
            "Train Accuracy: 1.0\n"
          ]
        }
      ],
      "source": [
        "# Resetting our variables!\n",
        "np.random.seed(0)\n",
        "torch.manual_seed(0)\n",
        "torch.cuda.manual_seed(0)\n",
        "\n",
        "criterion = torch.nn.NLLLoss()\n",
        "optimizer = torch.optim.SGD(MLP.parameters(), lr=lr)\n",
        "losses = []\n",
        "\n",
        "# Training loop\n",
        "for epoch in range(100):\n",
        "    total_loss = 0\n",
        "    correct_predictions = 0\n",
        "    total_samples = 0\n",
        "    zero_gradients_count = 0\n",
        "\n",
        "    for inputs, labels in train_dl:\n",
        "        optimizer.zero_grad()\n",
        "        inputs, labels = inputs.to(device), labels.to(device)\n",
        "        outputs = MLP(inputs)\n",
        "        loss = criterion(outputs, labels)\n",
        "        loss.backward()\n",
        "\n",
        "        zero_gradients = sum((p.grad == 0).sum().item() for p in MLP.parameters() if p.grad is not None)\n",
        "        zero_gradients_count += zero_gradients\n",
        "\n",
        "        optimizer.step()\n",
        "\n",
        "        total_loss += loss.item()\n",
        "\n",
        "        predictions = outputs.argmax(dim=1)\n",
        "        correct_predictions += (predictions == labels).sum().item()\n",
        "        total_samples += labels.size(0)\n",
        "\n",
        "    avg_loss = total_loss / total_samples\n",
        "    losses.append(avg_loss)\n",
        "    avg_zero_gradients = zero_gradients_count / len(train_dl)\n",
        "\n",
        "    if epoch % 10 == 0:\n",
        "        print(f\"Epoch {epoch}, Loss: {avg_loss}, Zero Gradients: {avg_zero_gradients}\")\n",
        "\n",
        "print(\"--------------\")\n",
        "print(f\"Train Accuracy: {correct_predictions / total_samples}\")"
      ]
    },
    {
      "cell_type": "code",
      "execution_count": 25,
      "metadata": {
        "colab": {
          "base_uri": "https://localhost:8080/",
          "height": 564
        },
        "id": "F6551bfzeJE-",
        "outputId": "3af76917-49f0-4b8c-fb0b-f3a4037d5f4c"
      },
      "outputs": [
        {
          "output_type": "display_data",
          "data": {
            "text/plain": [
              "<Figure size 800x600 with 1 Axes>"
            ],
            "image/png": "[encoded data removed]"
          },
          "metadata": {}
        }
      ],
      "source": [
        "# Plotting the MLP training loss\n",
        "plt.figure(figsize=(8, 6))\n",
        "plt.plot(range(100), losses, label='Training Loss')\n",
        "plt.xlabel('Epoch')\n",
        "plt.ylabel('Loss')\n",
        "plt.title('Training Loss Over Epochs')\n",
        "plt.legend()\n",
        "plt.ylim(0, 1)\n",
        "plt.show()"
      ]
    },
    {
      "cell_type": "code",
      "execution_count": 26,
      "metadata": {
        "colab": {
          "base_uri": "https://localhost:8080/"
        },
        "id": "IKL9AphNeeCu",
        "outputId": "2ae4de15-3b09-4db3-f180-6b78e2b17407"
      },
      "outputs": [
        {
          "output_type": "stream",
          "name": "stdout",
          "text": [
            "Test Accuracy: 100.00%\n"
          ]
        }
      ],
      "source": [
        "# Set model to evaluation mode\n",
        "MLP.eval()\n",
        "\n",
        "# Initialize a counters for correct and total predictions\n",
        "correct = 0\n",
        "total = 0\n",
        "\n",
        "# Disable gradient calculation for evaluation\n",
        "with torch.no_grad():\n",
        "    for inputs, labels in test_dl:\n",
        "        inputs, labels = inputs.to(device), labels.to(device)\n",
        "        outputs = MLP(inputs)\n",
        "\n",
        "        _, predicted = torch.max(outputs, 1)\n",
        "\n",
        "        correct += (predicted == labels).sum().item()\n",
        "        total += labels.size(0)\n",
        "\n",
        "\n",
        "# Calculate accuracy\n",
        "accuracy = correct / total\n",
        "\n",
        "print(f'Test Accuracy: {accuracy * 100:.2f}%')"
      ]
    }
  ],
  "metadata": {
    "colab": {
      "provenance": []
    },
    "kernelspec": {
      "display_name": "Python 3",
      "name": "python3"
    },
    "language_info": {
      "codemirror_mode": {
        "name": "ipython",
        "version": 3
      },
      "file_extension": ".py",
      "mimetype": "text/x-python",
      "name": "python",
      "nbconvert_exporter": "python",
      "pygments_lexer": "ipython3",
      "version": "3.8.8"
    }
  },
  "nbformat": 4,
  "nbformat_minor": 0
}