{
  "cells": [
    {
      "cell_type": "code",
      "execution_count": 1,
      "metadata": {
        "colab": {
          "base_uri": "https://localhost:8080/"
        },
        "id": "5db00378",
        "outputId": "29bc0dd6-6dd8-49c1-ba78-b7c393731e4f"
      },
      "outputs": [
        {
          "output_type": "stream",
          "name": "stdout",
          "text": [
            "Collecting portalocker\n",
            "  Downloading portalocker-2.10.1-py3-none-any.whl.metadata (8.5 kB)\n",
            "Downloading portalocker-2.10.1-py3-none-any.whl (18 kB)\n",
            "Installing collected packages: portalocker\n",
            "Successfully installed portalocker-2.10.1\n",
            "Collecting torchmetrics\n",
            "  Downloading torchmetrics-1.5.0-py3-none-any.whl.metadata (20 kB)\n",
            "Requirement already satisfied: numpy<2.0,>1.20.0 in /usr/local/lib/python3.10/dist-packages (from torchmetrics) (1.26.4)\n",
            "Requirement already satisfied: packaging>17.1 in /usr/local/lib/python3.10/dist-packages (from torchmetrics) (24.1)\n",
            "Requirement already satisfied: torch>=1.10.0 in /usr/local/lib/python3.10/dist-packages (from torchmetrics) (2.4.1+cu121)\n",
            "Collecting lightning-utilities>=0.8.0 (from torchmetrics)\n",
            "  Downloading lightning_utilities-0.11.8-py3-none-any.whl.metadata (5.2 kB)\n",
            "Requirement already satisfied: setuptools in /usr/local/lib/python3.10/dist-packages (from lightning-utilities>=0.8.0->torchmetrics) (75.1.0)\n",
            "Requirement already satisfied: typing-extensions in /usr/local/lib/python3.10/dist-packages (from lightning-utilities>=0.8.0->torchmetrics) (4.12.2)\n",
            "Requirement already satisfied: filelock in /usr/local/lib/python3.10/dist-packages (from torch>=1.10.0->torchmetrics) (3.16.1)\n",
            "Requirement already satisfied: sympy in /usr/local/lib/python3.10/dist-packages (from torch>=1.10.0->torchmetrics) (1.13.3)\n",
            "Requirement already satisfied: networkx in /usr/local/lib/python3.10/dist-packages (from torch>=1.10.0->torchmetrics) (3.4.1)\n",
            "Requirement already satisfied: jinja2 in /usr/local/lib/python3.10/dist-packages (from torch>=1.10.0->torchmetrics) (3.1.4)\n",
            "Requirement already satisfied: fsspec in /usr/local/lib/python3.10/dist-packages (from torch>=1.10.0->torchmetrics) (2024.6.1)\n",
            "Requirement already satisfied: MarkupSafe>=2.0 in /usr/local/lib/python3.10/dist-packages (from jinja2->torch>=1.10.0->torchmetrics) (3.0.1)\n",
            "Requirement already satisfied: mpmath<1.4,>=1.1.0 in /usr/local/lib/python3.10/dist-packages (from sympy->torch>=1.10.0->torchmetrics) (1.3.0)\n",
            "Downloading torchmetrics-1.5.0-py3-none-any.whl (890 kB)\n",
            "\u001b[2K   \u001b[90m━━━━━━━━━━━━━━━━━━━━━━━━━━━━━━━━━━━━━━━━\u001b[0m \u001b[32m890.5/890.5 kB\u001b[0m \u001b[31m11.6 MB/s\u001b[0m eta \u001b[36m0:00:00\u001b[0m\n",
            "\u001b[?25hDownloading lightning_utilities-0.11.8-py3-none-any.whl (26 kB)\n",
            "Installing collected packages: lightning-utilities, torchmetrics\n",
            "Successfully installed lightning-utilities-0.11.8 torchmetrics-1.5.0\n",
            "Looking in indexes: https://download.pytorch.org/whl/cu121\n",
            "Collecting torch==2.2.0\n",
            "  Downloading https://download.pytorch.org/whl/cu121/torch-2.2.0%2Bcu121-cp310-cp310-linux_x86_64.whl (757.3 MB)\n",
            "\u001b[2K     \u001b[90m━━━━━━━━━━━━━━━━━━━━━━━━━━━━━━━━━━━━━━━━\u001b[0m \u001b[32m757.3/757.3 MB\u001b[0m \u001b[31m2.3 MB/s\u001b[0m eta \u001b[36m0:00:00\u001b[0m\n",
            "\u001b[?25hCollecting torchvision==0.17.0\n",
            "  Downloading https://download.pytorch.org/whl/cu121/torchvision-0.17.0%2Bcu121-cp310-cp310-linux_x86_64.whl (7.0 MB)\n",
            "\u001b[2K     \u001b[90m━━━━━━━━━━━━━━━━━━━━━━━━━━━━━━━━━━━━━━━━\u001b[0m \u001b[32m7.0/7.0 MB\u001b[0m \u001b[31m58.9 MB/s\u001b[0m eta \u001b[36m0:00:00\u001b[0m\n",
            "\u001b[?25hCollecting torchaudio==2.2.0\n",
            "  Downloading https://download.pytorch.org/whl/cu121/torchaudio-2.2.0%2Bcu121-cp310-cp310-linux_x86_64.whl (3.4 MB)\n",
            "\u001b[2K     \u001b[90m━━━━━━━━━━━━━━━━━━━━━━━━━━━━━━━━━━━━━━━━\u001b[0m \u001b[32m3.4/3.4 MB\u001b[0m \u001b[31m41.0 MB/s\u001b[0m eta \u001b[36m0:00:00\u001b[0m\n",
            "\u001b[?25hCollecting torchtext==0.17.0\n",
            "  Downloading https://download.pytorch.org/whl/torchtext-0.17.0%2Bcpu-cp310-cp310-linux_x86_64.whl (2.0 MB)\n",
            "\u001b[2K     \u001b[90m━━━━━━━━━━━━━━━━━━━━━━━━━━━━━━━━━━━━━━━━\u001b[0m \u001b[32m2.0/2.0 MB\u001b[0m \u001b[31m43.0 MB/s\u001b[0m eta \u001b[36m0:00:00\u001b[0m\n",
            "\u001b[?25hRequirement already satisfied: filelock in /usr/local/lib/python3.10/dist-packages (from torch==2.2.0) (3.16.1)\n",
            "Requirement already satisfied: typing-extensions>=4.8.0 in /usr/local/lib/python3.10/dist-packages (from torch==2.2.0) (4.12.2)\n",
            "Requirement already satisfied: sympy in /usr/local/lib/python3.10/dist-packages (from torch==2.2.0) (1.13.3)\n",
            "Requirement already satisfied: networkx in /usr/local/lib/python3.10/dist-packages (from torch==2.2.0) (3.4.1)\n",
            "Requirement already satisfied: jinja2 in /usr/local/lib/python3.10/dist-packages (from torch==2.2.0) (3.1.4)\n",
            "Requirement already satisfied: fsspec in /usr/local/lib/python3.10/dist-packages (from torch==2.2.0) (2024.6.1)\n",
            "Collecting nvidia-cuda-nvrtc-cu12==12.1.105 (from torch==2.2.0)\n",
            "  Downloading https://download.pytorch.org/whl/cu121/nvidia_cuda_nvrtc_cu12-12.1.105-py3-none-manylinux1_x86_64.whl (23.7 MB)\n",
            "\u001b[2K     \u001b[90m━━━━━━━━━━━━━━━━━━━━━━━━━━━━━━━━━━━━━━━━\u001b[0m \u001b[32m23.7/23.7 MB\u001b[0m \u001b[31m44.6 MB/s\u001b[0m eta \u001b[36m0:00:00\u001b[0m\n",
            "\u001b[?25hCollecting nvidia-cuda-runtime-cu12==12.1.105 (from torch==2.2.0)\n",
            "  Downloading https://download.pytorch.org/whl/cu121/nvidia_cuda_runtime_cu12-12.1.105-py3-none-manylinux1_x86_64.whl (823 kB)\n",
            "\u001b[2K     \u001b[90m━━━━━━━━━━━━━━━━━━━━━━━━━━━━━━━━━━━━━━━━\u001b[0m \u001b[32m823.6/823.6 kB\u001b[0m \u001b[31m22.3 MB/s\u001b[0m eta \u001b[36m0:00:00\u001b[0m\n",
            "\u001b[?25hCollecting nvidia-cuda-cupti-cu12==12.1.105 (from torch==2.2.0)\n",
            "  Downloading https://download.pytorch.org/whl/cu121/nvidia_cuda_cupti_cu12-12.1.105-py3-none-manylinux1_x86_64.whl (14.1 MB)\n",
            "\u001b[2K     \u001b[90m━━━━━━━━━━━━━━━━━━━━━━━━━━━━━━━━━━━━━━━━\u001b[0m \u001b[32m14.1/14.1 MB\u001b[0m \u001b[31m57.2 MB/s\u001b[0m eta \u001b[36m0:00:00\u001b[0m\n",
            "\u001b[?25hCollecting nvidia-cudnn-cu12==8.9.2.26 (from torch==2.2.0)\n",
            "  Downloading https://download.pytorch.org/whl/cu121/nvidia_cudnn_cu12-8.9.2.26-py3-none-manylinux1_x86_64.whl (731.7 MB)\n",
            "\u001b[2K     \u001b[90m━━━━━━━━━━━━━━━━━━━━━━━━━━━━━━━━━━━━━━━━\u001b[0m \u001b[32m731.7/731.7 MB\u001b[0m \u001b[31m2.5 MB/s\u001b[0m eta \u001b[36m0:00:00\u001b[0m\n",
            "\u001b[?25hCollecting nvidia-cublas-cu12==12.1.3.1 (from torch==2.2.0)\n",
            "  Downloading https://download.pytorch.org/whl/cu121/nvidia_cublas_cu12-12.1.3.1-py3-none-manylinux1_x86_64.whl (410.6 MB)\n",
            "\u001b[2K     \u001b[90m━━━━━━━━━━━━━━━━━━━━━━━━━━━━━━━━━━━━━━━━\u001b[0m \u001b[32m410.6/410.6 MB\u001b[0m \u001b[31m4.1 MB/s\u001b[0m eta \u001b[36m0:00:00\u001b[0m\n",
            "\u001b[?25hCollecting nvidia-cufft-cu12==11.0.2.54 (from torch==2.2.0)\n",
            "  Downloading https://download.pytorch.org/whl/cu121/nvidia_cufft_cu12-11.0.2.54-py3-none-manylinux1_x86_64.whl (121.6 MB)\n",
            "\u001b[2K     \u001b[90m━━━━━━━━━━━━━━━━━━━━━━━━━━━━━━━━━━━━━━━━\u001b[0m \u001b[32m121.6/121.6 MB\u001b[0m \u001b[31m7.6 MB/s\u001b[0m eta \u001b[36m0:00:00\u001b[0m\n",
            "\u001b[?25hCollecting nvidia-curand-cu12==10.3.2.106 (from torch==2.2.0)\n",
            "  Downloading https://download.pytorch.org/whl/cu121/nvidia_curand_cu12-10.3.2.106-py3-none-manylinux1_x86_64.whl (56.5 MB)\n",
            "\u001b[2K     \u001b[90m━━━━━━━━━━━━━━━━━━━━━━━━━━━━━━━━━━━━━━━━\u001b[0m \u001b[32m56.5/56.5 MB\u001b[0m \u001b[31m11.9 MB/s\u001b[0m eta \u001b[36m0:00:00\u001b[0m\n",
            "\u001b[?25hCollecting nvidia-cusolver-cu12==11.4.5.107 (from torch==2.2.0)\n",
            "  Downloading https://download.pytorch.org/whl/cu121/nvidia_cusolver_cu12-11.4.5.107-py3-none-manylinux1_x86_64.whl (124.2 MB)\n",
            "\u001b[2K     \u001b[90m━━━━━━━━━━━━━━━━━━━━━━━━━━━━━━━━━━━━━━━━\u001b[0m \u001b[32m124.2/124.2 MB\u001b[0m \u001b[31m7.3 MB/s\u001b[0m eta \u001b[36m0:00:00\u001b[0m\n",
            "\u001b[?25hCollecting nvidia-cusparse-cu12==12.1.0.106 (from torch==2.2.0)\n",
            "  Downloading https://download.pytorch.org/whl/cu121/nvidia_cusparse_cu12-12.1.0.106-py3-none-manylinux1_x86_64.whl (196.0 MB)\n",
            "\u001b[2K     \u001b[90m━━━━━━━━━━━━━━━━━━━━━━━━━━━━━━━━━━━━━━━━\u001b[0m \u001b[32m196.0/196.0 MB\u001b[0m \u001b[31m6.1 MB/s\u001b[0m eta \u001b[36m0:00:00\u001b[0m\n",
            "\u001b[?25hCollecting nvidia-nccl-cu12==2.19.3 (from torch==2.2.0)\n",
            "  Downloading https://download.pytorch.org/whl/cu121/nvidia_nccl_cu12-2.19.3-py3-none-manylinux1_x86_64.whl (166.0 MB)\n",
            "\u001b[2K     \u001b[90m━━━━━━━━━━━━━━━━━━━━━━━━━━━━━━━━━━━━━━━━\u001b[0m \u001b[32m166.0/166.0 MB\u001b[0m \u001b[31m6.6 MB/s\u001b[0m eta \u001b[36m0:00:00\u001b[0m\n",
            "\u001b[?25hCollecting nvidia-nvtx-cu12==12.1.105 (from torch==2.2.0)\n",
            "  Downloading https://download.pytorch.org/whl/cu121/nvidia_nvtx_cu12-12.1.105-py3-none-manylinux1_x86_64.whl (99 kB)\n",
            "\u001b[2K     \u001b[90m━━━━━━━━━━━━━━━━━━━━━━━━━━━━━━━━━━━━━━━━\u001b[0m \u001b[32m99.1/99.1 kB\u001b[0m \u001b[31m10.0 MB/s\u001b[0m eta \u001b[36m0:00:00\u001b[0m\n",
            "\u001b[?25hCollecting triton==2.2.0 (from torch==2.2.0)\n",
            "  Downloading https://download.pytorch.org/whl/triton-2.2.0-cp310-cp310-manylinux_2_17_x86_64.manylinux2014_x86_64.whl (167.9 MB)\n",
            "\u001b[2K     \u001b[90m━━━━━━━━━━━━━━━━━━━━━━━━━━━━━━━━━━━━━━━━\u001b[0m \u001b[32m167.9/167.9 MB\u001b[0m \u001b[31m6.8 MB/s\u001b[0m eta \u001b[36m0:00:00\u001b[0m\n",
            "\u001b[?25hRequirement already satisfied: numpy in /usr/local/lib/python3.10/dist-packages (from torchvision==0.17.0) (1.26.4)\n",
            "Requirement already satisfied: requests in /usr/local/lib/python3.10/dist-packages (from torchvision==0.17.0) (2.32.3)\n",
            "Requirement already satisfied: pillow!=8.3.*,>=5.3.0 in /usr/local/lib/python3.10/dist-packages (from torchvision==0.17.0) (10.4.0)\n",
            "Requirement already satisfied: tqdm in /usr/local/lib/python3.10/dist-packages (from torchtext==0.17.0) (4.66.5)\n",
            "Collecting torchdata==0.7.1 (from torchtext==0.17.0)\n",
            "  Downloading https://download.pytorch.org/whl/torchdata-0.7.1-cp310-cp310-manylinux_2_17_x86_64.manylinux2014_x86_64.whl (4.7 MB)\n",
            "\u001b[2K     \u001b[90m━━━━━━━━━━━━━━━━━━━━━━━━━━━━━━━━━━━━━━━━\u001b[0m \u001b[32m4.7/4.7 MB\u001b[0m \u001b[31m88.2 MB/s\u001b[0m eta \u001b[36m0:00:00\u001b[0m\n",
            "\u001b[?25hRequirement already satisfied: nvidia-nvjitlink-cu12 in /usr/local/lib/python3.10/dist-packages (from nvidia-cusolver-cu12==11.4.5.107->torch==2.2.0) (12.6.77)\n",
            "Requirement already satisfied: urllib3>=1.25 in /usr/local/lib/python3.10/dist-packages (from torchdata==0.7.1->torchtext==0.17.0) (2.2.3)\n",
            "Requirement already satisfied: MarkupSafe>=2.0 in /usr/local/lib/python3.10/dist-packages (from jinja2->torch==2.2.0) (3.0.1)\n",
            "Requirement already satisfied: charset-normalizer<4,>=2 in /usr/local/lib/python3.10/dist-packages (from requests->torchvision==0.17.0) (3.4.0)\n",
            "Requirement already satisfied: idna<4,>=2.5 in /usr/local/lib/python3.10/dist-packages (from requests->torchvision==0.17.0) (3.10)\n",
            "Requirement already satisfied: certifi>=2017.4.17 in /usr/local/lib/python3.10/dist-packages (from requests->torchvision==0.17.0) (2024.8.30)\n",
            "Requirement already satisfied: mpmath<1.4,>=1.1.0 in /usr/local/lib/python3.10/dist-packages (from sympy->torch==2.2.0) (1.3.0)\n",
            "Installing collected packages: triton, nvidia-nvtx-cu12, nvidia-nccl-cu12, nvidia-cusparse-cu12, nvidia-curand-cu12, nvidia-cufft-cu12, nvidia-cuda-runtime-cu12, nvidia-cuda-nvrtc-cu12, nvidia-cuda-cupti-cu12, nvidia-cublas-cu12, nvidia-cusolver-cu12, nvidia-cudnn-cu12, torch, torchvision, torchdata, torchaudio, torchtext\n",
            "  Attempting uninstall: nvidia-nccl-cu12\n",
            "    Found existing installation: nvidia-nccl-cu12 2.23.4\n",
            "    Uninstalling nvidia-nccl-cu12-2.23.4:\n",
            "      Successfully uninstalled nvidia-nccl-cu12-2.23.4\n",
            "  Attempting uninstall: nvidia-cusparse-cu12\n",
            "    Found existing installation: nvidia-cusparse-cu12 12.5.4.2\n",
            "    Uninstalling nvidia-cusparse-cu12-12.5.4.2:\n",
            "      Successfully uninstalled nvidia-cusparse-cu12-12.5.4.2\n",
            "  Attempting uninstall: nvidia-curand-cu12\n",
            "    Found existing installation: nvidia-curand-cu12 10.3.7.77\n",
            "    Uninstalling nvidia-curand-cu12-10.3.7.77:\n",
            "      Successfully uninstalled nvidia-curand-cu12-10.3.7.77\n",
            "  Attempting uninstall: nvidia-cufft-cu12\n",
            "    Found existing installation: nvidia-cufft-cu12 11.3.0.4\n",
            "    Uninstalling nvidia-cufft-cu12-11.3.0.4:\n",
            "      Successfully uninstalled nvidia-cufft-cu12-11.3.0.4\n",
            "  Attempting uninstall: nvidia-cuda-runtime-cu12\n",
            "    Found existing installation: nvidia-cuda-runtime-cu12 12.6.77\n",
            "    Uninstalling nvidia-cuda-runtime-cu12-12.6.77:\n",
            "      Successfully uninstalled nvidia-cuda-runtime-cu12-12.6.77\n",
            "  Attempting uninstall: nvidia-cuda-cupti-cu12\n",
            "    Found existing installation: nvidia-cuda-cupti-cu12 12.6.80\n",
            "    Uninstalling nvidia-cuda-cupti-cu12-12.6.80:\n",
            "      Successfully uninstalled nvidia-cuda-cupti-cu12-12.6.80\n",
            "  Attempting uninstall: nvidia-cublas-cu12\n",
            "    Found existing installation: nvidia-cublas-cu12 12.6.3.3\n",
            "    Uninstalling nvidia-cublas-cu12-12.6.3.3:\n",
            "      Successfully uninstalled nvidia-cublas-cu12-12.6.3.3\n",
            "  Attempting uninstall: nvidia-cusolver-cu12\n",
            "    Found existing installation: nvidia-cusolver-cu12 11.7.1.2\n",
            "    Uninstalling nvidia-cusolver-cu12-11.7.1.2:\n",
            "      Successfully uninstalled nvidia-cusolver-cu12-11.7.1.2\n",
            "  Attempting uninstall: nvidia-cudnn-cu12\n",
            "    Found existing installation: nvidia-cudnn-cu12 9.5.0.50\n",
            "    Uninstalling nvidia-cudnn-cu12-9.5.0.50:\n",
            "      Successfully uninstalled nvidia-cudnn-cu12-9.5.0.50\n",
            "  Attempting uninstall: torch\n",
            "    Found existing installation: torch 2.4.1+cu121\n",
            "    Uninstalling torch-2.4.1+cu121:\n",
            "      Successfully uninstalled torch-2.4.1+cu121\n",
            "  Attempting uninstall: torchvision\n",
            "    Found existing installation: torchvision 0.19.1+cu121\n",
            "    Uninstalling torchvision-0.19.1+cu121:\n",
            "      Successfully uninstalled torchvision-0.19.1+cu121\n",
            "  Attempting uninstall: torchaudio\n",
            "    Found existing installation: torchaudio 2.4.1+cu121\n",
            "    Uninstalling torchaudio-2.4.1+cu121:\n",
            "      Successfully uninstalled torchaudio-2.4.1+cu121\n",
            "Successfully installed nvidia-cublas-cu12-12.1.3.1 nvidia-cuda-cupti-cu12-12.1.105 nvidia-cuda-nvrtc-cu12-12.1.105 nvidia-cuda-runtime-cu12-12.1.105 nvidia-cudnn-cu12-8.9.2.26 nvidia-cufft-cu12-11.0.2.54 nvidia-curand-cu12-10.3.2.106 nvidia-cusolver-cu12-11.4.5.107 nvidia-cusparse-cu12-12.1.0.106 nvidia-nccl-cu12-2.19.3 nvidia-nvtx-cu12-12.1.105 torch-2.2.0+cu121 torchaudio-2.2.0+cu121 torchdata-0.7.1 torchtext-0.17.0+cpu torchvision-0.17.0+cu121 triton-2.2.0\n",
            "Requirement already satisfied: torchdata in /usr/local/lib/python3.10/dist-packages (0.7.1)\n",
            "Requirement already satisfied: urllib3>=1.25 in /usr/local/lib/python3.10/dist-packages (from torchdata) (2.2.3)\n",
            "Requirement already satisfied: requests in /usr/local/lib/python3.10/dist-packages (from torchdata) (2.32.3)\n",
            "Requirement already satisfied: torch>=2 in /usr/local/lib/python3.10/dist-packages (from torchdata) (2.2.0+cu121)\n",
            "Requirement already satisfied: filelock in /usr/local/lib/python3.10/dist-packages (from torch>=2->torchdata) (3.16.1)\n",
            "Requirement already satisfied: typing-extensions>=4.8.0 in /usr/local/lib/python3.10/dist-packages (from torch>=2->torchdata) (4.12.2)\n",
            "Requirement already satisfied: sympy in /usr/local/lib/python3.10/dist-packages (from torch>=2->torchdata) (1.13.3)\n",
            "Requirement already satisfied: networkx in /usr/local/lib/python3.10/dist-packages (from torch>=2->torchdata) (3.4.1)\n",
            "Requirement already satisfied: jinja2 in /usr/local/lib/python3.10/dist-packages (from torch>=2->torchdata) (3.1.4)\n",
            "Requirement already satisfied: fsspec in /usr/local/lib/python3.10/dist-packages (from torch>=2->torchdata) (2024.6.1)\n",
            "Requirement already satisfied: nvidia-cuda-nvrtc-cu12==12.1.105 in /usr/local/lib/python3.10/dist-packages (from torch>=2->torchdata) (12.1.105)\n",
            "Requirement already satisfied: nvidia-cuda-runtime-cu12==12.1.105 in /usr/local/lib/python3.10/dist-packages (from torch>=2->torchdata) (12.1.105)\n",
            "Requirement already satisfied: nvidia-cuda-cupti-cu12==12.1.105 in /usr/local/lib/python3.10/dist-packages (from torch>=2->torchdata) (12.1.105)\n",
            "Requirement already satisfied: nvidia-cudnn-cu12==8.9.2.26 in /usr/local/lib/python3.10/dist-packages (from torch>=2->torchdata) (8.9.2.26)\n",
            "Requirement already satisfied: nvidia-cublas-cu12==12.1.3.1 in /usr/local/lib/python3.10/dist-packages (from torch>=2->torchdata) (12.1.3.1)\n",
            "Requirement already satisfied: nvidia-cufft-cu12==11.0.2.54 in /usr/local/lib/python3.10/dist-packages (from torch>=2->torchdata) (11.0.2.54)\n",
            "Requirement already satisfied: nvidia-curand-cu12==10.3.2.106 in /usr/local/lib/python3.10/dist-packages (from torch>=2->torchdata) (10.3.2.106)\n",
            "Requirement already satisfied: nvidia-cusolver-cu12==11.4.5.107 in /usr/local/lib/python3.10/dist-packages (from torch>=2->torchdata) (11.4.5.107)\n",
            "Requirement already satisfied: nvidia-cusparse-cu12==12.1.0.106 in /usr/local/lib/python3.10/dist-packages (from torch>=2->torchdata) (12.1.0.106)\n",
            "Requirement already satisfied: nvidia-nccl-cu12==2.19.3 in /usr/local/lib/python3.10/dist-packages (from torch>=2->torchdata) (2.19.3)\n",
            "Requirement already satisfied: nvidia-nvtx-cu12==12.1.105 in /usr/local/lib/python3.10/dist-packages (from torch>=2->torchdata) (12.1.105)\n",
            "Requirement already satisfied: triton==2.2.0 in /usr/local/lib/python3.10/dist-packages (from torch>=2->torchdata) (2.2.0)\n",
            "Requirement already satisfied: nvidia-nvjitlink-cu12 in /usr/local/lib/python3.10/dist-packages (from nvidia-cusolver-cu12==11.4.5.107->torch>=2->torchdata) (12.6.77)\n",
            "Requirement already satisfied: charset-normalizer<4,>=2 in /usr/local/lib/python3.10/dist-packages (from requests->torchdata) (3.4.0)\n",
            "Requirement already satisfied: idna<4,>=2.5 in /usr/local/lib/python3.10/dist-packages (from requests->torchdata) (3.10)\n",
            "Requirement already satisfied: certifi>=2017.4.17 in /usr/local/lib/python3.10/dist-packages (from requests->torchdata) (2024.8.30)\n",
            "Requirement already satisfied: MarkupSafe>=2.0 in /usr/local/lib/python3.10/dist-packages (from jinja2->torch>=2->torchdata) (3.0.1)\n",
            "Requirement already satisfied: mpmath<1.4,>=1.1.0 in /usr/local/lib/python3.10/dist-packages (from sympy->torch>=2->torchdata) (1.3.0)\n"
          ]
        }
      ],
      "source": [
        "!pip install portalocker\n",
        "!pip install torchmetrics\n",
        "!pip install torch==2.2.0 torchvision==0.17.0 torchaudio==2.2.0 torchtext==0.17.0 --index-url https://download.pytorch.org/whl/cu121\n",
        "!pip install torchdata"
      ],
      "id": "5db00378"
    },
    {
      "cell_type": "code",
      "execution_count": 2,
      "metadata": {
        "id": "OzgMJwpmc0iC"
      },
      "outputs": [],
      "source": [
        "import argparse\n",
        "import logging\n",
        "import time\n",
        "import torch\n",
        "from torch.utils.data import DataLoader\n",
        "from torch.utils.data.dataset import random_split\n",
        "import torchtext\n",
        "from torchtext.data.functional import to_map_style_dataset\n",
        "from torchtext.data.utils import get_tokenizer, ngrams_iterator\n",
        "from torchtext.datasets import DATASETS\n",
        "from torchtext.utils import download_from_url\n",
        "from torchtext.vocab import build_vocab_from_iterator\n",
        "import torch.nn as nn\n",
        "from torch.nn.utils.rnn import pad_sequence\n",
        "import torch.nn.functional as F\n",
        "import torchmetrics\n",
        "\n",
        "_FILL_ = '_FILL_'\n",
        "SEED = 1"
      ],
      "id": "OzgMJwpmc0iC"
    },
    {
      "cell_type": "markdown",
      "metadata": {
        "id": "kh4pAKXgy0tH"
      },
      "source": [
        "For any of these questions, insert code where there is `_FILL_` so that this notebooks runs correctly."
      ],
      "id": "kh4pAKXgy0tH"
    },
    {
      "cell_type": "markdown",
      "metadata": {
        "id": "fHdrXN4d1M_2"
      },
      "source": [
        "Short Question\n",
        "\n",
        "Set up the optimization problem below where we take a random y of data and want theta to converge to this y."
      ],
      "id": "fHdrXN4d1M_2"
    },
    {
      "cell_type": "code",
      "execution_count": 3,
      "metadata": {
        "colab": {
          "base_uri": "https://localhost:8080/"
        },
        "id": "8OsAbUVezIwD",
        "outputId": "055515b4-111a-4faf-8c10-15313e59af39"
      },
      "outputs": [
        {
          "output_type": "stream",
          "name": "stdout",
          "text": [
            "Epoch:0 Loss: 0.12598632276058197\n",
            "Epoch:1 Loss: 0.12099725753068924\n",
            "Epoch:2 Loss: 0.11620575934648514\n",
            "Epoch:3 Loss: 0.11160401999950409\n",
            "Epoch:4 Loss: 0.10718449205160141\n",
            "Epoch:5 Loss: 0.10293998569250107\n",
            "Epoch:6 Loss: 0.09886356443166733\n",
            "Epoch:7 Loss: 0.09494855999946594\n",
            "Epoch:8 Loss: 0.09118860214948654\n",
            "Epoch:9 Loss: 0.08757752925157547\n",
            "Epoch:10 Loss: 0.08410947024822235\n",
            "Epoch:11 Loss: 0.08077872544527054\n",
            "Epoch:12 Loss: 0.07757987827062607\n",
            "Epoch:13 Loss: 0.07450772076845169\n",
            "Epoch:14 Loss: 0.07155721634626389\n",
            "Epoch:15 Loss: 0.06872355192899704\n",
            "Epoch:16 Loss: 0.06600210070610046\n",
            "Epoch:17 Loss: 0.06338842958211899\n",
            "Epoch:18 Loss: 0.060878243297338486\n",
            "Epoch:19 Loss: 0.05846746265888214\n",
            "Epoch:20 Loss: 0.05615214258432388\n",
            "Epoch:21 Loss: 0.05392852798104286\n",
            "Epoch:22 Loss: 0.05179295316338539\n",
            "Epoch:23 Loss: 0.0497419573366642\n",
            "Epoch:24 Loss: 0.04777217283844948\n",
            "Epoch:25 Loss: 0.04588039591908455\n",
            "Epoch:26 Loss: 0.04406353086233139\n",
            "Epoch:27 Loss: 0.042318619787693024\n",
            "Epoch:28 Loss: 0.04064280167222023\n",
            "Epoch:29 Loss: 0.03903334215283394\n",
            "Epoch:30 Loss: 0.03748762235045433\n",
            "Epoch:31 Loss: 0.03600311279296875\n",
            "Epoch:32 Loss: 0.0345773883163929\n",
            "Epoch:33 Loss: 0.033208124339580536\n",
            "Epoch:34 Loss: 0.031893085688352585\n",
            "Epoch:35 Loss: 0.030630115419626236\n",
            "Epoch:36 Loss: 0.029417166486382484\n",
            "Epoch:37 Loss: 0.028252243995666504\n",
            "Epoch:38 Loss: 0.027133453637361526\n",
            "Epoch:39 Loss: 0.026058966293931007\n",
            "Epoch:40 Loss: 0.02502703107893467\n",
            "Epoch:41 Loss: 0.024035964161157608\n",
            "Epoch:42 Loss: 0.023084139451384544\n",
            "Epoch:43 Loss: 0.02217000350356102\n",
            "Epoch:44 Loss: 0.02129206620156765\n",
            "Epoch:45 Loss: 0.020448904484510422\n",
            "Epoch:46 Loss: 0.01963912695646286\n",
            "Epoch:47 Loss: 0.018861418589949608\n",
            "Epoch:48 Loss: 0.01811450906097889\n",
            "Epoch:49 Loss: 0.017397169023752213\n",
            "Epoch:50 Loss: 0.016708245500922203\n",
            "Epoch:51 Loss: 0.01604660041630268\n",
            "Epoch:52 Loss: 0.015411150641739368\n",
            "Epoch:53 Loss: 0.014800871722400188\n",
            "Epoch:54 Loss: 0.014214761555194855\n",
            "Epoch:55 Loss: 0.013651855289936066\n",
            "Epoch:56 Loss: 0.013111243024468422\n",
            "Epoch:57 Loss: 0.012592040002346039\n",
            "Epoch:58 Loss: 0.012093393132090569\n",
            "Epoch:59 Loss: 0.011614494025707245\n",
            "Epoch:60 Loss: 0.01115456037223339\n",
            "Epoch:61 Loss: 0.010712837800383568\n",
            "Epoch:62 Loss: 0.01028861291706562\n",
            "Epoch:63 Loss: 0.009881184436380863\n",
            "Epoch:64 Loss: 0.009489888325333595\n",
            "Epoch:65 Loss: 0.009114089421927929\n",
            "Epoch:66 Loss: 0.008753173984587193\n",
            "Epoch:67 Loss: 0.008406546898186207\n",
            "Epoch:68 Loss: 0.008073647506535053\n",
            "Epoch:69 Loss: 0.007753936108201742\n",
            "Epoch:70 Loss: 0.0074468813836574554\n",
            "Epoch:71 Loss: 0.007151986472308636\n",
            "Epoch:72 Loss: 0.0068687694147229195\n",
            "Epoch:73 Loss: 0.006596763618290424\n",
            "Epoch:74 Loss: 0.0063355290330946445\n",
            "Epoch:75 Loss: 0.00608464190736413\n",
            "Epoch:76 Loss: 0.005843692924827337\n",
            "Epoch:77 Loss: 0.005612284876406193\n",
            "Epoch:78 Loss: 0.005390040576457977\n",
            "Epoch:79 Loss: 0.005176595877856016\n",
            "Epoch:80 Loss: 0.004971604328602552\n",
            "Epoch:81 Loss: 0.004774731583893299\n",
            "Epoch:82 Loss: 0.00458565354347229\n",
            "Epoch:83 Loss: 0.004404062405228615\n",
            "Epoch:84 Loss: 0.004229661542922258\n",
            "Epoch:85 Loss: 0.00406216736882925\n",
            "Epoch:86 Loss: 0.0039013077039271593\n",
            "Epoch:87 Loss: 0.0037468145601451397\n",
            "Epoch:88 Loss: 0.003598442068323493\n",
            "Epoch:89 Loss: 0.0034559431951493025\n",
            "Epoch:90 Loss: 0.0033190890680998564\n",
            "Epoch:91 Loss: 0.003187654772773385\n",
            "Epoch:92 Loss: 0.003061422612518072\n",
            "Epoch:93 Loss: 0.002940190490335226\n",
            "Epoch:94 Loss: 0.0028237593360245228\n",
            "Epoch:95 Loss: 0.002711939625442028\n",
            "Epoch:96 Loss: 0.0026045481208711863\n",
            "Epoch:97 Loss: 0.002501407405361533\n",
            "Epoch:98 Loss: 0.0024023514706641436\n",
            "Epoch:99 Loss: 0.002307219197973609\n",
            "tensor([[0.7576, 0.2793, 0.4031]])\n",
            "tensor([[0.7448, 0.2777, 0.3578]], requires_grad=True)\n"
          ]
        }
      ],
      "source": [
        "from torch._functorch.vmap import lazy_load_decompositions\n",
        "# Short Question\n",
        "\n",
        "torch.manual_seed(SEED)\n",
        "# Define y to be a target of dimension (1, 3) without a gradient\n",
        "y = torch.tensor([[0.7576, 0.2793, 0.4031]], requires_grad=False)\n",
        "\n",
        "# Define theta to be a random tensor of dimension (1, 3) which requires a gradient; we want theta to converge to y\n",
        "theta = torch.randn((1, 3), requires_grad=True)\n",
        "\n",
        "# Define an SGD optimizer with learning rate 0.01 which acts on theta\n",
        "optimizer = torch.optim.SGD([theta], lr=0.01)\n",
        "\n",
        "# Fil in the code below using the optimizer above to get theta to converge to y\n",
        "for epoch in range(100):\n",
        "  # Zero out the gradients of l with respect to theta\n",
        "  optimizer.zero_grad()\n",
        "\n",
        "  # Define a loss manually which is ||theta-x||_{2}^{2}, the L2 loss across all components\n",
        "  loss = torch.norm(theta - y, p=2) ** 2\n",
        "\n",
        "  print('Epoch:{} Loss: {}'.format(epoch, loss))\n",
        "\n",
        "  # Get teh gradients of l with respect to theta\n",
        "  loss.backward()\n",
        "\n",
        "  # Update theta\n",
        "  optimizer.step()\n",
        "\n",
        "# These should look very similar\n",
        "print(y)\n",
        "print(theta)\n",
        "\n",
        "with torch.no_grad():\n",
        "  # Check the y and theta have converged to almost the same thing\n",
        "  loss = torch.norm(theta - y, p=2) ** 2\n",
        "  assert (loss.item() - 0.0)**2 <= 0.001"
      ],
      "id": "8OsAbUVezIwD"
    },
    {
      "cell_type": "code",
      "execution_count": 4,
      "metadata": {
        "id": "MgA6DK8R3BUU"
      },
      "outputs": [],
      "source": [
        "# Suppose we forget optimizer.zero_grad()\n",
        "# Given an example of what this does and why we WOULD want to do this\n",
        "# Hint: if you are doing batch gradient descent and call optimizer.zero_grad() every 3 batches, what is the gradient represent?\n",
        "\n",
        "# When we forget to call optimizer.zero_grad(), the gradients accumulate across iterations.\n",
        "# This causes updates to become larger than intended because the gradients are never reset.\n",
        "# If we are doing batch gradient descent and we call optimizer.zero_grad() every 3 batches,\n",
        "# the gradients represent the sum of the gradients from all 3 batches.\n",
        "# This leads to larger updates after every 3 batches compared to resetting the gradients after each batch."
      ],
      "id": "MgA6DK8R3BUU"
    },
    {
      "cell_type": "markdown",
      "metadata": {
        "id": "f5tQSyJ9cIOU"
      },
      "source": [
        "# Neural Text Classifier - Information\n",
        "\n",
        "For this problem, you will build a basic Neural Text Classifier. The problem will take you through some of the steps needed to be done, including the preprocessing.\n",
        "\n",
        "There is alot of helper code here, but your task is to add in code that has `_FILL_` specified. All assertions should pass.\n",
        "\n",
        "The at a high level, the idea of this model goes as follows.\n",
        "- We are given a training set $\\{(x^{(i)}, y^{(i)})\\}_{i=1}^{N}$ where each $x^{(i)}$ is a sentence and $y^{(i)}$ is a class label.\n",
        "- First, we need to loop over $\\{x^{(i)}\\}_{i=1}^{N}$ and get the Vocabulary, the number of unique words we see.\n",
        "- Once we do this, we will express each word as a one-hot representation. To do this, we will use a mapping from a unique word to an integer. For example, \"the\" might get index 3 and if there are 10 words (in the entire Vocabulary) then \"the\" would have a vector representation $x_{the} = (0,0,1,0,0,0,0,0,0,0)$. There will be many words in this Vocabulary, over 13,000. For this example, each word is mapped to a unique integer.\n",
        "- We will feed batches of data to the model and each batch will be transformed into a tensor with words each word transformed to its integer index in VOCAB below.\n",
        "- For example, we might get [[\"the man walks\"], [\"this is a sentence\"]] -> [[\"the\", \"man\", \"walks\"], [\"this\", \"is\", \"a\", \"sentence\"]] -> [[1, 4, 5], [6, 7, 8, 15]]. It depends on what unique integer each word gets.\n",
        "- Different sentences have different numbers of tokens but all batches need to be the same dimension (this is how PyTorch works), so we need a padding token. So, for example, if the batch size is B = 2 and we given two sentences like [\"a b c\", \"a b c d e\"] then as a tensor this will become [[1, 2, 3, 0, 0], [1, 2, 3, 4, 5]] and notice that we padded the first example so that the tensor is of dimension (2, 5) with M = 5. In some sense, in each batch we need to figure out the maximum number of tokens for an instance and pad each instance to have the same length as this longest instance. To do the above, use the [collate function](https://stackoverflow.com/questions/65279115/how-to-use-collate-fn-with-dataloaders). The idea here is that the Dataloader takes in raw data and the collate function is applied to this data, returning formatting tensors we can use later on in the optimization. You'll fill this in, using the hints.  \n",
        "- After padding, we feed batches of data to the classifier, these are of dimension (B, M). For example, we have a batch size of 2 above and M = 5. This will depend on the batch but here the batch size is B.\n",
        "- Once we feed in (B, M) data to the network, we rewrite this as (B, M, vocab_size) by using a one-hot representation for each word.\n",
        "- Then, we do as it hints in the model's forward method. We first take an average agross all the M elements of each element of the batch to get a (B, vocab_size) tensor that represents each instance. We pass this tensor through linear layer and nonlinear layers as unusual. The model returns logits, without the Softmax applied. This is a multiclass classfication task.\n",
        "\n",
        "Finally, we optimize the network and check it's train and validation set accuracies. We'll use both direct methods and torchmetrics to do this. See the Comments for hints on what you need to fill in."
      ],
      "id": "f5tQSyJ9cIOU"
    },
    {
      "cell_type": "markdown",
      "metadata": {
        "id": "dcb35e9c"
      },
      "source": [
        "### Information (if interested in more)\n",
        "- torchtext repo: https://github.com/pytorch/text/tree/main/torchtext\n",
        "- torchtext documentation: https://pytorch.org/text/stable/index.html\n",
        "- collate function: https://stackoverflow.com/questions/65279115/how-to-use-collate-fn-with-dataloaders\n",
        "- embedding layer: https://pytorch.org/docs/stable/generated/torch.nn.Embedding.html"
      ],
      "id": "dcb35e9c"
    },
    {
      "cell_type": "markdown",
      "metadata": {
        "id": "b9140e3c"
      },
      "source": [
        "### Constants"
      ],
      "id": "b9140e3c"
    },
    {
      "cell_type": "code",
      "execution_count": 5,
      "metadata": {
        "id": "c9ace94f"
      },
      "outputs": [],
      "source": [
        "# This is the dataset we will use\n",
        "DATASET = \"AG_NEWS\"\n",
        "DATA_DIR = \".data\"\n",
        "# We will just use CPU here, but if you have time try \"cuda\"\n",
        "DEVICE = \"cpu\"\n",
        "LR = 8.0\n",
        "BATCH_SIZE = 16\n",
        "NUM_EPOCHS = 5\n",
        "MIN_FREQUENCY = 20\n",
        "# Padding valued used; if we have a tensor data x = [[1,2,3], [4, 5], [1,2,3,4,5]] this needs padding\n",
        "# As a tensor, this is t = [[1, 2, 3, 0, 0], [4, 5, 0, 0, 0], [1, 2, 3, 4, 5]]\n",
        "PADDING_VALUE = 0\n",
        "PADDING_IDX = PADDING_VALUE\n",
        "\n",
        "SEED = 1"
      ],
      "id": "c9ace94f"
    },
    {
      "cell_type": "markdown",
      "metadata": {
        "id": "K3zuWGeqcDsI"
      },
      "source": [
        "# Get the tokenizer"
      ],
      "id": "K3zuWGeqcDsI"
    },
    {
      "cell_type": "code",
      "execution_count": 6,
      "metadata": {
        "id": "16f471ac"
      },
      "outputs": [],
      "source": [
        "# A basic tokenizer by using get_tokenizer; pass \"basic_english\"\n",
        "basic_english_tokenizer = get_tokenizer(\"basic_english\")"
      ],
      "id": "16f471ac"
    },
    {
      "cell_type": "code",
      "execution_count": 7,
      "metadata": {
        "colab": {
          "base_uri": "https://localhost:8080/"
        },
        "id": "d1b61bba",
        "outputId": "a9349044-72f1-4441-994e-7071289de5e7"
      },
      "outputs": [
        {
          "output_type": "execute_result",
          "data": {
            "text/plain": [
              "['this', 'is', 'some', 'text', '.', '.', '.']"
            ]
          },
          "metadata": {},
          "execution_count": 7
        }
      ],
      "source": [
        "basic_english_tokenizer(\"This is some text ...\")"
      ],
      "id": "d1b61bba"
    },
    {
      "cell_type": "code",
      "execution_count": 8,
      "metadata": {
        "id": "68a50055"
      },
      "outputs": [],
      "source": [
        "# Save the tokenizer as a contant; this is needed later\n",
        "TOKENIZER = basic_english_tokenizer"
      ],
      "id": "68a50055"
    },
    {
      "cell_type": "markdown",
      "metadata": {
        "id": "8620a436"
      },
      "source": [
        "### Get the data and get the vocabulary."
      ],
      "id": "8620a436"
    },
    {
      "cell_type": "code",
      "execution_count": 9,
      "metadata": {
        "id": "1c84225a"
      },
      "outputs": [],
      "source": [
        "# Loop through all the (label, text) data and yield a tokenized version of text\n",
        "def yield_tokens(data_iter):\n",
        "    for _, text in data_iter:\n",
        "        yield TOKENIZER(text)"
      ],
      "id": "1c84225a"
    },
    {
      "cell_type": "code",
      "execution_count": 10,
      "metadata": {
        "id": "rEChT6jDeLXF"
      },
      "outputs": [],
      "source": [
        "train_iter = DATASETS[DATASET](root=DATA_DIR, split=\"train\")"
      ],
      "id": "rEChT6jDeLXF"
    },
    {
      "cell_type": "code",
      "execution_count": 11,
      "metadata": {
        "colab": {
          "base_uri": "https://localhost:8080/"
        },
        "id": "J4q-FQ75eM1R",
        "outputId": "b18ed2a2-b08c-40fe-d12e-529434dac816"
      },
      "outputs": [
        {
          "output_type": "stream",
          "name": "stdout",
          "text": [
            "3 Wall St. Bears Claw Back Into the Black (Reuters) Reuters - Short-sellers, Wall Street's dwindling\\band of ultra-cynics, are seeing green again.\n"
          ]
        }
      ],
      "source": [
        "# An example of what this data looks like\n",
        "for y, x in train_iter:\n",
        "  print(y, x)\n",
        "  break"
      ],
      "id": "J4q-FQ75eM1R"
    },
    {
      "cell_type": "code",
      "execution_count": 12,
      "metadata": {
        "colab": {
          "base_uri": "https://localhost:8080/"
        },
        "id": "affa3375",
        "outputId": "03bf9503-4b61-4832-97f8-a648d89f4002"
      },
      "outputs": [
        {
          "output_type": "stream",
          "name": "stderr",
          "text": [
            "/usr/local/lib/python3.10/dist-packages/torch/utils/data/datapipes/iter/combining.py:337: UserWarning: Some child DataPipes are not exhausted when __iter__ is called. We are resetting the buffer and each child DataPipe will read from the start again.\n",
            "  warnings.warn(\"Some child DataPipes are not exhausted when __iter__ is called. We are resetting \"\n"
          ]
        }
      ],
      "source": [
        "# Use build_vocab_from_iterator to get the the vocabulary\n",
        "# This is essentially a dictionary going from a word to a unique integer\n",
        "# Make sure to specify the specials\n",
        "VOCAB = build_vocab_from_iterator(\n",
        "    yield_tokens(train_iter),\n",
        "    min_freq = MIN_FREQUENCY,\n",
        "    specials=('<pad>', '<unk>')\n",
        ")\n",
        "\n",
        "# Set the default index to 1\n",
        "# Otherwise, VOCAB['unknownbigword'] will raise an Exception\n",
        "# I.e. we want '<unk>' to be the unknown word\n",
        "VOCAB.set_default_index(VOCAB['<unk>'])"
      ],
      "id": "affa3375"
    },
    {
      "cell_type": "code",
      "execution_count": 13,
      "metadata": {
        "id": "62336be9"
      },
      "outputs": [],
      "source": [
        "assert VOCAB['<unk>'] == 1"
      ],
      "id": "62336be9"
    },
    {
      "cell_type": "markdown",
      "metadata": {
        "id": "518918c0"
      },
      "source": [
        "Examples"
      ],
      "id": "518918c0"
    },
    {
      "cell_type": "code",
      "execution_count": 14,
      "metadata": {
        "colab": {
          "base_uri": "https://localhost:8080/"
        },
        "id": "de48bde8",
        "outputId": "22c4043d-87a1-4afd-8221-4ae90b632957"
      },
      "outputs": [
        {
          "output_type": "execute_result",
          "data": {
            "text/plain": [
              "(1, 437, 0, 1)"
            ]
          },
          "metadata": {},
          "execution_count": 14
        }
      ],
      "source": [
        "VOCAB['yoyooyoyoy'], VOCAB['house'], VOCAB['<pad>'], VOCAB['<unk>']"
      ],
      "id": "de48bde8"
    },
    {
      "cell_type": "code",
      "execution_count": 15,
      "metadata": {
        "colab": {
          "base_uri": "https://localhost:8080/"
        },
        "id": "24247d56",
        "outputId": "ca2167c8-377d-44f5-ee4c-d366f8ec2d07"
      },
      "outputs": [
        {
          "output_type": "stream",
          "name": "stdout",
          "text": [
            "13798\n"
          ]
        }
      ],
      "source": [
        "print(len(VOCAB))"
      ],
      "id": "24247d56"
    },
    {
      "cell_type": "code",
      "execution_count": 16,
      "metadata": {
        "colab": {
          "base_uri": "https://localhost:8080/"
        },
        "id": "574cce1b",
        "outputId": "1a2c168a-b6ff-4043-9ec9-a24f288b403c"
      },
      "outputs": [
        {
          "output_type": "execute_result",
          "data": {
            "text/plain": [
              "[437, 437, 4548, 1]"
            ]
          },
          "metadata": {},
          "execution_count": 16
        }
      ],
      "source": [
        "VOCAB(TOKENIZER(\"House house houses ThisisnotaKNownWord\"))"
      ],
      "id": "574cce1b"
    },
    {
      "cell_type": "markdown",
      "metadata": {
        "id": "df651a44"
      },
      "source": [
        "### Helper functions"
      ],
      "id": "df651a44"
    },
    {
      "cell_type": "code",
      "execution_count": 17,
      "metadata": {
        "id": "94741f76"
      },
      "outputs": [],
      "source": [
        "from torchtext.vocab.vocab_factory import Vocab\n",
        "# Utility to transform text into a list of ints\n",
        "# This shoould go \"a b c\" -> [\"a\", \"b\", \"c\"] -> [1, 2, 3], for example\n",
        "def text_pipeline(x):\n",
        "    # Apply tokenizer to x\n",
        "    token = TOKENIZER(x)\n",
        "    # Return the Vocab at those tokens\n",
        "    return [VOCAB[tk] for tk in token]\n",
        "\n",
        "# Return a 0 starting version of x\n",
        "# If x = \"1\" this should return 0\n",
        "# If x = \"3\" this should return 2, Etc.\n",
        "def label_pipeline(x):\n",
        "    return int(x) - 1"
      ],
      "id": "94741f76"
    },
    {
      "cell_type": "markdown",
      "metadata": {
        "id": "1e903610"
      },
      "source": [
        "Nice link on collate_fn and DataLoader in PyTorch: https://python.plainenglish.io/understanding-collate-fn-in-pytorch-f9d1742647d3"
      ],
      "id": "1e903610"
    },
    {
      "cell_type": "code",
      "execution_count": 18,
      "metadata": {
        "id": "95311731"
      },
      "outputs": [],
      "source": [
        "# For a batch of data that might not be a tensor, return the batch in ternsor version\n",
        "# batch is a length B lsit of tuples where each element is (label, text)\n",
        "# label is a raw string like \"1\" here; text is a sentence like \"this is about soccer\"\n",
        "def collate_batch(batch):\n",
        "    label_list, text_list = [], []\n",
        "    for (label, text) in batch:\n",
        "        # Get the label from {1, 2, 3, 4} to {0, 1, 2, 3} and append it to label list\n",
        "        label_list.append(label_pipeline(label))\n",
        "\n",
        "        # Return a list of ints\n",
        "        processed_text = torch.tensor(text_pipeline(text), dtype=torch.int64)\n",
        "        text_list.append(processed_text)\n",
        "\n",
        "    # Make label_list into a tensor of dtype=torch.int64\n",
        "    label_list = torch.tensor(label_list, dtype=torch.int64)\n",
        "\n",
        "    # Pad the sequence\n",
        "    # For Exmaple: if we had 2 elements and [[1, 2], [1,2,3,4]] in the text_list then we want\n",
        "    # to have [[1, 2, 0, 0], [1, 2, 3, 4]] in text_list and text_list is a tensor\n",
        "    # Look up pad_sequence and make sure you specify batch_first=True and specify the padding_value=0\n",
        "    text_list = pad_sequence(text_list, batch_first=True, padding_value=PADDING_VALUE)\n",
        "\n",
        "    # Return the data and put it on a GPU or CPU, as needed\n",
        "    return label_list.to(DEVICE), text_list.to(DEVICE)"
      ],
      "id": "95311731"
    },
    {
      "cell_type": "markdown",
      "metadata": {
        "id": "b5da047d"
      },
      "source": [
        "### Get the data"
      ],
      "id": "b5da047d"
    },
    {
      "cell_type": "code",
      "execution_count": 19,
      "metadata": {
        "colab": {
          "base_uri": "https://localhost:8080/"
        },
        "id": "5d2ae25e",
        "outputId": "2cda4370-9d52-496a-c20b-1364a7b1841a"
      },
      "outputs": [
        {
          "output_type": "stream",
          "name": "stdout",
          "text": [
            "The number of classes is 4 ...\n"
          ]
        }
      ],
      "source": [
        "# Get an iterator for the AG_NEWS dataset and get the train version\n",
        "train_iter = DATASETS[DATASET](root=DATA_DIR, split=\"train\")\n",
        "\n",
        "# Use the above to get the number of class elements\n",
        "num_class = len(set([label for (label, _) in train_iter]))\n",
        "# What are the classes?\n",
        "print(f\"The number of classes is {num_class} ...\")"
      ],
      "id": "5d2ae25e"
    },
    {
      "cell_type": "markdown",
      "metadata": {
        "id": "eca51b36"
      },
      "source": [
        "### Set up the model"
      ],
      "id": "eca51b36"
    },
    {
      "cell_type": "code",
      "execution_count": 20,
      "metadata": {
        "id": "8ab8cb7c"
      },
      "outputs": [],
      "source": [
        "# A very naive model used to classify text\n",
        "class OneHotTextClassificationModel(nn.Module):\n",
        "    def __init__(self, vocab_size, num_class):\n",
        "        super(OneHotTextClassificationModel, self).__init__()\n",
        "        self.vocab_size = vocab_size\n",
        "        self.num_class = num_class\n",
        "\n",
        "        # Have this layer take in data of dimension vocab_size and return data of dimension 100\n",
        "        # Don't use a bias\n",
        "        self.fc1 = nn.Linear(vocab_size, 100, bias=False)\n",
        "\n",
        "        # We will not use this, but see below as we want to mimic this layer using one_hot and fc1\n",
        "        self.e = nn.Embedding(vocab_size, 100)\n",
        "\n",
        "        # Have this layer take in 100 and return data of dimension num_class\n",
        "        # Don't use a bias\n",
        "        self.fc2 = nn.Linear(100, num_class, bias=False)\n",
        "        self.init_weights()\n",
        "\n",
        "        # See forward below; we do not use this but you can use this if you want to to check\n",
        "        self.use_embedding_layer = False\n",
        "\n",
        "    def init_weights(self):\n",
        "        # Initialize the weights of fc1 to the same exact data as what self.e has\n",
        "        # You need to access the data within these layers\n",
        "        # Initialize the bias to zero\n",
        "        # Hint: look at self.e.weight.data and similarly for fc\n",
        "        # Make sure you have the dimensions line up right\n",
        "        self.fc1.weight.data = self.e.weight.data\n",
        "\n",
        "        # Unitialize fc2 to uniform between -0.5 and 0.5\n",
        "        # Hint: \"uniform_\"\n",
        "        initrange = 0.5\n",
        "        self.fc2.weight.data.uniform_(-initrange, initrange)\n",
        "\n",
        "    def forward(self, x):\n",
        "        B, K = x.shape\n",
        "        # x is of dimension (B, K), where K is the maximum number of tokens in an element of the batch\n",
        "        # Note: We will make this faster later on by using the nn.Embedding layer\n",
        "\n",
        "        # We will not use nn.Embedding, but the code below, a combination of F.one_hot and fc1, should be the SAME effect as the else clause\n",
        "        if not self.use_embedding_layer:\n",
        "          # Transform x to a tensor where each element is one-hot encoded\n",
        "          x = F.one_hot(x, num_classes=self.vocab_size).float()\n",
        "          assert(x.shape == (B, K, self.vocab_size))\n",
        "\n",
        "          # Pass x through fc1 to get the row in fc1 correspondng to the row x is\n",
        "          x = torch.matmul(x, self.fc1.weight)\n",
        "          assert(x.shape == (B, K, 100))\n",
        "\n",
        "        else:\n",
        "          # Note: the above two steps should be the same as doing the command below\n",
        "          x = self.e(x)\n",
        "          assert(x.shape == (B, K, 100))\n",
        "\n",
        "        # Take the mean of the embedings for all words in each sentence\n",
        "        x = x.mean(dim=1)\n",
        "        assert(x.shape == (B, 100))\n",
        "\n",
        "        # Apply ReLU to x\n",
        "        x = F.relu(x)\n",
        "        assert(x.shape == (B, 100))\n",
        "\n",
        "        # Pass through fc2\n",
        "        x = self.fc2(x)\n",
        "        assert(x.shape == (B, self.num_class))\n",
        "\n",
        "        # Return the Logits\n",
        "        return x"
      ],
      "id": "8ab8cb7c"
    },
    {
      "cell_type": "code",
      "execution_count": 21,
      "metadata": {
        "colab": {
          "base_uri": "https://localhost:8080/"
        },
        "id": "a43d569e",
        "outputId": "93d99e68-3ef4-403d-813b-304bb6463e93"
      },
      "outputs": [
        {
          "output_type": "execute_result",
          "data": {
            "text/plain": [
              "<torch._C.Generator at 0x7aee8c0b2d50>"
            ]
          },
          "metadata": {},
          "execution_count": 21
        }
      ],
      "source": [
        "torch.manual_seed(SEED)"
      ],
      "id": "a43d569e"
    },
    {
      "cell_type": "markdown",
      "metadata": {
        "id": "8994ae19"
      },
      "source": [
        "### Set up the data"
      ],
      "id": "8994ae19"
    },
    {
      "cell_type": "code",
      "execution_count": 22,
      "metadata": {
        "id": "eaaa82a2"
      },
      "outputs": [],
      "source": [
        "# Map the data to the right format\n",
        "train_iter, test_iter = DATASETS[DATASET]()\n",
        "train_dataset = to_map_style_dataset(train_iter)\n",
        "test_dataset = to_map_style_dataset(test_iter)\n",
        "\n",
        "# Split data into train and validation\n",
        "num_train = int(len(train_dataset) * 0.95)\n",
        "split_train_, split_valid_ = random_split(train_dataset, [num_train, len(train_dataset) - num_train])\n",
        "\n",
        "# Set up different DataLoaders\n",
        "# Make sure you pass collate_fn as the function you wrote above\n",
        "train_dataloader = DataLoader(split_train_, batch_size=BATCH_SIZE, shuffle=True, collate_fn=collate_batch)\n",
        "valid_dataloader = DataLoader(split_valid_, batch_size=BATCH_SIZE, shuffle=False, collate_fn=collate_batch)\n",
        "test_dataloader = DataLoader(test_dataset, batch_size=BATCH_SIZE, shuffle=False, collate_fn=collate_batch)"
      ],
      "id": "eaaa82a2"
    },
    {
      "cell_type": "markdown",
      "metadata": {
        "id": "72b5bb91"
      },
      "source": [
        "### Train the model"
      ],
      "id": "72b5bb91"
    },
    {
      "cell_type": "code",
      "execution_count": 23,
      "metadata": {
        "id": "d58cc1a9"
      },
      "outputs": [],
      "source": [
        "def train(dataloader, model, optimizer, criterion, epoch):\n",
        "    # Put the model in train mode; this does not matter right now\n",
        "    model.train()\n",
        "    total_acc, total_count = 0, 0\n",
        "    total_loss = 0.0\n",
        "    log_interval = 200\n",
        "\n",
        "    for idx, (label, text) in enumerate(dataloader):\n",
        "        # Zero out the gradients\n",
        "        optimizer.zero_grad()\n",
        "\n",
        "        # Get the predictions\n",
        "        predicted_label = model(text)\n",
        "\n",
        "        # Get the loss.\n",
        "        loss = loss_fn(input=predicted_label, target=label)\n",
        "\n",
        "        # The loss is computed by taking a mean, get the sum of the terms on the numerator\n",
        "        with torch.no_grad():\n",
        "            total_loss += loss.item() * label.size(0)\n",
        "\n",
        "        # Do back propagation\n",
        "        loss.backward()\n",
        "\n",
        "        # Clip the gradients to have max norm 0.1\n",
        "        # Look up torch.nn.utils.clip_grad_norm\n",
        "        torch.nn.utils.clip_grad_norm_(model.parameters(), max_norm=0.1)\n",
        "\n",
        "        # Do an optimization step.\n",
        "        optimizer.step()\n",
        "\n",
        "        # Get the accuracy\n",
        "        # predicted_label is (B, num_class) so take the argmax over the right dimension to get the actual label\n",
        "        # Make sure you do .item() on whaht you get so that you update the accuracy\n",
        "        total_acc += (predicted_label.argmax(dim=1) == label).sum().item()\n",
        "\n",
        "        # Update the total number of items\n",
        "        total_count += label.size(0)\n",
        "        if idx % log_interval == 0 and idx > 0:\n",
        "            print(\n",
        "                \"| epoch {:3d} | {:5d}/{:5d} batches \"\n",
        "                \"| accuracy {:8.3f} \"\n",
        "                \"| loss {:8.3f}\".format(\n",
        "                    epoch, idx,\n",
        "                    len(dataloader),\n",
        "                    total_acc/total_count,\n",
        "                    total_loss/total_count\n",
        "                    )\n",
        "            )\n",
        "            total_acc, total_count, total_loss = 0, 0, 0.0"
      ],
      "id": "d58cc1a9"
    },
    {
      "cell_type": "code",
      "execution_count": 24,
      "metadata": {
        "id": "85722617"
      },
      "outputs": [],
      "source": [
        "def evaluate(dataloader, model):\n",
        "    # Put the model in eval model; this does not matter right now\n",
        "    model.eval()\n",
        "\n",
        "    # Set this to Accuracy from torchmetrics; use multiclass and specify the number of labels\n",
        "    accuracy_fn = torchmetrics.Accuracy(task=\"multiclass\", num_classes=num_class)\n",
        "    total_acc = 0.0\n",
        "    total_count = 0.0\n",
        "\n",
        "    with torch.no_grad():\n",
        "        for idx, (label, text) in enumerate(dataloader):\n",
        "            # Get the predictions\n",
        "            predicted_label = model(text)\n",
        "\n",
        "            # Get the number of samples we have, the denominator of accuracy\n",
        "            total_count += label.size(0)\n",
        "\n",
        "            # Get the total number of times we have the correct predictions, use accuracy_fn\n",
        "            total_acc += accuracy_fn(predicted_label, label).item() * label.size(0)\n",
        "\n",
        "            # Use accuracy_fn from torchmetrics to check that the total number of correct predictions is the same as if you use argmax on predicted_label\n",
        "            # I.e. I want you to use torchmetrics to compute this AND use the same metod as in train above\n",
        "            # Remember to use .item() on the tensor you get and also rememeber number_of_samples * accuracy = total_times_we_have_equality (the numerator of accuracy)\n",
        "            assert (\n",
        "                (predicted_label.argmax(dim=1) == label).sum().item() == (accuracy_fn(predicted_label, label).item() * label.size(0))\n",
        "            )\n",
        "\n",
        "    accuracy = total_acc / total_count\n",
        "    return accuracy"
      ],
      "id": "85722617"
    },
    {
      "cell_type": "markdown",
      "metadata": {
        "id": "W3LjZHTdrWW6"
      },
      "source": [
        "# Train the model\n",
        "\n",
        "You should get an accuracy > 80% for the training set. This might take quite a bit of time to run since we use one-hot. Use nn.Embedding if you want to check this quickly. You should get the SAME answer using either method."
      ],
      "id": "W3LjZHTdrWW6"
    },
    {
      "cell_type": "code",
      "execution_count": 25,
      "metadata": {
        "id": "eTEl16pIBkTe"
      },
      "outputs": [],
      "source": [
        "# Set up the loss function\n",
        "# Note that this should be a multiclass classification problem and you take in logits\n",
        "loss_fn = nn.CrossEntropyLoss().to(DEVICE)\n",
        "\n",
        "# Instantiate the model\n",
        "# Pass in the number of elements in VOCAB and num_class\n",
        "model = OneHotTextClassificationModel(vocab_size=len(VOCAB), num_class=num_class).to(DEVICE)\n",
        "\n",
        "# Instantiate the SGD optimizer with parameters LR\n",
        "optimizer = torch.optim.SGD(model.parameters(), lr=LR)"
      ],
      "id": "eTEl16pIBkTe"
    },
    {
      "cell_type": "code",
      "execution_count": 26,
      "metadata": {
        "colab": {
          "base_uri": "https://localhost:8080/"
        },
        "id": "21ba24f3",
        "outputId": "3a278abe-9575-45fc-82d9-77842ef32bf6"
      },
      "outputs": [
        {
          "output_type": "stream",
          "name": "stdout",
          "text": [
            "| epoch   1 |   200/ 7125 batches | accuracy    0.322 | loss    1.424\n",
            "| epoch   1 |   400/ 7125 batches | accuracy    0.422 | loss    1.279\n",
            "| epoch   1 |   600/ 7125 batches | accuracy    0.444 | loss    1.244\n",
            "| epoch   1 |   800/ 7125 batches | accuracy    0.497 | loss    1.179\n",
            "| epoch   1 |  1000/ 7125 batches | accuracy    0.531 | loss    1.127\n",
            "| epoch   1 |  1200/ 7125 batches | accuracy    0.528 | loss    1.129\n",
            "| epoch   1 |  1400/ 7125 batches | accuracy    0.539 | loss    1.115\n",
            "| epoch   1 |  1600/ 7125 batches | accuracy    0.574 | loss    1.027\n",
            "| epoch   1 |  1800/ 7125 batches | accuracy    0.572 | loss    1.035\n",
            "| epoch   1 |  2000/ 7125 batches | accuracy    0.606 | loss    0.961\n",
            "| epoch   1 |  2200/ 7125 batches | accuracy    0.609 | loss    0.964\n",
            "| epoch   1 |  2400/ 7125 batches | accuracy    0.594 | loss    1.011\n",
            "| epoch   1 |  2600/ 7125 batches | accuracy    0.641 | loss    0.918\n",
            "| epoch   1 |  2800/ 7125 batches | accuracy    0.638 | loss    0.913\n",
            "| epoch   1 |  3000/ 7125 batches | accuracy    0.640 | loss    0.906\n",
            "| epoch   1 |  3200/ 7125 batches | accuracy    0.640 | loss    0.903\n",
            "| epoch   1 |  3400/ 7125 batches | accuracy    0.645 | loss    0.883\n",
            "| epoch   1 |  3600/ 7125 batches | accuracy    0.657 | loss    0.861\n",
            "| epoch   1 |  3800/ 7125 batches | accuracy    0.652 | loss    0.888\n",
            "| epoch   1 |  4000/ 7125 batches | accuracy    0.694 | loss    0.814\n",
            "| epoch   1 |  4200/ 7125 batches | accuracy    0.669 | loss    0.865\n",
            "| epoch   1 |  4400/ 7125 batches | accuracy    0.683 | loss    0.826\n",
            "| epoch   1 |  4600/ 7125 batches | accuracy    0.683 | loss    0.823\n",
            "| epoch   1 |  4800/ 7125 batches | accuracy    0.683 | loss    0.812\n",
            "| epoch   1 |  5000/ 7125 batches | accuracy    0.695 | loss    0.803\n",
            "| epoch   1 |  5200/ 7125 batches | accuracy    0.712 | loss    0.787\n",
            "| epoch   1 |  5400/ 7125 batches | accuracy    0.710 | loss    0.752\n",
            "| epoch   1 |  5600/ 7125 batches | accuracy    0.703 | loss    0.809\n",
            "| epoch   1 |  5800/ 7125 batches | accuracy    0.722 | loss    0.715\n",
            "| epoch   1 |  6000/ 7125 batches | accuracy    0.715 | loss    0.732\n",
            "| epoch   1 |  6200/ 7125 batches | accuracy    0.714 | loss    0.743\n",
            "| epoch   1 |  6400/ 7125 batches | accuracy    0.724 | loss    0.756\n",
            "| epoch   1 |  6600/ 7125 batches | accuracy    0.706 | loss    0.751\n",
            "| epoch   1 |  6800/ 7125 batches | accuracy    0.728 | loss    0.716\n",
            "| epoch   1 |  7000/ 7125 batches | accuracy    0.722 | loss    0.728\n",
            "-----------------------------------------------------------\n",
            "| end of epoch   1 | time: 2346.77s | valid accuracy    0.747 \n",
            "-----------------------------------------------------------\n",
            "| epoch   2 |   200/ 7125 batches | accuracy    0.721 | loss    0.732\n",
            "| epoch   2 |   400/ 7125 batches | accuracy    0.729 | loss    0.708\n",
            "| epoch   2 |   600/ 7125 batches | accuracy    0.729 | loss    0.726\n",
            "| epoch   2 |   800/ 7125 batches | accuracy    0.732 | loss    0.705\n",
            "| epoch   2 |  1000/ 7125 batches | accuracy    0.760 | loss    0.658\n",
            "| epoch   2 |  1200/ 7125 batches | accuracy    0.756 | loss    0.667\n",
            "| epoch   2 |  1400/ 7125 batches | accuracy    0.748 | loss    0.702\n",
            "| epoch   2 |  1600/ 7125 batches | accuracy    0.751 | loss    0.684\n",
            "| epoch   2 |  1800/ 7125 batches | accuracy    0.747 | loss    0.680\n",
            "| epoch   2 |  2000/ 7125 batches | accuracy    0.749 | loss    0.686\n",
            "| epoch   2 |  2200/ 7125 batches | accuracy    0.748 | loss    0.680\n",
            "| epoch   2 |  2400/ 7125 batches | accuracy    0.752 | loss    0.682\n",
            "| epoch   2 |  2600/ 7125 batches | accuracy    0.763 | loss    0.640\n",
            "| epoch   2 |  2800/ 7125 batches | accuracy    0.756 | loss    0.652\n",
            "| epoch   2 |  3000/ 7125 batches | accuracy    0.746 | loss    0.672\n",
            "| epoch   2 |  3200/ 7125 batches | accuracy    0.761 | loss    0.634\n",
            "| epoch   2 |  3400/ 7125 batches | accuracy    0.761 | loss    0.645\n",
            "| epoch   2 |  3600/ 7125 batches | accuracy    0.775 | loss    0.612\n",
            "| epoch   2 |  3800/ 7125 batches | accuracy    0.753 | loss    0.659\n",
            "| epoch   2 |  4000/ 7125 batches | accuracy    0.767 | loss    0.648\n",
            "| epoch   2 |  4200/ 7125 batches | accuracy    0.762 | loss    0.633\n",
            "| epoch   2 |  4400/ 7125 batches | accuracy    0.769 | loss    0.649\n",
            "| epoch   2 |  4600/ 7125 batches | accuracy    0.762 | loss    0.633\n",
            "| epoch   2 |  4800/ 7125 batches | accuracy    0.775 | loss    0.600\n",
            "| epoch   2 |  5000/ 7125 batches | accuracy    0.778 | loss    0.605\n",
            "| epoch   2 |  5200/ 7125 batches | accuracy    0.765 | loss    0.662\n",
            "| epoch   2 |  5400/ 7125 batches | accuracy    0.772 | loss    0.625\n",
            "| epoch   2 |  5600/ 7125 batches | accuracy    0.771 | loss    0.596\n",
            "| epoch   2 |  5800/ 7125 batches | accuracy    0.771 | loss    0.613\n",
            "| epoch   2 |  6000/ 7125 batches | accuracy    0.772 | loss    0.601\n",
            "| epoch   2 |  6200/ 7125 batches | accuracy    0.775 | loss    0.602\n",
            "| epoch   2 |  6400/ 7125 batches | accuracy    0.785 | loss    0.594\n",
            "| epoch   2 |  6600/ 7125 batches | accuracy    0.782 | loss    0.611\n",
            "| epoch   2 |  6800/ 7125 batches | accuracy    0.776 | loss    0.617\n",
            "| epoch   2 |  7000/ 7125 batches | accuracy    0.777 | loss    0.605\n",
            "-----------------------------------------------------------\n",
            "| end of epoch   2 | time: 2323.75s | valid accuracy    0.842 \n",
            "-----------------------------------------------------------\n",
            "| epoch   3 |   200/ 7125 batches | accuracy    0.779 | loss    0.587\n",
            "| epoch   3 |   400/ 7125 batches | accuracy    0.800 | loss    0.562\n",
            "| epoch   3 |   600/ 7125 batches | accuracy    0.776 | loss    0.610\n",
            "| epoch   3 |   800/ 7125 batches | accuracy    0.803 | loss    0.560\n",
            "| epoch   3 |  1000/ 7125 batches | accuracy    0.802 | loss    0.557\n",
            "| epoch   3 |  1200/ 7125 batches | accuracy    0.756 | loss    0.657\n",
            "| epoch   3 |  1400/ 7125 batches | accuracy    0.795 | loss    0.550\n",
            "| epoch   3 |  1600/ 7125 batches | accuracy    0.793 | loss    0.575\n",
            "| epoch   3 |  1800/ 7125 batches | accuracy    0.805 | loss    0.539\n",
            "| epoch   3 |  2000/ 7125 batches | accuracy    0.773 | loss    0.613\n",
            "| epoch   3 |  2200/ 7125 batches | accuracy    0.774 | loss    0.605\n",
            "| epoch   3 |  2400/ 7125 batches | accuracy    0.790 | loss    0.577\n",
            "| epoch   3 |  2600/ 7125 batches | accuracy    0.790 | loss    0.585\n",
            "| epoch   3 |  2800/ 7125 batches | accuracy    0.801 | loss    0.557\n",
            "| epoch   3 |  3000/ 7125 batches | accuracy    0.794 | loss    0.580\n",
            "| epoch   3 |  3200/ 7125 batches | accuracy    0.800 | loss    0.548\n",
            "| epoch   3 |  3400/ 7125 batches | accuracy    0.791 | loss    0.564\n",
            "| epoch   3 |  3600/ 7125 batches | accuracy    0.801 | loss    0.546\n",
            "| epoch   3 |  3800/ 7125 batches | accuracy    0.787 | loss    0.565\n",
            "| epoch   3 |  4000/ 7125 batches | accuracy    0.790 | loss    0.574\n",
            "| epoch   3 |  4200/ 7125 batches | accuracy    0.794 | loss    0.579\n",
            "| epoch   3 |  4400/ 7125 batches | accuracy    0.789 | loss    0.553\n",
            "| epoch   3 |  4600/ 7125 batches | accuracy    0.803 | loss    0.545\n",
            "| epoch   3 |  4800/ 7125 batches | accuracy    0.800 | loss    0.543\n",
            "| epoch   3 |  5000/ 7125 batches | accuracy    0.792 | loss    0.573\n",
            "| epoch   3 |  5200/ 7125 batches | accuracy    0.801 | loss    0.550\n",
            "| epoch   3 |  5400/ 7125 batches | accuracy    0.806 | loss    0.561\n",
            "| epoch   3 |  5600/ 7125 batches | accuracy    0.806 | loss    0.546\n",
            "| epoch   3 |  5800/ 7125 batches | accuracy    0.796 | loss    0.577\n",
            "| epoch   3 |  6000/ 7125 batches | accuracy    0.803 | loss    0.564\n",
            "| epoch   3 |  6200/ 7125 batches | accuracy    0.801 | loss    0.567\n",
            "| epoch   3 |  6400/ 7125 batches | accuracy    0.804 | loss    0.529\n",
            "| epoch   3 |  6600/ 7125 batches | accuracy    0.813 | loss    0.526\n",
            "| epoch   3 |  6800/ 7125 batches | accuracy    0.808 | loss    0.522\n",
            "| epoch   3 |  7000/ 7125 batches | accuracy    0.799 | loss    0.555\n",
            "-----------------------------------------------------------\n",
            "| end of epoch   3 | time: 2328.85s | valid accuracy    0.788 \n",
            "-----------------------------------------------------------\n",
            "| epoch   4 |   200/ 7125 batches | accuracy    0.796 | loss    0.598\n",
            "| epoch   4 |   400/ 7125 batches | accuracy    0.820 | loss    0.514\n",
            "| epoch   4 |   600/ 7125 batches | accuracy    0.811 | loss    0.552\n",
            "| epoch   4 |   800/ 7125 batches | accuracy    0.808 | loss    0.524\n",
            "| epoch   4 |  1000/ 7125 batches | accuracy    0.814 | loss    0.515\n",
            "| epoch   4 |  1200/ 7125 batches | accuracy    0.802 | loss    0.526\n",
            "| epoch   4 |  1400/ 7125 batches | accuracy    0.810 | loss    0.524\n",
            "| epoch   4 |  1600/ 7125 batches | accuracy    0.825 | loss    0.484\n",
            "| epoch   4 |  1800/ 7125 batches | accuracy    0.816 | loss    0.497\n",
            "| epoch   4 |  2000/ 7125 batches | accuracy    0.823 | loss    0.499\n",
            "| epoch   4 |  2200/ 7125 batches | accuracy    0.821 | loss    0.494\n",
            "| epoch   4 |  2400/ 7125 batches | accuracy    0.824 | loss    0.501\n",
            "| epoch   4 |  2600/ 7125 batches | accuracy    0.822 | loss    0.502\n",
            "| epoch   4 |  2800/ 7125 batches | accuracy    0.816 | loss    0.523\n",
            "| epoch   4 |  3000/ 7125 batches | accuracy    0.825 | loss    0.492\n",
            "| epoch   4 |  3200/ 7125 batches | accuracy    0.809 | loss    0.522\n",
            "| epoch   4 |  3400/ 7125 batches | accuracy    0.809 | loss    0.525\n",
            "| epoch   4 |  3600/ 7125 batches | accuracy    0.816 | loss    0.526\n",
            "| epoch   4 |  3800/ 7125 batches | accuracy    0.819 | loss    0.483\n",
            "| epoch   4 |  4000/ 7125 batches | accuracy    0.823 | loss    0.479\n",
            "| epoch   4 |  4200/ 7125 batches | accuracy    0.827 | loss    0.491\n",
            "| epoch   4 |  4400/ 7125 batches | accuracy    0.800 | loss    0.566\n",
            "| epoch   4 |  4600/ 7125 batches | accuracy    0.804 | loss    0.559\n",
            "| epoch   4 |  4800/ 7125 batches | accuracy    0.812 | loss    0.522\n",
            "| epoch   4 |  5000/ 7125 batches | accuracy    0.806 | loss    0.537\n",
            "| epoch   4 |  5200/ 7125 batches | accuracy    0.832 | loss    0.479\n",
            "| epoch   4 |  5400/ 7125 batches | accuracy    0.829 | loss    0.492\n",
            "| epoch   4 |  5600/ 7125 batches | accuracy    0.805 | loss    0.538\n",
            "| epoch   4 |  5800/ 7125 batches | accuracy    0.812 | loss    0.522\n",
            "| epoch   4 |  6000/ 7125 batches | accuracy    0.816 | loss    0.511\n",
            "| epoch   4 |  6200/ 7125 batches | accuracy    0.823 | loss    0.518\n",
            "| epoch   4 |  6400/ 7125 batches | accuracy    0.818 | loss    0.492\n",
            "| epoch   4 |  6600/ 7125 batches | accuracy    0.823 | loss    0.495\n",
            "| epoch   4 |  6800/ 7125 batches | accuracy    0.826 | loss    0.489\n",
            "| epoch   4 |  7000/ 7125 batches | accuracy    0.838 | loss    0.468\n",
            "-----------------------------------------------------------\n",
            "| end of epoch   4 | time: 2321.99s | valid accuracy    0.786 \n",
            "-----------------------------------------------------------\n",
            "| epoch   5 |   200/ 7125 batches | accuracy    0.829 | loss    0.493\n",
            "| epoch   5 |   400/ 7125 batches | accuracy    0.819 | loss    0.508\n",
            "| epoch   5 |   600/ 7125 batches | accuracy    0.837 | loss    0.463\n",
            "| epoch   5 |   800/ 7125 batches | accuracy    0.818 | loss    0.511\n",
            "| epoch   5 |  1000/ 7125 batches | accuracy    0.825 | loss    0.490\n",
            "| epoch   5 |  1200/ 7125 batches | accuracy    0.819 | loss    0.533\n",
            "| epoch   5 |  1400/ 7125 batches | accuracy    0.826 | loss    0.496\n",
            "| epoch   5 |  1600/ 7125 batches | accuracy    0.828 | loss    0.490\n",
            "| epoch   5 |  1800/ 7125 batches | accuracy    0.818 | loss    0.527\n",
            "| epoch   5 |  2000/ 7125 batches | accuracy    0.831 | loss    0.482\n",
            "| epoch   5 |  2200/ 7125 batches | accuracy    0.840 | loss    0.481\n",
            "| epoch   5 |  2400/ 7125 batches | accuracy    0.827 | loss    0.481\n",
            "| epoch   5 |  2600/ 7125 batches | accuracy    0.811 | loss    0.526\n",
            "| epoch   5 |  2800/ 7125 batches | accuracy    0.837 | loss    0.470\n",
            "| epoch   5 |  3000/ 7125 batches | accuracy    0.826 | loss    0.511\n",
            "| epoch   5 |  3200/ 7125 batches | accuracy    0.838 | loss    0.453\n",
            "| epoch   5 |  3400/ 7125 batches | accuracy    0.837 | loss    0.488\n",
            "| epoch   5 |  3600/ 7125 batches | accuracy    0.829 | loss    0.474\n",
            "| epoch   5 |  3800/ 7125 batches | accuracy    0.825 | loss    0.499\n",
            "| epoch   5 |  4000/ 7125 batches | accuracy    0.838 | loss    0.452\n",
            "| epoch   5 |  4200/ 7125 batches | accuracy    0.819 | loss    0.505\n",
            "| epoch   5 |  4400/ 7125 batches | accuracy    0.833 | loss    0.489\n",
            "| epoch   5 |  4600/ 7125 batches | accuracy    0.838 | loss    0.440\n",
            "| epoch   5 |  4800/ 7125 batches | accuracy    0.832 | loss    0.500\n",
            "| epoch   5 |  5000/ 7125 batches | accuracy    0.833 | loss    0.468\n",
            "| epoch   5 |  5200/ 7125 batches | accuracy    0.833 | loss    0.455\n",
            "| epoch   5 |  5400/ 7125 batches | accuracy    0.837 | loss    0.463\n",
            "| epoch   5 |  5600/ 7125 batches | accuracy    0.835 | loss    0.470\n",
            "| epoch   5 |  5800/ 7125 batches | accuracy    0.832 | loss    0.477\n",
            "| epoch   5 |  6000/ 7125 batches | accuracy    0.833 | loss    0.476\n",
            "| epoch   5 |  6200/ 7125 batches | accuracy    0.835 | loss    0.458\n",
            "| epoch   5 |  6400/ 7125 batches | accuracy    0.826 | loss    0.479\n",
            "| epoch   5 |  6600/ 7125 batches | accuracy    0.824 | loss    0.491\n",
            "| epoch   5 |  6800/ 7125 batches | accuracy    0.822 | loss    0.485\n",
            "| epoch   5 |  7000/ 7125 batches | accuracy    0.840 | loss    0.437\n",
            "-----------------------------------------------------------\n",
            "| end of epoch   5 | time: 2318.53s | valid accuracy    0.840 \n",
            "-----------------------------------------------------------\n",
            "Checking the results of test dataset.\n",
            "test accuracy    0.837\n"
          ]
        }
      ],
      "source": [
        "for epoch in range(1, NUM_EPOCHS + 1):\n",
        "    epoch_start_time = time.time()\n",
        "    train(train_dataloader, model, optimizer, loss_fn, epoch)\n",
        "    accu_val = evaluate(valid_dataloader, model)\n",
        "    print(\"-\" * 59)\n",
        "    print(\n",
        "        \"| end of epoch {:3d} | time: {:5.2f}s | \"\n",
        "        \"valid accuracy {:8.3f} \".format(\n",
        "            epoch,\n",
        "            time.time() - epoch_start_time,\n",
        "            accu_val\n",
        "            )\n",
        "    )\n",
        "    print(\"-\" * 59)\n",
        "\n",
        "print(\"Checking the results of test dataset.\")\n",
        "accu_test = evaluate(test_dataloader, model)\n",
        "print(\"test accuracy {:8.3f}\".format(accu_test))"
      ],
      "id": "21ba24f3"
    },
    {
      "cell_type": "code",
      "source": [
        "# -----------------------------------------------------------\n",
        "# | epoch   5 |   200/ 7125 batches | accuracy    0.829 | loss    0.493\n",
        "# | epoch   5 |   400/ 7125 batches | accuracy    0.819 | loss    0.508\n",
        "# | epoch   5 |   600/ 7125 batches | accuracy    0.837 | loss    0.463\n",
        "# | epoch   5 |   800/ 7125 batches | accuracy    0.818 | loss    0.511\n",
        "# | epoch   5 |  1000/ 7125 batches | accuracy    0.825 | loss    0.490\n",
        "# | epoch   5 |  1200/ 7125 batches | accuracy    0.819 | loss    0.533\n",
        "# | epoch   5 |  1400/ 7125 batches | accuracy    0.826 | loss    0.496\n",
        "# | epoch   5 |  1600/ 7125 batches | accuracy    0.828 | loss    0.490\n",
        "# | epoch   5 |  1800/ 7125 batches | accuracy    0.818 | loss    0.527\n",
        "# | epoch   5 |  2000/ 7125 batches | accuracy    0.831 | loss    0.482\n",
        "# | epoch   5 |  2200/ 7125 batches | accuracy    0.840 | loss    0.481\n",
        "# | epoch   5 |  2400/ 7125 batches | accuracy    0.827 | loss    0.481\n",
        "# | epoch   5 |  2600/ 7125 batches | accuracy    0.811 | loss    0.526\n",
        "# | epoch   5 |  2800/ 7125 batches | accuracy    0.837 | loss    0.470\n",
        "# | epoch   5 |  3000/ 7125 batches | accuracy    0.826 | loss    0.511\n",
        "# | epoch   5 |  3200/ 7125 batches | accuracy    0.838 | loss    0.453\n",
        "# | epoch   5 |  3400/ 7125 batches | accuracy    0.837 | loss    0.488\n",
        "# | epoch   5 |  3600/ 7125 batches | accuracy    0.829 | loss    0.474\n",
        "# | epoch   5 |  3800/ 7125 batches | accuracy    0.825 | loss    0.499\n",
        "# | epoch   5 |  4000/ 7125 batches | accuracy    0.838 | loss    0.452\n",
        "# | epoch   5 |  4200/ 7125 batches | accuracy    0.819 | loss    0.505\n",
        "# | epoch   5 |  4400/ 7125 batches | accuracy    0.833 | loss    0.489\n",
        "# | epoch   5 |  4600/ 7125 batches | accuracy    0.838 | loss    0.440\n",
        "# | epoch   5 |  4800/ 7125 batches | accuracy    0.832 | loss    0.500\n",
        "# | epoch   5 |  5000/ 7125 batches | accuracy    0.833 | loss    0.468\n",
        "# | epoch   5 |  5200/ 7125 batches | accuracy    0.833 | loss    0.455\n",
        "# | epoch   5 |  5400/ 7125 batches | accuracy    0.837 | loss    0.463\n",
        "# | epoch   5 |  5600/ 7125 batches | accuracy    0.835 | loss    0.470\n",
        "# | epoch   5 |  5800/ 7125 batches | accuracy    0.832 | loss    0.477\n",
        "# | epoch   5 |  6000/ 7125 batches | accuracy    0.833 | loss    0.476\n",
        "# | epoch   5 |  6200/ 7125 batches | accuracy    0.835 | loss    0.458\n",
        "# | epoch   5 |  6400/ 7125 batches | accuracy    0.826 | loss    0.479\n",
        "# | epoch   5 |  6600/ 7125 batches | accuracy    0.824 | loss    0.491\n",
        "# | epoch   5 |  6800/ 7125 batches | accuracy    0.822 | loss    0.485\n",
        "# | epoch   5 |  7000/ 7125 batches | accuracy    0.840 | loss    0.437\n",
        "# -----------------------------------------------------------\n",
        "# | end of epoch   5 | time: 2318.53s | valid accuracy    0.840\n",
        "# -----------------------------------------------------------\n",
        "# Checking the results of test dataset.\n",
        "# test accuracy    0.837"
      ],
      "metadata": {
        "id": "KzUDIvYsu-jJ"
      },
      "id": "KzUDIvYsu-jJ",
      "execution_count": 27,
      "outputs": []
    }
  ],
  "metadata": {
    "colab": {
      "provenance": []
    },
    "kernelspec": {
      "display_name": "Python 3",
      "name": "python3"
    },
    "language_info": {
      "codemirror_mode": {
        "name": "ipython",
        "version": 3
      },
      "file_extension": ".py",
      "mimetype": "text/x-python",
      "name": "python",
      "nbconvert_exporter": "python",
      "pygments_lexer": "ipython3",
      "version": "3.8.15"
    }
  },
  "nbformat": 4,
  "nbformat_minor": 5
}