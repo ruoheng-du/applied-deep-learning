{
  "cells": [
    {
      "cell_type": "code",
      "execution_count": null,
      "id": "85c15f62",
      "metadata": {
        "colab": {
          "base_uri": "https://localhost:8080/"
        },
        "id": "85c15f62",
        "outputId": "d0569f78-90df-4b45-bc53-ae584522e38e"
      },
      "outputs": [
        {
          "output_type": "stream",
          "name": "stdout",
          "text": [
            "Requirement already satisfied: torchmetrics in /usr/local/lib/python3.10/dist-packages (1.6.0)\n",
            "Requirement already satisfied: numpy>1.20.0 in /usr/local/lib/python3.10/dist-packages (from torchmetrics) (1.26.4)\n",
            "Requirement already satisfied: packaging>17.1 in /usr/local/lib/python3.10/dist-packages (from torchmetrics) (24.2)\n",
            "Requirement already satisfied: torch>=2.0.0 in /usr/local/lib/python3.10/dist-packages (from torchmetrics) (2.5.1+cu121)\n",
            "Requirement already satisfied: lightning-utilities>=0.8.0 in /usr/local/lib/python3.10/dist-packages (from torchmetrics) (0.11.9)\n",
            "Requirement already satisfied: setuptools in /usr/local/lib/python3.10/dist-packages (from lightning-utilities>=0.8.0->torchmetrics) (75.1.0)\n",
            "Requirement already satisfied: typing-extensions in /usr/local/lib/python3.10/dist-packages (from lightning-utilities>=0.8.0->torchmetrics) (4.12.2)\n",
            "Requirement already satisfied: filelock in /usr/local/lib/python3.10/dist-packages (from torch>=2.0.0->torchmetrics) (3.16.1)\n",
            "Requirement already satisfied: networkx in /usr/local/lib/python3.10/dist-packages (from torch>=2.0.0->torchmetrics) (3.4.2)\n",
            "Requirement already satisfied: jinja2 in /usr/local/lib/python3.10/dist-packages (from torch>=2.0.0->torchmetrics) (3.1.4)\n",
            "Requirement already satisfied: fsspec in /usr/local/lib/python3.10/dist-packages (from torch>=2.0.0->torchmetrics) (2024.10.0)\n",
            "Requirement already satisfied: sympy==1.13.1 in /usr/local/lib/python3.10/dist-packages (from torch>=2.0.0->torchmetrics) (1.13.1)\n",
            "Requirement already satisfied: mpmath<1.4,>=1.1.0 in /usr/local/lib/python3.10/dist-packages (from sympy==1.13.1->torch>=2.0.0->torchmetrics) (1.3.0)\n",
            "Requirement already satisfied: MarkupSafe>=2.0 in /usr/local/lib/python3.10/dist-packages (from jinja2->torch>=2.0.0->torchmetrics) (3.0.2)\n"
          ]
        }
      ],
      "source": [
        "!pip install torchmetrics"
      ]
    },
    {
      "cell_type": "code",
      "source": [
        "import torch\n",
        "from torch.utils.data import TensorDataset, DataLoader, RandomSampler, SequentialSampler\n",
        "from transformers import BertTokenizer, BertForSequenceClassification\n",
        "from transformers import GPT2Tokenizer, GPT2ForSequenceClassification, GPT2Config\n",
        "from sklearn.model_selection import train_test_split\n",
        "\n",
        "import pandas as pd\n",
        "import numpy as np\n",
        "\n",
        "from tabulate import tabulate\n",
        "from tqdm import trange\n",
        "import random\n",
        "from torchmetrics.classification import Recall, Accuracy, AUROC, Precision"
      ],
      "metadata": {
        "id": "X0F_Ydxvi2fe"
      },
      "id": "X0F_Ydxvi2fe",
      "execution_count": null,
      "outputs": []
    },
    {
      "cell_type": "code",
      "source": [
        "FILL = \"FILL\""
      ],
      "metadata": {
        "id": "9GPs9grPgTzU"
      },
      "id": "9GPs9grPgTzU",
      "execution_count": null,
      "outputs": []
    },
    {
      "cell_type": "code",
      "execution_count": null,
      "id": "3678adfa",
      "metadata": {
        "colab": {
          "base_uri": "https://localhost:8080/"
        },
        "id": "3678adfa",
        "outputId": "d04ca808-4c4d-4f6a-d4d1-ae96d688c4f9"
      },
      "outputs": [
        {
          "output_type": "stream",
          "name": "stdout",
          "text": [
            "--2024-12-03 23:16:52--  https://archive.ics.uci.edu/ml/machine-learning-databases/00228/smsspamcollection.zip\n",
            "Resolving archive.ics.uci.edu (archive.ics.uci.edu)... 128.195.10.252\n",
            "Connecting to archive.ics.uci.edu (archive.ics.uci.edu)|128.195.10.252|:443... connected.\n",
            "HTTP request sent, awaiting response... 200 OK\n",
            "Length: unspecified\n",
            "Saving to: ‘smsspamcollection.zip.12’\n",
            "\n",
            "smsspamcollection.z     [   <=>              ] 198.65K   308KB/s    in 0.6s    \n",
            "\n",
            "2024-12-03 23:16:54 (308 KB/s) - ‘smsspamcollection.zip.12’ saved [203415]\n",
            "\n",
            "Archive:  smsspamcollection.zip\n",
            "  inflating: SMSSpamCollection       \n",
            "  inflating: readme                  \n"
          ]
        }
      ],
      "source": [
        "!wget 'https://archive.ics.uci.edu/ml/machine-learning-databases/00228/smsspamcollection.zip'\n",
        "!unzip -o smsspamcollection.zip"
      ]
    },
    {
      "cell_type": "code",
      "execution_count": null,
      "id": "d892553d",
      "metadata": {
        "colab": {
          "base_uri": "https://localhost:8080/"
        },
        "id": "d892553d",
        "outputId": "df06a41d-62fe-4537-eb8b-7ac24be1b27f"
      },
      "outputs": [
        {
          "output_type": "stream",
          "name": "stdout",
          "text": [
            "Archive:  smsspamcollection.zip\n",
            "  inflating: SMSSpamCollection       \n",
            "  inflating: readme                  \n"
          ]
        }
      ],
      "source": [
        "!unzip -o smsspamcollection.zip"
      ]
    },
    {
      "cell_type": "code",
      "execution_count": null,
      "id": "dd3d5e84",
      "metadata": {
        "colab": {
          "base_uri": "https://localhost:8080/"
        },
        "id": "dd3d5e84",
        "outputId": "9f69a41f-0f21-49cd-b599-e2f55b0c21a5"
      },
      "outputs": [
        {
          "output_type": "stream",
          "name": "stdout",
          "text": [
            "ham\tGo until jurong point, crazy.. Available only in bugis n great world la e buffet... Cine there got amore wat...\n",
            "ham\tOk lar... Joking wif u oni...\n",
            "spam\tFree entry in 2 a wkly comp to win FA Cup final tkts 21st May 2005. Text FA to 87121 to receive entry question(std txt rate)T&C's apply 08452810075over18's\n",
            "ham\tU dun say so early hor... U c already then say...\n",
            "ham\tNah I don't think he goes to usf, he lives around here though\n",
            "spam\tFreeMsg Hey there darling it's been 3 week's now and no word back! I'd like some fun you up for it still? Tb ok! XxX std chgs to send, £1.50 to rcv\n",
            "ham\tEven my brother is not like to speak with me. They treat me like aids patent.\n",
            "ham\tAs per your request 'Melle Melle (Oru Minnaminunginte Nurungu Vettam)' has been set as your callertune for all Callers. Press *9 to copy your friends Callertune\n",
            "spam\tWINNER!! As a valued network customer you have been selected to receivea £900 prize reward! To claim call 09061701461. Claim code KL341. Valid 12 hours only.\n",
            "spam\tHad your mobile 11 months or more? U R entitled to Update to the latest colour mobiles with camera for Free! Call The Mobile Update Co FREE on 08002986030\n"
          ]
        }
      ],
      "source": [
        "!head -10 SMSSpamCollection"
      ]
    },
    {
      "cell_type": "code",
      "execution_count": null,
      "id": "9b12150d",
      "metadata": {
        "colab": {
          "base_uri": "https://localhost:8080/"
        },
        "id": "9b12150d",
        "outputId": "d82a93bd-fc08-42c4-a733-eadcf91bcb7c"
      },
      "outputs": [
        {
          "output_type": "stream",
          "name": "stdout",
          "text": [
            "--2024-12-03 23:16:54--  https://archive.ics.uci.edu/ml/machine-learning-databases/00228/smsspamcollection.zip\n",
            "Resolving archive.ics.uci.edu (archive.ics.uci.edu)... 128.195.10.252\n",
            "Connecting to archive.ics.uci.edu (archive.ics.uci.edu)|128.195.10.252|:443... connected.\n",
            "HTTP request sent, awaiting response... 200 OK\n",
            "Length: unspecified\n",
            "Saving to: ‘smsspamcollection.zip.13’\n",
            "\n",
            "smsspamcollection.z     [   <=>              ] 198.65K   308KB/s    in 0.6s    \n",
            "\n",
            "2024-12-03 23:16:55 (308 KB/s) - ‘smsspamcollection.zip.13’ saved [203415]\n",
            "\n",
            "Archive:  smsspamcollection.zip\n",
            "  inflating: SMSSpamCollection       \n",
            "  inflating: readme                  \n"
          ]
        }
      ],
      "source": [
        "!wget 'https://archive.ics.uci.edu/ml/machine-learning-databases/00228/smsspamcollection.zip'\n",
        "!unzip -o smsspamcollection.zip"
      ]
    },
    {
      "cell_type": "code",
      "execution_count": null,
      "id": "98a736a1",
      "metadata": {
        "colab": {
          "base_uri": "https://localhost:8080/",
          "height": 206
        },
        "id": "98a736a1",
        "outputId": "619a930f-9517-4c5d-a5b2-fcc8db328031"
      },
      "outputs": [
        {
          "output_type": "execute_result",
          "data": {
            "text/plain": [
              "   label                                               text\n",
              "0      0  Go until jurong point, crazy.. Available only ...\n",
              "1      0                    Ok lar... Joking wif u oni...\\n\n",
              "2      1  Free entry in 2 a wkly comp to win FA Cup fina...\n",
              "3      0  U dun say so early hor... U c already then say...\n",
              "4      0  Nah I don't think he goes to usf, he lives aro..."
            ],
            "text/html": [
              "\n",
              "  <div id=\"df-ea484b59-2061-4b6e-8e4e-b2d08e48b965\" class=\"colab-df-container\">\n",
              "    <div>\n",
              "<style scoped>\n",
              "    .dataframe tbody tr th:only-of-type {\n",
              "        vertical-align: middle;\n",
              "    }\n",
              "\n",
              "    .dataframe tbody tr th {\n",
              "        vertical-align: top;\n",
              "    }\n",
              "\n",
              "    .dataframe thead th {\n",
              "        text-align: right;\n",
              "    }\n",
              "</style>\n",
              "<table border=\"1\" class=\"dataframe\">\n",
              "  <thead>\n",
              "    <tr style=\"text-align: right;\">\n",
              "      <th></th>\n",
              "      <th>label</th>\n",
              "      <th>text</th>\n",
              "    </tr>\n",
              "  </thead>\n",
              "  <tbody>\n",
              "    <tr>\n",
              "      <th>0</th>\n",
              "      <td>0</td>\n",
              "      <td>Go until jurong point, crazy.. Available only ...</td>\n",
              "    </tr>\n",
              "    <tr>\n",
              "      <th>1</th>\n",
              "      <td>0</td>\n",
              "      <td>Ok lar... Joking wif u oni...\\n</td>\n",
              "    </tr>\n",
              "    <tr>\n",
              "      <th>2</th>\n",
              "      <td>1</td>\n",
              "      <td>Free entry in 2 a wkly comp to win FA Cup fina...</td>\n",
              "    </tr>\n",
              "    <tr>\n",
              "      <th>3</th>\n",
              "      <td>0</td>\n",
              "      <td>U dun say so early hor... U c already then say...</td>\n",
              "    </tr>\n",
              "    <tr>\n",
              "      <th>4</th>\n",
              "      <td>0</td>\n",
              "      <td>Nah I don't think he goes to usf, he lives aro...</td>\n",
              "    </tr>\n",
              "  </tbody>\n",
              "</table>\n",
              "</div>\n",
              "    <div class=\"colab-df-buttons\">\n",
              "\n",
              "  <div class=\"colab-df-container\">\n",
              "    <button class=\"colab-df-convert\" onclick=\"convertToInteractive('df-ea484b59-2061-4b6e-8e4e-b2d08e48b965')\"\n",
              "            title=\"Convert this dataframe to an interactive table.\"\n",
              "            style=\"display:none;\">\n",
              "\n",
              "  <svg xmlns=\"http://www.w3.org/2000/svg\" height=\"24px\" viewBox=\"0 -960 960 960\">\n",
              "    <path d=\"M120-120v-720h720v720H120Zm60-500h600v-160H180v160Zm220 220h160v-160H400v160Zm0 220h160v-160H400v160ZM180-400h160v-160H180v160Zm440 0h160v-160H620v160ZM180-180h160v-160H180v160Zm440 0h160v-160H620v160Z\"/>\n",
              "  </svg>\n",
              "    </button>\n",
              "\n",
              "  <style>\n",
              "    .colab-df-container {\n",
              "      display:flex;\n",
              "      gap: 12px;\n",
              "    }\n",
              "\n",
              "    .colab-df-convert {\n",
              "      background-color: #E8F0FE;\n",
              "      border: none;\n",
              "      border-radius: 50%;\n",
              "      cursor: pointer;\n",
              "      display: none;\n",
              "      fill: #1967D2;\n",
              "      height: 32px;\n",
              "      padding: 0 0 0 0;\n",
              "      width: 32px;\n",
              "    }\n",
              "\n",
              "    .colab-df-convert:hover {\n",
              "      background-color: #E2EBFA;\n",
              "      box-shadow: 0px 1px 2px rgba(60, 64, 67, 0.3), 0px 1px 3px 1px rgba(60, 64, 67, 0.15);\n",
              "      fill: #174EA6;\n",
              "    }\n",
              "\n",
              "    .colab-df-buttons div {\n",
              "      margin-bottom: 4px;\n",
              "    }\n",
              "\n",
              "    [theme=dark] .colab-df-convert {\n",
              "      background-color: #3B4455;\n",
              "      fill: #D2E3FC;\n",
              "    }\n",
              "\n",
              "    [theme=dark] .colab-df-convert:hover {\n",
              "      background-color: #434B5C;\n",
              "      box-shadow: 0px 1px 3px 1px rgba(0, 0, 0, 0.15);\n",
              "      filter: drop-shadow(0px 1px 2px rgba(0, 0, 0, 0.3));\n",
              "      fill: #FFFFFF;\n",
              "    }\n",
              "  </style>\n",
              "\n",
              "    <script>\n",
              "      const buttonEl =\n",
              "        document.querySelector('#df-ea484b59-2061-4b6e-8e4e-b2d08e48b965 button.colab-df-convert');\n",
              "      buttonEl.style.display =\n",
              "        google.colab.kernel.accessAllowed ? 'block' : 'none';\n",
              "\n",
              "      async function convertToInteractive(key) {\n",
              "        const element = document.querySelector('#df-ea484b59-2061-4b6e-8e4e-b2d08e48b965');\n",
              "        const dataTable =\n",
              "          await google.colab.kernel.invokeFunction('convertToInteractive',\n",
              "                                                    [key], {});\n",
              "        if (!dataTable) return;\n",
              "\n",
              "        const docLinkHtml = 'Like what you see? Visit the ' +\n",
              "          '<a target=\"_blank\" href=https://colab.research.google.com/notebooks/data_table.ipynb>data table notebook</a>'\n",
              "          + ' to learn more about interactive tables.';\n",
              "        element.innerHTML = '';\n",
              "        dataTable['output_type'] = 'display_data';\n",
              "        await google.colab.output.renderOutput(dataTable, element);\n",
              "        const docLink = document.createElement('div');\n",
              "        docLink.innerHTML = docLinkHtml;\n",
              "        element.appendChild(docLink);\n",
              "      }\n",
              "    </script>\n",
              "  </div>\n",
              "\n",
              "\n",
              "<div id=\"df-ecff519b-7600-42e7-959e-8fddf7d41cd1\">\n",
              "  <button class=\"colab-df-quickchart\" onclick=\"quickchart('df-ecff519b-7600-42e7-959e-8fddf7d41cd1')\"\n",
              "            title=\"Suggest charts\"\n",
              "            style=\"display:none;\">\n",
              "\n",
              "<svg xmlns=\"http://www.w3.org/2000/svg\" height=\"24px\"viewBox=\"0 0 24 24\"\n",
              "     width=\"24px\">\n",
              "    <g>\n",
              "        <path d=\"M19 3H5c-1.1 0-2 .9-2 2v14c0 1.1.9 2 2 2h14c1.1 0 2-.9 2-2V5c0-1.1-.9-2-2-2zM9 17H7v-7h2v7zm4 0h-2V7h2v10zm4 0h-2v-4h2v4z\"/>\n",
              "    </g>\n",
              "</svg>\n",
              "  </button>\n",
              "\n",
              "<style>\n",
              "  .colab-df-quickchart {\n",
              "      --bg-color: #E8F0FE;\n",
              "      --fill-color: #1967D2;\n",
              "      --hover-bg-color: #E2EBFA;\n",
              "      --hover-fill-color: #174EA6;\n",
              "      --disabled-fill-color: #AAA;\n",
              "      --disabled-bg-color: #DDD;\n",
              "  }\n",
              "\n",
              "  [theme=dark] .colab-df-quickchart {\n",
              "      --bg-color: #3B4455;\n",
              "      --fill-color: #D2E3FC;\n",
              "      --hover-bg-color: #434B5C;\n",
              "      --hover-fill-color: #FFFFFF;\n",
              "      --disabled-bg-color: #3B4455;\n",
              "      --disabled-fill-color: #666;\n",
              "  }\n",
              "\n",
              "  .colab-df-quickchart {\n",
              "    background-color: var(--bg-color);\n",
              "    border: none;\n",
              "    border-radius: 50%;\n",
              "    cursor: pointer;\n",
              "    display: none;\n",
              "    fill: var(--fill-color);\n",
              "    height: 32px;\n",
              "    padding: 0;\n",
              "    width: 32px;\n",
              "  }\n",
              "\n",
              "  .colab-df-quickchart:hover {\n",
              "    background-color: var(--hover-bg-color);\n",
              "    box-shadow: 0 1px 2px rgba(60, 64, 67, 0.3), 0 1px 3px 1px rgba(60, 64, 67, 0.15);\n",
              "    fill: var(--button-hover-fill-color);\n",
              "  }\n",
              "\n",
              "  .colab-df-quickchart-complete:disabled,\n",
              "  .colab-df-quickchart-complete:disabled:hover {\n",
              "    background-color: var(--disabled-bg-color);\n",
              "    fill: var(--disabled-fill-color);\n",
              "    box-shadow: none;\n",
              "  }\n",
              "\n",
              "  .colab-df-spinner {\n",
              "    border: 2px solid var(--fill-color);\n",
              "    border-color: transparent;\n",
              "    border-bottom-color: var(--fill-color);\n",
              "    animation:\n",
              "      spin 1s steps(1) infinite;\n",
              "  }\n",
              "\n",
              "  @keyframes spin {\n",
              "    0% {\n",
              "      border-color: transparent;\n",
              "      border-bottom-color: var(--fill-color);\n",
              "      border-left-color: var(--fill-color);\n",
              "    }\n",
              "    20% {\n",
              "      border-color: transparent;\n",
              "      border-left-color: var(--fill-color);\n",
              "      border-top-color: var(--fill-color);\n",
              "    }\n",
              "    30% {\n",
              "      border-color: transparent;\n",
              "      border-left-color: var(--fill-color);\n",
              "      border-top-color: var(--fill-color);\n",
              "      border-right-color: var(--fill-color);\n",
              "    }\n",
              "    40% {\n",
              "      border-color: transparent;\n",
              "      border-right-color: var(--fill-color);\n",
              "      border-top-color: var(--fill-color);\n",
              "    }\n",
              "    60% {\n",
              "      border-color: transparent;\n",
              "      border-right-color: var(--fill-color);\n",
              "    }\n",
              "    80% {\n",
              "      border-color: transparent;\n",
              "      border-right-color: var(--fill-color);\n",
              "      border-bottom-color: var(--fill-color);\n",
              "    }\n",
              "    90% {\n",
              "      border-color: transparent;\n",
              "      border-bottom-color: var(--fill-color);\n",
              "    }\n",
              "  }\n",
              "</style>\n",
              "\n",
              "  <script>\n",
              "    async function quickchart(key) {\n",
              "      const quickchartButtonEl =\n",
              "        document.querySelector('#' + key + ' button');\n",
              "      quickchartButtonEl.disabled = true;  // To prevent multiple clicks.\n",
              "      quickchartButtonEl.classList.add('colab-df-spinner');\n",
              "      try {\n",
              "        const charts = await google.colab.kernel.invokeFunction(\n",
              "            'suggestCharts', [key], {});\n",
              "      } catch (error) {\n",
              "        console.error('Error during call to suggestCharts:', error);\n",
              "      }\n",
              "      quickchartButtonEl.classList.remove('colab-df-spinner');\n",
              "      quickchartButtonEl.classList.add('colab-df-quickchart-complete');\n",
              "    }\n",
              "    (() => {\n",
              "      let quickchartButtonEl =\n",
              "        document.querySelector('#df-ecff519b-7600-42e7-959e-8fddf7d41cd1 button');\n",
              "      quickchartButtonEl.style.display =\n",
              "        google.colab.kernel.accessAllowed ? 'block' : 'none';\n",
              "    })();\n",
              "  </script>\n",
              "</div>\n",
              "\n",
              "    </div>\n",
              "  </div>\n"
            ],
            "application/vnd.google.colaboratory.intrinsic+json": {
              "type": "dataframe",
              "variable_name": "df",
              "summary": "{\n  \"name\": \"df\",\n  \"rows\": 5574,\n  \"fields\": [\n    {\n      \"column\": \"label\",\n      \"properties\": {\n        \"dtype\": \"number\",\n        \"std\": 0,\n        \"min\": 0,\n        \"max\": 1,\n        \"num_unique_values\": 2,\n        \"samples\": [\n          1,\n          0\n        ],\n        \"semantic_type\": \"\",\n        \"description\": \"\"\n      }\n    },\n    {\n      \"column\": \"text\",\n      \"properties\": {\n        \"dtype\": \"string\",\n        \"num_unique_values\": 5171,\n        \"samples\": [\n          \"K, makes sense, btw carlos is being difficult so you guys are gonna smoke while I go pick up the second batch and get gas\\n\",\n          \"URGENT! Your mobile No *********** WON a \\u00a32,000 Bonus Caller Prize on 02/06/03! This is the 2nd attempt to reach YOU! Call 09066362220 ASAP! BOX97N7QP, 150ppm\\n\"\n        ],\n        \"semantic_type\": \"\",\n        \"description\": \"\"\n      }\n    }\n  ]\n}"
            }
          },
          "metadata": {},
          "execution_count": 134
        }
      ],
      "source": [
        "file_path = 'SMSSpamCollection'\n",
        "df = pd.DataFrame({'label':int(), 'text':str()}, index = [])\n",
        "with open(file_path) as f:\n",
        "    for line in f.readlines():\n",
        "        split = line.split('\\t')\n",
        "        df = pd.concat([\n",
        "                df,\n",
        "                pd.DataFrame.from_dict({\n",
        "                    'label': [1 if split[0] == 'spam' else 0],\n",
        "                    'text': [split[1]]\n",
        "                })\n",
        "            ],\n",
        "            ignore_index=True\n",
        "        )\n",
        "df.head()"
      ]
    },
    {
      "cell_type": "code",
      "execution_count": null,
      "id": "79a5cb02",
      "metadata": {
        "id": "79a5cb02"
      },
      "outputs": [],
      "source": [
        "text = df.text.values\n",
        "labels = df.label.values"
      ]
    },
    {
      "cell_type": "code",
      "execution_count": null,
      "id": "dce193a4",
      "metadata": {
        "id": "dce193a4"
      },
      "outputs": [],
      "source": [
        "# Set to the GPT2Tokenizer and set lower case to True\n",
        "tokenizer = GPT2Tokenizer.from_pretrained('gpt2', do_lower_case = True)\n",
        "tokenizer.pad_token = tokenizer.eos_token\n",
        "# Set the padding to 'left' or 'right'?\n",
        "# Remember we want to use the last token's embedding to represent the entire sentence\n",
        "tokenizer.padding_side = 'left'"
      ]
    },
    {
      "cell_type": "code",
      "execution_count": null,
      "id": "c00a3e7e",
      "metadata": {
        "colab": {
          "base_uri": "https://localhost:8080/"
        },
        "id": "c00a3e7e",
        "outputId": "7e84a459-e736-4c11-d3e5-08504548cb39"
      },
      "outputs": [
        {
          "output_type": "stream",
          "name": "stdout",
          "text": [
            "FREE RINGTONE text FIRST to 87131 for a poly or text GET to 87131 for a true tone! Help? 0845 2814032 16 after 1st free, tones are 3x£150pw to e£nd txt stop\n",
            "\n",
            "╒══════════╤═════════════╕\n",
            "│ Tokens   │   Token IDs │\n",
            "╞══════════╪═════════════╡\n",
            "│ FREE     │       39274 │\n",
            "├──────────┼─────────────┤\n",
            "│ ĠR       │         371 │\n",
            "├──────────┼─────────────┤\n",
            "│ INGTON   │       17480 │\n",
            "├──────────┼─────────────┤\n",
            "│ E        │          36 │\n",
            "├──────────┼─────────────┤\n",
            "│ Ġtext    │        2420 │\n",
            "├──────────┼─────────────┤\n",
            "│ ĠFIRST   │       31328 │\n",
            "├──────────┼─────────────┤\n",
            "│ Ġto      │         284 │\n",
            "├──────────┼─────────────┤\n",
            "│ Ġ87      │       10083 │\n",
            "├──────────┼─────────────┤\n",
            "│ 131      │       22042 │\n",
            "├──────────┼─────────────┤\n",
            "│ Ġfor     │         329 │\n",
            "├──────────┼─────────────┤\n",
            "│ Ġa       │         257 │\n",
            "├──────────┼─────────────┤\n",
            "│ Ġpoly    │        7514 │\n",
            "├──────────┼─────────────┤\n",
            "│ Ġor      │         393 │\n",
            "├──────────┼─────────────┤\n",
            "│ Ġtext    │        2420 │\n",
            "├──────────┼─────────────┤\n",
            "│ ĠGET     │       17151 │\n",
            "├──────────┼─────────────┤\n",
            "│ Ġto      │         284 │\n",
            "├──────────┼─────────────┤\n",
            "│ Ġ87      │       10083 │\n",
            "├──────────┼─────────────┤\n",
            "│ 131      │       22042 │\n",
            "├──────────┼─────────────┤\n",
            "│ Ġfor     │         329 │\n",
            "├──────────┼─────────────┤\n",
            "│ Ġa       │         257 │\n",
            "├──────────┼─────────────┤\n",
            "│ Ġtrue    │        2081 │\n",
            "├──────────┼─────────────┤\n",
            "│ Ġtone    │        8216 │\n",
            "├──────────┼─────────────┤\n",
            "│ !        │           0 │\n",
            "├──────────┼─────────────┤\n",
            "│ ĠHelp    │       10478 │\n",
            "├──────────┼─────────────┤\n",
            "│ ?        │          30 │\n",
            "├──────────┼─────────────┤\n",
            "│ Ġ08      │        8487 │\n",
            "├──────────┼─────────────┤\n",
            "│ 45       │        2231 │\n",
            "├──────────┼─────────────┤\n",
            "│ Ġ28      │        2579 │\n",
            "├──────────┼─────────────┤\n",
            "│ 140      │       15187 │\n",
            "├──────────┼─────────────┤\n",
            "│ 32       │        2624 │\n",
            "├──────────┼─────────────┤\n",
            "│ Ġ16      │        1467 │\n",
            "├──────────┼─────────────┤\n",
            "│ Ġafter   │         706 │\n",
            "├──────────┼─────────────┤\n",
            "│ Ġ1       │         352 │\n",
            "├──────────┼─────────────┤\n",
            "│ st       │         301 │\n",
            "├──────────┼─────────────┤\n",
            "│ Ġfree    │        1479 │\n",
            "├──────────┼─────────────┤\n",
            "│ ,        │          11 │\n",
            "├──────────┼─────────────┤\n",
            "│ Ġtones   │       23755 │\n",
            "├──────────┼─────────────┤\n",
            "│ Ġare     │         389 │\n",
            "├──────────┼─────────────┤\n",
            "│ Ġ3       │         513 │\n",
            "├──────────┼─────────────┤\n",
            "│ x        │          87 │\n",
            "├──────────┼─────────────┤\n",
            "│ Â£       │       14988 │\n",
            "├──────────┼─────────────┤\n",
            "│ 150      │        8628 │\n",
            "├──────────┼─────────────┤\n",
            "│ p        │          79 │\n",
            "├──────────┼─────────────┤\n",
            "│ w        │          86 │\n",
            "├──────────┼─────────────┤\n",
            "│ Ġto      │         284 │\n",
            "├──────────┼─────────────┤\n",
            "│ Ġe       │         304 │\n",
            "├──────────┼─────────────┤\n",
            "│ Â£       │       14988 │\n",
            "├──────────┼─────────────┤\n",
            "│ nd       │         358 │\n",
            "├──────────┼─────────────┤\n",
            "│ Ġt       │         256 │\n",
            "├──────────┼─────────────┤\n",
            "│ xt       │         742 │\n",
            "├──────────┼─────────────┤\n",
            "│ Ġstop    │        2245 │\n",
            "├──────────┼─────────────┤\n",
            "│ Ċ        │         198 │\n",
            "╘══════════╧═════════════╛\n"
          ]
        }
      ],
      "source": [
        "def print_rand_sentence():\n",
        "    '''Displays the tokens and respective IDs of a random text sample'''\n",
        "    index = random.randint(0, len(text)-1)\n",
        "    print(text[index])\n",
        "    table = np.array([tokenizer.tokenize(text[index]),\n",
        "                    tokenizer.convert_tokens_to_ids(tokenizer.tokenize(text[index]))]).T\n",
        "    print(tabulate(table,\n",
        "                 headers = ['Tokens', 'Token IDs'],\n",
        "                 tablefmt = 'fancy_grid'))\n",
        "\n",
        "print_rand_sentence()"
      ]
    },
    {
      "cell_type": "code",
      "execution_count": null,
      "id": "e85d0895",
      "metadata": {
        "colab": {
          "base_uri": "https://localhost:8080/"
        },
        "id": "e85d0895",
        "outputId": "4207e1db-a7e5-4d27-b81a-4e123cc4d5a0"
      },
      "outputs": [
        {
          "output_type": "stream",
          "name": "stderr",
          "text": [
            "Truncation was not explicitly activated but `max_length` is provided a specific value, please use `truncation=True` to explicitly truncate examples to max length. Defaulting to 'longest_first' truncation strategy. If you encode pairs of sequences (GLUE-style) with the tokenizer you can select this strategy more precisely by providing a specific strategy to `truncation`.\n",
            "/usr/local/lib/python3.10/dist-packages/transformers/tokenization_utils_base.py:2834: FutureWarning: The `pad_to_max_length` argument is deprecated and will be removed in a future version, use `padding=True` or `padding='longest'` to pad to the longest sequence in the batch, or use `padding='max_length'` to pad to a max length. In this case, you can give a specific length with `max_length` (e.g. `max_length=45`) or leave max_length to None to pad to the maximal input size of the model (e.g. 512 for Bert).\n",
            "  warnings.warn(\n"
          ]
        }
      ],
      "source": [
        "token_id = []\n",
        "attention_masks = []\n",
        "\n",
        "def preprocessing(input_text, tokenizer):\n",
        "  '''\n",
        "  Returns <class transformers.tokenization_utils_base.BatchEncoding> with the following fields:\n",
        "    - input_ids: list of token ids\n",
        "    - token_type_ids: list of token type ids\n",
        "    - attention_mask: list of indices (0,1) specifying which tokens should considered by the model (return_attention_mask = True).\n",
        "  '''\n",
        "  # Use the tokenizer and the encode_plus methods to return the right data we'll need\n",
        "  # Set max_length = 32 and return_tokens = 'pt'\n",
        "  # Set other fields to the appropriate booleans needed\n",
        "  return tokenizer.encode_plus(input_text, add_special_tokens = True,\n",
        "                               max_length = 32, pad_to_max_length = True,\n",
        "                               return_attention_mask = True, return_tensors = 'pt')\n",
        "\n",
        "for sample in text:\n",
        "    encoding_dict = preprocessing(sample, tokenizer)\n",
        "    token_id.append(encoding_dict['input_ids'])\n",
        "    attention_masks.append(encoding_dict['attention_mask'])\n",
        "\n",
        "# Gather all the torch_id, attention masks, and labels\n",
        "token_id = torch.cat(token_id, dim=0)\n",
        "attention_masks = torch.cat(attention_masks, dim=0)\n",
        "labels = torch.tensor(labels)"
      ]
    },
    {
      "cell_type": "code",
      "execution_count": null,
      "id": "222e06a7",
      "metadata": {
        "colab": {
          "base_uri": "https://localhost:8080/"
        },
        "id": "222e06a7",
        "outputId": "b2147923-6e6e-4280-c1f2-264b784095ff"
      },
      "outputs": [
        {
          "output_type": "stream",
          "name": "stdout",
          "text": [
            "['<|endoftext|>', '<|endoftext|>', 'Anyway', 'Ġseriously', 'Ġhit', 'Ġme', 'Ġup', 'Ġwhen', 'Ġyou', \"'re\", 'Ġback', 'Ġbecause', 'Ġotherwise', 'ĠI', 'Ġhave', 'Ġto', 'Ġlight', 'Ġup', 'Ġwith', 'Ġarm', 'and', 'Ġand', 'Ġhe', 'Ġalways', 'Ġhas', 'Ġshit', 'Ġand', '/', 'or', 'Ġis', 'Ġvomiting', 'Ċ']\n",
            "╒═══════════════╤═════════════╤══════════════════╕\n",
            "│ Tokens        │   Token IDs │   Attention Mask │\n",
            "╞═══════════════╪═════════════╪══════════════════╡\n",
            "│ <|endoftext|> │       50256 │                0 │\n",
            "├───────────────┼─────────────┼──────────────────┤\n",
            "│ <|endoftext|> │       50256 │                0 │\n",
            "├───────────────┼─────────────┼──────────────────┤\n",
            "│ Anyway        │       23795 │                1 │\n",
            "├───────────────┼─────────────┼──────────────────┤\n",
            "│ Ġseriously    │        6411 │                1 │\n",
            "├───────────────┼─────────────┼──────────────────┤\n",
            "│ Ġhit          │        2277 │                1 │\n",
            "├───────────────┼─────────────┼──────────────────┤\n",
            "│ Ġme           │         502 │                1 │\n",
            "├───────────────┼─────────────┼──────────────────┤\n",
            "│ Ġup           │         510 │                1 │\n",
            "├───────────────┼─────────────┼──────────────────┤\n",
            "│ Ġwhen         │         618 │                1 │\n",
            "├───────────────┼─────────────┼──────────────────┤\n",
            "│ Ġyou          │         345 │                1 │\n",
            "├───────────────┼─────────────┼──────────────────┤\n",
            "│ 're           │         821 │                1 │\n",
            "├───────────────┼─────────────┼──────────────────┤\n",
            "│ Ġback         │         736 │                1 │\n",
            "├───────────────┼─────────────┼──────────────────┤\n",
            "│ Ġbecause      │         780 │                1 │\n",
            "├───────────────┼─────────────┼──────────────────┤\n",
            "│ Ġotherwise    │        4306 │                1 │\n",
            "├───────────────┼─────────────┼──────────────────┤\n",
            "│ ĠI            │         314 │                1 │\n",
            "├───────────────┼─────────────┼──────────────────┤\n",
            "│ Ġhave         │         423 │                1 │\n",
            "├───────────────┼─────────────┼──────────────────┤\n",
            "│ Ġto           │         284 │                1 │\n",
            "├───────────────┼─────────────┼──────────────────┤\n",
            "│ Ġlight        │        1657 │                1 │\n",
            "├───────────────┼─────────────┼──────────────────┤\n",
            "│ Ġup           │         510 │                1 │\n",
            "├───────────────┼─────────────┼──────────────────┤\n",
            "│ Ġwith         │         351 │                1 │\n",
            "├───────────────┼─────────────┼──────────────────┤\n",
            "│ Ġarm          │        3211 │                1 │\n",
            "├───────────────┼─────────────┼──────────────────┤\n",
            "│ and           │         392 │                1 │\n",
            "├───────────────┼─────────────┼──────────────────┤\n",
            "│ Ġand          │         290 │                1 │\n",
            "├───────────────┼─────────────┼──────────────────┤\n",
            "│ Ġhe           │         339 │                1 │\n",
            "├───────────────┼─────────────┼──────────────────┤\n",
            "│ Ġalways       │        1464 │                1 │\n",
            "├───────────────┼─────────────┼──────────────────┤\n",
            "│ Ġhas          │         468 │                1 │\n",
            "├───────────────┼─────────────┼──────────────────┤\n",
            "│ Ġshit         │        7510 │                1 │\n",
            "├───────────────┼─────────────┼──────────────────┤\n",
            "│ Ġand          │         290 │                1 │\n",
            "├───────────────┼─────────────┼──────────────────┤\n",
            "│ /             │          14 │                1 │\n",
            "├───────────────┼─────────────┼──────────────────┤\n",
            "│ or            │         273 │                1 │\n",
            "├───────────────┼─────────────┼──────────────────┤\n",
            "│ Ġis           │         318 │                1 │\n",
            "├───────────────┼─────────────┼──────────────────┤\n",
            "│ Ġvomiting     │       30874 │                1 │\n",
            "├───────────────┼─────────────┼──────────────────┤\n",
            "│ Ċ             │         198 │                1 │\n",
            "╘═══════════════╧═════════════╧══════════════════╛\n"
          ]
        }
      ],
      "source": [
        "def print_rand_sentence_encoding():\n",
        "    '''Displays tokens, token IDs and attention mask of a random text sample'''\n",
        "    index = random.randint(0, len(text) - 1)\n",
        "    tokens = tokenizer.tokenize(tokenizer.decode(token_id[index]))\n",
        "    print(tokens)\n",
        "    token_ids = [i.numpy() for i in token_id[index]]\n",
        "    attention = [i.numpy() for i in attention_masks[index]]\n",
        "    table = np.array([tokens, token_ids, attention]).T\n",
        "    print(\n",
        "        tabulate(\n",
        "            table,\n",
        "            headers = ['Tokens', 'Token IDs', 'Attention Mask'],\n",
        "            tablefmt = 'fancy_grid')\n",
        "    )\n",
        "\n",
        "print_rand_sentence_encoding()"
      ]
    },
    {
      "cell_type": "code",
      "execution_count": null,
      "id": "e1c2c10b",
      "metadata": {
        "id": "e1c2c10b"
      },
      "outputs": [],
      "source": [
        "val_ratio = 0.2\n",
        "# Recommended batch size: 16, 32. See: https://arxiv.org/pdf/1810.04805.pdf\n",
        "batch_size = 16\n",
        "\n",
        "# Indices of the train and validation splits stratified by labels\n",
        "# Use train_test_split\n",
        "train_idx, val_idx = train_test_split(np.arange(len(labels)),\n",
        "                                      test_size=val_ratio,\n",
        "                                      stratify=labels,\n",
        "                                      shuffle=True,\n",
        "                                      random_state=42)\n",
        "\n",
        "\n",
        "# Train and validation sets\n",
        "# Set to TensorDataset\n",
        "train_set = TensorDataset(token_id[train_idx], attention_masks[train_idx], labels[train_idx])\n",
        "\n",
        "val_set = TensorDataset(token_id[val_idx], attention_masks[val_idx], labels[val_idx])\n",
        "\n",
        "# Prepare DataLoader\n",
        "train_dataloader = DataLoader(train_set, sampler=RandomSampler(train_set), batch_size=batch_size)\n",
        "validation_dataloader = DataLoader(val_set, sampler=SequentialSampler(val_set), batch_size=batch_size)"
      ]
    },
    {
      "cell_type": "markdown",
      "id": "40bcf8c4",
      "metadata": {
        "id": "40bcf8c4"
      },
      "source": [
        "### Load specific versions of the model"
      ]
    },
    {
      "cell_type": "code",
      "execution_count": null,
      "id": "f85fc88e",
      "metadata": {
        "colab": {
          "base_uri": "https://localhost:8080/"
        },
        "id": "f85fc88e",
        "outputId": "1cf82905-5ebf-4b1d-bcc4-a82454e58e75"
      },
      "outputs": [
        {
          "output_type": "stream",
          "name": "stderr",
          "text": [
            "Some weights of GPT2ForSequenceClassification were not initialized from the model checkpoint at gpt2 and are newly initialized: ['score.weight']\n",
            "You should probably TRAIN this model on a down-stream task to be able to use it for predictions and inference.\n"
          ]
        }
      ],
      "source": [
        "# Load the BertForSequenceClassification model\n",
        "# Do not ouput the attentions and all hidden states\n",
        "\n",
        "config = GPT2Config.from_pretrained('gpt2',\n",
        "                                    output_attentions=False,\n",
        "                                    output_hidden_states=False,\n",
        "                                    num_labels=2)\n",
        "\n",
        "# Set to 'gpt2' (the smallest GPT2 which is 120 M parameters)\n",
        "# Use the config above and set other labels as needed\n",
        "model = GPT2ForSequenceClassification.from_pretrained('gpt2', config=config)\n",
        "\n",
        "# Set the pad token id to the eos token id\n",
        "model.config.pad_token_id = model.config.eos_token_id\n",
        "\n",
        "# Recommended learning rates (Adam): 5e-5, 3e-5, 2e-5\n",
        "# See: https://arxiv.org/pdf/1810.04805.pdf\n",
        "optimizer = torch.optim.AdamW(\n",
        "    model.parameters(),\n",
        "    lr = 5e-5,\n",
        "    eps = 1e-08\n",
        ")"
      ]
    },
    {
      "cell_type": "markdown",
      "id": "a36b60bf",
      "metadata": {
        "id": "a36b60bf"
      },
      "source": [
        "### Set the model to the right device"
      ]
    },
    {
      "cell_type": "code",
      "execution_count": null,
      "id": "071b1a84",
      "metadata": {
        "id": "071b1a84"
      },
      "outputs": [],
      "source": [
        "# If on GPU, do as below\n",
        "device = torch.device('cuda' if torch.cuda.is_available() else 'cpu')"
      ]
    },
    {
      "cell_type": "code",
      "execution_count": null,
      "id": "4811b9f5",
      "metadata": {
        "id": "4811b9f5"
      },
      "outputs": [],
      "source": [
        "model = model.to(device)\n",
        "\n",
        "# Recommended number of epochs: See: https://arxiv.org/pdf/1810.04805.pdf\n",
        "epochs = 2"
      ]
    },
    {
      "cell_type": "code",
      "execution_count": null,
      "id": "f9f4e75e",
      "metadata": {
        "colab": {
          "base_uri": "https://localhost:8080/"
        },
        "id": "f9f4e75e",
        "outputId": "0dd77cfc-e2f8-438c-e9e7-a617df544e78"
      },
      "outputs": [
        {
          "output_type": "stream",
          "name": "stdout",
          "text": [
            "transformer.wte.weight 38597376 torch.Size([50257, 768]) False\n",
            "transformer.wpe.weight 786432 torch.Size([1024, 768]) False\n",
            "transformer.h.0.ln_1.weight 768 torch.Size([768]) False\n",
            "transformer.h.0.ln_1.bias 768 torch.Size([768]) False\n",
            "transformer.h.0.attn.c_attn.weight 1769472 torch.Size([768, 2304]) False\n",
            "transformer.h.0.attn.c_attn.bias 2304 torch.Size([2304]) False\n",
            "transformer.h.0.attn.c_proj.weight 589824 torch.Size([768, 768]) False\n",
            "transformer.h.0.attn.c_proj.bias 768 torch.Size([768]) False\n",
            "transformer.h.0.ln_2.weight 768 torch.Size([768]) False\n",
            "transformer.h.0.ln_2.bias 768 torch.Size([768]) False\n",
            "transformer.h.0.mlp.c_fc.weight 2359296 torch.Size([768, 3072]) False\n",
            "transformer.h.0.mlp.c_fc.bias 3072 torch.Size([3072]) False\n",
            "transformer.h.0.mlp.c_proj.weight 2359296 torch.Size([3072, 768]) False\n",
            "transformer.h.0.mlp.c_proj.bias 768 torch.Size([768]) False\n",
            "transformer.h.1.ln_1.weight 768 torch.Size([768]) False\n",
            "transformer.h.1.ln_1.bias 768 torch.Size([768]) False\n",
            "transformer.h.1.attn.c_attn.weight 1769472 torch.Size([768, 2304]) False\n",
            "transformer.h.1.attn.c_attn.bias 2304 torch.Size([2304]) False\n",
            "transformer.h.1.attn.c_proj.weight 589824 torch.Size([768, 768]) False\n",
            "transformer.h.1.attn.c_proj.bias 768 torch.Size([768]) False\n",
            "transformer.h.1.ln_2.weight 768 torch.Size([768]) False\n",
            "transformer.h.1.ln_2.bias 768 torch.Size([768]) False\n",
            "transformer.h.1.mlp.c_fc.weight 2359296 torch.Size([768, 3072]) False\n",
            "transformer.h.1.mlp.c_fc.bias 3072 torch.Size([3072]) False\n",
            "transformer.h.1.mlp.c_proj.weight 2359296 torch.Size([3072, 768]) False\n",
            "transformer.h.1.mlp.c_proj.bias 768 torch.Size([768]) False\n",
            "transformer.h.2.ln_1.weight 768 torch.Size([768]) False\n",
            "transformer.h.2.ln_1.bias 768 torch.Size([768]) False\n",
            "transformer.h.2.attn.c_attn.weight 1769472 torch.Size([768, 2304]) False\n",
            "transformer.h.2.attn.c_attn.bias 2304 torch.Size([2304]) False\n",
            "transformer.h.2.attn.c_proj.weight 589824 torch.Size([768, 768]) False\n",
            "transformer.h.2.attn.c_proj.bias 768 torch.Size([768]) False\n",
            "transformer.h.2.ln_2.weight 768 torch.Size([768]) False\n",
            "transformer.h.2.ln_2.bias 768 torch.Size([768]) False\n",
            "transformer.h.2.mlp.c_fc.weight 2359296 torch.Size([768, 3072]) False\n",
            "transformer.h.2.mlp.c_fc.bias 3072 torch.Size([3072]) False\n",
            "transformer.h.2.mlp.c_proj.weight 2359296 torch.Size([3072, 768]) False\n",
            "transformer.h.2.mlp.c_proj.bias 768 torch.Size([768]) False\n",
            "transformer.h.3.ln_1.weight 768 torch.Size([768]) False\n",
            "transformer.h.3.ln_1.bias 768 torch.Size([768]) False\n",
            "transformer.h.3.attn.c_attn.weight 1769472 torch.Size([768, 2304]) False\n",
            "transformer.h.3.attn.c_attn.bias 2304 torch.Size([2304]) False\n",
            "transformer.h.3.attn.c_proj.weight 589824 torch.Size([768, 768]) False\n",
            "transformer.h.3.attn.c_proj.bias 768 torch.Size([768]) False\n",
            "transformer.h.3.ln_2.weight 768 torch.Size([768]) False\n",
            "transformer.h.3.ln_2.bias 768 torch.Size([768]) False\n",
            "transformer.h.3.mlp.c_fc.weight 2359296 torch.Size([768, 3072]) False\n",
            "transformer.h.3.mlp.c_fc.bias 3072 torch.Size([3072]) False\n",
            "transformer.h.3.mlp.c_proj.weight 2359296 torch.Size([3072, 768]) False\n",
            "transformer.h.3.mlp.c_proj.bias 768 torch.Size([768]) False\n",
            "transformer.h.4.ln_1.weight 768 torch.Size([768]) False\n",
            "transformer.h.4.ln_1.bias 768 torch.Size([768]) False\n",
            "transformer.h.4.attn.c_attn.weight 1769472 torch.Size([768, 2304]) False\n",
            "transformer.h.4.attn.c_attn.bias 2304 torch.Size([2304]) False\n",
            "transformer.h.4.attn.c_proj.weight 589824 torch.Size([768, 768]) False\n",
            "transformer.h.4.attn.c_proj.bias 768 torch.Size([768]) False\n",
            "transformer.h.4.ln_2.weight 768 torch.Size([768]) False\n",
            "transformer.h.4.ln_2.bias 768 torch.Size([768]) False\n",
            "transformer.h.4.mlp.c_fc.weight 2359296 torch.Size([768, 3072]) False\n",
            "transformer.h.4.mlp.c_fc.bias 3072 torch.Size([3072]) False\n",
            "transformer.h.4.mlp.c_proj.weight 2359296 torch.Size([3072, 768]) False\n",
            "transformer.h.4.mlp.c_proj.bias 768 torch.Size([768]) False\n",
            "transformer.h.5.ln_1.weight 768 torch.Size([768]) False\n",
            "transformer.h.5.ln_1.bias 768 torch.Size([768]) False\n",
            "transformer.h.5.attn.c_attn.weight 1769472 torch.Size([768, 2304]) False\n",
            "transformer.h.5.attn.c_attn.bias 2304 torch.Size([2304]) False\n",
            "transformer.h.5.attn.c_proj.weight 589824 torch.Size([768, 768]) False\n",
            "transformer.h.5.attn.c_proj.bias 768 torch.Size([768]) False\n",
            "transformer.h.5.ln_2.weight 768 torch.Size([768]) False\n",
            "transformer.h.5.ln_2.bias 768 torch.Size([768]) False\n",
            "transformer.h.5.mlp.c_fc.weight 2359296 torch.Size([768, 3072]) False\n",
            "transformer.h.5.mlp.c_fc.bias 3072 torch.Size([3072]) False\n",
            "transformer.h.5.mlp.c_proj.weight 2359296 torch.Size([3072, 768]) False\n",
            "transformer.h.5.mlp.c_proj.bias 768 torch.Size([768]) False\n",
            "transformer.h.6.ln_1.weight 768 torch.Size([768]) False\n",
            "transformer.h.6.ln_1.bias 768 torch.Size([768]) False\n",
            "transformer.h.6.attn.c_attn.weight 1769472 torch.Size([768, 2304]) False\n",
            "transformer.h.6.attn.c_attn.bias 2304 torch.Size([2304]) False\n",
            "transformer.h.6.attn.c_proj.weight 589824 torch.Size([768, 768]) False\n",
            "transformer.h.6.attn.c_proj.bias 768 torch.Size([768]) False\n",
            "transformer.h.6.ln_2.weight 768 torch.Size([768]) False\n",
            "transformer.h.6.ln_2.bias 768 torch.Size([768]) False\n",
            "transformer.h.6.mlp.c_fc.weight 2359296 torch.Size([768, 3072]) False\n",
            "transformer.h.6.mlp.c_fc.bias 3072 torch.Size([3072]) False\n",
            "transformer.h.6.mlp.c_proj.weight 2359296 torch.Size([3072, 768]) False\n",
            "transformer.h.6.mlp.c_proj.bias 768 torch.Size([768]) False\n",
            "transformer.h.7.ln_1.weight 768 torch.Size([768]) False\n",
            "transformer.h.7.ln_1.bias 768 torch.Size([768]) False\n",
            "transformer.h.7.attn.c_attn.weight 1769472 torch.Size([768, 2304]) False\n",
            "transformer.h.7.attn.c_attn.bias 2304 torch.Size([2304]) False\n",
            "transformer.h.7.attn.c_proj.weight 589824 torch.Size([768, 768]) False\n",
            "transformer.h.7.attn.c_proj.bias 768 torch.Size([768]) False\n",
            "transformer.h.7.ln_2.weight 768 torch.Size([768]) False\n",
            "transformer.h.7.ln_2.bias 768 torch.Size([768]) False\n",
            "transformer.h.7.mlp.c_fc.weight 2359296 torch.Size([768, 3072]) False\n",
            "transformer.h.7.mlp.c_fc.bias 3072 torch.Size([3072]) False\n",
            "transformer.h.7.mlp.c_proj.weight 2359296 torch.Size([3072, 768]) False\n",
            "transformer.h.7.mlp.c_proj.bias 768 torch.Size([768]) False\n",
            "transformer.h.8.ln_1.weight 768 torch.Size([768]) False\n",
            "transformer.h.8.ln_1.bias 768 torch.Size([768]) False\n",
            "transformer.h.8.attn.c_attn.weight 1769472 torch.Size([768, 2304]) False\n",
            "transformer.h.8.attn.c_attn.bias 2304 torch.Size([2304]) False\n",
            "transformer.h.8.attn.c_proj.weight 589824 torch.Size([768, 768]) False\n",
            "transformer.h.8.attn.c_proj.bias 768 torch.Size([768]) False\n",
            "transformer.h.8.ln_2.weight 768 torch.Size([768]) False\n",
            "transformer.h.8.ln_2.bias 768 torch.Size([768]) False\n",
            "transformer.h.8.mlp.c_fc.weight 2359296 torch.Size([768, 3072]) False\n",
            "transformer.h.8.mlp.c_fc.bias 3072 torch.Size([3072]) False\n",
            "transformer.h.8.mlp.c_proj.weight 2359296 torch.Size([3072, 768]) False\n",
            "transformer.h.8.mlp.c_proj.bias 768 torch.Size([768]) False\n",
            "transformer.h.9.ln_1.weight 768 torch.Size([768]) False\n",
            "transformer.h.9.ln_1.bias 768 torch.Size([768]) False\n",
            "transformer.h.9.attn.c_attn.weight 1769472 torch.Size([768, 2304]) False\n",
            "transformer.h.9.attn.c_attn.bias 2304 torch.Size([2304]) False\n",
            "transformer.h.9.attn.c_proj.weight 589824 torch.Size([768, 768]) False\n",
            "transformer.h.9.attn.c_proj.bias 768 torch.Size([768]) False\n",
            "transformer.h.9.ln_2.weight 768 torch.Size([768]) False\n",
            "transformer.h.9.ln_2.bias 768 torch.Size([768]) False\n",
            "transformer.h.9.mlp.c_fc.weight 2359296 torch.Size([768, 3072]) False\n",
            "transformer.h.9.mlp.c_fc.bias 3072 torch.Size([3072]) False\n",
            "transformer.h.9.mlp.c_proj.weight 2359296 torch.Size([3072, 768]) False\n",
            "transformer.h.9.mlp.c_proj.bias 768 torch.Size([768]) False\n",
            "transformer.h.10.ln_1.weight 768 torch.Size([768]) False\n",
            "transformer.h.10.ln_1.bias 768 torch.Size([768]) False\n",
            "transformer.h.10.attn.c_attn.weight 1769472 torch.Size([768, 2304]) False\n",
            "transformer.h.10.attn.c_attn.bias 2304 torch.Size([2304]) False\n",
            "transformer.h.10.attn.c_proj.weight 589824 torch.Size([768, 768]) False\n",
            "transformer.h.10.attn.c_proj.bias 768 torch.Size([768]) False\n",
            "transformer.h.10.ln_2.weight 768 torch.Size([768]) False\n",
            "transformer.h.10.ln_2.bias 768 torch.Size([768]) False\n",
            "transformer.h.10.mlp.c_fc.weight 2359296 torch.Size([768, 3072]) False\n",
            "transformer.h.10.mlp.c_fc.bias 3072 torch.Size([3072]) False\n",
            "transformer.h.10.mlp.c_proj.weight 2359296 torch.Size([3072, 768]) False\n",
            "transformer.h.10.mlp.c_proj.bias 768 torch.Size([768]) False\n",
            "transformer.h.11.ln_1.weight 768 torch.Size([768]) False\n",
            "transformer.h.11.ln_1.bias 768 torch.Size([768]) False\n",
            "transformer.h.11.attn.c_attn.weight 1769472 torch.Size([768, 2304]) False\n",
            "transformer.h.11.attn.c_attn.bias 2304 torch.Size([2304]) False\n",
            "transformer.h.11.attn.c_proj.weight 589824 torch.Size([768, 768]) False\n",
            "transformer.h.11.attn.c_proj.bias 768 torch.Size([768]) False\n",
            "transformer.h.11.ln_2.weight 768 torch.Size([768]) False\n",
            "transformer.h.11.ln_2.bias 768 torch.Size([768]) False\n",
            "transformer.h.11.mlp.c_fc.weight 2359296 torch.Size([768, 3072]) False\n",
            "transformer.h.11.mlp.c_fc.bias 3072 torch.Size([3072]) False\n",
            "transformer.h.11.mlp.c_proj.weight 2359296 torch.Size([3072, 768]) False\n",
            "transformer.h.11.mlp.c_proj.bias 768 torch.Size([768]) False\n",
            "transformer.ln_f.weight 768 torch.Size([768]) False\n",
            "transformer.ln_f.bias 768 torch.Size([768]) False\n",
            "score.weight 1536 torch.Size([2, 768]) True\n"
          ]
        }
      ],
      "source": [
        "# Print all the layers of this GPT2 model and the number of parameters per layer\n",
        "# If this is False, fine tune just the classifier layer and leave all other GPT2 parameters alone\n",
        "# If this is True, fine tune everything\n",
        "fine_tune = False\n",
        "\n",
        "# Turn off gradients using the above\n",
        "total_parameters = 0\n",
        "\n",
        "for name, param in model.named_parameters():\n",
        "    if not fine_tune and 'score' not in name:\n",
        "        param.requires_grad = False\n",
        "    print(name, torch.numel(param), param.shape, param.requires_grad)\n",
        "    total_parameters += torch.numel(param)\n",
        "\n",
        "assert(total_parameters == 124441344)"
      ]
    },
    {
      "cell_type": "markdown",
      "id": "765fc3a1",
      "metadata": {
        "id": "765fc3a1"
      },
      "source": [
        "### Train the model"
      ]
    },
    {
      "cell_type": "code",
      "execution_count": null,
      "id": "bf0b712e",
      "metadata": {
        "id": "bf0b712e"
      },
      "outputs": [],
      "source": [
        "# Use torchmetrics to set up accuracy, recall, precision, and auroc\n",
        "accuracy = Accuracy(task='binary', num_classes=2).to(device)\n",
        "recall = Recall(task='binary', num_classes=2).to(device)\n",
        "precision = Precision(task='binary', num_classes=2).to(device)\n",
        "auroc = AUROC(task=\"binary\").to('cpu')"
      ]
    },
    {
      "cell_type": "code",
      "execution_count": null,
      "id": "084519f5",
      "metadata": {
        "colab": {
          "base_uri": "https://localhost:8080/"
        },
        "id": "084519f5",
        "outputId": "1eb12c5a-1f48-49e9-807e-d93fff81a716"
      },
      "outputs": [
        {
          "output_type": "stream",
          "name": "stderr",
          "text": [
            "\rEpoch:   0%|          | 0/2 [00:00<?, ?it/s]/usr/local/lib/python3.10/dist-packages/torchmetrics/utilities/prints.py:43: UserWarning: No positive samples in targets, true positive value should be meaningless. Returning zero tensor in true positive score\n",
            "  warnings.warn(*args, **kwargs)  # noqa: B028\n",
            "Epoch:  50%|█████     | 1/2 [00:12<00:12, 12.42s/it]"
          ]
        },
        {
          "output_type": "stream",
          "name": "stdout",
          "text": [
            "\n",
            "\t - Train loss: 0.4315\n",
            "\t - Validation Accuracy: 0.8795\n",
            "\t - Validation Precision: 0.4393\n",
            "\t - Validation Recall: 0.3326\n",
            "\t - Validation AUROC: 0.6035\n",
            "\n"
          ]
        },
        {
          "output_type": "stream",
          "name": "stderr",
          "text": [
            "Epoch: 100%|██████████| 2/2 [00:24<00:00, 12.28s/it]"
          ]
        },
        {
          "output_type": "stream",
          "name": "stdout",
          "text": [
            "\n",
            "\t - Train loss: 0.3071\n",
            "\t - Validation Accuracy: 0.9196\n",
            "\t - Validation Precision: 0.6083\n",
            "\t - Validation Recall: 0.4540\n",
            "\t - Validation AUROC: 0.6756\n",
            "\n"
          ]
        },
        {
          "output_type": "stream",
          "name": "stderr",
          "text": [
            "\n"
          ]
        }
      ],
      "source": [
        "# Main training / validation loop\n",
        "for _ in trange(epochs, desc = 'Epoch'):\n",
        "\n",
        "    # ========== Training ==========\n",
        "\n",
        "    # Set model to training mode\n",
        "    model.train()\n",
        "\n",
        "    # Tracking variables\n",
        "    tr_loss = 0\n",
        "    nb_tr_examples, nb_tr_steps = 0, 0\n",
        "\n",
        "    for step, batch in enumerate(train_dataloader):\n",
        "        # Put each element of batch onto the device\n",
        "        batch = tuple(t.to(device) for t in batch)\n",
        "\n",
        "        # Unpack the batch\n",
        "        input_ids, attention_mask, labels = batch\n",
        "\n",
        "        # Set gradients to zero\n",
        "        optimizer.zero_grad()\n",
        "\n",
        "        # Forward pass\n",
        "        train_output = model(input_ids, attention_mask=attention_mask, labels=labels)\n",
        "\n",
        "        # Backward pass\n",
        "        loss = train_output.loss\n",
        "        loss.backward()\n",
        "        optimizer.step()\n",
        "\n",
        "        # Update tracking variables\n",
        "        tr_loss += loss.item()\n",
        "        nb_tr_examples += input_ids.size(0)\n",
        "        nb_tr_steps += 1\n",
        "\n",
        "    # ========== Validation ==========\n",
        "\n",
        "    # Set model to evaluation mode\n",
        "    model.eval()\n",
        "\n",
        "    # Tracking variables\n",
        "    val_accuracy = []\n",
        "    val_precision = []\n",
        "    val_recall = []\n",
        "    val_auroc = []\n",
        "\n",
        "    for batch in validation_dataloader:\n",
        "        batch = tuple(t.to(device) for t in batch)\n",
        "\n",
        "        # Unpack the batch\n",
        "        input_ids, attention_mask, labels = batch\n",
        "\n",
        "        with torch.no_grad():\n",
        "          # Forward pass\n",
        "            eval_output = model(input_ids, attention_mask=attention_mask)\n",
        "\n",
        "        # Calculate validation metrics\n",
        "        labels = labels.to('cpu')\n",
        "        predicted_labels = torch.argmax(eval_output.logits.to('cpu'), dim=-1)\n",
        "\n",
        "        val_accuracy.append(accuracy(predicted_labels, labels).item())\n",
        "        val_recall.append(recall(predicted_labels, labels).item())\n",
        "        val_precision.append(precision(predicted_labels, labels).item())\n",
        "        val_auroc.append(auroc(predicted_labels.to('cpu'), labels.to('cpu')).item())\n",
        "\n",
        "    print('\\n\\t - Train loss: {:.4f}'.format(tr_loss / nb_tr_steps))\n",
        "    print('\\t - Validation Accuracy: {:.4f}'.format(sum(val_accuracy)/len(val_accuracy)))\n",
        "    print('\\t - Validation Precision: {:.4f}'.format(sum(val_precision)/len(val_precision)))\n",
        "    print('\\t - Validation Recall: {:.4f}'.format(sum(val_recall)/len(val_recall)))\n",
        "    print('\\t - Validation AUROC: {:.4f}\\n'.format(sum(val_auroc)/len(val_auroc)))"
      ]
    },
    {
      "cell_type": "markdown",
      "id": "13d64bc6",
      "metadata": {
        "id": "13d64bc6"
      },
      "source": [
        "### Test on a specific sentence, see the outcome"
      ]
    },
    {
      "cell_type": "code",
      "execution_count": null,
      "id": "6dfcd9e7",
      "metadata": {
        "id": "6dfcd9e7",
        "colab": {
          "base_uri": "https://localhost:8080/"
        },
        "outputId": "30d4fd2d-521a-46b5-9d71-deb774ad0545"
      },
      "outputs": [
        {
          "output_type": "stream",
          "name": "stdout",
          "text": [
            "Input Sentence:  WINNER!! As a valued network customer you have been selected to receivea £900 prize reward! To claim call 09061701461. Claim code KL341. Valid 12 hours only.\n",
            "Predicted Class:  Ham\n"
          ]
        },
        {
          "output_type": "stream",
          "name": "stderr",
          "text": [
            "/usr/local/lib/python3.10/dist-packages/transformers/tokenization_utils_base.py:2834: FutureWarning: The `pad_to_max_length` argument is deprecated and will be removed in a future version, use `padding=True` or `padding='longest'` to pad to the longest sequence in the batch, or use `padding='max_length'` to pad to a max length. In this case, you can give a specific length with `max_length` (e.g. `max_length=45`) or leave max_length to None to pad to the maximal input size of the model (e.g. 512 for Bert).\n",
            "  warnings.warn(\n"
          ]
        }
      ],
      "source": [
        "new_sentence = 'WINNER!! As a valued network customer you have been selected to receivea £900 prize reward! To claim call 09061701461. Claim code KL341. Valid 12 hours only.'\n",
        "\n",
        "# We need Token IDs and Attention Mask for inference on the new sentence\n",
        "test_ids = []\n",
        "test_attention_mask = []\n",
        "\n",
        "# Apply the tokenizer\n",
        "encoding = preprocessing(new_sentence, tokenizer)\n",
        "\n",
        "# Extract IDs and Attention Mask\n",
        "test_ids.append(encoding['input_ids'])\n",
        "test_attention_mask.append(encoding['attention_mask'])\n",
        "test_ids = torch.cat(test_ids, dim = 0)\n",
        "test_attention_mask = torch.cat(test_attention_mask, dim = 0)\n",
        "\n",
        "# Forward pass, calculate logit predictions\n",
        "with torch.no_grad():\n",
        "    output = model(test_ids.to(device), token_type_ids = None, attention_mask = test_attention_mask.to(device))\n",
        "\n",
        "prediction = 'Spam' if np.argmax(output.logits.cpu().numpy()).flatten().item() == 1 else 'Ham'\n",
        "\n",
        "print('Input Sentence: ', new_sentence)\n",
        "print('Predicted Class: ', prediction)"
      ]
    },
    {
      "cell_type": "markdown",
      "id": "a0c41741",
      "metadata": {
        "id": "a0c41741"
      },
      "source": [
        "### Questions"
      ]
    },
    {
      "cell_type": "markdown",
      "id": "875fab6d",
      "metadata": {
        "id": "875fab6d"
      },
      "source": [
        "Question 1: Run the above by fine tuning GPT2 and the classfier head and by not doing this (using GPT2 as a feature encoder). What is the gap between this? What are the metrics we get in each case?"
      ]
    },
    {
      "cell_type": "markdown",
      "source": [
        "**Metrics**: Fine-tuning GPT-2 and Classifier Head (`fine_tune = True`):\n",
        "\n",
        "- Epoch 1:\n",
        "  - Validation Accuracy: 0.9866\n",
        "  - Validation Precision: 0.8495\n",
        "  - Validation Recall: 0.8305\n",
        "  - Validation AUROC: 0.8702\n",
        "- Epoch 2:\n",
        "  - Validation Accuracy: 0.9902\n",
        "  - Validation Precision: 0.8762\n",
        "  - Validation Recall: 0.8512\n",
        "  - Validation AUROC: 0.8817\n",
        "- Predicted Class: Spam\n",
        "\n",
        "**Metrics**: Using GPT-2 as a Feature Encoder (`fine_tune = False`):\n",
        "\n",
        "- Epoch 1:\n",
        "  - Validation Accuracy: 0.8795\n",
        "  - Validation Precision: 0.4393\n",
        "  - Validation Recall: 0.3326\n",
        "  - Validation AUROC: 0.6035\n",
        "- Epoch 2:\n",
        "\t- Validation Accuracy: 0.9196\n",
        "\t- Validation Precision: 0.6083\n",
        "\t- Validation Recall: 0.4540\n",
        "\t- Validation AUROC: 0.6756\n",
        "- Predicted Class: Ham\n",
        "\n",
        "**Gap Analysis**:\n",
        "- Accuracy Gap: 0.0706\n",
        "- Precision Gap: 0.2679\n",
        "- Recall Gap: 0.3972\n",
        "- AUROC Gap: 0.2061\n",
        "- Predicted Class: Spam (Case 1) vs Ham (Case 2)\n",
        "\n",
        "**Observations**:\n",
        "1. Performance Gap: Fine-tuning the entire model (`fine_tune = True`, Case 1) significantly outperforms using GPT-2 as a feature encoder (`fine_tune = False`, Case 2) across all metrics. Case 2 struggles to learn meaningful representations because it relies entirely on the frozen GPT-2, which may not produce task-specific embeddings. The frozen transformer cannot adapt to the nuances of spam detection, resulting in a substantial performance gap.\n",
        "\n",
        "2. Case 1 correctly predicts the input as Spam, aligning with typical spam characteristics (e.g., urgency, monetary reward, and excessive capitalization). On the other hand, case 2 misclassifies the input as Ham, highlighting the limitations of using GPT-2 as a feature encoder for tasks requiring deeper contextual understanding.\n",
        "\n",
        "3. Training Efficiency: Fine-tuning (`fine_tune = True`) took approximately 40 seconds per epoch. Feature Encoder (`fine_tune = False`) took only 12 seconds per epoch. This shows that using GPT-2 as a feature encoder is significantly faster while maintaining the same performance metrics.\n",
        "\n",
        "**Conclusion**: Fine-tuning GPT-2 effectively identifies spam characteristics by adapting the entire model to the task, significantly outperforming the feature encoder approach. While using GPT-2 as a feature encoder is faster, it risks misclassifications due to the lack of task-specific adaptation, making it unsuitable for most tasks requiring nuanced understanding."
      ],
      "metadata": {
        "id": "2lfujPBFF_cY"
      },
      "id": "2lfujPBFF_cY"
    }
  ],
  "metadata": {
    "kernelspec": {
      "display_name": "Python 3",
      "name": "python3"
    },
    "language_info": {
      "codemirror_mode": {
        "name": "ipython",
        "version": 3
      },
      "file_extension": ".py",
      "mimetype": "text/x-python",
      "name": "python",
      "nbconvert_exporter": "python",
      "pygments_lexer": "ipython3",
      "version": "3.8.15"
    },
    "colab": {
      "provenance": [],
      "gpuType": "T4"
    },
    "accelerator": "GPU"
  },
  "nbformat": 4,
  "nbformat_minor": 5
}